{
 "cells": [
  {
   "cell_type": "code",
   "execution_count": null,
   "id": "6d8aa8d5-cf68-467e-a073-d42f9a7cf534",
   "metadata": {},
   "outputs": [],
   "source": []
  },
  {
   "cell_type": "code",
   "execution_count": 1,
   "id": "9e5dc587-3441-47e2-be38-849b167f5cc8",
   "metadata": {},
   "outputs": [],
   "source": [
    "import arima_model_master as arm\n",
    "import data_getter as data_con\n",
    "import importlib\n",
    "import pandas as pd\n",
    "\n",
    "importlib.reload(arm)\n",
    "\n",
    "targets = ['MedianIncome', 'MedianHousePrice', 'AverageRate','AveragePoints','NewBuildings','NewUnits']\n",
    "target = 'MedianIncome'\n",
    "age_range = '25-44'\n",
    "target_fips = '34003'\n",
    "\n"
   ]
  },
  {
   "cell_type": "code",
   "execution_count": 2,
   "id": "cb474ffb-38c1-4461-b0a4-a9759dee87f3",
   "metadata": {},
   "outputs": [
    {
     "name": "stdout",
     "output_type": "stream",
     "text": [
      "23\n",
      "35\n",
      "56\n",
      "1631\n"
     ]
    }
   ],
   "source": [
    "all_df = data_con.run_queries()\n",
    "master_table = data_con.join_tables(all_df)"
   ]
  },
  {
   "cell_type": "code",
   "execution_count": null,
   "id": "b16828bd-0e16-4cf9-bf88-445dce53a0f5",
   "metadata": {},
   "outputs": [],
   "source": [
    "#assert 1 == 2 # Don't run this one if we don't need to (90 minute run time)\n",
    "prediction_dataframes = []\n",
    "age_ranges = master_table.AgeGroup.unique().tolist()\n",
    "age_ranges = [_ for _ in age_ranges if str(_) != 'nan']\n",
    "all_fips = master_table.FIPS.unique().tolist()\n",
    "total = len(all_fips) * len(age_ranges)\n",
    "\n",
    "cntr = 0\n",
    "for i, age_range in enumerate(age_ranges):\n",
    "    for ii, target_fips in enumerate(all_fips):\n",
    "        params = [target_fips, age_range]\n",
    "        target = 'MedianIncome'\n",
    "        try:\n",
    "            graph_ready, export_ready = arm.dispatcher(master_table, target, params)\n",
    "        except Exception as E:\n",
    "            print(f'Failure: {E}, params: {params}')\n",
    "            cntr += 1\n",
    "            continue\n",
    "        export_ready['AgeGroup'] = age_range\n",
    "        prediction_dataframes.append(export_ready)\n",
    "        cntr += 1\n",
    "        print(f'{cntr} of {total} completed')"
   ]
  },
  {
   "cell_type": "code",
   "execution_count": null,
   "id": "ef196a01-99d3-41ff-afe7-11e8f7e9e00f",
   "metadata": {},
   "outputs": [],
   "source": [
    "prediction_dataframes = []\n",
    "all_fips = master_table.FIPS.unique().tolist()\n",
    "total = len(all_fips)\n",
    "\n",
    "cntr = 0\n",
    "for i, target_fips in enumerate(all_fips):\n",
    "    params = [target_fips]\n",
    "    target = 'MedianHousePrice'\n",
    "    try:\n",
    "        graph_ready, export_ready = arm.dispatcher(master_table, target, params)\n",
    "    except Exception as E:\n",
    "        print(f'Failure: {E}, params: {params}')\n",
    "        cntr += 1\n",
    "        continue\n",
    "    prediction_dataframes.append(export_ready)\n",
    "    cntr += 1\n",
    "    print(f'{cntr} of {total} completed')"
   ]
  },
  {
   "cell_type": "code",
   "execution_count": null,
   "id": "bf90e8c8-dd9c-4e0b-bae6-f8323d90fa7d",
   "metadata": {},
   "outputs": [],
   "source": [
    "target = 'MedianHousePrice'\n",
    "arm.graph_final_results(graph_ready, target)"
   ]
  },
  {
   "cell_type": "code",
   "execution_count": null,
   "id": "42004951-c3c7-4b35-afa8-6494576a5c87",
   "metadata": {},
   "outputs": [],
   "source": [
    "export_ready"
   ]
  },
  {
   "cell_type": "code",
   "execution_count": null,
   "id": "b1d46c06-d520-4cab-bfed-adff97d741f9",
   "metadata": {},
   "outputs": [],
   "source": [
    "\n",
    "main_df = pd.DataFrame()\n",
    "\n",
    "for df in prediction_dataframes:\n",
    "    main_df = pd.concat([main_df,df])\n",
    "    \n",
    "main_df"
   ]
  },
  {
   "cell_type": "code",
   "execution_count": null,
   "id": "f8218884-a883-4823-a884-22d4499c364c",
   "metadata": {},
   "outputs": [],
   "source": [
    "main_df.tail(50)"
   ]
  },
  {
   "cell_type": "code",
   "execution_count": null,
   "id": "9102d633-06a1-4acf-8ff3-4eca31d8f3dc",
   "metadata": {},
   "outputs": [],
   "source": [
    "main_df.to_csv(\"PredictedHousePrices.csv\", index = False)"
   ]
  },
  {
   "cell_type": "code",
   "execution_count": null,
   "id": "c5b5327b-3e1a-44d1-9fa2-39a9aa86cd6a",
   "metadata": {},
   "outputs": [],
   "source": [
    "starter = main_df.shape[0]\n",
    "print(starter * .15)"
   ]
  },
  {
   "cell_type": "code",
   "execution_count": 1,
   "id": "f9fa9064-5942-4ba9-9704-43e39571c511",
   "metadata": {},
   "outputs": [],
   "source": [
    "import joblib"
   ]
  },
  {
   "cell_type": "code",
   "execution_count": 43,
   "id": "7691bad7-a711-459d-a4b6-a77693db9f2d",
   "metadata": {},
   "outputs": [
    {
     "name": "stdout",
     "output_type": "stream",
     "text": [
      "Column: MedianIncome | ADF Statistic: 4.140170176639361 | P-Value: 1.0\n",
      "Column: diff_1 | ADF Statistic: 0.9126391187009933 | P-Value: 0.9932530731907094\n",
      "Column: diff_2 | ADF Statistic: -4.891766908288081 | P-Value: 3.6184340862273524e-05\n",
      "(15, 6)\n",
      "ARIMA(0, 0, 0) RMSE=7153.792\n",
      "ARIMA(0, 0, 1) RMSE=6372.322\n",
      "Input contains NaN, infinity or a value too large for dtype('float64').\n",
      "Input contains NaN, infinity or a value too large for dtype('float64').\n",
      "Input contains NaN, infinity or a value too large for dtype('float64').\n",
      "Schur decomposition solver error.\n",
      "Schur decomposition solver error.\n",
      "Schur decomposition solver error.\n",
      "ARIMA(2, 0, 0) RMSE=6067.546\n",
      "ARIMA(2, 0, 1) RMSE=5446.652\n",
      "Schur decomposition solver error.\n",
      "Schur decomposition solver error.\n",
      "Schur decomposition solver error.\n",
      "ARIMA(3, 0, 0) RMSE=4214.180\n",
      "Schur decomposition solver error.\n",
      "Schur decomposition solver error.\n",
      "Schur decomposition solver error.\n",
      "Schur decomposition solver error.\n",
      "LU decomposition error.\n",
      "LU decomposition error.\n",
      "Schur decomposition solver error.\n",
      "Schur decomposition solver error.\n",
      "Schur decomposition solver error.\n",
      "LU decomposition error.\n",
      "Schur decomposition solver error.\n",
      "LU decomposition error.\n",
      "LU decomposition error.\n",
      "Schur decomposition solver error.\n",
      "LU decomposition error.\n",
      "LU decomposition error.\n",
      "Schur decomposition solver error.\n",
      "LU decomposition error.\n",
      "Schur decomposition solver error.\n",
      "LU decomposition error.\n",
      "LU decomposition error.\n",
      "Schur decomposition solver error.\n",
      "Best ARIMA(3, 0, 0) RMSE=4214.180\n",
      "Run Completed. Dataframes Exported: \"graph_ready\", \"export_ready\"\n"
     ]
    }
   ],
   "source": [
    "prediction_dataframes = []\n",
    "age_ranges = master_table.AgeGroup.unique().tolist()\n",
    "age_ranges = [_ for _ in age_ranges if str(_) != 'nan']\n",
    "all_fips = master_table.FIPS.unique().tolist()\n",
    "total = len(all_fips) * len(age_ranges)\n",
    "params = [target_fips, age_range]\n",
    "target = 'MedianIncome'\n",
    "    \n",
    "graph_ready, export_ready = arm.dispatcher(master_table, target, params)"
   ]
  },
  {
   "cell_type": "code",
   "execution_count": 44,
   "id": "d2f62e8c-0750-4b84-92f6-110fa6b5d2d2",
   "metadata": {},
   "outputs": [
    {
     "data": {
      "image/png": "[encoded data removed]",
      "text/plain": [
       "<Figure size 1224x360 with 1 Axes>"
      ]
     },
     "metadata": {
      "needs_background": "light"
     },
     "output_type": "display_data"
    }
   ],
   "source": [
    "arm.graph_final_results(graph_ready, target)"
   ]
  },
  {
   "cell_type": "code",
   "execution_count": null,
   "id": "8b0ba791-4e4c-423b-adab-2f8af68eaddb",
   "metadata": {},
   "outputs": [],
   "source": []
  },
  {
   "cell_type": "code",
   "execution_count": 5,
   "id": "39657772-4fa4-4dc7-9184-103afc313aea",
   "metadata": {},
   "outputs": [],
   "source": [
    "#Docs = https://alkaline-ml.com/pmdarima/modules/generated/pmdarima.arima.auto_arima.html\n",
    "from pmdarima.arima import auto_arima\n",
    "from pmdarima.arima import ADFTest\n",
    "\n",
    "target_fips = '34005'\n",
    "params = [target_fips, age_range]\n",
    "params = [target_fips]\n",
    "target = 'MedianHousePrice'"
   ]
  },
  {
   "cell_type": "code",
   "execution_count": 6,
   "id": "4d40996e-c5ec-4942-8335-f386943e2822",
   "metadata": {},
   "outputs": [
    {
     "ename": "ValueError",
     "evalue": "Wrong number of items passed 4, placement implies 1",
     "output_type": "error",
     "traceback": [
      "\u001b[1;31m---------------------------------------------------------------------------\u001b[0m",
      "\u001b[1;31mKeyError\u001b[0m                                  Traceback (most recent call last)",
      "\u001b[1;32m~\\anaconda3\\lib\\site-packages\\pandas\\core\\indexes\\base.py\u001b[0m in \u001b[0;36mget_loc\u001b[1;34m(self, key, method, tolerance)\u001b[0m\n\u001b[0;32m   3360\u001b[0m             \u001b[1;32mtry\u001b[0m\u001b[1;33m:\u001b[0m\u001b[1;33m\u001b[0m\u001b[1;33m\u001b[0m\u001b[0m\n\u001b[1;32m-> 3361\u001b[1;33m                 \u001b[1;32mreturn\u001b[0m \u001b[0mself\u001b[0m\u001b[1;33m.\u001b[0m\u001b[0m_engine\u001b[0m\u001b[1;33m.\u001b[0m\u001b[0mget_loc\u001b[0m\u001b[1;33m(\u001b[0m\u001b[0mcasted_key\u001b[0m\u001b[1;33m)\u001b[0m\u001b[1;33m\u001b[0m\u001b[1;33m\u001b[0m\u001b[0m\n\u001b[0m\u001b[0;32m   3362\u001b[0m             \u001b[1;32mexcept\u001b[0m \u001b[0mKeyError\u001b[0m \u001b[1;32mas\u001b[0m \u001b[0merr\u001b[0m\u001b[1;33m:\u001b[0m\u001b[1;33m\u001b[0m\u001b[1;33m\u001b[0m\u001b[0m\n",
      "\u001b[1;32m~\\anaconda3\\lib\\site-packages\\pandas\\_libs\\index.pyx\u001b[0m in \u001b[0;36mpandas._libs.index.IndexEngine.get_loc\u001b[1;34m()\u001b[0m\n",
      "\u001b[1;32m~\\anaconda3\\lib\\site-packages\\pandas\\_libs\\index.pyx\u001b[0m in \u001b[0;36mpandas._libs.index.IndexEngine.get_loc\u001b[1;34m()\u001b[0m\n",
      "\u001b[1;32mpandas\\_libs\\hashtable_class_helper.pxi\u001b[0m in \u001b[0;36mpandas._libs.hashtable.PyObjectHashTable.get_item\u001b[1;34m()\u001b[0m\n",
      "\u001b[1;32mpandas\\_libs\\hashtable_class_helper.pxi\u001b[0m in \u001b[0;36mpandas._libs.hashtable.PyObjectHashTable.get_item\u001b[1;34m()\u001b[0m\n",
      "\u001b[1;31mKeyError\u001b[0m: 'new_index'",
      "\nThe above exception was the direct cause of the following exception:\n",
      "\u001b[1;31mKeyError\u001b[0m                                  Traceback (most recent call last)",
      "\u001b[1;32m~\\anaconda3\\lib\\site-packages\\pandas\\core\\frame.py\u001b[0m in \u001b[0;36m_set_item_mgr\u001b[1;34m(self, key, value)\u001b[0m\n\u001b[0;32m   3750\u001b[0m         \u001b[1;32mtry\u001b[0m\u001b[1;33m:\u001b[0m\u001b[1;33m\u001b[0m\u001b[1;33m\u001b[0m\u001b[0m\n\u001b[1;32m-> 3751\u001b[1;33m             \u001b[0mloc\u001b[0m \u001b[1;33m=\u001b[0m \u001b[0mself\u001b[0m\u001b[1;33m.\u001b[0m\u001b[0m_info_axis\u001b[0m\u001b[1;33m.\u001b[0m\u001b[0mget_loc\u001b[0m\u001b[1;33m(\u001b[0m\u001b[0mkey\u001b[0m\u001b[1;33m)\u001b[0m\u001b[1;33m\u001b[0m\u001b[1;33m\u001b[0m\u001b[0m\n\u001b[0m\u001b[0;32m   3752\u001b[0m         \u001b[1;32mexcept\u001b[0m \u001b[0mKeyError\u001b[0m\u001b[1;33m:\u001b[0m\u001b[1;33m\u001b[0m\u001b[1;33m\u001b[0m\u001b[0m\n",
      "\u001b[1;32m~\\anaconda3\\lib\\site-packages\\pandas\\core\\indexes\\base.py\u001b[0m in \u001b[0;36mget_loc\u001b[1;34m(self, key, method, tolerance)\u001b[0m\n\u001b[0;32m   3362\u001b[0m             \u001b[1;32mexcept\u001b[0m \u001b[0mKeyError\u001b[0m \u001b[1;32mas\u001b[0m \u001b[0merr\u001b[0m\u001b[1;33m:\u001b[0m\u001b[1;33m\u001b[0m\u001b[1;33m\u001b[0m\u001b[0m\n\u001b[1;32m-> 3363\u001b[1;33m                 \u001b[1;32mraise\u001b[0m \u001b[0mKeyError\u001b[0m\u001b[1;33m(\u001b[0m\u001b[0mkey\u001b[0m\u001b[1;33m)\u001b[0m \u001b[1;32mfrom\u001b[0m \u001b[0merr\u001b[0m\u001b[1;33m\u001b[0m\u001b[1;33m\u001b[0m\u001b[0m\n\u001b[0m\u001b[0;32m   3364\u001b[0m \u001b[1;33m\u001b[0m\u001b[0m\n",
      "\u001b[1;31mKeyError\u001b[0m: 'new_index'",
      "\nDuring handling of the above exception, another exception occurred:\n",
      "\u001b[1;31mValueError\u001b[0m                                Traceback (most recent call last)",
      "\u001b[1;32m~\\AppData\\Local\\Temp/ipykernel_18464/201100866.py\u001b[0m in \u001b[0;36m<module>\u001b[1;34m\u001b[0m\n\u001b[0;32m      1\u001b[0m \u001b[0madf_test\u001b[0m \u001b[1;33m=\u001b[0m \u001b[0mADFTest\u001b[0m\u001b[1;33m(\u001b[0m\u001b[0malpha\u001b[0m\u001b[1;33m=\u001b[0m\u001b[1;36m0.05\u001b[0m\u001b[1;33m)\u001b[0m\u001b[1;33m\u001b[0m\u001b[1;33m\u001b[0m\u001b[0m\n\u001b[1;32m----> 2\u001b[1;33m \u001b[0mfiltered_data\u001b[0m \u001b[1;33m=\u001b[0m \u001b[0marm\u001b[0m\u001b[1;33m.\u001b[0m\u001b[0mfilter_data\u001b[0m\u001b[1;33m(\u001b[0m\u001b[0mmaster_table\u001b[0m\u001b[1;33m,\u001b[0m \u001b[0mtarget\u001b[0m\u001b[1;33m,\u001b[0m \u001b[0mparams\u001b[0m\u001b[1;33m)\u001b[0m\u001b[1;33m\u001b[0m\u001b[1;33m\u001b[0m\u001b[0m\n\u001b[0m\u001b[0;32m      3\u001b[0m \u001b[0madf_test\u001b[0m\u001b[1;33m.\u001b[0m\u001b[0mshould_diff\u001b[0m\u001b[1;33m(\u001b[0m\u001b[0mfiltered_data\u001b[0m\u001b[1;33m[\u001b[0m\u001b[0mtarget\u001b[0m\u001b[1;33m]\u001b[0m\u001b[1;33m)\u001b[0m\u001b[1;33m\u001b[0m\u001b[1;33m\u001b[0m\u001b[0m\n",
      "\u001b[1;32m~\\Desktop\\Python\\Dev10\\Capstone\\arctic_analysts_capstone\\code\\ml_models\\arima_model_master.py\u001b[0m in \u001b[0;36mfilter_data\u001b[1;34m(df, which, args)\u001b[0m\n\u001b[0;32m     85\u001b[0m         \u001b[0mfiltered_df\u001b[0m\u001b[1;33m.\u001b[0m\u001b[0mindex\u001b[0m \u001b[1;33m=\u001b[0m \u001b[0mfiltered_df\u001b[0m\u001b[1;33m.\u001b[0m\u001b[0mindex\u001b[0m\u001b[1;33m.\u001b[0m\u001b[0mto_period\u001b[0m\u001b[1;33m(\u001b[0m\u001b[1;34m'Y'\u001b[0m\u001b[1;33m)\u001b[0m\u001b[1;33m\u001b[0m\u001b[1;33m\u001b[0m\u001b[0m\n\u001b[0;32m     86\u001b[0m     \u001b[1;32melse\u001b[0m\u001b[1;33m:\u001b[0m\u001b[1;33m\u001b[0m\u001b[1;33m\u001b[0m\u001b[0m\n\u001b[1;32m---> 87\u001b[1;33m         filtered_df[\"new_index\"] = filtered_df.apply(\n\u001b[0m\u001b[0;32m     88\u001b[0m             \u001b[1;32mlambda\u001b[0m \u001b[0mrow\u001b[0m\u001b[1;33m:\u001b[0m \u001b[0mconvert_to_date\u001b[0m\u001b[1;33m(\u001b[0m\u001b[0mrow\u001b[0m\u001b[1;33m.\u001b[0m\u001b[0mYear\u001b[0m\u001b[1;33m,\u001b[0m \u001b[0mrow\u001b[0m\u001b[1;33m.\u001b[0m\u001b[0mMonth\u001b[0m\u001b[1;33m)\u001b[0m\u001b[1;33m,\u001b[0m \u001b[0maxis\u001b[0m\u001b[1;33m=\u001b[0m\u001b[1;36m1\u001b[0m\u001b[1;33m\u001b[0m\u001b[1;33m\u001b[0m\u001b[0m\n\u001b[0;32m     89\u001b[0m         )\n",
      "\u001b[1;32m~\\anaconda3\\lib\\site-packages\\pandas\\core\\frame.py\u001b[0m in \u001b[0;36m__setitem__\u001b[1;34m(self, key, value)\u001b[0m\n\u001b[0;32m   3600\u001b[0m             \u001b[0mself\u001b[0m\u001b[1;33m.\u001b[0m\u001b[0m_setitem_array\u001b[0m\u001b[1;33m(\u001b[0m\u001b[0mkey\u001b[0m\u001b[1;33m,\u001b[0m \u001b[0mvalue\u001b[0m\u001b[1;33m)\u001b[0m\u001b[1;33m\u001b[0m\u001b[1;33m\u001b[0m\u001b[0m\n\u001b[0;32m   3601\u001b[0m         \u001b[1;32melif\u001b[0m \u001b[0misinstance\u001b[0m\u001b[1;33m(\u001b[0m\u001b[0mvalue\u001b[0m\u001b[1;33m,\u001b[0m \u001b[0mDataFrame\u001b[0m\u001b[1;33m)\u001b[0m\u001b[1;33m:\u001b[0m\u001b[1;33m\u001b[0m\u001b[1;33m\u001b[0m\u001b[0m\n\u001b[1;32m-> 3602\u001b[1;33m             \u001b[0mself\u001b[0m\u001b[1;33m.\u001b[0m\u001b[0m_set_item_frame_value\u001b[0m\u001b[1;33m(\u001b[0m\u001b[0mkey\u001b[0m\u001b[1;33m,\u001b[0m \u001b[0mvalue\u001b[0m\u001b[1;33m)\u001b[0m\u001b[1;33m\u001b[0m\u001b[1;33m\u001b[0m\u001b[0m\n\u001b[0m\u001b[0;32m   3603\u001b[0m         elif (\n\u001b[0;32m   3604\u001b[0m             \u001b[0mis_list_like\u001b[0m\u001b[1;33m(\u001b[0m\u001b[0mvalue\u001b[0m\u001b[1;33m)\u001b[0m\u001b[1;33m\u001b[0m\u001b[1;33m\u001b[0m\u001b[0m\n",
      "\u001b[1;32m~\\anaconda3\\lib\\site-packages\\pandas\\core\\frame.py\u001b[0m in \u001b[0;36m_set_item_frame_value\u001b[1;34m(self, key, value)\u001b[0m\n\u001b[0;32m   3740\u001b[0m         \u001b[1;31m# now align rows\u001b[0m\u001b[1;33m\u001b[0m\u001b[1;33m\u001b[0m\u001b[0m\n\u001b[0;32m   3741\u001b[0m         \u001b[0marraylike\u001b[0m \u001b[1;33m=\u001b[0m \u001b[0m_reindex_for_setitem\u001b[0m\u001b[1;33m(\u001b[0m\u001b[0mvalue\u001b[0m\u001b[1;33m,\u001b[0m \u001b[0mself\u001b[0m\u001b[1;33m.\u001b[0m\u001b[0mindex\u001b[0m\u001b[1;33m)\u001b[0m\u001b[1;33m\u001b[0m\u001b[1;33m\u001b[0m\u001b[0m\n\u001b[1;32m-> 3742\u001b[1;33m         \u001b[0mself\u001b[0m\u001b[1;33m.\u001b[0m\u001b[0m_set_item_mgr\u001b[0m\u001b[1;33m(\u001b[0m\u001b[0mkey\u001b[0m\u001b[1;33m,\u001b[0m \u001b[0marraylike\u001b[0m\u001b[1;33m)\u001b[0m\u001b[1;33m\u001b[0m\u001b[1;33m\u001b[0m\u001b[0m\n\u001b[0m\u001b[0;32m   3743\u001b[0m \u001b[1;33m\u001b[0m\u001b[0m\n\u001b[0;32m   3744\u001b[0m     \u001b[1;32mdef\u001b[0m \u001b[0m_iset_item_mgr\u001b[0m\u001b[1;33m(\u001b[0m\u001b[0mself\u001b[0m\u001b[1;33m,\u001b[0m \u001b[0mloc\u001b[0m\u001b[1;33m:\u001b[0m \u001b[0mint\u001b[0m \u001b[1;33m|\u001b[0m \u001b[0mslice\u001b[0m \u001b[1;33m|\u001b[0m \u001b[0mnp\u001b[0m\u001b[1;33m.\u001b[0m\u001b[0mndarray\u001b[0m\u001b[1;33m,\u001b[0m \u001b[0mvalue\u001b[0m\u001b[1;33m)\u001b[0m \u001b[1;33m->\u001b[0m \u001b[1;32mNone\u001b[0m\u001b[1;33m:\u001b[0m\u001b[1;33m\u001b[0m\u001b[1;33m\u001b[0m\u001b[0m\n",
      "\u001b[1;32m~\\anaconda3\\lib\\site-packages\\pandas\\core\\frame.py\u001b[0m in \u001b[0;36m_set_item_mgr\u001b[1;34m(self, key, value)\u001b[0m\n\u001b[0;32m   3752\u001b[0m         \u001b[1;32mexcept\u001b[0m \u001b[0mKeyError\u001b[0m\u001b[1;33m:\u001b[0m\u001b[1;33m\u001b[0m\u001b[1;33m\u001b[0m\u001b[0m\n\u001b[0;32m   3753\u001b[0m             \u001b[1;31m# This item wasn't present, just insert at end\u001b[0m\u001b[1;33m\u001b[0m\u001b[1;33m\u001b[0m\u001b[0m\n\u001b[1;32m-> 3754\u001b[1;33m             \u001b[0mself\u001b[0m\u001b[1;33m.\u001b[0m\u001b[0m_mgr\u001b[0m\u001b[1;33m.\u001b[0m\u001b[0minsert\u001b[0m\u001b[1;33m(\u001b[0m\u001b[0mlen\u001b[0m\u001b[1;33m(\u001b[0m\u001b[0mself\u001b[0m\u001b[1;33m.\u001b[0m\u001b[0m_info_axis\u001b[0m\u001b[1;33m)\u001b[0m\u001b[1;33m,\u001b[0m \u001b[0mkey\u001b[0m\u001b[1;33m,\u001b[0m \u001b[0mvalue\u001b[0m\u001b[1;33m)\u001b[0m\u001b[1;33m\u001b[0m\u001b[1;33m\u001b[0m\u001b[0m\n\u001b[0m\u001b[0;32m   3755\u001b[0m         \u001b[1;32melse\u001b[0m\u001b[1;33m:\u001b[0m\u001b[1;33m\u001b[0m\u001b[1;33m\u001b[0m\u001b[0m\n\u001b[0;32m   3756\u001b[0m             \u001b[0mself\u001b[0m\u001b[1;33m.\u001b[0m\u001b[0m_iset_item_mgr\u001b[0m\u001b[1;33m(\u001b[0m\u001b[0mloc\u001b[0m\u001b[1;33m,\u001b[0m \u001b[0mvalue\u001b[0m\u001b[1;33m)\u001b[0m\u001b[1;33m\u001b[0m\u001b[1;33m\u001b[0m\u001b[0m\n",
      "\u001b[1;32m~\\anaconda3\\lib\\site-packages\\pandas\\core\\internals\\managers.py\u001b[0m in \u001b[0;36minsert\u001b[1;34m(self, loc, item, value)\u001b[0m\n\u001b[0;32m   1160\u001b[0m             \u001b[0mvalue\u001b[0m \u001b[1;33m=\u001b[0m \u001b[0mensure_block_shape\u001b[0m\u001b[1;33m(\u001b[0m\u001b[0mvalue\u001b[0m\u001b[1;33m,\u001b[0m \u001b[0mndim\u001b[0m\u001b[1;33m=\u001b[0m\u001b[0mself\u001b[0m\u001b[1;33m.\u001b[0m\u001b[0mndim\u001b[0m\u001b[1;33m)\u001b[0m\u001b[1;33m\u001b[0m\u001b[1;33m\u001b[0m\u001b[0m\n\u001b[0;32m   1161\u001b[0m \u001b[1;33m\u001b[0m\u001b[0m\n\u001b[1;32m-> 1162\u001b[1;33m         \u001b[0mblock\u001b[0m \u001b[1;33m=\u001b[0m \u001b[0mnew_block\u001b[0m\u001b[1;33m(\u001b[0m\u001b[0mvalues\u001b[0m\u001b[1;33m=\u001b[0m\u001b[0mvalue\u001b[0m\u001b[1;33m,\u001b[0m \u001b[0mndim\u001b[0m\u001b[1;33m=\u001b[0m\u001b[0mself\u001b[0m\u001b[1;33m.\u001b[0m\u001b[0mndim\u001b[0m\u001b[1;33m,\u001b[0m \u001b[0mplacement\u001b[0m\u001b[1;33m=\u001b[0m\u001b[0mslice\u001b[0m\u001b[1;33m(\u001b[0m\u001b[0mloc\u001b[0m\u001b[1;33m,\u001b[0m \u001b[0mloc\u001b[0m \u001b[1;33m+\u001b[0m \u001b[1;36m1\u001b[0m\u001b[1;33m)\u001b[0m\u001b[1;33m)\u001b[0m\u001b[1;33m\u001b[0m\u001b[1;33m\u001b[0m\u001b[0m\n\u001b[0m\u001b[0;32m   1163\u001b[0m \u001b[1;33m\u001b[0m\u001b[0m\n\u001b[0;32m   1164\u001b[0m         \u001b[1;32mfor\u001b[0m \u001b[0mblkno\u001b[0m\u001b[1;33m,\u001b[0m \u001b[0mcount\u001b[0m \u001b[1;32min\u001b[0m \u001b[0m_fast_count_smallints\u001b[0m\u001b[1;33m(\u001b[0m\u001b[0mself\u001b[0m\u001b[1;33m.\u001b[0m\u001b[0mblknos\u001b[0m\u001b[1;33m[\u001b[0m\u001b[0mloc\u001b[0m\u001b[1;33m:\u001b[0m\u001b[1;33m]\u001b[0m\u001b[1;33m)\u001b[0m\u001b[1;33m:\u001b[0m\u001b[1;33m\u001b[0m\u001b[1;33m\u001b[0m\u001b[0m\n",
      "\u001b[1;32m~\\anaconda3\\lib\\site-packages\\pandas\\core\\internals\\blocks.py\u001b[0m in \u001b[0;36mnew_block\u001b[1;34m(values, placement, ndim, klass)\u001b[0m\n\u001b[0;32m   1935\u001b[0m \u001b[1;33m\u001b[0m\u001b[0m\n\u001b[0;32m   1936\u001b[0m     \u001b[0mvalues\u001b[0m\u001b[1;33m,\u001b[0m \u001b[0m_\u001b[0m \u001b[1;33m=\u001b[0m \u001b[0mextract_pandas_array\u001b[0m\u001b[1;33m(\u001b[0m\u001b[0mvalues\u001b[0m\u001b[1;33m,\u001b[0m \u001b[1;32mNone\u001b[0m\u001b[1;33m,\u001b[0m \u001b[0mndim\u001b[0m\u001b[1;33m)\u001b[0m\u001b[1;33m\u001b[0m\u001b[1;33m\u001b[0m\u001b[0m\n\u001b[1;32m-> 1937\u001b[1;33m     \u001b[0mcheck_ndim\u001b[0m\u001b[1;33m(\u001b[0m\u001b[0mvalues\u001b[0m\u001b[1;33m,\u001b[0m \u001b[0mplacement\u001b[0m\u001b[1;33m,\u001b[0m \u001b[0mndim\u001b[0m\u001b[1;33m)\u001b[0m\u001b[1;33m\u001b[0m\u001b[1;33m\u001b[0m\u001b[0m\n\u001b[0m\u001b[0;32m   1938\u001b[0m \u001b[1;33m\u001b[0m\u001b[0m\n\u001b[0;32m   1939\u001b[0m     \u001b[1;32mif\u001b[0m \u001b[0mklass\u001b[0m \u001b[1;32mis\u001b[0m \u001b[1;32mNone\u001b[0m\u001b[1;33m:\u001b[0m\u001b[1;33m\u001b[0m\u001b[1;33m\u001b[0m\u001b[0m\n",
      "\u001b[1;32m~\\anaconda3\\lib\\site-packages\\pandas\\core\\internals\\blocks.py\u001b[0m in \u001b[0;36mcheck_ndim\u001b[1;34m(values, placement, ndim)\u001b[0m\n\u001b[0;32m   1977\u001b[0m             )\n\u001b[0;32m   1978\u001b[0m         \u001b[1;32mif\u001b[0m \u001b[0mlen\u001b[0m\u001b[1;33m(\u001b[0m\u001b[0mplacement\u001b[0m\u001b[1;33m)\u001b[0m \u001b[1;33m!=\u001b[0m \u001b[0mlen\u001b[0m\u001b[1;33m(\u001b[0m\u001b[0mvalues\u001b[0m\u001b[1;33m)\u001b[0m\u001b[1;33m:\u001b[0m\u001b[1;33m\u001b[0m\u001b[1;33m\u001b[0m\u001b[0m\n\u001b[1;32m-> 1979\u001b[1;33m             raise ValueError(\n\u001b[0m\u001b[0;32m   1980\u001b[0m                 \u001b[1;34mf\"Wrong number of items passed {len(values)}, \"\u001b[0m\u001b[1;33m\u001b[0m\u001b[1;33m\u001b[0m\u001b[0m\n\u001b[0;32m   1981\u001b[0m                 \u001b[1;34mf\"placement implies {len(placement)}\"\u001b[0m\u001b[1;33m\u001b[0m\u001b[1;33m\u001b[0m\u001b[0m\n",
      "\u001b[1;31mValueError\u001b[0m: Wrong number of items passed 4, placement implies 1"
     ]
    }
   ],
   "source": [
    "adf_test = ADFTest(alpha=0.05)\n",
    "filtered_data = arm.filter_data(master_table, target, params)\n",
    "adf_test.should_diff(filtered_data[target])"
   ]
  },
  {
   "cell_type": "code",
   "execution_count": 137,
   "id": "cf14fce5-a0a4-4f45-a1c7-1f57c40ac68b",
   "metadata": {},
   "outputs": [
    {
     "data": {
      "image/png": "[encoded data removed]",
      "text/plain": [
       "<Figure size 432x288 with 1 Axes>"
      ]
     },
     "metadata": {
      "needs_background": "light"
     },
     "output_type": "display_data"
    },
    {
     "name": "stdout",
     "output_type": "stream",
     "text": [
      " ARIMA(0,1,0)(0,1,0)[4]             : AIC=3210.793, Time=0.02 sec\n",
      " ARIMA(0,1,0)(0,1,1)[4]             : AIC=3208.032, Time=0.04 sec\n",
      " ARIMA(0,1,0)(0,1,2)[4]             : AIC=3210.569, Time=0.07 sec\n",
      " ARIMA(0,1,0)(0,1,3)[4]             : AIC=3212.943, Time=0.09 sec\n",
      " ARIMA(0,1,0)(0,1,4)[4]             : AIC=3216.049, Time=0.16 sec\n",
      " ARIMA(0,1,0)(0,1,5)[4]             : AIC=3219.523, Time=0.35 sec\n",
      " ARIMA(0,1,0)(1,1,0)[4]             : AIC=3208.027, Time=0.03 sec\n",
      " ARIMA(0,1,0)(1,1,1)[4]             : AIC=3209.925, Time=0.09 sec\n",
      " ARIMA(0,1,0)(1,1,2)[4]             : AIC=3212.221, Time=0.08 sec\n",
      " ARIMA(0,1,0)(1,1,3)[4]             : AIC=3214.360, Time=0.12 sec\n",
      " ARIMA(0,1,0)(1,1,4)[4]             : AIC=3216.925, Time=0.39 sec\n",
      " ARIMA(0,1,0)(2,1,0)[4]             : AIC=3209.970, Time=0.09 sec\n",
      " ARIMA(0,1,0)(2,1,1)[4]             : AIC=3211.927, Time=0.06 sec\n",
      " ARIMA(0,1,0)(2,1,2)[4]             : AIC=3213.595, Time=0.45 sec\n",
      " ARIMA(0,1,0)(2,1,3)[4]             : AIC=inf, Time=0.80 sec\n",
      " ARIMA(0,1,0)(3,1,0)[4]             : AIC=3212.145, Time=0.06 sec\n",
      " ARIMA(0,1,0)(3,1,1)[4]             : AIC=3213.650, Time=0.33 sec\n",
      " ARIMA(0,1,0)(3,1,2)[4]             : AIC=3215.428, Time=0.66 sec\n",
      " ARIMA(0,1,0)(4,1,0)[4]             : AIC=3213.689, Time=0.12 sec\n",
      " ARIMA(0,1,0)(4,1,1)[4]             : AIC=3215.417, Time=0.50 sec\n",
      " ARIMA(0,1,0)(5,1,0)[4]             : AIC=3214.994, Time=0.30 sec\n",
      " ARIMA(0,1,1)(0,1,0)[4]             : AIC=3207.778, Time=0.10 sec\n",
      " ARIMA(0,1,1)(0,1,1)[4]             : AIC=3213.424, Time=0.08 sec\n",
      " ARIMA(0,1,1)(0,1,2)[4]             : AIC=3215.419, Time=0.16 sec\n",
      " ARIMA(0,1,1)(0,1,3)[4]             : AIC=3208.797, Time=0.35 sec\n",
      " ARIMA(0,1,1)(0,1,4)[4]             : AIC=3219.130, Time=0.30 sec\n",
      " ARIMA(0,1,1)(1,1,0)[4]             : AIC=3213.452, Time=0.06 sec\n",
      " ARIMA(0,1,1)(1,1,1)[4]             : AIC=3206.855, Time=0.38 sec\n",
      " ARIMA(0,1,1)(1,1,2)[4]             : AIC=inf, Time=0.45 sec\n",
      " ARIMA(0,1,1)(1,1,3)[4]             : AIC=inf, Time=0.83 sec\n",
      " ARIMA(0,1,1)(2,1,0)[4]             : AIC=3215.421, Time=0.10 sec\n",
      " ARIMA(0,1,1)(2,1,1)[4]             : AIC=3217.417, Time=0.14 sec\n",
      " ARIMA(0,1,1)(2,1,2)[4]             : AIC=inf, Time=0.71 sec\n",
      " ARIMA(0,1,1)(3,1,0)[4]             : AIC=3217.413, Time=0.14 sec\n",
      " ARIMA(0,1,1)(3,1,1)[4]             : AIC=3219.398, Time=0.35 sec\n",
      " ARIMA(0,1,1)(4,1,0)[4]             : AIC=3219.065, Time=0.22 sec\n",
      " ARIMA(0,1,2)(0,1,0)[4]             : AIC=3209.371, Time=0.17 sec\n",
      " ARIMA(0,1,2)(0,1,1)[4]             : AIC=3206.487, Time=0.28 sec\n",
      " ARIMA(0,1,2)(0,1,2)[4]             : AIC=3208.485, Time=0.41 sec\n",
      " ARIMA(0,1,2)(0,1,3)[4]             : AIC=3210.427, Time=0.58 sec\n",
      " ARIMA(0,1,2)(1,1,0)[4]             : AIC=3206.498, Time=0.28 sec\n",
      " ARIMA(0,1,2)(1,1,1)[4]             : AIC=inf, Time=0.48 sec\n",
      " ARIMA(0,1,2)(1,1,2)[4]             : AIC=3210.477, Time=0.44 sec\n",
      " ARIMA(0,1,2)(2,1,0)[4]             : AIC=3208.487, Time=0.33 sec\n",
      " ARIMA(0,1,2)(2,1,1)[4]             : AIC=inf, Time=0.55 sec\n",
      " ARIMA(0,1,2)(3,1,0)[4]             : AIC=3210.443, Time=0.53 sec\n",
      " ARIMA(0,1,3)(0,1,0)[4]             : AIC=3209.463, Time=0.27 sec\n",
      " ARIMA(0,1,3)(0,1,1)[4]             : AIC=3206.565, Time=0.35 sec\n",
      " ARIMA(0,1,3)(0,1,2)[4]             : AIC=3208.563, Time=0.46 sec\n",
      " ARIMA(0,1,3)(1,1,0)[4]             : AIC=3206.576, Time=0.36 sec\n",
      " ARIMA(0,1,3)(1,1,1)[4]             : AIC=inf, Time=0.55 sec\n",
      " ARIMA(0,1,3)(2,1,0)[4]             : AIC=3208.566, Time=0.43 sec\n",
      " ARIMA(1,1,0)(0,1,0)[4]             : AIC=3207.894, Time=0.06 sec\n",
      " ARIMA(1,1,0)(0,1,1)[4]             : AIC=3204.971, Time=0.12 sec\n",
      " ARIMA(1,1,0)(0,1,2)[4]             : AIC=3206.968, Time=0.18 sec\n",
      " ARIMA(1,1,0)(0,1,3)[4]             : AIC=3208.910, Time=0.27 sec\n",
      " ARIMA(1,1,0)(0,1,4)[4]             : AIC=3210.692, Time=0.48 sec\n",
      " ARIMA(1,1,0)(1,1,0)[4]             : AIC=3204.983, Time=0.13 sec\n",
      " ARIMA(1,1,0)(1,1,1)[4]             : AIC=3207.193, Time=0.38 sec\n",
      " ARIMA(1,1,0)(1,1,2)[4]             : AIC=inf, Time=0.42 sec\n",
      " ARIMA(1,1,0)(1,1,3)[4]             : AIC=inf, Time=0.56 sec\n",
      " ARIMA(1,1,0)(2,1,0)[4]             : AIC=3206.971, Time=0.20 sec\n",
      " ARIMA(1,1,0)(2,1,1)[4]             : AIC=inf, Time=0.39 sec\n",
      " ARIMA(1,1,0)(2,1,2)[4]             : AIC=inf, Time=0.64 sec\n",
      " ARIMA(1,1,0)(3,1,0)[4]             : AIC=3208.925, Time=0.27 sec\n",
      " ARIMA(1,1,0)(3,1,1)[4]             : AIC=3210.538, Time=0.46 sec\n",
      " ARIMA(1,1,0)(4,1,0)[4]             : AIC=3210.654, Time=0.38 sec\n",
      " ARIMA(1,1,1)(0,1,0)[4]             : AIC=3214.016, Time=0.16 sec\n",
      " ARIMA(1,1,1)(0,1,1)[4]             : AIC=3241.596, Time=0.09 sec\n",
      " ARIMA(1,1,1)(0,1,2)[4]             : AIC=3208.696, Time=0.52 sec\n",
      " ARIMA(1,1,1)(0,1,3)[4]             : AIC=3214.596, Time=0.68 sec\n",
      " ARIMA(1,1,1)(1,1,0)[4]             : AIC=3206.704, Time=0.30 sec\n",
      " ARIMA(1,1,1)(1,1,1)[4]             : AIC=3209.273, Time=0.40 sec\n",
      " ARIMA(1,1,1)(1,1,2)[4]             : AIC=inf, Time=0.48 sec\n",
      " ARIMA(1,1,1)(2,1,0)[4]             : AIC=3208.693, Time=0.38 sec\n",
      " ARIMA(1,1,1)(2,1,1)[4]             : AIC=3245.581, Time=0.14 sec\n",
      " ARIMA(1,1,1)(3,1,0)[4]             : AIC=3245.575, Time=0.18 sec\n",
      " ARIMA(1,1,2)(0,1,0)[4]             : AIC=inf, Time=0.29 sec\n",
      " ARIMA(1,1,2)(0,1,1)[4]             : AIC=inf, Time=0.31 sec\n",
      " ARIMA(1,1,2)(0,1,2)[4]             : AIC=inf, Time=0.36 sec\n",
      " ARIMA(1,1,2)(1,1,0)[4]             : AIC=inf, Time=0.28 sec\n",
      " ARIMA(1,1,2)(1,1,1)[4]             : AIC=inf, Time=0.54 sec\n",
      " ARIMA(1,1,2)(2,1,0)[4]             : AIC=inf, Time=0.49 sec\n",
      " ARIMA(1,1,3)(0,1,0)[4]             : AIC=inf, Time=0.39 sec\n",
      " ARIMA(1,1,3)(0,1,1)[4]             : AIC=3208.911, Time=0.54 sec\n",
      " ARIMA(1,1,3)(1,1,0)[4]             : AIC=inf, Time=0.48 sec\n",
      " ARIMA(2,1,0)(0,1,0)[4]             : AIC=3209.256, Time=0.09 sec\n",
      " ARIMA(2,1,0)(0,1,1)[4]             : AIC=3206.346, Time=0.18 sec\n",
      " ARIMA(2,1,0)(0,1,2)[4]             : AIC=3208.344, Time=0.27 sec\n",
      " ARIMA(2,1,0)(0,1,3)[4]             : AIC=3210.287, Time=0.30 sec\n",
      " ARIMA(2,1,0)(1,1,0)[4]             : AIC=3206.357, Time=0.16 sec\n",
      " ARIMA(2,1,0)(1,1,1)[4]             : AIC=3208.396, Time=0.49 sec\n",
      " ARIMA(2,1,0)(1,1,2)[4]             : AIC=inf, Time=0.40 sec\n",
      " ARIMA(2,1,0)(2,1,0)[4]             : AIC=3208.346, Time=0.22 sec\n",
      " ARIMA(2,1,0)(2,1,1)[4]             : AIC=inf, Time=0.39 sec\n",
      " ARIMA(2,1,0)(3,1,0)[4]             : AIC=3210.302, Time=0.27 sec\n",
      " ARIMA(2,1,1)(0,1,0)[4]             : AIC=inf, Time=0.29 sec\n",
      " ARIMA(2,1,1)(0,1,1)[4]             : AIC=inf, Time=0.48 sec\n",
      " ARIMA(2,1,1)(0,1,2)[4]             : AIC=3263.161, Time=0.62 sec\n",
      " ARIMA(2,1,1)(1,1,0)[4]             : AIC=inf, Time=0.48 sec\n",
      " ARIMA(2,1,1)(1,1,1)[4]             : AIC=inf, Time=0.57 sec\n",
      " ARIMA(2,1,1)(2,1,0)[4]             : AIC=inf, Time=0.58 sec\n",
      " ARIMA(2,1,2)(0,1,0)[4]             : AIC=inf, Time=0.34 sec\n",
      " ARIMA(2,1,2)(0,1,1)[4]             : AIC=inf, Time=0.45 sec\n",
      " ARIMA(2,1,2)(1,1,0)[4]             : AIC=3216.369, Time=0.41 sec\n",
      " ARIMA(2,1,3)(0,1,0)[4]             : AIC=3350.001, Time=0.42 sec\n",
      " ARIMA(3,1,0)(0,1,0)[4]             : AIC=3208.980, Time=0.11 sec\n",
      " ARIMA(3,1,0)(0,1,1)[4]             : AIC=3206.498, Time=0.21 sec\n",
      " ARIMA(3,1,0)(0,1,2)[4]             : AIC=3208.496, Time=0.29 sec\n",
      " ARIMA(3,1,0)(1,1,0)[4]             : AIC=3206.508, Time=0.20 sec\n",
      " ARIMA(3,1,0)(1,1,1)[4]             : AIC=inf, Time=0.39 sec\n",
      " ARIMA(3,1,0)(2,1,0)[4]             : AIC=3208.498, Time=0.25 sec\n",
      " ARIMA(3,1,1)(0,1,0)[4]             : AIC=inf, Time=0.30 sec\n",
      " ARIMA(3,1,1)(0,1,1)[4]             : AIC=inf, Time=0.32 sec\n",
      " ARIMA(3,1,1)(1,1,0)[4]             : AIC=3276.203, Time=0.17 sec\n",
      " ARIMA(3,1,2)(0,1,0)[4]             : AIC=3216.886, Time=0.33 sec\n",
      "\n",
      "Best model:  ARIMA(1,1,0)(0,1,1)[4]          \n",
      "Total fit time: 37.633 seconds\n"
     ]
    }
   ],
   "source": [
    "#filtered_data.index = filtered_data.index.astype('str')\n",
    "\n",
    "from sklearn.model_selection import train_test_split\n",
    "y_train, y_test = train_test_split(filtered_data[[target]].dropna(), train_size = .75, shuffle = False)\n",
    "\n",
    "fig, ax = plt.subplots()\n",
    "\n",
    "y_train.plot(ax=ax)\n",
    "y_test.plot(ax=ax)\n",
    "plt.show()\n",
    "\n",
    "arima_model = auto_arima(\n",
    "    #Data\n",
    "    y_train, \n",
    "    #NonSeasonalComponents\n",
    "    start_p=0, start_q=0, d=1, max_p=5, max_d=5, max_q=5, \n",
    "    #SeasonalComponents\n",
    "    start_P=0, D=1, start_Q=0, max_P=5, max_D=5,\n",
    "    max_Q=5, m=4, seasonal=True, trace=True, stepwise=False, n_fits = 100)\n",
    "\n",
    "prediction = pd.DataFrame(arima_model.predict(n_periods=y_test.shape[0]), index = y_test.index)\n",
    "prediction.columns = [target+\"_Prediction\"]\n",
    "\n",
    "\n",
    "# y_train = y_train.reset_index()\n",
    "# y_train.drop(columns = ['new_index'], inplace = True)\n",
    "# new_df = pd.concat([y_train,prediction])\n",
    "# new_df = new_df.reset_index(drop = True)"
   ]
  },
  {
   "cell_type": "code",
   "execution_count": 142,
   "id": "36cd5f36-fe89-4492-878c-3e2e8e3da40a",
   "metadata": {},
   "outputs": [],
   "source": [
    "import seaborn as sns"
   ]
  },
  {
   "cell_type": "code",
   "execution_count": 145,
   "id": "c088bb2c-d0d8-4cb8-b2b5-590f7b63b94b",
   "metadata": {},
   "outputs": [
    {
     "ename": "TypeError",
     "evalue": "Invalid object type at position 0",
     "output_type": "error",
     "traceback": [
      "\u001b[1;31m---------------------------------------------------------------------------\u001b[0m",
      "\u001b[1;31mTypeError\u001b[0m                                 Traceback (most recent call last)",
      "\u001b[1;32m~\\anaconda3\\lib\\site-packages\\pandas\\_libs\\lib.pyx\u001b[0m in \u001b[0;36mpandas._libs.lib.maybe_convert_numeric\u001b[1;34m()\u001b[0m\n",
      "\u001b[1;31mTypeError\u001b[0m: Invalid object type",
      "\nDuring handling of the above exception, another exception occurred:\n",
      "\u001b[1;31mTypeError\u001b[0m                                 Traceback (most recent call last)",
      "\u001b[1;32m~\\AppData\\Local\\Temp/ipykernel_17400/2436429334.py\u001b[0m in \u001b[0;36m<module>\u001b[1;34m\u001b[0m\n\u001b[0;32m      3\u001b[0m \u001b[1;31m# y_test.plot(ax=ax)\u001b[0m\u001b[1;33m\u001b[0m\u001b[1;33m\u001b[0m\u001b[0m\n\u001b[0;32m      4\u001b[0m \u001b[1;31m#new_df.plot(ax=ax)\u001b[0m\u001b[1;33m\u001b[0m\u001b[1;33m\u001b[0m\u001b[0m\n\u001b[1;32m----> 5\u001b[1;33m \u001b[0max\u001b[0m \u001b[1;33m=\u001b[0m \u001b[0msns\u001b[0m\u001b[1;33m.\u001b[0m\u001b[0mlineplot\u001b[0m\u001b[1;33m(\u001b[0m\u001b[0mx\u001b[0m \u001b[1;33m=\u001b[0m \u001b[0my_train\u001b[0m\u001b[1;33m.\u001b[0m\u001b[0mindex\u001b[0m\u001b[1;33m,\u001b[0m \u001b[0my\u001b[0m \u001b[1;33m=\u001b[0m \u001b[0my_train\u001b[0m\u001b[1;33m.\u001b[0m\u001b[0mMedianHousePrice\u001b[0m\u001b[1;33m)\u001b[0m\u001b[1;33m\u001b[0m\u001b[1;33m\u001b[0m\u001b[0m\n\u001b[0m\u001b[0;32m      6\u001b[0m \u001b[0max\u001b[0m \u001b[1;33m=\u001b[0m \u001b[0msns\u001b[0m\u001b[1;33m.\u001b[0m\u001b[0mlineplot\u001b[0m\u001b[1;33m(\u001b[0m\u001b[0mx\u001b[0m \u001b[1;33m=\u001b[0m \u001b[0my_test\u001b[0m\u001b[1;33m.\u001b[0m\u001b[0mindex\u001b[0m\u001b[1;33m,\u001b[0m \u001b[0my\u001b[0m \u001b[1;33m=\u001b[0m \u001b[0my_test\u001b[0m\u001b[1;33m.\u001b[0m\u001b[0mMedianHousePrice\u001b[0m\u001b[1;33m)\u001b[0m\u001b[1;33m\u001b[0m\u001b[1;33m\u001b[0m\u001b[0m\n\u001b[0;32m      7\u001b[0m \u001b[0max\u001b[0m \u001b[1;33m=\u001b[0m \u001b[0msns\u001b[0m\u001b[1;33m.\u001b[0m\u001b[0mlineplot\u001b[0m\u001b[1;33m(\u001b[0m\u001b[0mx\u001b[0m \u001b[1;33m=\u001b[0m \u001b[0mprediction\u001b[0m\u001b[1;33m.\u001b[0m\u001b[0mindex\u001b[0m\u001b[1;33m,\u001b[0m \u001b[0my\u001b[0m \u001b[1;33m=\u001b[0m \u001b[0mprediction\u001b[0m\u001b[1;33m.\u001b[0m\u001b[0mMedianHousePrice_Prediction\u001b[0m\u001b[1;33m)\u001b[0m\u001b[1;33m\u001b[0m\u001b[1;33m\u001b[0m\u001b[0m\n",
      "\u001b[1;32m~\\anaconda3\\lib\\site-packages\\seaborn\\_decorators.py\u001b[0m in \u001b[0;36minner_f\u001b[1;34m(*args, **kwargs)\u001b[0m\n\u001b[0;32m     44\u001b[0m             )\n\u001b[0;32m     45\u001b[0m         \u001b[0mkwargs\u001b[0m\u001b[1;33m.\u001b[0m\u001b[0mupdate\u001b[0m\u001b[1;33m(\u001b[0m\u001b[1;33m{\u001b[0m\u001b[0mk\u001b[0m\u001b[1;33m:\u001b[0m \u001b[0marg\u001b[0m \u001b[1;32mfor\u001b[0m \u001b[0mk\u001b[0m\u001b[1;33m,\u001b[0m \u001b[0marg\u001b[0m \u001b[1;32min\u001b[0m \u001b[0mzip\u001b[0m\u001b[1;33m(\u001b[0m\u001b[0msig\u001b[0m\u001b[1;33m.\u001b[0m\u001b[0mparameters\u001b[0m\u001b[1;33m,\u001b[0m \u001b[0margs\u001b[0m\u001b[1;33m)\u001b[0m\u001b[1;33m}\u001b[0m\u001b[1;33m)\u001b[0m\u001b[1;33m\u001b[0m\u001b[1;33m\u001b[0m\u001b[0m\n\u001b[1;32m---> 46\u001b[1;33m         \u001b[1;32mreturn\u001b[0m \u001b[0mf\u001b[0m\u001b[1;33m(\u001b[0m\u001b[1;33m**\u001b[0m\u001b[0mkwargs\u001b[0m\u001b[1;33m)\u001b[0m\u001b[1;33m\u001b[0m\u001b[1;33m\u001b[0m\u001b[0m\n\u001b[0m\u001b[0;32m     47\u001b[0m     \u001b[1;32mreturn\u001b[0m \u001b[0minner_f\u001b[0m\u001b[1;33m\u001b[0m\u001b[1;33m\u001b[0m\u001b[0m\n\u001b[0;32m     48\u001b[0m \u001b[1;33m\u001b[0m\u001b[0m\n",
      "\u001b[1;32m~\\anaconda3\\lib\\site-packages\\seaborn\\relational.py\u001b[0m in \u001b[0;36mlineplot\u001b[1;34m(x, y, hue, size, style, data, palette, hue_order, hue_norm, sizes, size_order, size_norm, dashes, markers, style_order, units, estimator, ci, n_boot, seed, sort, err_style, err_kws, legend, ax, **kwargs)\u001b[0m\n\u001b[0;32m    708\u001b[0m     \u001b[0mp\u001b[0m\u001b[1;33m.\u001b[0m\u001b[0m_attach\u001b[0m\u001b[1;33m(\u001b[0m\u001b[0max\u001b[0m\u001b[1;33m)\u001b[0m\u001b[1;33m\u001b[0m\u001b[1;33m\u001b[0m\u001b[0m\n\u001b[0;32m    709\u001b[0m \u001b[1;33m\u001b[0m\u001b[0m\n\u001b[1;32m--> 710\u001b[1;33m     \u001b[0mp\u001b[0m\u001b[1;33m.\u001b[0m\u001b[0mplot\u001b[0m\u001b[1;33m(\u001b[0m\u001b[0max\u001b[0m\u001b[1;33m,\u001b[0m \u001b[0mkwargs\u001b[0m\u001b[1;33m)\u001b[0m\u001b[1;33m\u001b[0m\u001b[1;33m\u001b[0m\u001b[0m\n\u001b[0m\u001b[0;32m    711\u001b[0m     \u001b[1;32mreturn\u001b[0m \u001b[0max\u001b[0m\u001b[1;33m\u001b[0m\u001b[1;33m\u001b[0m\u001b[0m\n\u001b[0;32m    712\u001b[0m \u001b[1;33m\u001b[0m\u001b[0m\n",
      "\u001b[1;32m~\\anaconda3\\lib\\site-packages\\seaborn\\relational.py\u001b[0m in \u001b[0;36mplot\u001b[1;34m(self, ax, kws)\u001b[0m\n\u001b[0;32m    469\u001b[0m         \u001b[1;31m# Loop over the semantic subsets and add to the plot\u001b[0m\u001b[1;33m\u001b[0m\u001b[1;33m\u001b[0m\u001b[0m\n\u001b[0;32m    470\u001b[0m         \u001b[0mgrouping_vars\u001b[0m \u001b[1;33m=\u001b[0m \u001b[1;34m\"hue\"\u001b[0m\u001b[1;33m,\u001b[0m \u001b[1;34m\"size\"\u001b[0m\u001b[1;33m,\u001b[0m \u001b[1;34m\"style\"\u001b[0m\u001b[1;33m\u001b[0m\u001b[1;33m\u001b[0m\u001b[0m\n\u001b[1;32m--> 471\u001b[1;33m         \u001b[1;32mfor\u001b[0m \u001b[0msub_vars\u001b[0m\u001b[1;33m,\u001b[0m \u001b[0msub_data\u001b[0m \u001b[1;32min\u001b[0m \u001b[0mself\u001b[0m\u001b[1;33m.\u001b[0m\u001b[0miter_data\u001b[0m\u001b[1;33m(\u001b[0m\u001b[0mgrouping_vars\u001b[0m\u001b[1;33m,\u001b[0m \u001b[0mfrom_comp_data\u001b[0m\u001b[1;33m=\u001b[0m\u001b[1;32mTrue\u001b[0m\u001b[1;33m)\u001b[0m\u001b[1;33m:\u001b[0m\u001b[1;33m\u001b[0m\u001b[1;33m\u001b[0m\u001b[0m\n\u001b[0m\u001b[0;32m    472\u001b[0m \u001b[1;33m\u001b[0m\u001b[0m\n\u001b[0;32m    473\u001b[0m             \u001b[1;32mif\u001b[0m \u001b[0mself\u001b[0m\u001b[1;33m.\u001b[0m\u001b[0msort\u001b[0m\u001b[1;33m:\u001b[0m\u001b[1;33m\u001b[0m\u001b[1;33m\u001b[0m\u001b[0m\n",
      "\u001b[1;32m~\\anaconda3\\lib\\site-packages\\seaborn\\_core.py\u001b[0m in \u001b[0;36miter_data\u001b[1;34m(self, grouping_vars, reverse, from_comp_data)\u001b[0m\n\u001b[0;32m    981\u001b[0m \u001b[1;33m\u001b[0m\u001b[0m\n\u001b[0;32m    982\u001b[0m         \u001b[1;32mif\u001b[0m \u001b[0mfrom_comp_data\u001b[0m\u001b[1;33m:\u001b[0m\u001b[1;33m\u001b[0m\u001b[1;33m\u001b[0m\u001b[0m\n\u001b[1;32m--> 983\u001b[1;33m             \u001b[0mdata\u001b[0m \u001b[1;33m=\u001b[0m \u001b[0mself\u001b[0m\u001b[1;33m.\u001b[0m\u001b[0mcomp_data\u001b[0m\u001b[1;33m\u001b[0m\u001b[1;33m\u001b[0m\u001b[0m\n\u001b[0m\u001b[0;32m    984\u001b[0m         \u001b[1;32melse\u001b[0m\u001b[1;33m:\u001b[0m\u001b[1;33m\u001b[0m\u001b[1;33m\u001b[0m\u001b[0m\n\u001b[0;32m    985\u001b[0m             \u001b[0mdata\u001b[0m \u001b[1;33m=\u001b[0m \u001b[0mself\u001b[0m\u001b[1;33m.\u001b[0m\u001b[0mplot_data\u001b[0m\u001b[1;33m\u001b[0m\u001b[1;33m\u001b[0m\u001b[0m\n",
      "\u001b[1;32m~\\anaconda3\\lib\\site-packages\\seaborn\\_core.py\u001b[0m in \u001b[0;36mcomp_data\u001b[1;34m(self)\u001b[0m\n\u001b[0;32m   1055\u001b[0m                     \u001b[0morig\u001b[0m \u001b[1;33m=\u001b[0m \u001b[0mself\u001b[0m\u001b[1;33m.\u001b[0m\u001b[0mplot_data\u001b[0m\u001b[1;33m[\u001b[0m\u001b[0mvar\u001b[0m\u001b[1;33m]\u001b[0m\u001b[1;33m.\u001b[0m\u001b[0mdropna\u001b[0m\u001b[1;33m(\u001b[0m\u001b[1;33m)\u001b[0m\u001b[1;33m\u001b[0m\u001b[1;33m\u001b[0m\u001b[0m\n\u001b[0;32m   1056\u001b[0m                 \u001b[0mcomp_col\u001b[0m \u001b[1;33m=\u001b[0m \u001b[0mpd\u001b[0m\u001b[1;33m.\u001b[0m\u001b[0mSeries\u001b[0m\u001b[1;33m(\u001b[0m\u001b[0mindex\u001b[0m\u001b[1;33m=\u001b[0m\u001b[0morig\u001b[0m\u001b[1;33m.\u001b[0m\u001b[0mindex\u001b[0m\u001b[1;33m,\u001b[0m \u001b[0mdtype\u001b[0m\u001b[1;33m=\u001b[0m\u001b[0mfloat\u001b[0m\u001b[1;33m,\u001b[0m \u001b[0mname\u001b[0m\u001b[1;33m=\u001b[0m\u001b[0mvar\u001b[0m\u001b[1;33m)\u001b[0m\u001b[1;33m\u001b[0m\u001b[1;33m\u001b[0m\u001b[0m\n\u001b[1;32m-> 1057\u001b[1;33m                 \u001b[0mcomp_col\u001b[0m\u001b[1;33m.\u001b[0m\u001b[0mloc\u001b[0m\u001b[1;33m[\u001b[0m\u001b[0morig\u001b[0m\u001b[1;33m.\u001b[0m\u001b[0mindex\u001b[0m\u001b[1;33m]\u001b[0m \u001b[1;33m=\u001b[0m \u001b[0mpd\u001b[0m\u001b[1;33m.\u001b[0m\u001b[0mto_numeric\u001b[0m\u001b[1;33m(\u001b[0m\u001b[0maxis\u001b[0m\u001b[1;33m.\u001b[0m\u001b[0mconvert_units\u001b[0m\u001b[1;33m(\u001b[0m\u001b[0morig\u001b[0m\u001b[1;33m)\u001b[0m\u001b[1;33m)\u001b[0m\u001b[1;33m\u001b[0m\u001b[1;33m\u001b[0m\u001b[0m\n\u001b[0m\u001b[0;32m   1058\u001b[0m \u001b[1;33m\u001b[0m\u001b[0m\n\u001b[0;32m   1059\u001b[0m                 \u001b[1;32mif\u001b[0m \u001b[0maxis\u001b[0m\u001b[1;33m.\u001b[0m\u001b[0mget_scale\u001b[0m\u001b[1;33m(\u001b[0m\u001b[1;33m)\u001b[0m \u001b[1;33m==\u001b[0m \u001b[1;34m\"log\"\u001b[0m\u001b[1;33m:\u001b[0m\u001b[1;33m\u001b[0m\u001b[1;33m\u001b[0m\u001b[0m\n",
      "\u001b[1;32m~\\anaconda3\\lib\\site-packages\\pandas\\core\\tools\\numeric.py\u001b[0m in \u001b[0;36mto_numeric\u001b[1;34m(arg, errors, downcast)\u001b[0m\n\u001b[0;32m    181\u001b[0m         \u001b[0mcoerce_numeric\u001b[0m \u001b[1;33m=\u001b[0m \u001b[0merrors\u001b[0m \u001b[1;32mnot\u001b[0m \u001b[1;32min\u001b[0m \u001b[1;33m(\u001b[0m\u001b[1;34m\"ignore\"\u001b[0m\u001b[1;33m,\u001b[0m \u001b[1;34m\"raise\"\u001b[0m\u001b[1;33m)\u001b[0m\u001b[1;33m\u001b[0m\u001b[1;33m\u001b[0m\u001b[0m\n\u001b[0;32m    182\u001b[0m         \u001b[1;32mtry\u001b[0m\u001b[1;33m:\u001b[0m\u001b[1;33m\u001b[0m\u001b[1;33m\u001b[0m\u001b[0m\n\u001b[1;32m--> 183\u001b[1;33m             values, _ = lib.maybe_convert_numeric(\n\u001b[0m\u001b[0;32m    184\u001b[0m                 \u001b[0mvalues\u001b[0m\u001b[1;33m,\u001b[0m \u001b[0mset\u001b[0m\u001b[1;33m(\u001b[0m\u001b[1;33m)\u001b[0m\u001b[1;33m,\u001b[0m \u001b[0mcoerce_numeric\u001b[0m\u001b[1;33m=\u001b[0m\u001b[0mcoerce_numeric\u001b[0m\u001b[1;33m\u001b[0m\u001b[1;33m\u001b[0m\u001b[0m\n\u001b[0;32m    185\u001b[0m             )\n",
      "\u001b[1;32m~\\anaconda3\\lib\\site-packages\\pandas\\_libs\\lib.pyx\u001b[0m in \u001b[0;36mpandas._libs.lib.maybe_convert_numeric\u001b[1;34m()\u001b[0m\n",
      "\u001b[1;31mTypeError\u001b[0m: Invalid object type at position 0"
     ]
    },
    {
     "data": {
      "image/png": "[encoded data removed]",
      "text/plain": [
       "<Figure size 864x360 with 1 Axes>"
      ]
     },
     "metadata": {
      "needs_background": "light"
     },
     "output_type": "display_data"
    }
   ],
   "source": [
    "fig, ax = plt.subplots(figsize = (12,5))\n",
    "# y_train.plot(ax=ax)\n",
    "# y_test.plot(ax=ax)\n",
    "#new_df.plot(ax=ax)\n",
    "ax = sns.lineplot(x = y_train.index, y = y_train.MedianHousePrice)\n",
    "ax = sns.lineplot(x = y_test.index, y = y_test.MedianHousePrice)\n",
    "ax = sns.lineplot(x = prediction.index, y = prediction.MedianHousePrice_Prediction)\n",
    "# y_train.plot(ax = ax)\n",
    "# y_test.plot(ax = ax)\n",
    "# prediction.plot(ax = ax)\n",
    "plt.show()"
   ]
  },
  {
   "cell_type": "code",
   "execution_count": null,
   "id": "287af5ad-361f-4243-b140-0cee1c242836",
   "metadata": {},
   "outputs": [],
   "source": []
  },
  {
   "cell_type": "code",
   "execution_count": null,
   "id": "74fbf3dd-6f1d-4846-bb77-7597cdfce7ba",
   "metadata": {},
   "outputs": [],
   "source": []
  },
  {
   "cell_type": "code",
   "execution_count": null,
   "id": "b4778a88-2008-4f05-8df4-42582f8905ef",
   "metadata": {},
   "outputs": [],
   "source": []
  },
  {
   "cell_type": "code",
   "execution_count": null,
   "id": "b989ffe5-4033-4b62-891f-179c72a1e559",
   "metadata": {},
   "outputs": [],
   "source": []
  },
  {
   "cell_type": "code",
   "execution_count": null,
   "id": "e5530b65-e6db-49a1-8f49-2e589d2d1a2c",
   "metadata": {},
   "outputs": [],
   "source": [
    "#Docs = https://alkaline-ml.com/pmdarima/modules/generated/pmdarima.arima.auto_arima.html\n",
    "from pmdarima.arima import auto_arima\n",
    "from pmdarima.arima import ADFTest\n",
    "\n",
    "# Get your data into the state it needs to be in\n",
    "filtered_data = ?\n",
    "\n",
    "adf_test.should_diff(filtered_data['MedianIncome'])\n",
    "\n",
    "#filtered_data.index = filtered_data.index.astype('str')\n",
    "\n",
    "from sklearn.model_selection import train_test_split\n",
    "y_train, y_test = train_test_split(filtered_data['MedianIncome'].dropna(), train_size = .75, shuffle = False)\n",
    "\n",
    "# This plotting method was necessary because my data was indexed by time period\n",
    "fig, ax = plt.subplots()\n",
    "y_train.plot(ax=ax)\n",
    "y_test.plot(ax=ax)\n",
    "plt.show()\n",
    "\n",
    "arima_model = auto_arima(\n",
    "    #Data\n",
    "    y_train, \n",
    "    #NonSeasonalComponents\n",
    "    start_p=0, start_q=0, d=1, max_p=5, max_d=5, max_q=5, \n",
    "    #SeasonalComponents\n",
    "    start_P=0, D=1, start_Q=0, max_P=5, max_D=5,\n",
    "    max_Q=5, m=1, seasonal=False, trace=True, stepwise=False, n_fits = 100)\n",
    "\n",
    "prediction = pd.DataFrame(arima_model.predict(n_periods=20, index = y_test.index))\n",
    "prediction.columns = ['Predictions']\n",
    "plt.plot(prediction)"
   ]
  }
 ],
 "metadata": {
  "kernelspec": {
   "display_name": "Python 3 (ipykernel)",
   "language": "python",
   "name": "python3"
  },
  "language_info": {
   "codemirror_mode": {
    "name": "ipython",
    "version": 3
   },
   "file_extension": ".py",
   "mimetype": "text/x-python",
   "name": "python",
   "nbconvert_exporter": "python",
   "pygments_lexer": "ipython3",
   "version": "3.9.7"
  }
 },
 "nbformat": 4,
 "nbformat_minor": 5
}
