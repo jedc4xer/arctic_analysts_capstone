{
 "cells": [
  {
   "cell_type": "code",
   "execution_count": 101,
   "id": "c03fbaaa-dabd-4e5f-8f64-4ffd4caeeaf8",
   "metadata": {},
   "outputs": [],
   "source": [
    "# This is the data that is being run through the model.\n",
    "\n",
    "target = 'MedianIncome'\n",
    "age_range = '25-44'\n",
    "target_fips = '34003'\n",
    "\n",
    "params = [target_fips, age_range]\n",
    "\n"
   ]
  },
  {
   "cell_type": "markdown",
   "id": "3743723f-240f-4d94-9df9-c28262ba3c48",
   "metadata": {},
   "source": [
    "# ARIMA MODEL\n",
    "\n",
    "- Stationary Time Series\n",
    "> Stationary Time Series has no predictable patterns in the long term <br>\n",
    "> and will show the series to be roughly horizontal in time plots with <br>\n",
    "> constant variance<br><br>\n",
    "> A time series with cyclic behavior, but no trend or seasonality is stationary.\n",
    "> Because the cycles are not of a fixed length.\n",
    "\n",
    "- Differencing\n",
    "> When we compute the differences between observations to make a non-stationary <br>\n",
    "> time series stationary.<br>\n",
    "> ACF plot (auto correlation function plot) is useful for identifying non-stationary time series<br><br>\n",
    "> in a stationary time series, the ACF drops to zero relatively quickly, <br>\n",
    "> while the ACF of a non-stationary data decreases slowly. <br><br>\n",
    "> For non-stationary data, the value of r1 is often large and positive\n",
    "\n",
    "- Differenced Series\n",
    "> The change between consecutive observations in the original series.<br>\n",
    "> Differenced series will only have t-1 values since its not possible <br>\n",
    "> to calculate the first observation.\n",
    "\n",
    "- Random Walk Models\n",
    "> Widely used for non-stationary data, particularly financial and economic data.<br>\n",
    "> Random walks typically have long periods of apparent trends up or down and sudden<br>\n",
    "> and unpredictable changes in direction."
   ]
  },
  {
   "cell_type": "code",
   "execution_count": 102,
   "id": "28e0e84d-4b1a-4c6a-b63d-c3211bd59922",
   "metadata": {},
   "outputs": [],
   "source": [
    "# ARIMA MODEL\n",
    "# Fit an ARIMA model.\n",
    "\n",
    "# There are three hyperparameters we need to get values for when fitting an ARIMA model.\n",
    "# Determine a value of  using the Augmented Dickey-Fuller test.\n",
    "\n",
    "# Then, determine values of  and  through GridSearching.\n",
    "\n",
    "# An  model is specified by:\n",
    "# -how many differences  we need to calculate in order to achieve stationarity.\n",
    "# -how many lags  we regress  on.\n",
    "# -how many errors  we regress  on.\n",
    "\n",
    "\n",
    "# Depending on our values of , , and , we might refer to these models by slightly different names.\n",
    "# If  and , an AR(p) model is specified by how many lags  we regress  on.\n",
    "# If  and , an MA(q) model is specified by how many errors  we regress  on.\n",
    "# If , an ARMA(p, q) model is specified by how many lags  and how many errors  we regress  on."
   ]
  },
  {
   "cell_type": "code",
   "execution_count": 103,
   "id": "586d6846-b35b-4bcb-a469-175dea364358",
   "metadata": {},
   "outputs": [],
   "source": [
    "import pymssql\n",
    "import pandas as pd\n",
    "import datetime as dt\n",
    "from math import sqrt\n",
    "import plotly.express as px\n",
    "import plotly.graph_objects as go\n",
    "from sklearn.pipeline import Pipeline\n",
    "from plotly.subplots import make_subplots\n",
    "from statsmodels.tsa.arima.model import ARIMA\n",
    "from statsmodels.tsa.stattools import adfuller\n",
    "from sklearn.metrics import mean_squared_error\n",
    "from sklearn.model_selection import train_test_split"
   ]
  },
  {
   "cell_type": "code",
   "execution_count": 104,
   "id": "93cb08b6-0cb6-4c67-8ba2-342686eb6d45",
   "metadata": {},
   "outputs": [],
   "source": [
    "def plot_adf(df, target):\n",
    "    fig = make_subplots(rows = 3, cols = 1)\n",
    "\n",
    "    fig.append_trace(\n",
    "        go.Scatter(\n",
    "            x=df['Year'], y= df[target]\n",
    "        ), row = 1, col = 1\n",
    "    )\n",
    "\n",
    "    fig.append_trace(\n",
    "        go.Scatter(\n",
    "            x=df['Year'], y= df['diff_1']\n",
    "        ), row = 2, col = 1\n",
    "    )\n",
    "\n",
    "\n",
    "    fig.append_trace(\n",
    "        go.Scatter(\n",
    "            x=df['Year'], y= df['diff_2']\n",
    "        ), row = 3, col = 1\n",
    "    )\n",
    "\n",
    "\n",
    "    # fig.append_trace(\n",
    "    #     go.Scatter(\n",
    "    #         x=df['Year'], y= df['diff_3']\n",
    "    #     ), row = 4, col = 1\n",
    "    # )\n",
    "    fig.update_layout(height = 1000, width = 700)\n",
    "    fig.show()\n",
    "    \n",
    "def plot_residual_errors(residuals):\n",
    "    fig = px.line(y=residuals['residuals'])\n",
    "    fig.show()"
   ]
  },
  {
   "cell_type": "code",
   "execution_count": 105,
   "id": "7d702293-bdc0-4dbd-acde-da213f0ae64e",
   "metadata": {},
   "outputs": [],
   "source": [
    "database = \"arctic_analysts_capstone\"\n",
    "user = \"arctic_analysts\"\n",
    "password  = \"ThisPassw0rd!\"\n",
    "server = \"gen10-data-fundamentals-22-02-sql-server.database.windows.net\"\n",
    "\n",
    "def sql_query(query):\n",
    "    conn = pymssql.connect(server, user, password, database)\n",
    "    cursor = conn.cursor()\n",
    "    queried_data = pd.read_sql(query, conn)\n",
    "    return queried_data"
   ]
  },
  {
   "cell_type": "code",
   "execution_count": 106,
   "id": "5806b288-0488-4999-8ab0-cfb6c5a0b5dd",
   "metadata": {},
   "outputs": [],
   "source": [
    "def run_queries():\n",
    "    tables = [\"year\", \"month\", \"county\", \"median_income\", \"main_table\"]\n",
    "\n",
    "    query = f\"SELECT * FROM {tables[0]}\"\n",
    "    year_df = sql_query(query)\n",
    "\n",
    "    query = f\"SELECT * FROM {tables[1]}\"\n",
    "    month_df = sql_query(query)\n",
    "\n",
    "    query = f\"SELECT * FROM {tables[2]}\"\n",
    "    county_df = sql_query(query)\n",
    "\n",
    "    query = f\"SELECT * FROM {tables[3]}\"\n",
    "    median_income_df = sql_query(query)\n",
    "\n",
    "    query = f\"SELECT * FROM {tables[4]}\"\n",
    "    main_table = sql_query(query)\n",
    "\n",
    "    all_df = [year_df, month_df, county_df, median_income_df, main_table]\n",
    "    return all_df"
   ]
  },
  {
   "cell_type": "code",
   "execution_count": 107,
   "id": "bb934967-6020-427d-ab46-a2ef8aee40b9",
   "metadata": {},
   "outputs": [],
   "source": [
    "def join_tables(all_df):\n",
    "    year_df = all_df[0]\n",
    "    month_df = all_df[1]\n",
    "    county_df = all_df[2]\n",
    "    median_income_df = all_df[3]\n",
    "    main_table = all_df[4]\n",
    "\n",
    "    master_table = pd.merge(\n",
    "        main_table, year_df, left_on=\"YearID\", right_on=\"YearID\", how=\"outer\"\n",
    "    )\n",
    "    print(master_table.shape[0])\n",
    "    # Now has 5607 rows\n",
    "\n",
    "    master_table = pd.merge(\n",
    "        master_table, month_df, left_on=\"MonthID\", right_on=\"MonthID\", how=\"outer\"\n",
    "    )\n",
    "    # Now has 5607 rows\n",
    "    print(master_table.shape[0])\n",
    "\n",
    "    master_table = pd.merge(\n",
    "        master_table, county_df, left_on=\"FIPS\", right_on=\"FIPS\", how=\"outer\"\n",
    "    )\n",
    "    # Now has 5607 rows\n",
    "    print(master_table.shape[0])\n",
    "\n",
    "    master_table = pd.merge(\n",
    "        master_table,\n",
    "        median_income_df,\n",
    "        left_on=[\"FIPS\", \"YearID\"],\n",
    "        right_on=[\"FIPS\", \"YearID\"],\n",
    "        how=\"outer\",\n",
    "    )\n",
    "    # Now has 20727 rows\n",
    "    print(master_table.shape[0])\n",
    "\n",
    "    master_table.loc[(master_table.MedianIncome < 0), \"MedianIncome\"] = None\n",
    "    return master_table"
   ]
  },
  {
   "cell_type": "code",
   "execution_count": 108,
   "id": "0571527d-fc8b-41b7-b0d3-2f98b7591ecd",
   "metadata": {},
   "outputs": [
    {
     "name": "stdout",
     "output_type": "stream",
     "text": [
      "5607\n",
      "5607\n",
      "5607\n",
      "20727\n"
     ]
    }
   ],
   "source": [
    "all_df = run_queries()\n",
    "master_table = join_tables(all_df)"
   ]
  },
  {
   "cell_type": "markdown",
   "id": "91a52eb6-9c26-45c5-86db-4289f0919051",
   "metadata": {},
   "source": [
    "## Routine\n",
    ">1. Use Augmented Dickey-Fuller test to find value of P\n",
    "> - This is where any differencing should occur\n",
    "> - Values should be lower than 5."
   ]
  },
  {
   "cell_type": "code",
   "execution_count": 109,
   "id": "3130e770-3ee3-4aee-b6f7-0896c248c099",
   "metadata": {},
   "outputs": [],
   "source": [
    "def evaluate_models(df, p_values, d_values, q_values):\n",
    "    df = df.astype('float32')\n",
    "    best_score, best_cfg = float(\"inf\"), None\n",
    "    for p in p_values:\n",
    "        for d in d_values:\n",
    "            for q in q_values:\n",
    "                order = (p,d,q)\n",
    "                try:\n",
    "                    rmse = evaluate_arima_model(df, order)\n",
    "                    if rmse < best_score:\n",
    "                        best_score, best_cfg = rmse, order\n",
    "                        print('ARIMA%s RMSE=%.3f' % (order,rmse))\n",
    "                except Exception as E:\n",
    "                    print(E)\n",
    "                    continue\n",
    "    print('Best ARIMA%s RMSE=%.3f' % (best_cfg, best_score))\n",
    "    return best_cfg\n",
    "\n",
    "def get_date_range(start_date, period_range, freq):\n",
    "    \n",
    "    start_date = dt.datetime.strptime(str(start_date), '%Y')\n",
    "    date_list = (\n",
    "        pd.date_range(start=start_date, periods=period_range + 1, freq=freq)\n",
    "        .to_pydatetime()\n",
    "        .tolist()\n",
    "    )\n",
    "    date_list = [\n",
    "        str(_.year) for _ in date_list\n",
    "    ]\n",
    "    # date_list = [dt.datetime.strptime(f'{_.year}-{_.month}-15', '%Y-%m-%d') for _ in date_list]\n",
    "    return date_list[1:]"
   ]
  },
  {
   "cell_type": "markdown",
   "id": "2885d4d1-3b2e-4f4c-b8e6-64c7e41e7d7d",
   "metadata": {},
   "source": [
    "## Income Data"
   ]
  },
  {
   "cell_type": "code",
   "execution_count": null,
   "id": "3ef05f5b-0506-42ec-944d-73f3b6364ac9",
   "metadata": {},
   "outputs": [],
   "source": []
  },
  {
   "cell_type": "code",
   "execution_count": 110,
   "id": "8c672a6e-51ba-464a-a996-7669bde521e0",
   "metadata": {},
   "outputs": [],
   "source": [
    "def filter_data(df, which, args):\n",
    "    if which == 'MedianIncome':\n",
    "        fips, age_group = args\n",
    "        cols_to_keep = ['FIPS','Year','MedianIncome', 'AgeGroup']\n",
    "        drop_subset = 'Year' # This will be the value checked for dups\n",
    "        \n",
    "        df = df[(df.FIPS == fips) & (df.AgeGroup == age_group)]\n",
    "        \n",
    "    filtered_df = df[[_ for _ in cols_to_keep]]\n",
    "    filtered_df = filtered_df.dropna()\n",
    "    filtered_df.drop_duplicates(subset = drop_subset, inplace = True)\n",
    "    \n",
    "    if which == 'MedianIncome':\n",
    "        filtered_df['new_index'] = filtered_df.Year.copy()\n",
    "        filtered_df['new_index'] = filtered_df['new_index'].apply(lambda x: dt.datetime.strptime(str(x), '%Y'))\n",
    "        filtered_df.set_index('new_index', inplace = True)\n",
    "    else: \n",
    "        raise ValueError(\"Did not set up for this dataset yet.\")\n",
    "\n",
    "    filtered_df.index = filtered_df.index.to_period('Y')\n",
    "    return filtered_df\n",
    "\n",
    "def get_adf(df, target):\n",
    "    df['diff_1'] = df[target].diff()\n",
    "    df['diff_2'] = df[target].diff().diff()\n",
    "    #df['diff_3'] = df[target].diff().diff().diff()\n",
    "    \n",
    "    cols_to_check = [target, 'diff_1', 'diff_2']#,'diff_3']\n",
    "    best_adf = 1000000000\n",
    "    for i, col in enumerate(cols_to_check):\n",
    "        adf_result = adfuller(df[col].dropna())\n",
    "        if col == target:\n",
    "            best_adf = adf_result[1]\n",
    "        else:\n",
    "            if adf_result[1] < best_adf:\n",
    "                best_col = col\n",
    "                best_adf = adf_result[1]\n",
    "                num_diffs = i\n",
    "                \n",
    "        print(f'Column: {col} | ADF Statistic: {adf_result[0]} | P-Value: {adf_result[1]}')\n",
    "        print(adf_result,\"\\n\")\n",
    "    return df, best_col, num_diffs"
   ]
  },
  {
   "cell_type": "code",
   "execution_count": 111,
   "id": "883981c4-97d1-46a8-98f8-d0562cec882a",
   "metadata": {},
   "outputs": [],
   "source": [
    "\n",
    "#plot_adf(adf_filtered_df, target)"
   ]
  },
  {
   "cell_type": "code",
   "execution_count": 112,
   "id": "12fec827-9ffb-4156-81db-26168def813c",
   "metadata": {},
   "outputs": [],
   "source": [
    "# def ARIMA_predict(df, best_col):\n",
    "\n",
    "#     y_train, y_test = train_test_split(df[best_col].dropna(), train_size = .75, shuffle = False)\n",
    "#     history = [x for x in y_train]\n",
    "#     predictions = []\n",
    "#     # walk-forward validation\n",
    "#     for t in range(len(y_test)):\n",
    "#         # Best Arima is the result of grid search\n",
    "#         model = ARIMA(history, order=best_arima)\n",
    "#         model_fit = model.fit()\n",
    "#         output = model_fit.forecast()\n",
    "#         yhat = output[0]\n",
    "#         predictions.append(yhat)\n",
    "#         obs = y_test[t]\n",
    "#         history.append(obs)\n",
    "#         print('predicted=%f, expected=%f' % (yhat, obs))\n",
    "#     # evaluate forecasts\n",
    "#     rmse = sqrt(mean_squared_error(y_test, predictions))\n",
    "#     print('Test RMSE: %.3f' % rmse)\n",
    "#     residuals = pd.DataFrame(model_fit.resid)\n",
    "#     return predictions, model_fit, residuals, y_train, y_test  \n",
    "    \n",
    "\n",
    "# predictions, fit_model, residuals, train_set, test_set = ARIMA_predict(filtered_df, best_col)\n",
    "\n",
    "# residuals.rename(columns = {0: 'residuals'}, inplace = True)"
   ]
  },
  {
   "cell_type": "code",
   "execution_count": 113,
   "id": "e7981ef1-8308-4799-abca-0372beac6f78",
   "metadata": {},
   "outputs": [
    {
     "name": "stdout",
     "output_type": "stream",
     "text": [
      "Column: MedianIncome | ADF Statistic: 4.140170176639361 | P-Value: 1.0\n",
      "(4.140170176639361, 1.0, 4, 10, {'1%': -4.331573, '5%': -3.23295, '10%': -2.7487}, 171.79709895218483) \n",
      "\n",
      "Column: diff_1 | ADF Statistic: 0.9126391187009933 | P-Value: 0.9932530731907094\n",
      "(0.9126391187009933, 0.9932530731907094, 5, 8, {'1%': -4.6651863281249994, '5%': -3.3671868750000002, '10%': -2.802960625}, 154.4976506493853) \n",
      "\n",
      "Column: diff_2 | ADF Statistic: -4.891766908288081 | P-Value: 3.6184340862273524e-05\n",
      "(-4.891766908288081, 3.6184340862273524e-05, 3, 9, {'1%': -4.473135048010974, '5%': -3.28988060356653, '10%': -2.7723823456790124}, 155.5218924050747) \n",
      "\n",
      "ARIMA(0, 0, 0) RMSE=7153.792\n"
     ]
    },
    {
     "name": "stderr",
     "output_type": "stream",
     "text": [
      "C:\\Users\\Work\\anaconda3\\lib\\site-packages\\statsmodels\\tsa\\statespace\\sarimax.py:978: UserWarning: Non-invertible starting MA parameters found. Using zeros as starting parameters.\n",
      "  warn('Non-invertible starting MA parameters found.'\n"
     ]
    },
    {
     "name": "stdout",
     "output_type": "stream",
     "text": [
      "ARIMA(0, 0, 1) RMSE=6372.322\n"
     ]
    },
    {
     "name": "stderr",
     "output_type": "stream",
     "text": [
      "C:\\Users\\Work\\anaconda3\\lib\\site-packages\\statsmodels\\tsa\\statespace\\sarimax.py:902: RuntimeWarning: Mean of empty slice.\n",
      "  params_variance = (residuals[k_params_ma:] ** 2).mean()\n",
      "C:\\Users\\Work\\anaconda3\\lib\\site-packages\\numpy\\core\\_methods.py:188: RuntimeWarning: invalid value encountered in double_scalars\n",
      "  ret = ret.dtype.type(ret / rcount)\n",
      "C:\\Users\\Work\\anaconda3\\lib\\site-packages\\statsmodels\\tsa\\statespace\\sarimax.py:978: UserWarning: Non-invertible starting MA parameters found. Using zeros as starting parameters.\n",
      "  warn('Non-invertible starting MA parameters found.'\n",
      "C:\\Users\\Work\\anaconda3\\lib\\site-packages\\statsmodels\\base\\model.py:566: ConvergenceWarning: Maximum Likelihood optimization failed to converge. Check mle_retvals\n",
      "  warnings.warn(\"Maximum Likelihood optimization failed to \"\n",
      "C:\\Users\\Work\\anaconda3\\lib\\site-packages\\statsmodels\\base\\model.py:566: ConvergenceWarning: Maximum Likelihood optimization failed to converge. Check mle_retvals\n",
      "  warnings.warn(\"Maximum Likelihood optimization failed to \"\n",
      "C:\\Users\\Work\\anaconda3\\lib\\site-packages\\statsmodels\\base\\model.py:566: ConvergenceWarning: Maximum Likelihood optimization failed to converge. Check mle_retvals\n",
      "  warnings.warn(\"Maximum Likelihood optimization failed to \"\n",
      "C:\\Users\\Work\\anaconda3\\lib\\site-packages\\statsmodels\\tsa\\statespace\\sarimax.py:978: UserWarning: Non-invertible starting MA parameters found. Using zeros as starting parameters.\n",
      "  warn('Non-invertible starting MA parameters found.'\n"
     ]
    },
    {
     "name": "stdout",
     "output_type": "stream",
     "text": [
      "Input contains NaN, infinity or a value too large for dtype('float64').\n"
     ]
    },
    {
     "name": "stderr",
     "output_type": "stream",
     "text": [
      "C:\\Users\\Work\\anaconda3\\lib\\site-packages\\statsmodels\\tsa\\statespace\\sarimax.py:978: UserWarning: Non-invertible starting MA parameters found. Using zeros as starting parameters.\n",
      "  warn('Non-invertible starting MA parameters found.'\n",
      "C:\\Users\\Work\\anaconda3\\lib\\site-packages\\statsmodels\\base\\model.py:566: ConvergenceWarning: Maximum Likelihood optimization failed to converge. Check mle_retvals\n",
      "  warnings.warn(\"Maximum Likelihood optimization failed to \"\n",
      "C:\\Users\\Work\\anaconda3\\lib\\site-packages\\statsmodels\\tsa\\statespace\\sarimax.py:902: RuntimeWarning: Mean of empty slice.\n",
      "  params_variance = (residuals[k_params_ma:] ** 2).mean()\n",
      "C:\\Users\\Work\\anaconda3\\lib\\site-packages\\numpy\\core\\_methods.py:188: RuntimeWarning: invalid value encountered in double_scalars\n",
      "  ret = ret.dtype.type(ret / rcount)\n",
      "C:\\Users\\Work\\anaconda3\\lib\\site-packages\\statsmodels\\base\\model.py:566: ConvergenceWarning: Maximum Likelihood optimization failed to converge. Check mle_retvals\n",
      "  warnings.warn(\"Maximum Likelihood optimization failed to \"\n"
     ]
    },
    {
     "name": "stdout",
     "output_type": "stream",
     "text": [
      "Input contains NaN, infinity or a value too large for dtype('float64').\n"
     ]
    },
    {
     "name": "stderr",
     "output_type": "stream",
     "text": [
      "C:\\Users\\Work\\anaconda3\\lib\\site-packages\\statsmodels\\tsa\\statespace\\sarimax.py:978: UserWarning: Non-invertible starting MA parameters found. Using zeros as starting parameters.\n",
      "  warn('Non-invertible starting MA parameters found.'\n",
      "C:\\Users\\Work\\anaconda3\\lib\\site-packages\\statsmodels\\tsa\\statespace\\sarimax.py:866: UserWarning: Too few observations to estimate starting parameters for ARMA and trend. All parameters except for variances will be set to zeros.\n",
      "  warn('Too few observations to estimate starting parameters%s.'\n",
      "C:\\Users\\Work\\anaconda3\\lib\\site-packages\\statsmodels\\tsa\\statespace\\sarimax.py:978: UserWarning: Non-invertible starting MA parameters found. Using zeros as starting parameters.\n",
      "  warn('Non-invertible starting MA parameters found.'\n",
      "C:\\Users\\Work\\anaconda3\\lib\\site-packages\\statsmodels\\tsa\\statespace\\sarimax.py:902: RuntimeWarning: Mean of empty slice.\n",
      "  params_variance = (residuals[k_params_ma:] ** 2).mean()\n",
      "C:\\Users\\Work\\anaconda3\\lib\\site-packages\\numpy\\core\\_methods.py:188: RuntimeWarning: invalid value encountered in double_scalars\n",
      "  ret = ret.dtype.type(ret / rcount)\n",
      "C:\\Users\\Work\\anaconda3\\lib\\site-packages\\statsmodels\\base\\model.py:566: ConvergenceWarning: Maximum Likelihood optimization failed to converge. Check mle_retvals\n",
      "  warnings.warn(\"Maximum Likelihood optimization failed to \"\n"
     ]
    },
    {
     "name": "stdout",
     "output_type": "stream",
     "text": [
      "Input contains NaN, infinity or a value too large for dtype('float64').\n"
     ]
    },
    {
     "name": "stderr",
     "output_type": "stream",
     "text": [
      "C:\\Users\\Work\\anaconda3\\lib\\site-packages\\statsmodels\\tsa\\statespace\\sarimax.py:978: UserWarning: Non-invertible starting MA parameters found. Using zeros as starting parameters.\n",
      "  warn('Non-invertible starting MA parameters found.'\n",
      "C:\\Users\\Work\\anaconda3\\lib\\site-packages\\statsmodels\\base\\model.py:566: ConvergenceWarning: Maximum Likelihood optimization failed to converge. Check mle_retvals\n",
      "  warnings.warn(\"Maximum Likelihood optimization failed to \"\n",
      "C:\\Users\\Work\\anaconda3\\lib\\site-packages\\statsmodels\\base\\model.py:566: ConvergenceWarning: Maximum Likelihood optimization failed to converge. Check mle_retvals\n",
      "  warnings.warn(\"Maximum Likelihood optimization failed to \"\n",
      "C:\\Users\\Work\\anaconda3\\lib\\site-packages\\statsmodels\\base\\model.py:566: ConvergenceWarning: Maximum Likelihood optimization failed to converge. Check mle_retvals\n",
      "  warnings.warn(\"Maximum Likelihood optimization failed to \"\n",
      "C:\\Users\\Work\\anaconda3\\lib\\site-packages\\statsmodels\\tsa\\statespace\\sarimax.py:902: RuntimeWarning: Mean of empty slice.\n",
      "  params_variance = (residuals[k_params_ma:] ** 2).mean()\n",
      "C:\\Users\\Work\\anaconda3\\lib\\site-packages\\numpy\\core\\_methods.py:188: RuntimeWarning: invalid value encountered in double_scalars\n",
      "  ret = ret.dtype.type(ret / rcount)\n",
      "C:\\Users\\Work\\anaconda3\\lib\\site-packages\\statsmodels\\tsa\\statespace\\sarimax.py:978: UserWarning: Non-invertible starting MA parameters found. Using zeros as starting parameters.\n",
      "  warn('Non-invertible starting MA parameters found.'\n",
      "C:\\Users\\Work\\anaconda3\\lib\\site-packages\\statsmodels\\tsa\\statespace\\sarimax.py:978: UserWarning: Non-invertible starting MA parameters found. Using zeros as starting parameters.\n",
      "  warn('Non-invertible starting MA parameters found.'\n"
     ]
    },
    {
     "name": "stdout",
     "output_type": "stream",
     "text": [
      "Schur decomposition solver error.\n"
     ]
    },
    {
     "name": "stderr",
     "output_type": "stream",
     "text": [
      "C:\\Users\\Work\\anaconda3\\lib\\site-packages\\statsmodels\\tsa\\statespace\\sarimax.py:966: UserWarning: Non-stationary starting autoregressive parameters found. Using zeros as starting parameters.\n",
      "  warn('Non-stationary starting autoregressive parameters'\n",
      "C:\\Users\\Work\\anaconda3\\lib\\site-packages\\statsmodels\\base\\model.py:566: ConvergenceWarning: Maximum Likelihood optimization failed to converge. Check mle_retvals\n",
      "  warnings.warn(\"Maximum Likelihood optimization failed to \"\n",
      "C:\\Users\\Work\\anaconda3\\lib\\site-packages\\statsmodels\\tsa\\statespace\\sarimax.py:902: RuntimeWarning: Mean of empty slice.\n",
      "  params_variance = (residuals[k_params_ma:] ** 2).mean()\n",
      "C:\\Users\\Work\\anaconda3\\lib\\site-packages\\numpy\\core\\_methods.py:188: RuntimeWarning: invalid value encountered in double_scalars\n",
      "  ret = ret.dtype.type(ret / rcount)\n",
      "C:\\Users\\Work\\anaconda3\\lib\\site-packages\\statsmodels\\tsa\\statespace\\sarimax.py:978: UserWarning: Non-invertible starting MA parameters found. Using zeros as starting parameters.\n",
      "  warn('Non-invertible starting MA parameters found.'\n"
     ]
    },
    {
     "name": "stdout",
     "output_type": "stream",
     "text": [
      "Schur decomposition solver error.\n"
     ]
    },
    {
     "name": "stderr",
     "output_type": "stream",
     "text": [
      "C:\\Users\\Work\\anaconda3\\lib\\site-packages\\statsmodels\\tsa\\statespace\\sarimax.py:978: UserWarning: Non-invertible starting MA parameters found. Using zeros as starting parameters.\n",
      "  warn('Non-invertible starting MA parameters found.'\n",
      "C:\\Users\\Work\\anaconda3\\lib\\site-packages\\statsmodels\\tsa\\statespace\\sarimax.py:866: UserWarning: Too few observations to estimate starting parameters for ARMA and trend. All parameters except for variances will be set to zeros.\n",
      "  warn('Too few observations to estimate starting parameters%s.'\n",
      "C:\\Users\\Work\\anaconda3\\lib\\site-packages\\statsmodels\\base\\model.py:566: ConvergenceWarning: Maximum Likelihood optimization failed to converge. Check mle_retvals\n",
      "  warnings.warn(\"Maximum Likelihood optimization failed to \"\n",
      "C:\\Users\\Work\\anaconda3\\lib\\site-packages\\statsmodels\\tsa\\statespace\\sarimax.py:902: RuntimeWarning: Mean of empty slice.\n",
      "  params_variance = (residuals[k_params_ma:] ** 2).mean()\n",
      "C:\\Users\\Work\\anaconda3\\lib\\site-packages\\numpy\\core\\_methods.py:188: RuntimeWarning: invalid value encountered in double_scalars\n",
      "  ret = ret.dtype.type(ret / rcount)\n"
     ]
    },
    {
     "name": "stdout",
     "output_type": "stream",
     "text": [
      "Schur decomposition solver error.\n",
      "ARIMA(2, 0, 0) RMSE=6067.546\n"
     ]
    },
    {
     "name": "stderr",
     "output_type": "stream",
     "text": [
      "C:\\Users\\Work\\anaconda3\\lib\\site-packages\\statsmodels\\tsa\\statespace\\sarimax.py:978: UserWarning: Non-invertible starting MA parameters found. Using zeros as starting parameters.\n",
      "  warn('Non-invertible starting MA parameters found.'\n",
      "C:\\Users\\Work\\anaconda3\\lib\\site-packages\\statsmodels\\base\\model.py:566: ConvergenceWarning: Maximum Likelihood optimization failed to converge. Check mle_retvals\n",
      "  warnings.warn(\"Maximum Likelihood optimization failed to \"\n",
      "C:\\Users\\Work\\anaconda3\\lib\\site-packages\\statsmodels\\base\\model.py:566: ConvergenceWarning: Maximum Likelihood optimization failed to converge. Check mle_retvals\n",
      "  warnings.warn(\"Maximum Likelihood optimization failed to \"\n",
      "C:\\Users\\Work\\anaconda3\\lib\\site-packages\\statsmodels\\tsa\\statespace\\sarimax.py:902: RuntimeWarning: Mean of empty slice.\n",
      "  params_variance = (residuals[k_params_ma:] ** 2).mean()\n",
      "C:\\Users\\Work\\anaconda3\\lib\\site-packages\\numpy\\core\\_methods.py:188: RuntimeWarning: invalid value encountered in double_scalars\n",
      "  ret = ret.dtype.type(ret / rcount)\n",
      "C:\\Users\\Work\\anaconda3\\lib\\site-packages\\statsmodels\\tsa\\statespace\\sarimax.py:966: UserWarning: Non-stationary starting autoregressive parameters found. Using zeros as starting parameters.\n",
      "  warn('Non-stationary starting autoregressive parameters'\n"
     ]
    },
    {
     "name": "stdout",
     "output_type": "stream",
     "text": [
      "ARIMA(2, 0, 1) RMSE=5446.652\n",
      "Schur decomposition solver error.\n"
     ]
    },
    {
     "name": "stderr",
     "output_type": "stream",
     "text": [
      "C:\\Users\\Work\\anaconda3\\lib\\site-packages\\statsmodels\\tsa\\statespace\\sarimax.py:978: UserWarning: Non-invertible starting MA parameters found. Using zeros as starting parameters.\n",
      "  warn('Non-invertible starting MA parameters found.'\n",
      "C:\\Users\\Work\\anaconda3\\lib\\site-packages\\statsmodels\\tsa\\statespace\\sarimax.py:966: UserWarning: Non-stationary starting autoregressive parameters found. Using zeros as starting parameters.\n",
      "  warn('Non-stationary starting autoregressive parameters'\n",
      "C:\\Users\\Work\\anaconda3\\lib\\site-packages\\statsmodels\\base\\model.py:566: ConvergenceWarning: Maximum Likelihood optimization failed to converge. Check mle_retvals\n",
      "  warnings.warn(\"Maximum Likelihood optimization failed to \"\n",
      "C:\\Users\\Work\\anaconda3\\lib\\site-packages\\statsmodels\\tsa\\statespace\\sarimax.py:902: RuntimeWarning: Mean of empty slice.\n",
      "  params_variance = (residuals[k_params_ma:] ** 2).mean()\n",
      "C:\\Users\\Work\\anaconda3\\lib\\site-packages\\numpy\\core\\_methods.py:188: RuntimeWarning: invalid value encountered in double_scalars\n",
      "  ret = ret.dtype.type(ret / rcount)\n"
     ]
    },
    {
     "name": "stdout",
     "output_type": "stream",
     "text": [
      "Schur decomposition solver error.\n"
     ]
    },
    {
     "name": "stderr",
     "output_type": "stream",
     "text": [
      "C:\\Users\\Work\\anaconda3\\lib\\site-packages\\statsmodels\\tsa\\statespace\\sarimax.py:966: UserWarning: Non-stationary starting autoregressive parameters found. Using zeros as starting parameters.\n",
      "  warn('Non-stationary starting autoregressive parameters'\n",
      "C:\\Users\\Work\\anaconda3\\lib\\site-packages\\statsmodels\\tsa\\statespace\\sarimax.py:978: UserWarning: Non-invertible starting MA parameters found. Using zeros as starting parameters.\n",
      "  warn('Non-invertible starting MA parameters found.'\n",
      "C:\\Users\\Work\\anaconda3\\lib\\site-packages\\statsmodels\\tsa\\statespace\\sarimax.py:866: UserWarning: Too few observations to estimate starting parameters for ARMA and trend. All parameters except for variances will be set to zeros.\n",
      "  warn('Too few observations to estimate starting parameters%s.'\n",
      "C:\\Users\\Work\\anaconda3\\lib\\site-packages\\statsmodels\\tsa\\statespace\\sarimax.py:902: RuntimeWarning: Mean of empty slice.\n",
      "  params_variance = (residuals[k_params_ma:] ** 2).mean()\n",
      "C:\\Users\\Work\\anaconda3\\lib\\site-packages\\numpy\\core\\_methods.py:188: RuntimeWarning: invalid value encountered in double_scalars\n",
      "  ret = ret.dtype.type(ret / rcount)\n",
      "C:\\Users\\Work\\anaconda3\\lib\\site-packages\\statsmodels\\tsa\\statespace\\sarimax.py:966: UserWarning: Non-stationary starting autoregressive parameters found. Using zeros as starting parameters.\n",
      "  warn('Non-stationary starting autoregressive parameters'\n"
     ]
    },
    {
     "name": "stdout",
     "output_type": "stream",
     "text": [
      "Schur decomposition solver error.\n"
     ]
    },
    {
     "name": "stderr",
     "output_type": "stream",
     "text": [
      "C:\\Users\\Work\\anaconda3\\lib\\site-packages\\statsmodels\\base\\model.py:566: ConvergenceWarning: Maximum Likelihood optimization failed to converge. Check mle_retvals\n",
      "  warnings.warn(\"Maximum Likelihood optimization failed to \"\n"
     ]
    },
    {
     "name": "stdout",
     "output_type": "stream",
     "text": [
      "ARIMA(3, 0, 0) RMSE=4214.180\n"
     ]
    },
    {
     "name": "stderr",
     "output_type": "stream",
     "text": [
      "C:\\Users\\Work\\anaconda3\\lib\\site-packages\\statsmodels\\base\\model.py:566: ConvergenceWarning: Maximum Likelihood optimization failed to converge. Check mle_retvals\n",
      "  warnings.warn(\"Maximum Likelihood optimization failed to \"\n",
      "C:\\Users\\Work\\anaconda3\\lib\\site-packages\\statsmodels\\base\\model.py:566: ConvergenceWarning: Maximum Likelihood optimization failed to converge. Check mle_retvals\n",
      "  warnings.warn(\"Maximum Likelihood optimization failed to \"\n",
      "C:\\Users\\Work\\anaconda3\\lib\\site-packages\\statsmodels\\base\\model.py:566: ConvergenceWarning: Maximum Likelihood optimization failed to converge. Check mle_retvals\n",
      "  warnings.warn(\"Maximum Likelihood optimization failed to \"\n",
      "C:\\Users\\Work\\anaconda3\\lib\\site-packages\\statsmodels\\base\\model.py:566: ConvergenceWarning: Maximum Likelihood optimization failed to converge. Check mle_retvals\n",
      "  warnings.warn(\"Maximum Likelihood optimization failed to \"\n",
      "C:\\Users\\Work\\anaconda3\\lib\\site-packages\\statsmodels\\tsa\\statespace\\sarimax.py:902: RuntimeWarning: Mean of empty slice.\n",
      "  params_variance = (residuals[k_params_ma:] ** 2).mean()\n",
      "C:\\Users\\Work\\anaconda3\\lib\\site-packages\\numpy\\core\\_methods.py:188: RuntimeWarning: invalid value encountered in double_scalars\n",
      "  ret = ret.dtype.type(ret / rcount)\n",
      "C:\\Users\\Work\\anaconda3\\lib\\site-packages\\statsmodels\\tsa\\statespace\\sarimax.py:966: UserWarning: Non-stationary starting autoregressive parameters found. Using zeros as starting parameters.\n",
      "  warn('Non-stationary starting autoregressive parameters'\n"
     ]
    },
    {
     "name": "stdout",
     "output_type": "stream",
     "text": [
      "Schur decomposition solver error.\n"
     ]
    },
    {
     "name": "stderr",
     "output_type": "stream",
     "text": [
      "C:\\Users\\Work\\anaconda3\\lib\\site-packages\\statsmodels\\tsa\\statespace\\sarimax.py:978: UserWarning: Non-invertible starting MA parameters found. Using zeros as starting parameters.\n",
      "  warn('Non-invertible starting MA parameters found.'\n",
      "C:\\Users\\Work\\anaconda3\\lib\\site-packages\\statsmodels\\tsa\\statespace\\sarimax.py:966: UserWarning: Non-stationary starting autoregressive parameters found. Using zeros as starting parameters.\n",
      "  warn('Non-stationary starting autoregressive parameters'\n",
      "C:\\Users\\Work\\anaconda3\\lib\\site-packages\\statsmodels\\base\\model.py:566: ConvergenceWarning: Maximum Likelihood optimization failed to converge. Check mle_retvals\n",
      "  warnings.warn(\"Maximum Likelihood optimization failed to \"\n",
      "C:\\Users\\Work\\anaconda3\\lib\\site-packages\\statsmodels\\tsa\\statespace\\sarimax.py:902: RuntimeWarning: Mean of empty slice.\n",
      "  params_variance = (residuals[k_params_ma:] ** 2).mean()\n",
      "C:\\Users\\Work\\anaconda3\\lib\\site-packages\\numpy\\core\\_methods.py:188: RuntimeWarning: invalid value encountered in double_scalars\n",
      "  ret = ret.dtype.type(ret / rcount)\n"
     ]
    },
    {
     "name": "stdout",
     "output_type": "stream",
     "text": [
      "Schur decomposition solver error.\n"
     ]
    },
    {
     "name": "stderr",
     "output_type": "stream",
     "text": [
      "C:\\Users\\Work\\anaconda3\\lib\\site-packages\\statsmodels\\tsa\\statespace\\sarimax.py:966: UserWarning: Non-stationary starting autoregressive parameters found. Using zeros as starting parameters.\n",
      "  warn('Non-stationary starting autoregressive parameters'\n",
      "C:\\Users\\Work\\anaconda3\\lib\\site-packages\\statsmodels\\tsa\\statespace\\sarimax.py:978: UserWarning: Non-invertible starting MA parameters found. Using zeros as starting parameters.\n",
      "  warn('Non-invertible starting MA parameters found.'\n",
      "C:\\Users\\Work\\anaconda3\\lib\\site-packages\\statsmodels\\base\\model.py:566: ConvergenceWarning: Maximum Likelihood optimization failed to converge. Check mle_retvals\n",
      "  warnings.warn(\"Maximum Likelihood optimization failed to \"\n",
      "C:\\Users\\Work\\anaconda3\\lib\\site-packages\\statsmodels\\base\\model.py:566: ConvergenceWarning: Maximum Likelihood optimization failed to converge. Check mle_retvals\n",
      "  warnings.warn(\"Maximum Likelihood optimization failed to \"\n",
      "C:\\Users\\Work\\anaconda3\\lib\\site-packages\\statsmodels\\tsa\\statespace\\sarimax.py:866: UserWarning: Too few observations to estimate starting parameters for ARMA and trend. All parameters except for variances will be set to zeros.\n",
      "  warn('Too few observations to estimate starting parameters%s.'\n",
      "C:\\Users\\Work\\anaconda3\\lib\\site-packages\\statsmodels\\base\\model.py:566: ConvergenceWarning: Maximum Likelihood optimization failed to converge. Check mle_retvals\n",
      "  warnings.warn(\"Maximum Likelihood optimization failed to \"\n",
      "C:\\Users\\Work\\anaconda3\\lib\\site-packages\\statsmodels\\tsa\\statespace\\sarimax.py:902: RuntimeWarning: Mean of empty slice.\n",
      "  params_variance = (residuals[k_params_ma:] ** 2).mean()\n",
      "C:\\Users\\Work\\anaconda3\\lib\\site-packages\\numpy\\core\\_methods.py:188: RuntimeWarning: invalid value encountered in double_scalars\n",
      "  ret = ret.dtype.type(ret / rcount)\n",
      "C:\\Users\\Work\\anaconda3\\lib\\site-packages\\statsmodels\\tsa\\statespace\\sarimax.py:966: UserWarning: Non-stationary starting autoregressive parameters found. Using zeros as starting parameters.\n",
      "  warn('Non-stationary starting autoregressive parameters'\n"
     ]
    },
    {
     "name": "stdout",
     "output_type": "stream",
     "text": [
      "Schur decomposition solver error.\n"
     ]
    },
    {
     "name": "stderr",
     "output_type": "stream",
     "text": [
      "C:\\Users\\Work\\anaconda3\\lib\\site-packages\\statsmodels\\base\\model.py:566: ConvergenceWarning: Maximum Likelihood optimization failed to converge. Check mle_retvals\n",
      "  warnings.warn(\"Maximum Likelihood optimization failed to \"\n",
      "C:\\Users\\Work\\anaconda3\\lib\\site-packages\\statsmodels\\tsa\\statespace\\sarimax.py:966: UserWarning: Non-stationary starting autoregressive parameters found. Using zeros as starting parameters.\n",
      "  warn('Non-stationary starting autoregressive parameters'\n",
      "C:\\Users\\Work\\anaconda3\\lib\\site-packages\\statsmodels\\tsa\\statespace\\sarimax.py:978: UserWarning: Non-invertible starting MA parameters found. Using zeros as starting parameters.\n",
      "  warn('Non-invertible starting MA parameters found.'\n",
      "C:\\Users\\Work\\anaconda3\\lib\\site-packages\\statsmodels\\base\\model.py:566: ConvergenceWarning: Maximum Likelihood optimization failed to converge. Check mle_retvals\n",
      "  warnings.warn(\"Maximum Likelihood optimization failed to \"\n",
      "C:\\Users\\Work\\anaconda3\\lib\\site-packages\\statsmodels\\base\\model.py:566: ConvergenceWarning: Maximum Likelihood optimization failed to converge. Check mle_retvals\n",
      "  warnings.warn(\"Maximum Likelihood optimization failed to \"\n",
      "C:\\Users\\Work\\anaconda3\\lib\\site-packages\\statsmodels\\base\\model.py:566: ConvergenceWarning: Maximum Likelihood optimization failed to converge. Check mle_retvals\n",
      "  warnings.warn(\"Maximum Likelihood optimization failed to \"\n",
      "C:\\Users\\Work\\anaconda3\\lib\\site-packages\\statsmodels\\base\\model.py:566: ConvergenceWarning: Maximum Likelihood optimization failed to converge. Check mle_retvals\n",
      "  warnings.warn(\"Maximum Likelihood optimization failed to \"\n",
      "C:\\Users\\Work\\anaconda3\\lib\\site-packages\\statsmodels\\tsa\\statespace\\sarimax.py:902: RuntimeWarning: Mean of empty slice.\n",
      "  params_variance = (residuals[k_params_ma:] ** 2).mean()\n",
      "C:\\Users\\Work\\anaconda3\\lib\\site-packages\\numpy\\core\\_methods.py:188: RuntimeWarning: invalid value encountered in double_scalars\n",
      "  ret = ret.dtype.type(ret / rcount)\n",
      "C:\\Users\\Work\\anaconda3\\lib\\site-packages\\statsmodels\\tsa\\statespace\\sarimax.py:966: UserWarning: Non-stationary starting autoregressive parameters found. Using zeros as starting parameters.\n",
      "  warn('Non-stationary starting autoregressive parameters'\n"
     ]
    },
    {
     "name": "stdout",
     "output_type": "stream",
     "text": [
      "Schur decomposition solver error.\n",
      "LU decomposition error.\n"
     ]
    },
    {
     "name": "stderr",
     "output_type": "stream",
     "text": [
      "C:\\Users\\Work\\anaconda3\\lib\\site-packages\\statsmodels\\tsa\\statespace\\sarimax.py:978: UserWarning: Non-invertible starting MA parameters found. Using zeros as starting parameters.\n",
      "  warn('Non-invertible starting MA parameters found.'\n"
     ]
    },
    {
     "name": "stdout",
     "output_type": "stream",
     "text": [
      "LU decomposition error.\n",
      "Schur decomposition solver error.\n"
     ]
    },
    {
     "name": "stderr",
     "output_type": "stream",
     "text": [
      "C:\\Users\\Work\\anaconda3\\lib\\site-packages\\statsmodels\\base\\model.py:566: ConvergenceWarning: Maximum Likelihood optimization failed to converge. Check mle_retvals\n",
      "  warnings.warn(\"Maximum Likelihood optimization failed to \"\n",
      "C:\\Users\\Work\\anaconda3\\lib\\site-packages\\statsmodels\\base\\model.py:566: ConvergenceWarning: Maximum Likelihood optimization failed to converge. Check mle_retvals\n",
      "  warnings.warn(\"Maximum Likelihood optimization failed to \"\n",
      "C:\\Users\\Work\\anaconda3\\lib\\site-packages\\statsmodels\\base\\model.py:566: ConvergenceWarning: Maximum Likelihood optimization failed to converge. Check mle_retvals\n",
      "  warnings.warn(\"Maximum Likelihood optimization failed to \"\n",
      "C:\\Users\\Work\\anaconda3\\lib\\site-packages\\statsmodels\\base\\model.py:566: ConvergenceWarning: Maximum Likelihood optimization failed to converge. Check mle_retvals\n",
      "  warnings.warn(\"Maximum Likelihood optimization failed to \"\n",
      "C:\\Users\\Work\\anaconda3\\lib\\site-packages\\statsmodels\\tsa\\statespace\\sarimax.py:966: UserWarning: Non-stationary starting autoregressive parameters found. Using zeros as starting parameters.\n",
      "  warn('Non-stationary starting autoregressive parameters'\n",
      "C:\\Users\\Work\\anaconda3\\lib\\site-packages\\statsmodels\\tsa\\statespace\\sarimax.py:978: UserWarning: Non-invertible starting MA parameters found. Using zeros as starting parameters.\n",
      "  warn('Non-invertible starting MA parameters found.'\n",
      "C:\\Users\\Work\\anaconda3\\lib\\site-packages\\statsmodels\\base\\model.py:566: ConvergenceWarning: Maximum Likelihood optimization failed to converge. Check mle_retvals\n",
      "  warnings.warn(\"Maximum Likelihood optimization failed to \"\n",
      "C:\\Users\\Work\\anaconda3\\lib\\site-packages\\statsmodels\\tsa\\statespace\\sarimax.py:866: UserWarning: Too few observations to estimate starting parameters for ARMA and trend. All parameters except for variances will be set to zeros.\n",
      "  warn('Too few observations to estimate starting parameters%s.'\n",
      "C:\\Users\\Work\\anaconda3\\lib\\site-packages\\statsmodels\\base\\model.py:566: ConvergenceWarning: Maximum Likelihood optimization failed to converge. Check mle_retvals\n",
      "  warnings.warn(\"Maximum Likelihood optimization failed to \"\n",
      "C:\\Users\\Work\\anaconda3\\lib\\site-packages\\statsmodels\\tsa\\statespace\\sarimax.py:902: RuntimeWarning: Mean of empty slice.\n",
      "  params_variance = (residuals[k_params_ma:] ** 2).mean()\n",
      "C:\\Users\\Work\\anaconda3\\lib\\site-packages\\numpy\\core\\_methods.py:188: RuntimeWarning: invalid value encountered in double_scalars\n",
      "  ret = ret.dtype.type(ret / rcount)\n",
      "C:\\Users\\Work\\anaconda3\\lib\\site-packages\\statsmodels\\tsa\\statespace\\sarimax.py:966: UserWarning: Non-stationary starting autoregressive parameters found. Using zeros as starting parameters.\n",
      "  warn('Non-stationary starting autoregressive parameters'\n"
     ]
    },
    {
     "name": "stdout",
     "output_type": "stream",
     "text": [
      "Schur decomposition solver error.\n"
     ]
    },
    {
     "name": "stderr",
     "output_type": "stream",
     "text": [
      "C:\\Users\\Work\\anaconda3\\lib\\site-packages\\statsmodels\\base\\model.py:566: ConvergenceWarning: Maximum Likelihood optimization failed to converge. Check mle_retvals\n",
      "  warnings.warn(\"Maximum Likelihood optimization failed to \"\n",
      "C:\\Users\\Work\\anaconda3\\lib\\site-packages\\statsmodels\\base\\model.py:566: ConvergenceWarning: Maximum Likelihood optimization failed to converge. Check mle_retvals\n",
      "  warnings.warn(\"Maximum Likelihood optimization failed to \"\n",
      "C:\\Users\\Work\\anaconda3\\lib\\site-packages\\statsmodels\\base\\model.py:566: ConvergenceWarning: Maximum Likelihood optimization failed to converge. Check mle_retvals\n",
      "  warnings.warn(\"Maximum Likelihood optimization failed to \"\n",
      "C:\\Users\\Work\\anaconda3\\lib\\site-packages\\statsmodels\\base\\model.py:566: ConvergenceWarning: Maximum Likelihood optimization failed to converge. Check mle_retvals\n",
      "  warnings.warn(\"Maximum Likelihood optimization failed to \"\n",
      "C:\\Users\\Work\\anaconda3\\lib\\site-packages\\statsmodels\\base\\model.py:566: ConvergenceWarning: Maximum Likelihood optimization failed to converge. Check mle_retvals\n",
      "  warnings.warn(\"Maximum Likelihood optimization failed to \"\n",
      "C:\\Users\\Work\\anaconda3\\lib\\site-packages\\statsmodels\\base\\model.py:566: ConvergenceWarning: Maximum Likelihood optimization failed to converge. Check mle_retvals\n",
      "  warnings.warn(\"Maximum Likelihood optimization failed to \"\n",
      "C:\\Users\\Work\\anaconda3\\lib\\site-packages\\statsmodels\\tsa\\statespace\\sarimax.py:966: UserWarning: Non-stationary starting autoregressive parameters found. Using zeros as starting parameters.\n",
      "  warn('Non-stationary starting autoregressive parameters'\n",
      "C:\\Users\\Work\\anaconda3\\lib\\site-packages\\statsmodels\\base\\model.py:566: ConvergenceWarning: Maximum Likelihood optimization failed to converge. Check mle_retvals\n",
      "  warnings.warn(\"Maximum Likelihood optimization failed to \"\n",
      "C:\\Users\\Work\\anaconda3\\lib\\site-packages\\statsmodels\\base\\model.py:566: ConvergenceWarning: Maximum Likelihood optimization failed to converge. Check mle_retvals\n",
      "  warnings.warn(\"Maximum Likelihood optimization failed to \"\n",
      "C:\\Users\\Work\\anaconda3\\lib\\site-packages\\statsmodels\\base\\model.py:566: ConvergenceWarning: Maximum Likelihood optimization failed to converge. Check mle_retvals\n",
      "  warnings.warn(\"Maximum Likelihood optimization failed to \"\n",
      "C:\\Users\\Work\\anaconda3\\lib\\site-packages\\statsmodels\\base\\model.py:566: ConvergenceWarning: Maximum Likelihood optimization failed to converge. Check mle_retvals\n",
      "  warnings.warn(\"Maximum Likelihood optimization failed to \"\n",
      "C:\\Users\\Work\\anaconda3\\lib\\site-packages\\statsmodels\\tsa\\statespace\\sarimax.py:902: RuntimeWarning: Mean of empty slice.\n",
      "  params_variance = (residuals[k_params_ma:] ** 2).mean()\n",
      "C:\\Users\\Work\\anaconda3\\lib\\site-packages\\numpy\\core\\_methods.py:188: RuntimeWarning: invalid value encountered in double_scalars\n",
      "  ret = ret.dtype.type(ret / rcount)\n",
      "C:\\Users\\Work\\anaconda3\\lib\\site-packages\\statsmodels\\tsa\\statespace\\sarimax.py:966: UserWarning: Non-stationary starting autoregressive parameters found. Using zeros as starting parameters.\n",
      "  warn('Non-stationary starting autoregressive parameters'\n"
     ]
    },
    {
     "name": "stdout",
     "output_type": "stream",
     "text": [
      "Schur decomposition solver error.\n",
      "LU decomposition error.\n"
     ]
    },
    {
     "name": "stderr",
     "output_type": "stream",
     "text": [
      "C:\\Users\\Work\\anaconda3\\lib\\site-packages\\statsmodels\\base\\model.py:566: ConvergenceWarning: Maximum Likelihood optimization failed to converge. Check mle_retvals\n",
      "  warnings.warn(\"Maximum Likelihood optimization failed to \"\n",
      "C:\\Users\\Work\\anaconda3\\lib\\site-packages\\statsmodels\\base\\model.py:566: ConvergenceWarning: Maximum Likelihood optimization failed to converge. Check mle_retvals\n",
      "  warnings.warn(\"Maximum Likelihood optimization failed to \"\n",
      "C:\\Users\\Work\\anaconda3\\lib\\site-packages\\statsmodels\\base\\model.py:566: ConvergenceWarning: Maximum Likelihood optimization failed to converge. Check mle_retvals\n",
      "  warnings.warn(\"Maximum Likelihood optimization failed to \"\n",
      "C:\\Users\\Work\\anaconda3\\lib\\site-packages\\statsmodels\\tsa\\statespace\\sarimax.py:978: UserWarning: Non-invertible starting MA parameters found. Using zeros as starting parameters.\n",
      "  warn('Non-invertible starting MA parameters found.'\n",
      "C:\\Users\\Work\\anaconda3\\lib\\site-packages\\statsmodels\\base\\model.py:566: ConvergenceWarning: Maximum Likelihood optimization failed to converge. Check mle_retvals\n",
      "  warnings.warn(\"Maximum Likelihood optimization failed to \"\n",
      "C:\\Users\\Work\\anaconda3\\lib\\site-packages\\statsmodels\\base\\model.py:566: ConvergenceWarning: Maximum Likelihood optimization failed to converge. Check mle_retvals\n",
      "  warnings.warn(\"Maximum Likelihood optimization failed to \"\n",
      "C:\\Users\\Work\\anaconda3\\lib\\site-packages\\statsmodels\\tsa\\statespace\\sarimax.py:902: RuntimeWarning: Mean of empty slice.\n",
      "  params_variance = (residuals[k_params_ma:] ** 2).mean()\n",
      "C:\\Users\\Work\\anaconda3\\lib\\site-packages\\numpy\\core\\_methods.py:188: RuntimeWarning: invalid value encountered in double_scalars\n",
      "  ret = ret.dtype.type(ret / rcount)\n"
     ]
    },
    {
     "name": "stdout",
     "output_type": "stream",
     "text": [
      "Schur decomposition solver error.\n"
     ]
    },
    {
     "name": "stderr",
     "output_type": "stream",
     "text": [
      "C:\\Users\\Work\\anaconda3\\lib\\site-packages\\statsmodels\\base\\model.py:566: ConvergenceWarning: Maximum Likelihood optimization failed to converge. Check mle_retvals\n",
      "  warnings.warn(\"Maximum Likelihood optimization failed to \"\n",
      "C:\\Users\\Work\\anaconda3\\lib\\site-packages\\statsmodels\\tsa\\statespace\\sarimax.py:966: UserWarning: Non-stationary starting autoregressive parameters found. Using zeros as starting parameters.\n",
      "  warn('Non-stationary starting autoregressive parameters'\n"
     ]
    },
    {
     "name": "stdout",
     "output_type": "stream",
     "text": [
      "LU decomposition error.\n"
     ]
    },
    {
     "name": "stderr",
     "output_type": "stream",
     "text": [
      "C:\\Users\\Work\\anaconda3\\lib\\site-packages\\statsmodels\\base\\model.py:566: ConvergenceWarning: Maximum Likelihood optimization failed to converge. Check mle_retvals\n",
      "  warnings.warn(\"Maximum Likelihood optimization failed to \"\n"
     ]
    },
    {
     "name": "stdout",
     "output_type": "stream",
     "text": [
      "LU decomposition error.\n"
     ]
    },
    {
     "name": "stderr",
     "output_type": "stream",
     "text": [
      "C:\\Users\\Work\\anaconda3\\lib\\site-packages\\statsmodels\\tsa\\statespace\\sarimax.py:866: UserWarning: Too few observations to estimate starting parameters for ARMA and trend. All parameters except for variances will be set to zeros.\n",
      "  warn('Too few observations to estimate starting parameters%s.'\n"
     ]
    },
    {
     "name": "stdout",
     "output_type": "stream",
     "text": [
      "Schur decomposition solver error.\n"
     ]
    },
    {
     "name": "stderr",
     "output_type": "stream",
     "text": [
      "C:\\Users\\Work\\anaconda3\\lib\\site-packages\\statsmodels\\base\\model.py:566: ConvergenceWarning: Maximum Likelihood optimization failed to converge. Check mle_retvals\n",
      "  warnings.warn(\"Maximum Likelihood optimization failed to \"\n",
      "C:\\Users\\Work\\anaconda3\\lib\\site-packages\\statsmodels\\base\\model.py:566: ConvergenceWarning: Maximum Likelihood optimization failed to converge. Check mle_retvals\n",
      "  warnings.warn(\"Maximum Likelihood optimization failed to \"\n"
     ]
    },
    {
     "name": "stdout",
     "output_type": "stream",
     "text": [
      "LU decomposition error.\n"
     ]
    },
    {
     "name": "stderr",
     "output_type": "stream",
     "text": [
      "C:\\Users\\Work\\anaconda3\\lib\\site-packages\\statsmodels\\base\\model.py:566: ConvergenceWarning: Maximum Likelihood optimization failed to converge. Check mle_retvals\n",
      "  warnings.warn(\"Maximum Likelihood optimization failed to \"\n",
      "C:\\Users\\Work\\anaconda3\\lib\\site-packages\\statsmodels\\base\\model.py:566: ConvergenceWarning: Maximum Likelihood optimization failed to converge. Check mle_retvals\n",
      "  warnings.warn(\"Maximum Likelihood optimization failed to \"\n",
      "C:\\Users\\Work\\anaconda3\\lib\\site-packages\\statsmodels\\base\\model.py:566: ConvergenceWarning: Maximum Likelihood optimization failed to converge. Check mle_retvals\n",
      "  warnings.warn(\"Maximum Likelihood optimization failed to \"\n"
     ]
    },
    {
     "name": "stdout",
     "output_type": "stream",
     "text": [
      "LU decomposition error.\n",
      "Schur decomposition solver error.\n",
      "LU decomposition error.\n"
     ]
    },
    {
     "name": "stderr",
     "output_type": "stream",
     "text": [
      "C:\\Users\\Work\\anaconda3\\lib\\site-packages\\statsmodels\\base\\model.py:566: ConvergenceWarning: Maximum Likelihood optimization failed to converge. Check mle_retvals\n",
      "  warnings.warn(\"Maximum Likelihood optimization failed to \"\n",
      "C:\\Users\\Work\\anaconda3\\lib\\site-packages\\statsmodels\\base\\model.py:566: ConvergenceWarning: Maximum Likelihood optimization failed to converge. Check mle_retvals\n",
      "  warnings.warn(\"Maximum Likelihood optimization failed to \"\n",
      "C:\\Users\\Work\\anaconda3\\lib\\site-packages\\statsmodels\\tsa\\statespace\\sarimax.py:902: RuntimeWarning: Mean of empty slice.\n",
      "  params_variance = (residuals[k_params_ma:] ** 2).mean()\n",
      "C:\\Users\\Work\\anaconda3\\lib\\site-packages\\numpy\\core\\_methods.py:188: RuntimeWarning: invalid value encountered in double_scalars\n",
      "  ret = ret.dtype.type(ret / rcount)\n",
      "C:\\Users\\Work\\anaconda3\\lib\\site-packages\\statsmodels\\tsa\\statespace\\sarimax.py:866: UserWarning: Too few observations to estimate starting parameters for ARMA and trend. All parameters except for variances will be set to zeros.\n",
      "  warn('Too few observations to estimate starting parameters%s.'\n"
     ]
    },
    {
     "name": "stdout",
     "output_type": "stream",
     "text": [
      "Schur decomposition solver error.\n"
     ]
    },
    {
     "name": "stderr",
     "output_type": "stream",
     "text": [
      "C:\\Users\\Work\\anaconda3\\lib\\site-packages\\statsmodels\\tsa\\statespace\\sarimax.py:966: UserWarning: Non-stationary starting autoregressive parameters found. Using zeros as starting parameters.\n",
      "  warn('Non-stationary starting autoregressive parameters'\n",
      "C:\\Users\\Work\\anaconda3\\lib\\site-packages\\statsmodels\\base\\model.py:566: ConvergenceWarning: Maximum Likelihood optimization failed to converge. Check mle_retvals\n",
      "  warnings.warn(\"Maximum Likelihood optimization failed to \"\n"
     ]
    },
    {
     "name": "stdout",
     "output_type": "stream",
     "text": [
      "LU decomposition error.\n",
      "LU decomposition error.\n"
     ]
    },
    {
     "name": "stderr",
     "output_type": "stream",
     "text": [
      "C:\\Users\\Work\\anaconda3\\lib\\site-packages\\statsmodels\\base\\model.py:566: ConvergenceWarning: Maximum Likelihood optimization failed to converge. Check mle_retvals\n",
      "  warnings.warn(\"Maximum Likelihood optimization failed to \"\n"
     ]
    },
    {
     "name": "stdout",
     "output_type": "stream",
     "text": [
      "Schur decomposition solver error.\n",
      "Best ARIMA(3, 0, 0) RMSE=4214.180\n"
     ]
    }
   ],
   "source": [
    "def control_arima(master_table, target, params):\n",
    "    \"\"\" This function contains the meat of the ARIMA Method.\"\"\"\n",
    "    def ARIMA_predict(df, best_col, best_arima, num_periods):\n",
    "\n",
    "        y_train, y_test = train_test_split(df[best_col].dropna(), train_size = .75, shuffle = False)\n",
    "        model = ARIMA(y_train, order = best_arima)\n",
    "        fitted = model.fit()\n",
    "\n",
    "        predictions = fitted.forecast(num_periods, alpha=0.05)\n",
    "\n",
    "        return predictions, y_train, y_test\n",
    "    \n",
    "    # Get the filtered data\n",
    "    filtered_df = filter_data(master_table, target, params)\n",
    "    \n",
    "    # Augmented Dickey-Fuller test\n",
    "    adf_filtered_df, best_col, num_diffs = get_adf(filtered_df, target)\n",
    "    \n",
    "    # gridsearch for hyper parameters\n",
    "    best_arima = evaluate_models(\n",
    "        adf_filtered_df[best_col].dropna(),\n",
    "        [0,1,2,3,4,5,6],\n",
    "        range(0,3),\n",
    "        range(0,3)\n",
    "    )\n",
    "    \n",
    "    # Get Arima predictions\n",
    "    predictions, y_train, y_test = ARIMA_predict(\n",
    "        filtered_df, best_col, best_arima, 10\n",
    "    )\n",
    "\n",
    "    # Convert returned predictions to dataframe\n",
    "    predictions = predictions.reset_index().set_index('index')\n",
    "\n",
    "    # Convert training set to dataframe\n",
    "    train_set = y_train.reset_index().set_index('new_index')\n",
    "    train_set.rename(columns = {best_col: 'train_set'}, inplace = True)\n",
    "\n",
    "    # Convert testing set to dataframe\n",
    "    test_set = y_test.reset_index().set_index('new_index')\n",
    "    test_set.rename(columns = {best_col: 'test_set'}, inplace = True)\n",
    "\n",
    "    # Combine testing and training and predictions (model results)\n",
    "    model_result_df = pd.merge(predictions, train_set, left_index = True, right_index = True, how = 'outer')\n",
    "    model_result_df = pd.merge(model_result_df, test_set, left_index = True, right_index = True, how = 'outer')\n",
    "\n",
    "    # Combine filtered ground truth dataframe with model results\n",
    "    completed_df = pd.merge(filtered_df, model_result_df, left_index = True, right_index = True, how = 'outer')\n",
    "\n",
    "    # This will probably fail, but I don't know what to change it to yet.\n",
    "    completed_df.drop(columns = ['FIPS','AgeGroup','diff_1','diff_2'], inplace = True)\n",
    "    \n",
    "    return completed_df, num_diffs\n",
    "ready_for_undiff, num_diffs = control_arima(master_table, target, params)"
   ]
  },
  {
   "cell_type": "code",
   "execution_count": 114,
   "id": "4f2e5fc2-b27d-4499-b7bf-1b2de3c63739",
   "metadata": {},
   "outputs": [],
   "source": [
    "# UNDIFFERENCING\n",
    "#completed_df = undifference(completed_df, num_diffs)\n",
    "def finalize_results(completed_df):\n",
    "    completed_df['converted'] = completed_df['converted']#.shift(num_diffs)\n",
    "\n",
    "    copy_for_graph = completed_df.reset_index().copy()\n",
    "    copy_for_graph.drop(columns = ['Year'], inplace = True)\n",
    "    copy_for_graph.rename(columns = {'index': \"Year\"}, inplace = True)\n",
    "\n",
    "    df_for_export = copy_for_graph.copy()\n",
    "    df_for_export = df_for_export[['Year',target, 'converted']]\n",
    "    df_for_export.rename(columns = {'converted': 'train_and_predicted'}, inplace = True)\n",
    "    print('Run Completed. Dataframes Exported: \"graph_ready\", \"export_ready\"')\n",
    "    return copy_for_graph, df_for_export"
   ]
  },
  {
   "cell_type": "code",
   "execution_count": 85,
   "id": "9ceb0537-6ea7-42c1-9e12-c90758c09351",
   "metadata": {},
   "outputs": [
    {
     "name": "stdout",
     "output_type": "stream",
     "text": [
      "Run Completed. Dataframes Exported: \"graph_ready\", \"export_ready\"\n"
     ]
    },
    {
     "data": {
      "text/html": [
       "<div>\n",
       "<style scoped>\n",
       "    .dataframe tbody tr th:only-of-type {\n",
       "        vertical-align: middle;\n",
       "    }\n",
       "\n",
       "    .dataframe tbody tr th {\n",
       "        vertical-align: top;\n",
       "    }\n",
       "\n",
       "    .dataframe thead th {\n",
       "        text-align: right;\n",
       "    }\n",
       "</style>\n",
       "<table border=\"1\" class=\"dataframe\">\n",
       "  <thead>\n",
       "    <tr style=\"text-align: right;\">\n",
       "      <th></th>\n",
       "      <th>Year</th>\n",
       "      <th>MedianIncome</th>\n",
       "      <th>predicted_mean</th>\n",
       "      <th>train_set</th>\n",
       "      <th>test_set</th>\n",
       "      <th>converted</th>\n",
       "    </tr>\n",
       "  </thead>\n",
       "  <tbody>\n",
       "    <tr>\n",
       "      <th>0</th>\n",
       "      <td>2005</td>\n",
       "      <td>52040.0</td>\n",
       "      <td>NaN</td>\n",
       "      <td>NaN</td>\n",
       "      <td>NaN</td>\n",
       "      <td>52040.0</td>\n",
       "    </tr>\n",
       "    <tr>\n",
       "      <th>1</th>\n",
       "      <td>2006</td>\n",
       "      <td>57582.0</td>\n",
       "      <td>NaN</td>\n",
       "      <td>57582.0</td>\n",
       "      <td>NaN</td>\n",
       "      <td>57582.0</td>\n",
       "    </tr>\n",
       "    <tr>\n",
       "      <th>2</th>\n",
       "      <td>2007</td>\n",
       "      <td>61533.0</td>\n",
       "      <td>NaN</td>\n",
       "      <td>61533.0</td>\n",
       "      <td>NaN</td>\n",
       "      <td>61533.0</td>\n",
       "    </tr>\n",
       "    <tr>\n",
       "      <th>3</th>\n",
       "      <td>2008</td>\n",
       "      <td>54092.0</td>\n",
       "      <td>NaN</td>\n",
       "      <td>54092.0</td>\n",
       "      <td>NaN</td>\n",
       "      <td>54092.0</td>\n",
       "    </tr>\n",
       "    <tr>\n",
       "      <th>4</th>\n",
       "      <td>2009</td>\n",
       "      <td>61628.0</td>\n",
       "      <td>NaN</td>\n",
       "      <td>61628.0</td>\n",
       "      <td>NaN</td>\n",
       "      <td>61628.0</td>\n",
       "    </tr>\n",
       "    <tr>\n",
       "      <th>5</th>\n",
       "      <td>2010</td>\n",
       "      <td>49904.0</td>\n",
       "      <td>NaN</td>\n",
       "      <td>49904.0</td>\n",
       "      <td>NaN</td>\n",
       "      <td>49904.0</td>\n",
       "    </tr>\n",
       "    <tr>\n",
       "      <th>6</th>\n",
       "      <td>2011</td>\n",
       "      <td>50104.0</td>\n",
       "      <td>NaN</td>\n",
       "      <td>50104.0</td>\n",
       "      <td>NaN</td>\n",
       "      <td>50104.0</td>\n",
       "    </tr>\n",
       "    <tr>\n",
       "      <th>7</th>\n",
       "      <td>2012</td>\n",
       "      <td>51046.0</td>\n",
       "      <td>NaN</td>\n",
       "      <td>51046.0</td>\n",
       "      <td>NaN</td>\n",
       "      <td>51046.0</td>\n",
       "    </tr>\n",
       "    <tr>\n",
       "      <th>8</th>\n",
       "      <td>2013</td>\n",
       "      <td>52766.0</td>\n",
       "      <td>NaN</td>\n",
       "      <td>52766.0</td>\n",
       "      <td>NaN</td>\n",
       "      <td>52766.0</td>\n",
       "    </tr>\n",
       "    <tr>\n",
       "      <th>9</th>\n",
       "      <td>2014</td>\n",
       "      <td>54343.0</td>\n",
       "      <td>NaN</td>\n",
       "      <td>54343.0</td>\n",
       "      <td>NaN</td>\n",
       "      <td>54343.0</td>\n",
       "    </tr>\n",
       "    <tr>\n",
       "      <th>10</th>\n",
       "      <td>2015</td>\n",
       "      <td>56660.0</td>\n",
       "      <td>1554.377315</td>\n",
       "      <td>56660.0</td>\n",
       "      <td>NaN</td>\n",
       "      <td>56660.0</td>\n",
       "    </tr>\n",
       "    <tr>\n",
       "      <th>11</th>\n",
       "      <td>2016</td>\n",
       "      <td>56332.0</td>\n",
       "      <td>2052.597788</td>\n",
       "      <td>NaN</td>\n",
       "      <td>56332.0</td>\n",
       "      <td>56332.0</td>\n",
       "    </tr>\n",
       "    <tr>\n",
       "      <th>12</th>\n",
       "      <td>2017</td>\n",
       "      <td>65295.0</td>\n",
       "      <td>1862.651475</td>\n",
       "      <td>NaN</td>\n",
       "      <td>65295.0</td>\n",
       "      <td>65295.0</td>\n",
       "    </tr>\n",
       "    <tr>\n",
       "      <th>13</th>\n",
       "      <td>2018</td>\n",
       "      <td>61793.0</td>\n",
       "      <td>1834.342863</td>\n",
       "      <td>NaN</td>\n",
       "      <td>61793.0</td>\n",
       "      <td>61793.0</td>\n",
       "    </tr>\n",
       "    <tr>\n",
       "      <th>14</th>\n",
       "      <td>2019</td>\n",
       "      <td>65106.0</td>\n",
       "      <td>1958.390241</td>\n",
       "      <td>NaN</td>\n",
       "      <td>65106.0</td>\n",
       "      <td>65106.0</td>\n",
       "    </tr>\n",
       "    <tr>\n",
       "      <th>15</th>\n",
       "      <td>2020</td>\n",
       "      <td>NaN</td>\n",
       "      <td>1832.656310</td>\n",
       "      <td>NaN</td>\n",
       "      <td>NaN</td>\n",
       "      <td>66938.65631</td>\n",
       "    </tr>\n",
       "    <tr>\n",
       "      <th>16</th>\n",
       "      <td>2021</td>\n",
       "      <td>NaN</td>\n",
       "      <td>1913.806147</td>\n",
       "      <td>NaN</td>\n",
       "      <td>NaN</td>\n",
       "      <td>68852.462457</td>\n",
       "    </tr>\n",
       "    <tr>\n",
       "      <th>17</th>\n",
       "      <td>2022</td>\n",
       "      <td>NaN</td>\n",
       "      <td>1883.604996</td>\n",
       "      <td>NaN</td>\n",
       "      <td>NaN</td>\n",
       "      <td>70736.067453</td>\n",
       "    </tr>\n",
       "    <tr>\n",
       "      <th>18</th>\n",
       "      <td>2023</td>\n",
       "      <td>NaN</td>\n",
       "      <td>1878.165224</td>\n",
       "      <td>NaN</td>\n",
       "      <td>NaN</td>\n",
       "      <td>72614.232677</td>\n",
       "    </tr>\n",
       "    <tr>\n",
       "      <th>19</th>\n",
       "      <td>2024</td>\n",
       "      <td>NaN</td>\n",
       "      <td>1898.944072</td>\n",
       "      <td>NaN</td>\n",
       "      <td>NaN</td>\n",
       "      <td>74513.17675</td>\n",
       "    </tr>\n",
       "    <tr>\n",
       "      <th>20</th>\n",
       "      <td>2025</td>\n",
       "      <td>NaN</td>\n",
       "      <td>NaN</td>\n",
       "      <td>NaN</td>\n",
       "      <td>NaN</td>\n",
       "      <td>None</td>\n",
       "    </tr>\n",
       "  </tbody>\n",
       "</table>\n",
       "</div>"
      ],
      "text/plain": [
       "    Year  MedianIncome  predicted_mean  train_set  test_set     converted\n",
       "0   2005       52040.0             NaN        NaN       NaN       52040.0\n",
       "1   2006       57582.0             NaN    57582.0       NaN       57582.0\n",
       "2   2007       61533.0             NaN    61533.0       NaN       61533.0\n",
       "3   2008       54092.0             NaN    54092.0       NaN       54092.0\n",
       "4   2009       61628.0             NaN    61628.0       NaN       61628.0\n",
       "5   2010       49904.0             NaN    49904.0       NaN       49904.0\n",
       "6   2011       50104.0             NaN    50104.0       NaN       50104.0\n",
       "7   2012       51046.0             NaN    51046.0       NaN       51046.0\n",
       "8   2013       52766.0             NaN    52766.0       NaN       52766.0\n",
       "9   2014       54343.0             NaN    54343.0       NaN       54343.0\n",
       "10  2015       56660.0     1554.377315    56660.0       NaN       56660.0\n",
       "11  2016       56332.0     2052.597788        NaN   56332.0       56332.0\n",
       "12  2017       65295.0     1862.651475        NaN   65295.0       65295.0\n",
       "13  2018       61793.0     1834.342863        NaN   61793.0       61793.0\n",
       "14  2019       65106.0     1958.390241        NaN   65106.0       65106.0\n",
       "15  2020           NaN     1832.656310        NaN       NaN   66938.65631\n",
       "16  2021           NaN     1913.806147        NaN       NaN  68852.462457\n",
       "17  2022           NaN     1883.604996        NaN       NaN  70736.067453\n",
       "18  2023           NaN     1878.165224        NaN       NaN  72614.232677\n",
       "19  2024           NaN     1898.944072        NaN       NaN   74513.17675\n",
       "20  2025           NaN             NaN        NaN       NaN          None"
      ]
     },
     "execution_count": 85,
     "metadata": {},
     "output_type": "execute_result"
    }
   ],
   "source": [
    "def undifference(completed_df, num_diffs):\n",
    "    \n",
    "    # Shift the columns to prepare for undifferencing\n",
    "    for col in ['predicted_mean','train_set','test_set']:\n",
    "        completed_df[col] = completed_df[col].shift(-num_diffs)\n",
    "\n",
    "    # Create empty column for results\n",
    "    completed_df['converted'] = None\n",
    "    \n",
    "    # undifference the train and test set columns\n",
    "    for col in ['train_set','test_set']:\n",
    "        completed_df[col] = completed_df[target] + completed_df[col]\n",
    "        completed_df[col] = completed_df[col].shift(num_diffs)\n",
    "    \n",
    "    # undifference and record the prediction results\n",
    "    for i in completed_df.index.tolist():\n",
    "        target_val = completed_df.loc[i, target]\n",
    "        predicted_val = completed_df.loc[i, 'predicted_mean']\n",
    "\n",
    "        \n",
    "        if str(target_val) != 'nan':\n",
    "            completed_df.loc[i, 'converted'] = target_val\n",
    "        else:\n",
    "            if str(predicted_val) != 'nan':\n",
    "                last_val = completed_df.loc[i-1, 'converted'] # <- this might need to be converted to \"num_diffs\" instead of i-1\n",
    "                completed_df.loc[i, 'converted'] = predicted_val + last_val\n",
    "                \n",
    "    return completed_df\n",
    "\n",
    "#graph_ready, export_ready = control_arima(master_table, target, params)\n",
    "#export_ready\n",
    "undifferenced = undifference(ready_for_undiff.copy(), num_diffs)\n",
    "graph_ready, export_ready = finalize_results(undifferenced)\n",
    "graph_ready"
   ]
  },
  {
   "cell_type": "code",
   "execution_count": 89,
   "id": "9408b0ed-7ac2-4906-a7be-4cc423a4a035",
   "metadata": {},
   "outputs": [
    {
     "data": {
      "image/png": "[encoded data removed]",
      "text/plain": [
       "<Figure size 1224x360 with 1 Axes>"
      ]
     },
     "metadata": {
      "needs_background": "light"
     },
     "output_type": "display_data"
    }
   ],
   "source": [
    "def graph_final_results(copy_for_graph):\n",
    "    import seaborn as sns\n",
    "    import matplotlib.pyplot as plt\n",
    "    \n",
    "    copy_for_graph['Year'] = copy_for_graph['Year'].astype('str')\n",
    "\n",
    "    fig = plt.figure(figsize = (17,5))\n",
    "    plt.title('Median Income for one county, one age group', fontsize = 22)\n",
    "    ax = sns.lineplot(x=copy_for_graph['Year'], y = copy_for_graph['converted'], linewidth=3, label = 'Predicted', )\n",
    "    ax = sns.lineplot(x=copy_for_graph['Year'], y = copy_for_graph[target], linewidth = 4, color = 'black', label = 'Ground Truth')\n",
    "    ax = sns.lineplot(x=copy_for_graph['Year'], y = copy_for_graph['train_set'], linewidth = 2, color = 'green', label = 'Train Set')\n",
    "    ax = sns.lineplot(x=copy_for_graph['Year'], y = copy_for_graph['test_set'], linewidth = 2, color = 'red', label = 'Test Set')\n",
    "\n",
    "    ax.invert_yaxis()\n",
    "    plt.show()\n",
    "    \n",
    "graph_final_results(graph_ready)"
   ]
  },
  {
   "cell_type": "code",
   "execution_count": null,
   "id": "568129d4-4512-44de-9547-630d248c7bad",
   "metadata": {},
   "outputs": [],
   "source": []
  },
  {
   "cell_type": "code",
   "execution_count": 129,
   "id": "04bd6067-814e-4d23-ac28-877191627c94",
   "metadata": {},
   "outputs": [
    {
     "name": "stdout",
     "output_type": "stream",
     "text": [
      "Undifferencing indeterminate.\n"
     ]
    }
   ],
   "source": [
    "assert 1 == 2\n",
    "result_cntr = 0\n",
    "target_list = ready_for_undiff['MedianIncome'].tolist()\n",
    "for ii, target_val in enumerate(target_list):\n",
    "    try:\n",
    "        next_val = target_list[ii+3]\n",
    "    except:\n",
    "        continue\n",
    "        \n",
    "    for i, train_val in enumerate(ready_for_undiff['train_set'].tolist()):\n",
    "        if (next_val == (target_val + train_val)):\n",
    "            result_cntr += 1\n",
    "            print(f'Target: {target_val} | Diffed: {train_val} | Result: {target_val + train_val} | Step Difference: {i-ii} | Seq: {ii}')\n",
    "            break\n",
    "            \n",
    "if result_cntr == 0:\n",
    "    print('Undifferencing indeterminate.')"
   ]
  }
 ],
 "metadata": {
  "kernelspec": {
   "display_name": "Python 3 (ipykernel)",
   "language": "python",
   "name": "python3"
  },
  "language_info": {
   "codemirror_mode": {
    "name": "ipython",
    "version": 3
   },
   "file_extension": ".py",
   "mimetype": "text/x-python",
   "name": "python",
   "nbconvert_exporter": "python",
   "pygments_lexer": "ipython3",
   "version": "3.9.7"
  }
 },
 "nbformat": 4,
 "nbformat_minor": 5
}
