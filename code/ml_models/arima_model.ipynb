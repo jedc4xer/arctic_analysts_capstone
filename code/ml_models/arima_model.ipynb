{
 "cells": [
  {
   "cell_type": "code",
   "execution_count": null,
   "id": "51f2de18-ba4f-4aea-9dc5-d42bca1965fb",
   "metadata": {},
   "outputs": [],
   "source": [
    "# ARIMA MODEL\n",
    "# Fit an ARIMA model.\n",
    "\n",
    "# There are three hyperparameters we need to get values for when fitting an ARIMA model.\n",
    "# Determine a value of  using the Augmented Dickey-Fuller test.\n",
    "\n",
    "# Then, determine values of  and  through GridSearching.\n",
    "\n",
    "# An  model is specified by:\n",
    "# -how many differences  we need to calculate in order to achieve stationarity.\n",
    "# -how many lags  we regress  on.\n",
    "# -how many errors  we regress  on.\n",
    "\n",
    "\n",
    "# Depending on our values of , , and , we might refer to these models by slightly different names.\n",
    "# If  and , an AR(p) model is specified by how many lags  we regress  on.\n",
    "# If  and , an MA(q) model is specified by how many errors  we regress  on.\n",
    "# If , an ARMA(p, q) model is specified by how many lags  and how many errors  we regress  on."
   ]
  },
  {
   "cell_type": "code",
   "execution_count": 81,
   "id": "02e759e7-40e5-4b20-9dfa-25ca9f1f87fd",
   "metadata": {},
   "outputs": [],
   "source": [
    "from statsmodels.tsa.arima.model import ARIMA\n",
    "from sklearn.pipeline import Pipeline\n",
    "import pymssql\n",
    "import pandas as pd\n",
    "import datetime as dt\n",
    "import plotly.express as px"
   ]
  },
  {
   "cell_type": "code",
   "execution_count": 2,
   "id": "58b533fc-7a9c-499d-8007-720e6f8f7a8e",
   "metadata": {},
   "outputs": [],
   "source": [
    "\n",
    "database = \"arctic_analysts_capstone\"\n",
    "user = \"arctic_analysts\"\n",
    "password  = \"ThisPassw0rd!\"\n",
    "server = \"gen10-data-fundamentals-22-02-sql-server.database.windows.net\"\n",
    "\n",
    "def sql_query(query):\n",
    "    conn = pymssql.connect(server, user, password, database)\n",
    "    cursor = conn.cursor()\n",
    "    queried_data = pd.read_sql(query, conn)\n",
    "    return queried_data"
   ]
  },
  {
   "cell_type": "code",
   "execution_count": 3,
   "id": "763be719-3a45-41a0-be15-8e1336378cd4",
   "metadata": {},
   "outputs": [],
   "source": [
    "def run_queries():\n",
    "    tables = [\"year\", \"month\", \"county\", \"median_income\", \"main_table\"]\n",
    "\n",
    "    query = f\"SELECT * FROM {tables[0]}\"\n",
    "    year_df = sql_query(query)\n",
    "\n",
    "    query = f\"SELECT * FROM {tables[1]}\"\n",
    "    month_df = sql_query(query)\n",
    "\n",
    "    query = f\"SELECT * FROM {tables[2]}\"\n",
    "    county_df = sql_query(query)\n",
    "\n",
    "    query = f\"SELECT * FROM {tables[3]}\"\n",
    "    median_income_df = sql_query(query)\n",
    "\n",
    "    query = f\"SELECT * FROM {tables[4]}\"\n",
    "    main_table = sql_query(query)\n",
    "\n",
    "    all_df = [year_df, month_df, county_df, median_income_df, main_table]\n",
    "    return all_df"
   ]
  },
  {
   "cell_type": "code",
   "execution_count": 10,
   "id": "6f2ed980-8b91-4199-a730-14b9c9d6cf46",
   "metadata": {},
   "outputs": [],
   "source": [
    "def join_tables(all_df):\n",
    "    year_df = all_df[0]\n",
    "    month_df = all_df[1]\n",
    "    county_df = all_df[2]\n",
    "    median_income_df = all_df[3]\n",
    "    main_table = all_df[4]\n",
    "\n",
    "    master_table = pd.merge(\n",
    "        main_table, year_df, left_on=\"YearID\", right_on=\"YearID\", how=\"outer\"\n",
    "    )\n",
    "    print(master_table.shape[0])\n",
    "    # Now has 5607 rows\n",
    "\n",
    "    master_table = pd.merge(\n",
    "        master_table, month_df, left_on=\"MonthID\", right_on=\"MonthID\", how=\"outer\"\n",
    "    )\n",
    "    # Now has 5607 rows\n",
    "    print(master_table.shape[0])\n",
    "\n",
    "    master_table = pd.merge(\n",
    "        master_table, county_df, left_on=\"FIPS\", right_on=\"FIPS\", how=\"outer\"\n",
    "    )\n",
    "    # Now has 5607 rows\n",
    "    print(master_table.shape[0])\n",
    "\n",
    "    master_table = pd.merge(\n",
    "        master_table,\n",
    "        median_income_df,\n",
    "        left_on=[\"FIPS\", \"YearID\"],\n",
    "        right_on=[\"FIPS\", \"YearID\"],\n",
    "        how=\"outer\",\n",
    "    )\n",
    "    # Now has 20727 rows\n",
    "    print(master_table.shape[0])\n",
    "\n",
    "    master_table.loc[(master_table.MedianIncome < 0), \"MedianIncome\"] = None\n",
    "    return master_table"
   ]
  },
  {
   "cell_type": "code",
   "execution_count": 11,
   "id": "0b2b3d67-00a5-4b6d-ac90-733e8659a163",
   "metadata": {},
   "outputs": [],
   "source": [
    "all_df = run_queries()"
   ]
  },
  {
   "cell_type": "code",
   "execution_count": 12,
   "id": "5cdacc82-a92f-4e35-8385-1fd17def9962",
   "metadata": {},
   "outputs": [
    {
     "name": "stdout",
     "output_type": "stream",
     "text": [
      "5607\n",
      "5607\n",
      "5607\n",
      "20727\n"
     ]
    }
   ],
   "source": [
    "master_table = join_tables(all_df)"
   ]
  },
  {
   "cell_type": "code",
   "execution_count": 13,
   "id": "879db800-74dc-4b1d-86cf-184eb15fb0bf",
   "metadata": {},
   "outputs": [
    {
     "data": {
      "text/html": [
       "<div>\n",
       "<style scoped>\n",
       "    .dataframe tbody tr th:only-of-type {\n",
       "        vertical-align: middle;\n",
       "    }\n",
       "\n",
       "    .dataframe tbody tr th {\n",
       "        vertical-align: top;\n",
       "    }\n",
       "\n",
       "    .dataframe thead th {\n",
       "        text-align: right;\n",
       "    }\n",
       "</style>\n",
       "<table border=\"1\" class=\"dataframe\">\n",
       "  <thead>\n",
       "    <tr style=\"text-align: right;\">\n",
       "      <th></th>\n",
       "      <th>FIPS</th>\n",
       "      <th>YearID</th>\n",
       "      <th>MonthID</th>\n",
       "      <th>NewUnits</th>\n",
       "      <th>NewBuildings</th>\n",
       "      <th>MedianHousePrice</th>\n",
       "      <th>AverageRate</th>\n",
       "      <th>AveragePoints</th>\n",
       "      <th>Year</th>\n",
       "      <th>Month</th>\n",
       "      <th>County</th>\n",
       "      <th>AgeGroup</th>\n",
       "      <th>MedianIncome</th>\n",
       "    </tr>\n",
       "  </thead>\n",
       "  <tbody>\n",
       "    <tr>\n",
       "      <th>0</th>\n",
       "      <td>34001</td>\n",
       "      <td>1</td>\n",
       "      <td>1</td>\n",
       "      <td>66</td>\n",
       "      <td>66</td>\n",
       "      <td>136880.0</td>\n",
       "      <td>8.21</td>\n",
       "      <td>1.0</td>\n",
       "      <td>2000</td>\n",
       "      <td>Jan</td>\n",
       "      <td>Atlantic County</td>\n",
       "      <td>NaN</td>\n",
       "      <td>NaN</td>\n",
       "    </tr>\n",
       "    <tr>\n",
       "      <th>1</th>\n",
       "      <td>34001</td>\n",
       "      <td>1</td>\n",
       "      <td>2</td>\n",
       "      <td>110</td>\n",
       "      <td>110</td>\n",
       "      <td>137379.0</td>\n",
       "      <td>8.33</td>\n",
       "      <td>1.0</td>\n",
       "      <td>2000</td>\n",
       "      <td>Feb</td>\n",
       "      <td>Atlantic County</td>\n",
       "      <td>NaN</td>\n",
       "      <td>NaN</td>\n",
       "    </tr>\n",
       "    <tr>\n",
       "      <th>2</th>\n",
       "      <td>34001</td>\n",
       "      <td>1</td>\n",
       "      <td>3</td>\n",
       "      <td>98</td>\n",
       "      <td>87</td>\n",
       "      <td>137794.0</td>\n",
       "      <td>8.24</td>\n",
       "      <td>1.0</td>\n",
       "      <td>2000</td>\n",
       "      <td>Mar</td>\n",
       "      <td>Atlantic County</td>\n",
       "      <td>NaN</td>\n",
       "      <td>NaN</td>\n",
       "    </tr>\n",
       "    <tr>\n",
       "      <th>3</th>\n",
       "      <td>34001</td>\n",
       "      <td>1</td>\n",
       "      <td>4</td>\n",
       "      <td>90</td>\n",
       "      <td>90</td>\n",
       "      <td>138680.0</td>\n",
       "      <td>8.15</td>\n",
       "      <td>1.0</td>\n",
       "      <td>2000</td>\n",
       "      <td>Apr</td>\n",
       "      <td>Atlantic County</td>\n",
       "      <td>NaN</td>\n",
       "      <td>NaN</td>\n",
       "    </tr>\n",
       "    <tr>\n",
       "      <th>4</th>\n",
       "      <td>34001</td>\n",
       "      <td>1</td>\n",
       "      <td>5</td>\n",
       "      <td>121</td>\n",
       "      <td>121</td>\n",
       "      <td>139644.0</td>\n",
       "      <td>8.52</td>\n",
       "      <td>1.0</td>\n",
       "      <td>2000</td>\n",
       "      <td>May</td>\n",
       "      <td>Atlantic County</td>\n",
       "      <td>NaN</td>\n",
       "      <td>NaN</td>\n",
       "    </tr>\n",
       "    <tr>\n",
       "      <th>...</th>\n",
       "      <td>...</td>\n",
       "      <td>...</td>\n",
       "      <td>...</td>\n",
       "      <td>...</td>\n",
       "      <td>...</td>\n",
       "      <td>...</td>\n",
       "      <td>...</td>\n",
       "      <td>...</td>\n",
       "      <td>...</td>\n",
       "      <td>...</td>\n",
       "      <td>...</td>\n",
       "      <td>...</td>\n",
       "      <td>...</td>\n",
       "    </tr>\n",
       "    <tr>\n",
       "      <th>20722</th>\n",
       "      <td>34041</td>\n",
       "      <td>22</td>\n",
       "      <td>11</td>\n",
       "      <td>26</td>\n",
       "      <td>14</td>\n",
       "      <td>334266.0</td>\n",
       "      <td>3.07</td>\n",
       "      <td>0.7</td>\n",
       "      <td>2021</td>\n",
       "      <td>Nov</td>\n",
       "      <td>Warren County</td>\n",
       "      <td>NaN</td>\n",
       "      <td>NaN</td>\n",
       "    </tr>\n",
       "    <tr>\n",
       "      <th>20723</th>\n",
       "      <td>34041</td>\n",
       "      <td>22</td>\n",
       "      <td>12</td>\n",
       "      <td>19</td>\n",
       "      <td>18</td>\n",
       "      <td>336388.0</td>\n",
       "      <td>3.10</td>\n",
       "      <td>0.6</td>\n",
       "      <td>2021</td>\n",
       "      <td>Dec</td>\n",
       "      <td>Warren County</td>\n",
       "      <td>NaN</td>\n",
       "      <td>NaN</td>\n",
       "    </tr>\n",
       "    <tr>\n",
       "      <th>20724</th>\n",
       "      <td>34041</td>\n",
       "      <td>23</td>\n",
       "      <td>1</td>\n",
       "      <td>13</td>\n",
       "      <td>12</td>\n",
       "      <td>338845.0</td>\n",
       "      <td>3.45</td>\n",
       "      <td>0.7</td>\n",
       "      <td>2022</td>\n",
       "      <td>Jan</td>\n",
       "      <td>Warren County</td>\n",
       "      <td>NaN</td>\n",
       "      <td>NaN</td>\n",
       "    </tr>\n",
       "    <tr>\n",
       "      <th>20725</th>\n",
       "      <td>34041</td>\n",
       "      <td>23</td>\n",
       "      <td>2</td>\n",
       "      <td>29</td>\n",
       "      <td>18</td>\n",
       "      <td>340046.0</td>\n",
       "      <td>3.76</td>\n",
       "      <td>0.8</td>\n",
       "      <td>2022</td>\n",
       "      <td>Feb</td>\n",
       "      <td>Warren County</td>\n",
       "      <td>NaN</td>\n",
       "      <td>NaN</td>\n",
       "    </tr>\n",
       "    <tr>\n",
       "      <th>20726</th>\n",
       "      <td>34041</td>\n",
       "      <td>23</td>\n",
       "      <td>3</td>\n",
       "      <td>44</td>\n",
       "      <td>25</td>\n",
       "      <td>342912.0</td>\n",
       "      <td>4.17</td>\n",
       "      <td>0.8</td>\n",
       "      <td>2022</td>\n",
       "      <td>Mar</td>\n",
       "      <td>Warren County</td>\n",
       "      <td>NaN</td>\n",
       "      <td>NaN</td>\n",
       "    </tr>\n",
       "  </tbody>\n",
       "</table>\n",
       "<p>20727 rows × 13 columns</p>\n",
       "</div>"
      ],
      "text/plain": [
       "        FIPS  YearID  MonthID  NewUnits  NewBuildings  MedianHousePrice  \\\n",
       "0      34001       1        1        66            66          136880.0   \n",
       "1      34001       1        2       110           110          137379.0   \n",
       "2      34001       1        3        98            87          137794.0   \n",
       "3      34001       1        4        90            90          138680.0   \n",
       "4      34001       1        5       121           121          139644.0   \n",
       "...      ...     ...      ...       ...           ...               ...   \n",
       "20722  34041      22       11        26            14          334266.0   \n",
       "20723  34041      22       12        19            18          336388.0   \n",
       "20724  34041      23        1        13            12          338845.0   \n",
       "20725  34041      23        2        29            18          340046.0   \n",
       "20726  34041      23        3        44            25          342912.0   \n",
       "\n",
       "       AverageRate  AveragePoints  Year Month           County AgeGroup  \\\n",
       "0             8.21            1.0  2000   Jan  Atlantic County      NaN   \n",
       "1             8.33            1.0  2000   Feb  Atlantic County      NaN   \n",
       "2             8.24            1.0  2000   Mar  Atlantic County      NaN   \n",
       "3             8.15            1.0  2000   Apr  Atlantic County      NaN   \n",
       "4             8.52            1.0  2000   May  Atlantic County      NaN   \n",
       "...            ...            ...   ...   ...              ...      ...   \n",
       "20722         3.07            0.7  2021   Nov    Warren County      NaN   \n",
       "20723         3.10            0.6  2021   Dec    Warren County      NaN   \n",
       "20724         3.45            0.7  2022   Jan    Warren County      NaN   \n",
       "20725         3.76            0.8  2022   Feb    Warren County      NaN   \n",
       "20726         4.17            0.8  2022   Mar    Warren County      NaN   \n",
       "\n",
       "       MedianIncome  \n",
       "0               NaN  \n",
       "1               NaN  \n",
       "2               NaN  \n",
       "3               NaN  \n",
       "4               NaN  \n",
       "...             ...  \n",
       "20722           NaN  \n",
       "20723           NaN  \n",
       "20724           NaN  \n",
       "20725           NaN  \n",
       "20726           NaN  \n",
       "\n",
       "[20727 rows x 13 columns]"
      ]
     },
     "execution_count": 13,
     "metadata": {},
     "output_type": "execute_result"
    }
   ],
   "source": [
    "master_table"
   ]
  },
  {
   "cell_type": "code",
   "execution_count": 99,
   "id": "1b792b52-2283-4eaa-84bc-cf643b761cba",
   "metadata": {},
   "outputs": [
    {
     "data": {
      "text/html": [
       "<div>\n",
       "<style scoped>\n",
       "    .dataframe tbody tr th:only-of-type {\n",
       "        vertical-align: middle;\n",
       "    }\n",
       "\n",
       "    .dataframe tbody tr th {\n",
       "        vertical-align: top;\n",
       "    }\n",
       "\n",
       "    .dataframe thead th {\n",
       "        text-align: right;\n",
       "    }\n",
       "</style>\n",
       "<table border=\"1\" class=\"dataframe\">\n",
       "  <thead>\n",
       "    <tr style=\"text-align: right;\">\n",
       "      <th></th>\n",
       "      <th>MedianHousePrice</th>\n",
       "    </tr>\n",
       "  </thead>\n",
       "  <tbody>\n",
       "    <tr>\n",
       "      <th>count</th>\n",
       "      <td>987.000000</td>\n",
       "    </tr>\n",
       "    <tr>\n",
       "      <th>mean</th>\n",
       "      <td>231404.531915</td>\n",
       "    </tr>\n",
       "    <tr>\n",
       "      <th>std</th>\n",
       "      <td>43097.853200</td>\n",
       "    </tr>\n",
       "    <tr>\n",
       "      <th>min</th>\n",
       "      <td>136880.000000</td>\n",
       "    </tr>\n",
       "    <tr>\n",
       "      <th>25%</th>\n",
       "      <td>202862.000000</td>\n",
       "    </tr>\n",
       "    <tr>\n",
       "      <th>50%</th>\n",
       "      <td>213595.000000</td>\n",
       "    </tr>\n",
       "    <tr>\n",
       "      <th>75%</th>\n",
       "      <td>258515.000000</td>\n",
       "    </tr>\n",
       "    <tr>\n",
       "      <th>max</th>\n",
       "      <td>318877.000000</td>\n",
       "    </tr>\n",
       "  </tbody>\n",
       "</table>\n",
       "</div>"
      ],
      "text/plain": [
       "       MedianHousePrice\n",
       "count        987.000000\n",
       "mean      231404.531915\n",
       "std        43097.853200\n",
       "min       136880.000000\n",
       "25%       202862.000000\n",
       "50%       213595.000000\n",
       "75%       258515.000000\n",
       "max       318877.000000"
      ]
     },
     "execution_count": 99,
     "metadata": {},
     "output_type": "execute_result"
    }
   ],
   "source": [
    "house_price_df = master_table[['MedianHousePrice','Year', 'Month', 'MonthID','FIPS']].copy()\n",
    "\n",
    "house_price_df = house_price_df[(house_price_df['FIPS'] == '34001')]\n",
    "\n",
    "house_price_df.sort_values(by = ['Year', 'MonthID'], ascending = [True, True], inplace = True)\n",
    "\n",
    "def convert_to_date(year, month):\n",
    "    date = dt.datetime.strptime(f\"{year}-{month}\", \"%Y-%b\")#.date()\n",
    "    #date = dt.datetime.strftime(date, \"%Y-%m\")\n",
    "    return date\n",
    "\n",
    "# Create a date to pass into the index for the model\n",
    "house_price_df['date'] = house_price_df.apply(lambda row: convert_to_date(row.Year, row.Month), axis = 1)\n",
    "\n",
    "# Get only the relevant columns\n",
    "house_price_df = house_price_df[['MedianHousePrice', 'date']]\n",
    "\n",
    "# Set the index as the date for the squeeze to series\n",
    "house_price_df.set_index('date', inplace = True)\n",
    "\n",
    "series = house_price_df.squeeze()\n",
    "\n",
    "# Set the index as a period array\n",
    "series.index = series.index.to_period('M')\n",
    "\n",
    "house_price_df.describe()"
   ]
  },
  {
   "cell_type": "code",
   "execution_count": 104,
   "id": "1bff036d-2371-4637-b1c2-105fadab933f",
   "metadata": {},
   "outputs": [
    {
     "data": {
      "text/plain": [
       "date\n",
       "2000-01    136880.0\n",
       "2000-02    137379.0\n",
       "2000-03    137794.0\n",
       "2000-04    138680.0\n",
       "2000-05    139644.0\n",
       "             ...   \n",
       "2021-11    291523.0\n",
       "2021-12    294593.0\n",
       "2022-01    298233.0\n",
       "2022-02    303616.0\n",
       "2022-03    309748.0\n",
       "Freq: M, Name: MedianHousePrice, Length: 987, dtype: float64"
      ]
     },
     "execution_count": 104,
     "metadata": {},
     "output_type": "execute_result"
    }
   ],
   "source": [
    "series"
   ]
  },
  {
   "cell_type": "code",
   "execution_count": 105,
   "id": "20f5bbfe-8747-49a5-81d4-ba266ffa4b61",
   "metadata": {},
   "outputs": [],
   "source": [
    "from statsmodels.tsa.stattools import adfuller"
   ]
  },
  {
   "cell_type": "code",
   "execution_count": 106,
   "id": "eba71955-39ef-47ab-8ffb-67a1b3d80dc2",
   "metadata": {},
   "outputs": [
    {
     "data": {
      "text/plain": [
       "<function statsmodels.tsa.stattools.adfuller(x, maxlag=None, regression='c', autolag='AIC', store=False, regresults=False)>"
      ]
     },
     "execution_count": 106,
     "metadata": {},
     "output_type": "execute_result"
    }
   ],
   "source": [
    "adfuller"
   ]
  },
  {
   "cell_type": "code",
   "execution_count": 107,
   "id": "c77b9147-15fc-4b10-b0cd-f5d235a048b6",
   "metadata": {},
   "outputs": [
    {
     "data": {
      "text/plain": [
       "(-1.418810051406821,\n",
       " 0.573225864755095,\n",
       " 21,\n",
       " 965,\n",
       " {'1%': -3.4371445907959832,\n",
       "  '5%': -2.864539720789528,\n",
       "  '10%': -2.5683672133480093},\n",
       " 14629.565538304234)"
      ]
     },
     "execution_count": 107,
     "metadata": {},
     "output_type": "execute_result"
    }
   ],
   "source": [
    "adfuller(series)"
   ]
  },
  {
   "cell_type": "code",
   "execution_count": null,
   "id": "dee1db12-4d0c-4e7f-893f-836193daa315",
   "metadata": {},
   "outputs": [],
   "source": [
    "# fail to reject the null because the pvalue is high"
   ]
  },
  {
   "cell_type": "code",
   "execution_count": 122,
   "id": "7847faa9-7196-4a37-8915-2b7a6e2870e0",
   "metadata": {},
   "outputs": [
    {
     "data": {
      "text/html": [
       "<div>\n",
       "<style scoped>\n",
       "    .dataframe tbody tr th:only-of-type {\n",
       "        vertical-align: middle;\n",
       "    }\n",
       "\n",
       "    .dataframe tbody tr th {\n",
       "        vertical-align: top;\n",
       "    }\n",
       "\n",
       "    .dataframe thead th {\n",
       "        text-align: right;\n",
       "    }\n",
       "</style>\n",
       "<table border=\"1\" class=\"dataframe\">\n",
       "  <thead>\n",
       "    <tr style=\"text-align: right;\">\n",
       "      <th></th>\n",
       "      <th>MedianHousePrice</th>\n",
       "      <th>first_diff_mhp</th>\n",
       "      <th>second_diff_mhp</th>\n",
       "    </tr>\n",
       "    <tr>\n",
       "      <th>date</th>\n",
       "      <th></th>\n",
       "      <th></th>\n",
       "      <th></th>\n",
       "    </tr>\n",
       "  </thead>\n",
       "  <tbody>\n",
       "    <tr>\n",
       "      <th>2000-01</th>\n",
       "      <td>136880.0</td>\n",
       "      <td>NaN</td>\n",
       "      <td>NaN</td>\n",
       "    </tr>\n",
       "    <tr>\n",
       "      <th>2000-02</th>\n",
       "      <td>137379.0</td>\n",
       "      <td>499.0</td>\n",
       "      <td>NaN</td>\n",
       "    </tr>\n",
       "    <tr>\n",
       "      <th>2000-03</th>\n",
       "      <td>137794.0</td>\n",
       "      <td>415.0</td>\n",
       "      <td>-84.0</td>\n",
       "    </tr>\n",
       "    <tr>\n",
       "      <th>2000-04</th>\n",
       "      <td>138680.0</td>\n",
       "      <td>886.0</td>\n",
       "      <td>471.0</td>\n",
       "    </tr>\n",
       "    <tr>\n",
       "      <th>2000-05</th>\n",
       "      <td>139644.0</td>\n",
       "      <td>964.0</td>\n",
       "      <td>78.0</td>\n",
       "    </tr>\n",
       "    <tr>\n",
       "      <th>...</th>\n",
       "      <td>...</td>\n",
       "      <td>...</td>\n",
       "      <td>...</td>\n",
       "    </tr>\n",
       "    <tr>\n",
       "      <th>2021-11</th>\n",
       "      <td>291523.0</td>\n",
       "      <td>1427.0</td>\n",
       "      <td>-2072.0</td>\n",
       "    </tr>\n",
       "    <tr>\n",
       "      <th>2021-12</th>\n",
       "      <td>294593.0</td>\n",
       "      <td>3070.0</td>\n",
       "      <td>1643.0</td>\n",
       "    </tr>\n",
       "    <tr>\n",
       "      <th>2022-01</th>\n",
       "      <td>298233.0</td>\n",
       "      <td>3640.0</td>\n",
       "      <td>570.0</td>\n",
       "    </tr>\n",
       "    <tr>\n",
       "      <th>2022-02</th>\n",
       "      <td>303616.0</td>\n",
       "      <td>5383.0</td>\n",
       "      <td>1743.0</td>\n",
       "    </tr>\n",
       "    <tr>\n",
       "      <th>2022-03</th>\n",
       "      <td>309748.0</td>\n",
       "      <td>6132.0</td>\n",
       "      <td>749.0</td>\n",
       "    </tr>\n",
       "  </tbody>\n",
       "</table>\n",
       "<p>987 rows × 3 columns</p>\n",
       "</div>"
      ],
      "text/plain": [
       "         MedianHousePrice  first_diff_mhp  second_diff_mhp\n",
       "date                                                      \n",
       "2000-01          136880.0             NaN              NaN\n",
       "2000-02          137379.0           499.0              NaN\n",
       "2000-03          137794.0           415.0            -84.0\n",
       "2000-04          138680.0           886.0            471.0\n",
       "2000-05          139644.0           964.0             78.0\n",
       "...                   ...             ...              ...\n",
       "2021-11          291523.0          1427.0          -2072.0\n",
       "2021-12          294593.0          3070.0           1643.0\n",
       "2022-01          298233.0          3640.0            570.0\n",
       "2022-02          303616.0          5383.0           1743.0\n",
       "2022-03          309748.0          6132.0            749.0\n",
       "\n",
       "[987 rows x 3 columns]"
      ]
     },
     "execution_count": 122,
     "metadata": {},
     "output_type": "execute_result"
    }
   ],
   "source": [
    "df"
   ]
  },
  {
   "cell_type": "code",
   "execution_count": 109,
   "id": "f7d7a8c1-c9b1-48fa-8abe-7af1ff8d8bb7",
   "metadata": {},
   "outputs": [],
   "source": [
    "df.set_index('date', inplace = True)"
   ]
  },
  {
   "cell_type": "code",
   "execution_count": 111,
   "id": "6f301ce2-be5a-43ab-abda-fbf5d390139a",
   "metadata": {},
   "outputs": [],
   "source": [
    "df['first_diff_mhp'] = df['MedianHousePrice'].diff()"
   ]
  },
  {
   "cell_type": "code",
   "execution_count": 116,
   "id": "788169db-2764-45a8-b063-6297c042e8a3",
   "metadata": {},
   "outputs": [],
   "source": [
    "df['second_diff_mhp'] = df['MedianHousePrice'].diff().diff()"
   ]
  },
  {
   "cell_type": "code",
   "execution_count": 117,
   "id": "44d059de-3adb-48ed-be22-36a9b67b6753",
   "metadata": {},
   "outputs": [
    {
     "data": {
      "text/html": [
       "<div>\n",
       "<style scoped>\n",
       "    .dataframe tbody tr th:only-of-type {\n",
       "        vertical-align: middle;\n",
       "    }\n",
       "\n",
       "    .dataframe tbody tr th {\n",
       "        vertical-align: top;\n",
       "    }\n",
       "\n",
       "    .dataframe thead th {\n",
       "        text-align: right;\n",
       "    }\n",
       "</style>\n",
       "<table border=\"1\" class=\"dataframe\">\n",
       "  <thead>\n",
       "    <tr style=\"text-align: right;\">\n",
       "      <th></th>\n",
       "      <th>MedianHousePrice</th>\n",
       "      <th>first_diff_mhp</th>\n",
       "      <th>second_diff_mhp</th>\n",
       "    </tr>\n",
       "    <tr>\n",
       "      <th>date</th>\n",
       "      <th></th>\n",
       "      <th></th>\n",
       "      <th></th>\n",
       "    </tr>\n",
       "  </thead>\n",
       "  <tbody>\n",
       "    <tr>\n",
       "      <th>2000-01</th>\n",
       "      <td>136880.0</td>\n",
       "      <td>NaN</td>\n",
       "      <td>NaN</td>\n",
       "    </tr>\n",
       "    <tr>\n",
       "      <th>2000-02</th>\n",
       "      <td>137379.0</td>\n",
       "      <td>499.0</td>\n",
       "      <td>NaN</td>\n",
       "    </tr>\n",
       "    <tr>\n",
       "      <th>2000-03</th>\n",
       "      <td>137794.0</td>\n",
       "      <td>415.0</td>\n",
       "      <td>-84.0</td>\n",
       "    </tr>\n",
       "    <tr>\n",
       "      <th>2000-04</th>\n",
       "      <td>138680.0</td>\n",
       "      <td>886.0</td>\n",
       "      <td>471.0</td>\n",
       "    </tr>\n",
       "    <tr>\n",
       "      <th>2000-05</th>\n",
       "      <td>139644.0</td>\n",
       "      <td>964.0</td>\n",
       "      <td>78.0</td>\n",
       "    </tr>\n",
       "    <tr>\n",
       "      <th>...</th>\n",
       "      <td>...</td>\n",
       "      <td>...</td>\n",
       "      <td>...</td>\n",
       "    </tr>\n",
       "    <tr>\n",
       "      <th>2021-11</th>\n",
       "      <td>291523.0</td>\n",
       "      <td>1427.0</td>\n",
       "      <td>-2072.0</td>\n",
       "    </tr>\n",
       "    <tr>\n",
       "      <th>2021-12</th>\n",
       "      <td>294593.0</td>\n",
       "      <td>3070.0</td>\n",
       "      <td>1643.0</td>\n",
       "    </tr>\n",
       "    <tr>\n",
       "      <th>2022-01</th>\n",
       "      <td>298233.0</td>\n",
       "      <td>3640.0</td>\n",
       "      <td>570.0</td>\n",
       "    </tr>\n",
       "    <tr>\n",
       "      <th>2022-02</th>\n",
       "      <td>303616.0</td>\n",
       "      <td>5383.0</td>\n",
       "      <td>1743.0</td>\n",
       "    </tr>\n",
       "    <tr>\n",
       "      <th>2022-03</th>\n",
       "      <td>309748.0</td>\n",
       "      <td>6132.0</td>\n",
       "      <td>749.0</td>\n",
       "    </tr>\n",
       "  </tbody>\n",
       "</table>\n",
       "<p>987 rows × 3 columns</p>\n",
       "</div>"
      ],
      "text/plain": [
       "         MedianHousePrice  first_diff_mhp  second_diff_mhp\n",
       "date                                                      \n",
       "2000-01          136880.0             NaN              NaN\n",
       "2000-02          137379.0           499.0              NaN\n",
       "2000-03          137794.0           415.0            -84.0\n",
       "2000-04          138680.0           886.0            471.0\n",
       "2000-05          139644.0           964.0             78.0\n",
       "...                   ...             ...              ...\n",
       "2021-11          291523.0          1427.0          -2072.0\n",
       "2021-12          294593.0          3070.0           1643.0\n",
       "2022-01          298233.0          3640.0            570.0\n",
       "2022-02          303616.0          5383.0           1743.0\n",
       "2022-03          309748.0          6132.0            749.0\n",
       "\n",
       "[987 rows x 3 columns]"
      ]
     },
     "execution_count": 117,
     "metadata": {},
     "output_type": "execute_result"
    }
   ],
   "source": [
    "df"
   ]
  },
  {
   "cell_type": "code",
   "execution_count": 114,
   "id": "c826f211-58cc-40b8-97e4-af4e2dad7ab8",
   "metadata": {},
   "outputs": [
    {
     "data": {
      "text/plain": [
       "(-1.4375807052154124,\n",
       " 0.5641328241575112,\n",
       " 22,\n",
       " 963,\n",
       " {'1%': -3.4371587399783072,\n",
       "  '5%': -2.8645459603872903,\n",
       "  '10%': -2.568370536787406},\n",
       " 14613.60489046329)"
      ]
     },
     "execution_count": 114,
     "metadata": {},
     "output_type": "execute_result"
    }
   ],
   "source": [
    "adfuller(df['first_diff_mhp'].dropna())"
   ]
  },
  {
   "cell_type": "code",
   "execution_count": 118,
   "id": "6e82027d-c31a-4824-b075-6ccd8cca3296",
   "metadata": {},
   "outputs": [
    {
     "data": {
      "text/plain": [
       "(-7.224655140437271,\n",
       " 2.0681176152242449e-10,\n",
       " 22,\n",
       " 962,\n",
       " {'1%': -3.4371658366910216,\n",
       "  '5%': -2.8645490899304784,\n",
       "  '10%': -2.5683722036989813},\n",
       " 14598.276620493272)"
      ]
     },
     "execution_count": 118,
     "metadata": {},
     "output_type": "execute_result"
    }
   ],
   "source": [
    "adfuller(df['second_diff_mhp'].dropna())"
   ]
  },
  {
   "cell_type": "code",
   "execution_count": 121,
   "id": "8760c6ab-ec58-48a6-b6a2-f6a6a73846d3",
   "metadata": {},
   "outputs": [
    {
     "data": {
      "text/plain": [
       "period[M]"
      ]
     },
     "execution_count": 121,
     "metadata": {},
     "output_type": "execute_result"
    }
   ],
   "source": [
    "df.index = pd.to_datetime()"
   ]
  },
  {
   "cell_type": "code",
   "execution_count": 119,
   "id": "600fa5b0-537a-479b-9d40-980d89f95c62",
   "metadata": {},
   "outputs": [
    {
     "ename": "TypeError",
     "evalue": "float() argument must be a string or a number, not 'Period'",
     "output_type": "error",
     "traceback": [
      "\u001b[1;31m---------------------------------------------------------------------------\u001b[0m",
      "\u001b[1;31mTypeError\u001b[0m                                 Traceback (most recent call last)",
      "\u001b[1;32m~\\AppData\\Local\\Temp/ipykernel_27924/3085051139.py\u001b[0m in \u001b[0;36m<module>\u001b[1;34m\u001b[0m\n\u001b[0;32m     22\u001b[0m     \u001b[0mplt\u001b[0m\u001b[1;33m.\u001b[0m\u001b[0mxticks\u001b[0m\u001b[1;33m(\u001b[0m\u001b[0mdf\u001b[0m\u001b[1;33m.\u001b[0m\u001b[0mindex\u001b[0m\u001b[1;33m[\u001b[0m\u001b[1;36m0\u001b[0m\u001b[1;33m:\u001b[0m\u001b[1;33m:\u001b[0m\u001b[0msteps\u001b[0m\u001b[1;33m]\u001b[0m\u001b[1;33m,\u001b[0m \u001b[0mfontsize\u001b[0m\u001b[1;33m=\u001b[0m\u001b[1;36m18\u001b[0m\u001b[1;33m)\u001b[0m\u001b[1;33m;\u001b[0m\u001b[1;33m\u001b[0m\u001b[1;33m\u001b[0m\u001b[0m\n\u001b[0;32m     23\u001b[0m \u001b[1;33m\u001b[0m\u001b[0m\n\u001b[1;32m---> 24\u001b[1;33m \u001b[0mplot_series\u001b[0m\u001b[1;33m(\u001b[0m\u001b[0mdf\u001b[0m\u001b[1;33m,\u001b[0m \u001b[1;33m[\u001b[0m\u001b[1;34m'second_diff_mhp'\u001b[0m\u001b[1;33m]\u001b[0m\u001b[1;33m)\u001b[0m\u001b[1;33m\u001b[0m\u001b[1;33m\u001b[0m\u001b[0m\n\u001b[0m",
      "\u001b[1;32m~\\AppData\\Local\\Temp/ipykernel_27924/3085051139.py\u001b[0m in \u001b[0;36mplot_series\u001b[1;34m(df, cols, title, xlab, ylab, steps)\u001b[0m\n\u001b[0;32m     11\u001b[0m         \u001b[1;31m# You only have to specify Y, since our\u001b[0m\u001b[1;33m\u001b[0m\u001b[1;33m\u001b[0m\u001b[0m\n\u001b[0;32m     12\u001b[0m         \u001b[1;31m# index will be a datetime index.\u001b[0m\u001b[1;33m\u001b[0m\u001b[1;33m\u001b[0m\u001b[0m\n\u001b[1;32m---> 13\u001b[1;33m         \u001b[0mplt\u001b[0m\u001b[1;33m.\u001b[0m\u001b[0mplot\u001b[0m\u001b[1;33m(\u001b[0m\u001b[0mdf\u001b[0m\u001b[1;33m[\u001b[0m\u001b[0mcol\u001b[0m\u001b[1;33m]\u001b[0m\u001b[1;33m)\u001b[0m\u001b[1;33m\u001b[0m\u001b[1;33m\u001b[0m\u001b[0m\n\u001b[0m\u001b[0;32m     14\u001b[0m \u001b[1;33m\u001b[0m\u001b[0m\n\u001b[0;32m     15\u001b[0m     \u001b[1;31m# Generate title and labels.\u001b[0m\u001b[1;33m\u001b[0m\u001b[1;33m\u001b[0m\u001b[0m\n",
      "\u001b[1;32m~\\anaconda3\\lib\\site-packages\\matplotlib\\pyplot.py\u001b[0m in \u001b[0;36mplot\u001b[1;34m(scalex, scaley, data, *args, **kwargs)\u001b[0m\n\u001b[0;32m   3017\u001b[0m \u001b[1;33m@\u001b[0m\u001b[0m_copy_docstring_and_deprecators\u001b[0m\u001b[1;33m(\u001b[0m\u001b[0mAxes\u001b[0m\u001b[1;33m.\u001b[0m\u001b[0mplot\u001b[0m\u001b[1;33m)\u001b[0m\u001b[1;33m\u001b[0m\u001b[1;33m\u001b[0m\u001b[0m\n\u001b[0;32m   3018\u001b[0m \u001b[1;32mdef\u001b[0m \u001b[0mplot\u001b[0m\u001b[1;33m(\u001b[0m\u001b[1;33m*\u001b[0m\u001b[0margs\u001b[0m\u001b[1;33m,\u001b[0m \u001b[0mscalex\u001b[0m\u001b[1;33m=\u001b[0m\u001b[1;32mTrue\u001b[0m\u001b[1;33m,\u001b[0m \u001b[0mscaley\u001b[0m\u001b[1;33m=\u001b[0m\u001b[1;32mTrue\u001b[0m\u001b[1;33m,\u001b[0m \u001b[0mdata\u001b[0m\u001b[1;33m=\u001b[0m\u001b[1;32mNone\u001b[0m\u001b[1;33m,\u001b[0m \u001b[1;33m**\u001b[0m\u001b[0mkwargs\u001b[0m\u001b[1;33m)\u001b[0m\u001b[1;33m:\u001b[0m\u001b[1;33m\u001b[0m\u001b[1;33m\u001b[0m\u001b[0m\n\u001b[1;32m-> 3019\u001b[1;33m     return gca().plot(\n\u001b[0m\u001b[0;32m   3020\u001b[0m         \u001b[1;33m*\u001b[0m\u001b[0margs\u001b[0m\u001b[1;33m,\u001b[0m \u001b[0mscalex\u001b[0m\u001b[1;33m=\u001b[0m\u001b[0mscalex\u001b[0m\u001b[1;33m,\u001b[0m \u001b[0mscaley\u001b[0m\u001b[1;33m=\u001b[0m\u001b[0mscaley\u001b[0m\u001b[1;33m,\u001b[0m\u001b[1;33m\u001b[0m\u001b[1;33m\u001b[0m\u001b[0m\n\u001b[0;32m   3021\u001b[0m         **({\"data\": data} if data is not None else {}), **kwargs)\n",
      "\u001b[1;32m~\\anaconda3\\lib\\site-packages\\matplotlib\\axes\\_axes.py\u001b[0m in \u001b[0;36mplot\u001b[1;34m(self, scalex, scaley, data, *args, **kwargs)\u001b[0m\n\u001b[0;32m   1605\u001b[0m         \u001b[0mlines\u001b[0m \u001b[1;33m=\u001b[0m \u001b[1;33m[\u001b[0m\u001b[1;33m*\u001b[0m\u001b[0mself\u001b[0m\u001b[1;33m.\u001b[0m\u001b[0m_get_lines\u001b[0m\u001b[1;33m(\u001b[0m\u001b[1;33m*\u001b[0m\u001b[0margs\u001b[0m\u001b[1;33m,\u001b[0m \u001b[0mdata\u001b[0m\u001b[1;33m=\u001b[0m\u001b[0mdata\u001b[0m\u001b[1;33m,\u001b[0m \u001b[1;33m**\u001b[0m\u001b[0mkwargs\u001b[0m\u001b[1;33m)\u001b[0m\u001b[1;33m]\u001b[0m\u001b[1;33m\u001b[0m\u001b[1;33m\u001b[0m\u001b[0m\n\u001b[0;32m   1606\u001b[0m         \u001b[1;32mfor\u001b[0m \u001b[0mline\u001b[0m \u001b[1;32min\u001b[0m \u001b[0mlines\u001b[0m\u001b[1;33m:\u001b[0m\u001b[1;33m\u001b[0m\u001b[1;33m\u001b[0m\u001b[0m\n\u001b[1;32m-> 1607\u001b[1;33m             \u001b[0mself\u001b[0m\u001b[1;33m.\u001b[0m\u001b[0madd_line\u001b[0m\u001b[1;33m(\u001b[0m\u001b[0mline\u001b[0m\u001b[1;33m)\u001b[0m\u001b[1;33m\u001b[0m\u001b[1;33m\u001b[0m\u001b[0m\n\u001b[0m\u001b[0;32m   1608\u001b[0m         \u001b[0mself\u001b[0m\u001b[1;33m.\u001b[0m\u001b[0m_request_autoscale_view\u001b[0m\u001b[1;33m(\u001b[0m\u001b[0mscalex\u001b[0m\u001b[1;33m=\u001b[0m\u001b[0mscalex\u001b[0m\u001b[1;33m,\u001b[0m \u001b[0mscaley\u001b[0m\u001b[1;33m=\u001b[0m\u001b[0mscaley\u001b[0m\u001b[1;33m)\u001b[0m\u001b[1;33m\u001b[0m\u001b[1;33m\u001b[0m\u001b[0m\n\u001b[0;32m   1609\u001b[0m         \u001b[1;32mreturn\u001b[0m \u001b[0mlines\u001b[0m\u001b[1;33m\u001b[0m\u001b[1;33m\u001b[0m\u001b[0m\n",
      "\u001b[1;32m~\\anaconda3\\lib\\site-packages\\matplotlib\\axes\\_base.py\u001b[0m in \u001b[0;36madd_line\u001b[1;34m(self, line)\u001b[0m\n\u001b[0;32m   2099\u001b[0m             \u001b[0mline\u001b[0m\u001b[1;33m.\u001b[0m\u001b[0mset_clip_path\u001b[0m\u001b[1;33m(\u001b[0m\u001b[0mself\u001b[0m\u001b[1;33m.\u001b[0m\u001b[0mpatch\u001b[0m\u001b[1;33m)\u001b[0m\u001b[1;33m\u001b[0m\u001b[1;33m\u001b[0m\u001b[0m\n\u001b[0;32m   2100\u001b[0m \u001b[1;33m\u001b[0m\u001b[0m\n\u001b[1;32m-> 2101\u001b[1;33m         \u001b[0mself\u001b[0m\u001b[1;33m.\u001b[0m\u001b[0m_update_line_limits\u001b[0m\u001b[1;33m(\u001b[0m\u001b[0mline\u001b[0m\u001b[1;33m)\u001b[0m\u001b[1;33m\u001b[0m\u001b[1;33m\u001b[0m\u001b[0m\n\u001b[0m\u001b[0;32m   2102\u001b[0m         \u001b[1;32mif\u001b[0m \u001b[1;32mnot\u001b[0m \u001b[0mline\u001b[0m\u001b[1;33m.\u001b[0m\u001b[0mget_label\u001b[0m\u001b[1;33m(\u001b[0m\u001b[1;33m)\u001b[0m\u001b[1;33m:\u001b[0m\u001b[1;33m\u001b[0m\u001b[1;33m\u001b[0m\u001b[0m\n\u001b[0;32m   2103\u001b[0m             \u001b[0mline\u001b[0m\u001b[1;33m.\u001b[0m\u001b[0mset_label\u001b[0m\u001b[1;33m(\u001b[0m\u001b[1;34m'_line%d'\u001b[0m \u001b[1;33m%\u001b[0m \u001b[0mlen\u001b[0m\u001b[1;33m(\u001b[0m\u001b[0mself\u001b[0m\u001b[1;33m.\u001b[0m\u001b[0mlines\u001b[0m\u001b[1;33m)\u001b[0m\u001b[1;33m)\u001b[0m\u001b[1;33m\u001b[0m\u001b[1;33m\u001b[0m\u001b[0m\n",
      "\u001b[1;32m~\\anaconda3\\lib\\site-packages\\matplotlib\\axes\\_base.py\u001b[0m in \u001b[0;36m_update_line_limits\u001b[1;34m(self, line)\u001b[0m\n\u001b[0;32m   2121\u001b[0m         \u001b[0mFigures\u001b[0m \u001b[0mout\u001b[0m \u001b[0mthe\u001b[0m \u001b[0mdata\u001b[0m \u001b[0mlimit\u001b[0m \u001b[0mof\u001b[0m \u001b[0mthe\u001b[0m \u001b[0mgiven\u001b[0m \u001b[0mline\u001b[0m\u001b[1;33m,\u001b[0m \u001b[0mupdating\u001b[0m \u001b[0mself\u001b[0m\u001b[1;33m.\u001b[0m\u001b[0mdataLim\u001b[0m\u001b[1;33m.\u001b[0m\u001b[1;33m\u001b[0m\u001b[1;33m\u001b[0m\u001b[0m\n\u001b[0;32m   2122\u001b[0m         \"\"\"\n\u001b[1;32m-> 2123\u001b[1;33m         \u001b[0mpath\u001b[0m \u001b[1;33m=\u001b[0m \u001b[0mline\u001b[0m\u001b[1;33m.\u001b[0m\u001b[0mget_path\u001b[0m\u001b[1;33m(\u001b[0m\u001b[1;33m)\u001b[0m\u001b[1;33m\u001b[0m\u001b[1;33m\u001b[0m\u001b[0m\n\u001b[0m\u001b[0;32m   2124\u001b[0m         \u001b[1;32mif\u001b[0m \u001b[0mpath\u001b[0m\u001b[1;33m.\u001b[0m\u001b[0mvertices\u001b[0m\u001b[1;33m.\u001b[0m\u001b[0msize\u001b[0m \u001b[1;33m==\u001b[0m \u001b[1;36m0\u001b[0m\u001b[1;33m:\u001b[0m\u001b[1;33m\u001b[0m\u001b[1;33m\u001b[0m\u001b[0m\n\u001b[0;32m   2125\u001b[0m             \u001b[1;32mreturn\u001b[0m\u001b[1;33m\u001b[0m\u001b[1;33m\u001b[0m\u001b[0m\n",
      "\u001b[1;32m~\\anaconda3\\lib\\site-packages\\matplotlib\\lines.py\u001b[0m in \u001b[0;36mget_path\u001b[1;34m(self)\u001b[0m\n\u001b[0;32m   1020\u001b[0m         \"\"\"\n\u001b[0;32m   1021\u001b[0m         \u001b[1;32mif\u001b[0m \u001b[0mself\u001b[0m\u001b[1;33m.\u001b[0m\u001b[0m_invalidy\u001b[0m \u001b[1;32mor\u001b[0m \u001b[0mself\u001b[0m\u001b[1;33m.\u001b[0m\u001b[0m_invalidx\u001b[0m\u001b[1;33m:\u001b[0m\u001b[1;33m\u001b[0m\u001b[1;33m\u001b[0m\u001b[0m\n\u001b[1;32m-> 1022\u001b[1;33m             \u001b[0mself\u001b[0m\u001b[1;33m.\u001b[0m\u001b[0mrecache\u001b[0m\u001b[1;33m(\u001b[0m\u001b[1;33m)\u001b[0m\u001b[1;33m\u001b[0m\u001b[1;33m\u001b[0m\u001b[0m\n\u001b[0m\u001b[0;32m   1023\u001b[0m         \u001b[1;32mreturn\u001b[0m \u001b[0mself\u001b[0m\u001b[1;33m.\u001b[0m\u001b[0m_path\u001b[0m\u001b[1;33m\u001b[0m\u001b[1;33m\u001b[0m\u001b[0m\n\u001b[0;32m   1024\u001b[0m \u001b[1;33m\u001b[0m\u001b[0m\n",
      "\u001b[1;32m~\\anaconda3\\lib\\site-packages\\matplotlib\\lines.py\u001b[0m in \u001b[0;36mrecache\u001b[1;34m(self, always)\u001b[0m\n\u001b[0;32m    661\u001b[0m         \u001b[1;32mif\u001b[0m \u001b[0malways\u001b[0m \u001b[1;32mor\u001b[0m \u001b[0mself\u001b[0m\u001b[1;33m.\u001b[0m\u001b[0m_invalidx\u001b[0m\u001b[1;33m:\u001b[0m\u001b[1;33m\u001b[0m\u001b[1;33m\u001b[0m\u001b[0m\n\u001b[0;32m    662\u001b[0m             \u001b[0mxconv\u001b[0m \u001b[1;33m=\u001b[0m \u001b[0mself\u001b[0m\u001b[1;33m.\u001b[0m\u001b[0mconvert_xunits\u001b[0m\u001b[1;33m(\u001b[0m\u001b[0mself\u001b[0m\u001b[1;33m.\u001b[0m\u001b[0m_xorig\u001b[0m\u001b[1;33m)\u001b[0m\u001b[1;33m\u001b[0m\u001b[1;33m\u001b[0m\u001b[0m\n\u001b[1;32m--> 663\u001b[1;33m             \u001b[0mx\u001b[0m \u001b[1;33m=\u001b[0m \u001b[0m_to_unmasked_float_array\u001b[0m\u001b[1;33m(\u001b[0m\u001b[0mxconv\u001b[0m\u001b[1;33m)\u001b[0m\u001b[1;33m.\u001b[0m\u001b[0mravel\u001b[0m\u001b[1;33m(\u001b[0m\u001b[1;33m)\u001b[0m\u001b[1;33m\u001b[0m\u001b[1;33m\u001b[0m\u001b[0m\n\u001b[0m\u001b[0;32m    664\u001b[0m         \u001b[1;32melse\u001b[0m\u001b[1;33m:\u001b[0m\u001b[1;33m\u001b[0m\u001b[1;33m\u001b[0m\u001b[0m\n\u001b[0;32m    665\u001b[0m             \u001b[0mx\u001b[0m \u001b[1;33m=\u001b[0m \u001b[0mself\u001b[0m\u001b[1;33m.\u001b[0m\u001b[0m_x\u001b[0m\u001b[1;33m\u001b[0m\u001b[1;33m\u001b[0m\u001b[0m\n",
      "\u001b[1;32m~\\anaconda3\\lib\\site-packages\\matplotlib\\cbook\\__init__.py\u001b[0m in \u001b[0;36m_to_unmasked_float_array\u001b[1;34m(x)\u001b[0m\n\u001b[0;32m   1331\u001b[0m         \u001b[1;32mreturn\u001b[0m \u001b[0mnp\u001b[0m\u001b[1;33m.\u001b[0m\u001b[0mma\u001b[0m\u001b[1;33m.\u001b[0m\u001b[0masarray\u001b[0m\u001b[1;33m(\u001b[0m\u001b[0mx\u001b[0m\u001b[1;33m,\u001b[0m \u001b[0mfloat\u001b[0m\u001b[1;33m)\u001b[0m\u001b[1;33m.\u001b[0m\u001b[0mfilled\u001b[0m\u001b[1;33m(\u001b[0m\u001b[0mnp\u001b[0m\u001b[1;33m.\u001b[0m\u001b[0mnan\u001b[0m\u001b[1;33m)\u001b[0m\u001b[1;33m\u001b[0m\u001b[1;33m\u001b[0m\u001b[0m\n\u001b[0;32m   1332\u001b[0m     \u001b[1;32melse\u001b[0m\u001b[1;33m:\u001b[0m\u001b[1;33m\u001b[0m\u001b[1;33m\u001b[0m\u001b[0m\n\u001b[1;32m-> 1333\u001b[1;33m         \u001b[1;32mreturn\u001b[0m \u001b[0mnp\u001b[0m\u001b[1;33m.\u001b[0m\u001b[0masarray\u001b[0m\u001b[1;33m(\u001b[0m\u001b[0mx\u001b[0m\u001b[1;33m,\u001b[0m \u001b[0mfloat\u001b[0m\u001b[1;33m)\u001b[0m\u001b[1;33m\u001b[0m\u001b[1;33m\u001b[0m\u001b[0m\n\u001b[0m\u001b[0;32m   1334\u001b[0m \u001b[1;33m\u001b[0m\u001b[0m\n\u001b[0;32m   1335\u001b[0m \u001b[1;33m\u001b[0m\u001b[0m\n",
      "\u001b[1;32m~\\anaconda3\\lib\\site-packages\\numpy\\core\\_asarray.py\u001b[0m in \u001b[0;36masarray\u001b[1;34m(a, dtype, order, like)\u001b[0m\n\u001b[0;32m    100\u001b[0m         \u001b[1;32mreturn\u001b[0m \u001b[0m_asarray_with_like\u001b[0m\u001b[1;33m(\u001b[0m\u001b[0ma\u001b[0m\u001b[1;33m,\u001b[0m \u001b[0mdtype\u001b[0m\u001b[1;33m=\u001b[0m\u001b[0mdtype\u001b[0m\u001b[1;33m,\u001b[0m \u001b[0morder\u001b[0m\u001b[1;33m=\u001b[0m\u001b[0morder\u001b[0m\u001b[1;33m,\u001b[0m \u001b[0mlike\u001b[0m\u001b[1;33m=\u001b[0m\u001b[0mlike\u001b[0m\u001b[1;33m)\u001b[0m\u001b[1;33m\u001b[0m\u001b[1;33m\u001b[0m\u001b[0m\n\u001b[0;32m    101\u001b[0m \u001b[1;33m\u001b[0m\u001b[0m\n\u001b[1;32m--> 102\u001b[1;33m     \u001b[1;32mreturn\u001b[0m \u001b[0marray\u001b[0m\u001b[1;33m(\u001b[0m\u001b[0ma\u001b[0m\u001b[1;33m,\u001b[0m \u001b[0mdtype\u001b[0m\u001b[1;33m,\u001b[0m \u001b[0mcopy\u001b[0m\u001b[1;33m=\u001b[0m\u001b[1;32mFalse\u001b[0m\u001b[1;33m,\u001b[0m \u001b[0morder\u001b[0m\u001b[1;33m=\u001b[0m\u001b[0morder\u001b[0m\u001b[1;33m)\u001b[0m\u001b[1;33m\u001b[0m\u001b[1;33m\u001b[0m\u001b[0m\n\u001b[0m\u001b[0;32m    103\u001b[0m \u001b[1;33m\u001b[0m\u001b[0m\n\u001b[0;32m    104\u001b[0m \u001b[1;33m\u001b[0m\u001b[0m\n",
      "\u001b[1;31mTypeError\u001b[0m: float() argument must be a string or a number, not 'Period'"
     ]
    },
    {
     "data": {
      "image/png": "[encoded data removed]",
      "text/plain": [
       "<Figure size 1296x648 with 1 Axes>"
      ]
     },
     "metadata": {
      "needs_background": "light"
     },
     "output_type": "display_data"
    }
   ],
   "source": [
    "import matplotlib.pyplot as plt\n",
    "def plot_series(df, cols=None, title='Title', xlab=None, ylab=None, steps=1):\n",
    "    \n",
    "    # Set figure size to be (18, 9).\n",
    "    plt.figure(figsize=(18,9))\n",
    "    \n",
    "    # Iterate through each column name.\n",
    "    for col in cols:\n",
    "            \n",
    "        # Generate a line plot of the column name.\n",
    "        # You only have to specify Y, since our\n",
    "        # index will be a datetime index.\n",
    "        plt.plot(df[col])\n",
    "        \n",
    "    # Generate title and labels.\n",
    "    plt.title(title, fontsize=26)\n",
    "    plt.xlabel(xlab, fontsize=20)\n",
    "    plt.ylabel(ylab, fontsize=20)\n",
    "    \n",
    "    # Enlarge tick marks.\n",
    "    plt.yticks(fontsize=18)\n",
    "    plt.xticks(df.index[0::steps], fontsize=18);\n",
    "    \n",
    "plot_series(df, ['second_diff_mhp'])"
   ]
  },
  {
   "cell_type": "code",
   "execution_count": 103,
   "id": "66c8b233-8d50-4f2a-9bcc-0dee1effc9e9",
   "metadata": {},
   "outputs": [
    {
     "data": {
      "text/plain": [
       "<AxesSubplot:xlabel='Lag', ylabel='Autocorrelation'>"
      ]
     },
     "execution_count": 103,
     "metadata": {},
     "output_type": "execute_result"
    },
    {
     "data": {
      "image/png": "[encoded data removed]",
      "text/plain": [
       "<Figure size 432x288 with 1 Axes>"
      ]
     },
     "metadata": {
      "needs_background": "light"
     },
     "output_type": "display_data"
    }
   ],
   "source": [
    "from pandas.plotting import autocorrelation_plot\n",
    "autocorrelation_plot(series)"
   ]
  },
  {
   "cell_type": "code",
   "execution_count": 100,
   "id": "15a38894-adc8-4d04-b4cc-c1f7dabf3076",
   "metadata": {},
   "outputs": [
    {
     "data": {
      "application/vnd.plotly.v1+json": {
       "config": {
        "plotlyServerURL": "https://plot.ly"
       },
       "data": [
        {
         "alignmentgroup": "True",
         "bingroup": "x",
         "hovertemplate": "variable=0<br>value=%{x}<br>count=%{y}<extra></extra>",
         "legendgroup": "0",
         "marker": {
          "color": "#636efa",
          "pattern": {
           "shape": ""
          }
         },
         "name": "0",
         "offsetgroup": "0",
         "orientation": "v",
         "showlegend": true,
         "type": "histogram",
         "x": [
          136880,
          -5132.196151579934,
          -3955.008685912064,
          -2803.480558332987,
          -2279.8348388069426,
          -11021.976360928908,
          -161.89717941969866,
          -26.06560056481976,
          112.94088834745344,
          692.0150749150198,
          369.9069209432055,
          408.70255230460316,
          623.4239095706143,
          645.8845283317496,
          442.4847063066554,
          642.0342093142099,
          640.6817916664586,
          585.5908463377273,
          654.1877775698085,
          747.3916960740753,
          782.5715376911394,
          787.6989066011447,
          733.3271848585864,
          765.6198489802482,
          516.2391958473017,
          681.6523614281614,
          675.4524684073986,
          714.2886860241997,
          647.8988056742819,
          861.7721161373483,
          898.3017170297098,
          1458.2781705131638,
          1641.6196684123715,
          2135.453128615336,
          1915.2358325662208,
          1657.7181038113486,
          987.6142849377356,
          942.9755054456473,
          990.4716759625007,
          1506.1742031112954,
          1967.568363705097,
          2171.9219446984644,
          2206.222101038118,
          1717.4352087712323,
          1203.9296462556813,
          1537.5330939916312,
          1546.6273644313042,
          1668.180983440834,
          1138.8454301453894,
          1098.9092173923273,
          1767.2920155204774,
          1999.2860854656028,
          2914.6868660941545,
          2879.194020243245,
          3638.0628340337134,
          3621.8745116023347,
          3678.675805033534,
          2408.4337827454438,
          1618.0000223956886,
          1288.7058094936947,
          1672.2809529243386,
          -1579.6563562971423,
          -1148.1055423694197,
          -836.5371234269987,
          -661.1823002016754,
          2258.030601066421,
          -188.90768656122964,
          -143.34723004771513,
          -119.75253474636702,
          -100.41772747575305,
          2107.6653467689466,
          -173.94013163997442,
          -131.98952630569693,
          -110.26428853784455,
          -92.46141887645354,
          3179.6848812483368,
          -241.85458789064432,
          -183.52448161083157,
          -153.3166832285351,
          -128.56273102303385,
          3486.0235573991085,
          -274.6249614406843,
          -208.3913483939832,
          -174.0905086278217,
          -145.98249037918868,
          4095.024840939848,
          -320.8463535102783,
          -243.46513836376835,
          -203.3912160823238,
          -170.552412529476,
          3906.264075873536,
          -316.9561079580453,
          -240.51313606958138,
          -200.92510803695768,
          -168.4844732900383,
          4270.185452676553,
          -340.2316449061036,
          -258.1751158974366,
          -215.67995786783285,
          -180.8570589091978,
          3636.8422999398317,
          -302.7797894203104,
          -229.7558395738597,
          -191.93844312580768,
          -160.94876250211382,
          3487.9836901790695,
          -286.0319526361418,
          -217.0472195277107,
          -181.32163899816805,
          -152.04610882716952,
          2801.001142856432,
          -237.6346605119179,
          -180.32230963069014,
          -150.64158297592076,
          -126.31954269547714,
          3410.870474609139,
          -268.8884976602858,
          -204.03839585848618,
          -170.4540442219004,
          -142.93315624643583,
          2706.129244022246,
          -228.20576027518837,
          -173.1674566126312,
          -144.66440584894735,
          -121.30741877609398,
          1755.340930250357,
          -157.9835312393261,
          -119.88131350587355,
          -100.1490657076356,
          -83.97936301288428,
          2848.481036948797,
          -217.06251454085577,
          -164.71172122762073,
          -137.600469244353,
          -115.38399959862,
          2884.624196008139,
          -230.38166032981826,
          -174.81857653986663,
          -146.04375441669254,
          -122.46406275749905,
          3437.232363563904,
          -269.2841158520314,
          -204.3385994816199,
          -170.70483487058664,
          -143.143455152167,
          1799.0185955337947,
          -168.46741332072997,
          -127.83670951897511,
          -106.79501789773349,
          -89.55228401412023,
          1496.0488520051003,
          -129.82870325969998,
          -98.51682232599705,
          -82.30113120964961,
          -69.01309088995913,
          1586.5221877096337,
          -128.64184868446318,
          -97.61621145659592,
          -81.54875926359091,
          -68.3821941728238,
          514.8541331749293,
          -57.760255995672196,
          -43.829728977929335,
          -36.6154347077827,
          -30.70364023343427,
          511.84532068745466,
          -44.44111020670971,
          -33.72287366568344,
          -28.172149535443168,
          -23.623577074555214,
          -146.7628468683106,
          1.450600036419928,
          1.1007466181763448,
          0.9195657118107192,
          0.7710959875839762,
          -831.9276222090703,
          55.122801384015474,
          41.828371490351856,
          34.943497049913276,
          29.301647528714966,
          -567.2496439437382,
          47.6060557407327,
          36.12450265075313,
          30.17847472493304,
          25.305968320230022,
          -833.3519652241375,
          63.76046523725381,
          48.38281726220157,
          40.41909287951421,
          33.893173636635765,
          563.9995147205773,
          -25.38550063734874,
          -19.263065817940515,
          -16.09239995718235,
          -13.494179782923311,
          -424.2666113416781,
          23.27553694800008,
          17.661979827855248,
          14.754849830875173,
          12.372585619159508,
          301.3431527366629,
          -15.560982208873611,
          -11.808009176689666,
          -9.864432181522716,
          -8.271756957867183,
          -680.685507212067,
          42.00146469089668,
          31.871617989672814,
          26.62560720188776,
          22.3267338227015,
          -1576.0861521437182,
          111.69620280445088,
          84.75748959888006,
          70.80655981163727,
          59.37439104501391,
          -2407.4269100965466,
          179.41284995921887,
          136.14234309241874,
          113.73355917795561,
          95.37055373872863,
          -1945.320910491515,
          161.47815859981347,
          122.5331121769268,
          102.3643831043155,
          85.837003346649,
          -1280.6703086342313,
          114.3336574161076,
          86.75884708645754,
          72.4784974695649,
          60.77638374973321,
          -1718.022586840263,
          134.4442488301429,
          102.01919792924309,
          85.2270221109502,
          71.46657812321791,
          -3025.564622011094,
          224.38145108823664,
          170.2654882555944,
          142.24009624501923,
          119.27452935423935,
          -2374.077198971994,
          198.07284133683424,
          150.30194731702795,
          125.5625181075302,
          105.28965212462936,
          -655.9353234533337,
          79.91487473377492,
          60.6411318735918,
          50.65971103409538,
          42.48037895309972,
          -190.6490053347079,
          27.36359159613494,
          20.764083933609072,
          17.34635320061352,
          14.54567431146279,
          -911.1801462160656,
          65.14512890839251,
          49.43352994316956,
          41.296860149886925,
          34.629219806636684,
          -2604.1132155698724,
          183.76465006847866,
          139.44458294694778,
          116.49225631350419,
          97.68384170153877,
          -2228.1037771186675,
          180.92938636092003,
          137.29312364780344,
          114.69492333126254,
          96.17669954395387,
          -2694.0634246192058,
          211.1282416646136,
          160.20866688055685,
          133.8386095141177,
          112.22951601300156,
          -2823.2839233347913,
          225.23862383706728,
          170.91592943907017,
          142.7834759838297,
          119.73017698328476,
          -2729.670793913654,
          221.6780601112987,
          168.21409683086677,
          140.5263601456536,
          117.83748683193699,
          -3077.666630309657,
          243.96455157996388,
          185.12556760088773,
          154.6542333548423,
          129.68432518682675,
          -3292.1000987940934,
          262.22892476577545,
          198.98496820236323,
          166.23240163573064,
          139.3931246669963,
          -3242.8251602443634,
          262.3607974963961,
          199.08503607672174,
          166.31599851860665,
          139.46322430227883,
          -2902.4549440815463,
          239.94243329716846,
          182.07349743234226,
          152.10452842654195,
          127.54628631210653,
          -2104.391691759927,
          183.17122278083116,
          138.9942775122472,
          116.11607034044573,
          97.3683933430002,
          -2476.7697498513153,
          197.2156685879745,
          149.65150613358128,
          125.01913836874883,
          104.83400449561304,
          -2930.3417285116448,
          229.72229667691863,
          174.3182371679577,
          145.62577000222518,
          122.11356458131922,
          -3042.0834443779895,
          243.10737883116235,
          184.47512641741196,
          154.11085361603182,
          129.22867755778134,
          -2925.5065038523753,
          237.89840597310103,
          180.52244537946535,
          150.80877674170188,
          126.45974196595489,
          -1765.1300422835338,
          160.42317675513914,
          121.73256918188417,
          101.6956080411619,
          85.276206264738,
          -941.632037936768,
          91.78342048628838,
          69.64724056769046,
          58.18343049456598,
          48.78934612433659,
          -829.3295506814611,
          71.67282907228218,
          54.386889724904904,
          45.43490585318068,
          38.099151750822784,
          -1167.7875155105721,
          90.26688408458722,
          68.49646001233486,
          57.222066341288155,
          47.98320031911135,
          -1483.5870365538285,
          114.5314665119804,
          86.90894889802439,
          72.60389279387891,
          60.8815332025697,
          -549.4672625960375,
          57.430574169236934,
          43.57955929200398,
          36.40644250056357,
          30.528391145315254,
          -0.770861094497377,
          10.681691177276662,
          8.105497824697522,
          6.771347514441004,
          5.678070454130648,
          688.9875091879221,
          -43.452064727345714,
          -32.972364607820055,
          -27.545172913727583,
          -23.09782981031458,
          -688.9862256472115,
          37.38591912048287,
          28.369242386397673,
          23.69971630058717,
          19.873246589442715,
          -283.04371784222894,
          25.583309733250644,
          19.41316762950737,
          16.21779528152547,
          13.599329235818004,
          -600.1780644140963,
          44.309237476147246,
          33.62280579129583,
          28.08855265256716,
          23.55347743933089,
          11.392630705522606,
          7.450809277972439,
          5.653834902390372,
          4.723223883542232,
          3.9606293908436783,
          -947.0827868010092,
          63.82640160253504,
          48.43285119938082,
          40.460891320952214,
          33.92822345427703,
          -1617.8153771980142,
          118.48764842949458,
          89.91098512939061,
          75.11179928071215,
          62.98452225964866,
          -621.3607777116122,
          62.90329248845228,
          47.73237607872579,
          39.875713140674634,
          33.437526007619454,
          -828.4068903377047,
          66.26604711834807,
          50.28410687536234,
          42.00743365447852,
          35.22506670615985,
          -35.96637818595627,
          14.637873094790848,
          11.107534056063741,
          9.279254001303343,
          7.781059511209605,
          -1054.9060059276526,
          72.26625635990058,
          54.83719515960547,
          45.81109182618093,
          38.41460010939045,
          -589.1215427779243,
          52.22160131117562,
          39.62687825402827,
          33.10436562623363,
          27.759455553488806,
          -1102.394399525656,
          82.35452024955885,
          62.49238754960243,
          52.206253367621684,
          43.77722220495343,
          -971.80000632265,
          79.32144744612742,
          60.190826438891236,
          50.283525061036926,
          42.16493059453205,
          -1288.3149780673848,
          99.62984795603552,
          75.60127909321454,
          63.15744502679445,
          52.96027442088234,
          -2485.301688994019,
          182.31405003202963,
          138.34383632877143,
          115.57269060166436,
          96.91274571392569,
          -2392.1761549096263,
          191.47920480760513,
          145.29855359811336,
          121.38267396282754,
          101.7846703628311,
          -1843.4461315940716,
          156.99448575996212,
          119.13080444803927,
          99.52208908592002,
          83.45361574861454,
          -392.257658169925,
          54.924992288142676,
          41.678269678785,
          34.81810172557016,
          29.196498075849377,
          -536.8049681879638,
          45.562028416694375,
          34.57345059790532,
          28.88272304003476,
          24.21942397407838,
          -1326.0903157477733,
          95.87147513439413,
          72.74934467341518,
          60.77493386430433,
          50.962434816668974,
          -1547.8528496342187,
          119.80637573535205,
          90.91166387317935,
          75.94776810964686,
          63.68551861200831,
          -928.6586160834704,
          83.40950209423318,
          63.292930544615956,
          52.875028430775274,
          44.33801928683533,
          109.16172297985759,
          8.242045661492739,
          6.254242148686899,
          5.2248051809147,
          4.381227202247828,
          751.1385101758642,
          -48.0016739324783,
          -36.424706273915945,
          -30.42926537359017,
          -25.516267225932097,
          614.2413167357154,
          -49.386337603616994,
          -37.475418954883935,
          -31.307032643991988,
          -26.252313395933015,
          -101.64595297383494,
          -2.4396455158130266,
          -1.8512556760106236,
          -1.5465423335554078,
          -1.2968432518537156,
          -958.8489990120579,
          62.77141975786071,
          47.63230820433819,
          39.792116257798625,
          33.36742637239513,
          -1484.7771065005218,
          109.52030274982098,
          83.10636967164464,
          69.42721124389209,
          58.217747063579736,
          -2021.5354767829704,
          153.5657947647851,
          116.52903971416526,
          97.34857013064902,
          81.63102523246198,
          -1258.883278403082,
          111.43245734326774,
          84.55735385013395,
          70.63936604585615,
          59.23419177450705,
          -1539.1673424221517,
          122.1141485205444,
          92.66285167483147,
          77.41071356032626,
          64.9122622286377,
          -122.17983323422959,
          30.660409860720392,
          23.265780793095473,
          19.4362752729794,
          16.298165192391025,
          465.07525785424514,
          -24.989882445632247,
          -18.962862194806803,
          -15.841609308496118,
          -13.28388087725034,
          1257.844037146744,
          -87.56349310762016,
          -66.44506858754903,
          -55.508330241951626,
          -46.54615779677988,
          397.1764678914915,
          -42.397082882671384,
          -32.171821612806525,
          -26.876397850573994,
          -22.537032728403574,
          -672.024496344704,
          36.462810006400105,
          27.668767265742645,
          23.114538120338693,
          19.382549142785138,
          -878.6352309819194,
          64.68357435133657,
          49.083292382827494,
          41.00427105976269,
          34.38387108332245,
          -1430.4089721397322,
          106.28942085051676,
          80.6547067493666,
          67.37908761296421,
          56.50030600032187,
          -593.6057727719017,
          58.815237840346526,
          44.63027197297197,
          37.284209770936286,
          31.264437315316172,
          -279.88359138494707,
          29.34168255489203,
          22.265102049306734,
          18.600306444015587,
          15.597168840031372,
          1005.3730962261034,
          -60.859265164413955,
          -46.18132402584888,
          -38.57996145580546,
          -32.35098166146781,
          905.1452408613404,
          -70.94752905407222,
          -53.83651641581673,
          -44.97512299724622,
          -37.713603757030796,
          1182.823704406066,
          -91.12405683335965,
          -69.14690119578154,
          -57.76544608009863,
          -48.43884794815676,
          1128.1806314955174,
          -91.25592956395121,
          -69.24696907016914,
          -57.84904296300374,
          -48.50894758338109,
          241.81041533270036,
          -32.836309915350284,
          -24.916900720330887,
          -20.815623840724584,
          -17.454809173796093,
          -307.18382454069797,
          14.176318537764018,
          10.757296495721675,
          8.986664911150001,
          7.535710787895368,
          -336.2017624974833,
          24.792073349730344,
          18.812760383239947,
          15.716213984182104,
          13.17873142438475,
          797.6006386090303,
          -48.0016739324783,
          -36.424706273915945,
          -30.42926537359017,
          -25.5162672259612,
          1138.2413167357154,
          -83.93699301657034,
          -63.69320204213727,
          -53.20941596236662,
          -44.618417827790836,
          1393.357412368874,
          -107.41033906047232,
          -81.50528368158848,
          -68.08966111758491,
          -57.096152899815934,
          337.45893538798555,
          -42.13333742151735,
          -31.971685864031315,
          -26.709204084792873,
          -22.396833457925823,
          319.7159359809302,
          -28.880127997836098,
          -21.914864488964668,
          -18.30771735389135,
          -15.351820116717136,
          -701.0773396562727,
          40.880546480970224,
          31.02104105745093,
          25.915033697296167,
          21.730886923207436,
          -688.2329895276634,
          52.94690132938558,
          40.17725156311644,
          33.56414848213899,
          28.145003547309898,
          -1076.358210630162,
          80.77204748254735,
          61.29157305703848,
          51.20309077287675,
          42.93602658211603,
          -521.242600276426,
          49.32040123833576,
          37.425385017704684,
          31.265234202553984,
          26.217263578320853,
          -37.539155107573606,
          11.604800291359425,
          8.805972945323447,
          7.356525694718584,
          6.168767900788225,
          -272.4209776723583,
          20.110591414035298,
          15.260350842785556,
          12.748524641414406,
          10.690194373513805,
          -834.5420351708599,
          58.749301475065295,
          44.580238035763614,
          37.24241132949828,
          31.22938749770401,
          -681.0686994663556,
          55.7821650369151,
          42.32871086226078,
          35.36148146438063,
          29.65214570486569,
          -1530.3985631296819,
          111.23464824739494,
          84.4072520385671,
          70.51397072151303,
          59.12904232167057,
          -1229.7226666663773,
          101.67387528007384,
          77.15233114609146,
          64.45319671166362,
          54.04681876703398,
          -1394.5633384704124,
          110.77309369036811,
          84.05701447825413,
          70.2213816313888,
          58.88369359832723,
          -94.01842323623714,
          26.704227943206206,
          20.263744561729254,
          16.928368786146166,
          14.195176135312067,
          -171.03122703015106,
          16.220345861802343,
          12.308348548598588,
          10.282416596019175,
          8.622255134047009,
          -1240.4634119738766,
          84.79416576534277,
          64.34364322561305,
          53.75279570117709,
          45.07406545683625,
          -1480.951007310592,
          113.3446119367436,
          86.00833802862326,
          71.85152084782021,
          60.25063648543437,
          -1379.7992080613622,
          111.95994826560491,
          84.95762534765527,
          70.9737535774475,
          59.514590315462556,
          -781.6864777709125,
          72.26625635990058,
          54.83719515960547,
          45.81109182618093,
          38.41460010939045,
          -239.12154277792433,
          29.143873459019233,
          22.115000237739878,
          18.47491111967247,
          15.492019387194887,
          198.81777198190684,
          -7.714554739155574,
          -5.853970651165582,
          -4.8904176493233535,
          -4.1008286613214295,
          -361.65764552462497,
          22.418364199227653,
          17.011538644408574,
          14.211470092064701,
          11.916937990143197,
          -857.0632523216191,
          60.661456068541156,
          46.031222214282025,
          38.45456613146234,
          32.24583220860222,
          -1780.700565105566,
          128.64184868446318,
          97.61621145656682,
          81.54875926359091,
          68.3821941728238,
          -530.8541331749293,
          58.815237840346526,
          44.63027197297197,
          37.28420977096539,
          31.264437315316172,
          -1122.883591384947,
          84.92603849593434,
          64.44371109997155,
          53.8363925840531,
          45.144165092060575,
          -214.58079114777502,
          29.869173477229197,
          22.665373546798946,
          18.934693975606933,
          15.877567380986875,
          -1152.1460391226283,
          81.49734750075731,
          61.84194636612665,
          51.66287362881121,
          43.321574575908016,
          -334.20641138093197,
          37.12217365932884,
          28.169106637651566,
          23.53252253480605,
          19.733047318964964,
          -1329.7841501678631,
          94.55274782856577,
          71.74866592962644,
          59.93896503536962,
          50.26143846430932,
          -476.5550112623605,
          48.92478304656106,
          37.12518139457097,
          31.01444355386775,
          26.006964672589675,
          -755.6498035959958,
          58.88117420565686,
          44.68030591015122,
          37.326008212403394,
          31.299487132928334,
          -211.69848330353852,
          24.85800971504068,
          18.862794320419198,
          15.758012425620109,
          13.213781241996912,
          199.78574669043883,
          -8.571727487957105,
          -6.504411834612256,
          -5.433797388133826,
          -4.556476290337741,
          495.93594941709307,
          -34.28690995177021,
          -26.01764733850723,
          -21.735189552564407,
          -18.22590516138007,
          1130.7437976683432,
          -80.90392021313892,
          -61.39164093142608,
          -51.28668765578186,
          -43.006126217369456,
          503.87238411360886,
          -48.199483028351096,
          -36.5748080854828,
          -30.554660697933286,
          -25.621416678797686,
          1276.6859924914897,
          -93.10214779214584,
          -70.6479193114792,
          -59.0193993235298,
          -49.49034247669624,
          1257.6273890533193,
          -100.15733887837268,
          -76.00155059073586,
          -63.491832558385795,
          -53.240672961837845,
          2315.8208243427507,
          -171.23674066300737,
          -129.9381348809402,
          -108.55055243850802,
          -91.02437635409296,
          1246.2743125859997,
          -113.87210285908077,
          -86.40860952614457,
          -72.18590837941156,
          -60.53103502638987,
          1844.3183434100938,
          -142.68629449160653,
          -108.27344007792999,
          -90.4518272918649,
          -75.84780532546574,
          1270.4261118352588,
          -110.17966640272061,
          -83.60670904352446,
          -69.84519565835944,
          -58.568245239788666,
          505.6843959688849,
          -53.73813771287678,
          -40.777658809383865,
          -34.06572977951146,
          -28.565601358714048,
          -334.8630863467115,
          12.13229121369659,
          9.206244442844763,
          7.690913226309931,
          6.449166441714624,
          -1158.940113021119,
          78.66208379319869,
          59.690487066982314,
          49.86554064656957,
          41.814432418352226,
          514.8339411185589,
          -19.38529139579623,
          -14.709977533697383,
          -12.288741785479942,
          -10.304646379721817,
          232.57822406635387,
          -18.9237368387694,
          -14.359739973355317,
          -11.996152695355704,
          -10.059297656378476,
          1033.8739806361846,
          -71.67282907228218,
          -54.386889724904904,
          -45.43490585318068,
          -38.099151750822784,
          595.7875155106012,
          -52.551283137639984,
          -39.87704793998273,
          -33.313357833452756,
          -27.934704641607823,
          972.4688591186132,
          -73.84872912691208,
          -56.03800965216942,
          -46.81425442092586,
          -39.25579573222785,
          611.6789488241484,
          -54.00188317403081,
          -40.97779455812997,
          -34.23292354529258,
          -28.7058006291918,
          -169.60351867234567,
          1.1868545752658974,
          0.9006108694011346,
          0.7523719460587017,
          0.6308967171353288,
          249.33194546532468,
          -16.220345861802343,
          -12.308348548598588,
          -10.282416596019175,
          -8.622255134047009,
          39.463411973876646,
          -5.604591049806913,
          -4.2528846611094195,
          -3.5528675230161753,
          -2.979234497528523,
          1023.2658130803902,
          -68.5078835382592,
          -51.98526073980611,
          -43.42858066369081,
          -36.41676050517708,
          1478.672703418124,
          -110.17966640272061,
          -83.60670904352446,
          -69.84519565835944,
          -58.568245239788666,
          1886.684395968885,
          -144.7962581809552,
          -109.87452606798615,
          -91.78937741817208,
          -76.96939948925865,
          1591.5026532302145,
          -131.74085785317584,
          -99.96780650448636,
          -83.51328601161367,
          -70.02953560088645,
          853.1540533488151,
          -80.64017475195578,
          -61.191505182679975,
          -51.11949389000074,
          -42.865926946891705,
          754.612816439243,
          -64.68357435133657,
          -49.083292382827494,
          -41.00427105976269,
          -34.38387108332245,
          128.4089721397322,
          -20.44027324047056,
          -15.510520528710913,
          -12.957516848662635,
          -10.865443461603718,
          430.6164947638172,
          -32.176946262450656,
          -24.41656134845107,
          -20.39763942625723,
          -17.104310997616267,
          210.66725627338747,
          -19.846845952852163,
          -15.060215094010346,
          -12.581330875633284,
          -10.549995103036053,
          625.2824674964941,
          -44.90266476376564,
          -34.0731112259964,
          -28.464738625567406,
          -23.868925797898555,
          -109.0586034381704,
          -1.120918209955562,
          -0.8505769322218839,
          -0.7105735045915935,
          -0.5958468994940631,
          -507.14683738391614,
          33.23192810709588,
          25.217104343464598,
          21.066414489410818,
          17.665108079498168,
          200.29447302912013,
          -7.055191086226841,
          -5.3536312792566605,
          -4.472433234855998,
          -3.7503304851416033,
          364.19343528946047,
          1313.6804357279325,
          887.4981749934377,
          1080.347273122199,
          1413.7531964895898,
          1325.4843393222254,
          1525.1478394761507,
          1909.4688379943836,
          3838.6215245648636,
          4915.790434678202,
          4342.46164687784,
          3319.1019236170396,
          235.45756524644094,
          473.21625209777267,
          -771.9125212423096,
          3027.0417421959864,
          3707.317244010832,
          5412.333875000826,
          5397.720741384663,
          6752.540674059768,
          3760.222574306943,
          1272.3409819302033,
          -849.8149605254875,
          1038.1609997983323,
          1524.5765004052082,
          3717.370480132173,
          4768.9105324371485
         ],
         "xaxis": "x",
         "yaxis": "y"
        }
       ],
       "layout": {
        "autosize": true,
        "barmode": "relative",
        "legend": {
         "title": {
          "text": "variable"
         },
         "tracegroupgap": 0
        },
        "margin": {
         "t": 60
        },
        "template": {
         "data": {
          "bar": [
           {
            "error_x": {
             "color": "#2a3f5f"
            },
            "error_y": {
             "color": "#2a3f5f"
            },
            "marker": {
             "line": {
              "color": "#E5ECF6",
              "width": 0.5
             },
             "pattern": {
              "fillmode": "overlay",
              "size": 10,
              "solidity": 0.2
             }
            },
            "type": "bar"
           }
          ],
          "barpolar": [
           {
            "marker": {
             "line": {
              "color": "#E5ECF6",
              "width": 0.5
             },
             "pattern": {
              "fillmode": "overlay",
              "size": 10,
              "solidity": 0.2
             }
            },
            "type": "barpolar"
           }
          ],
          "carpet": [
           {
            "aaxis": {
             "endlinecolor": "#2a3f5f",
             "gridcolor": "white",
             "linecolor": "white",
             "minorgridcolor": "white",
             "startlinecolor": "#2a3f5f"
            },
            "baxis": {
             "endlinecolor": "#2a3f5f",
             "gridcolor": "white",
             "linecolor": "white",
             "minorgridcolor": "white",
             "startlinecolor": "#2a3f5f"
            },
            "type": "carpet"
           }
          ],
          "choropleth": [
           {
            "colorbar": {
             "outlinewidth": 0,
             "ticks": ""
            },
            "type": "choropleth"
           }
          ],
          "contour": [
           {
            "colorbar": {
             "outlinewidth": 0,
             "ticks": ""
            },
            "colorscale": [
             [
              0,
              "#0d0887"
             ],
             [
              0.1111111111111111,
              "#46039f"
             ],
             [
              0.2222222222222222,
              "#7201a8"
             ],
             [
              0.3333333333333333,
              "#9c179e"
             ],
             [
              0.4444444444444444,
              "#bd3786"
             ],
             [
              0.5555555555555556,
              "#d8576b"
             ],
             [
              0.6666666666666666,
              "#ed7953"
             ],
             [
              0.7777777777777778,
              "#fb9f3a"
             ],
             [
              0.8888888888888888,
              "#fdca26"
             ],
             [
              1,
              "#f0f921"
             ]
            ],
            "type": "contour"
           }
          ],
          "contourcarpet": [
           {
            "colorbar": {
             "outlinewidth": 0,
             "ticks": ""
            },
            "type": "contourcarpet"
           }
          ],
          "heatmap": [
           {
            "colorbar": {
             "outlinewidth": 0,
             "ticks": ""
            },
            "colorscale": [
             [
              0,
              "#0d0887"
             ],
             [
              0.1111111111111111,
              "#46039f"
             ],
             [
              0.2222222222222222,
              "#7201a8"
             ],
             [
              0.3333333333333333,
              "#9c179e"
             ],
             [
              0.4444444444444444,
              "#bd3786"
             ],
             [
              0.5555555555555556,
              "#d8576b"
             ],
             [
              0.6666666666666666,
              "#ed7953"
             ],
             [
              0.7777777777777778,
              "#fb9f3a"
             ],
             [
              0.8888888888888888,
              "#fdca26"
             ],
             [
              1,
              "#f0f921"
             ]
            ],
            "type": "heatmap"
           }
          ],
          "heatmapgl": [
           {
            "colorbar": {
             "outlinewidth": 0,
             "ticks": ""
            },
            "colorscale": [
             [
              0,
              "#0d0887"
             ],
             [
              0.1111111111111111,
              "#46039f"
             ],
             [
              0.2222222222222222,
              "#7201a8"
             ],
             [
              0.3333333333333333,
              "#9c179e"
             ],
             [
              0.4444444444444444,
              "#bd3786"
             ],
             [
              0.5555555555555556,
              "#d8576b"
             ],
             [
              0.6666666666666666,
              "#ed7953"
             ],
             [
              0.7777777777777778,
              "#fb9f3a"
             ],
             [
              0.8888888888888888,
              "#fdca26"
             ],
             [
              1,
              "#f0f921"
             ]
            ],
            "type": "heatmapgl"
           }
          ],
          "histogram": [
           {
            "marker": {
             "pattern": {
              "fillmode": "overlay",
              "size": 10,
              "solidity": 0.2
             }
            },
            "type": "histogram"
           }
          ],
          "histogram2d": [
           {
            "colorbar": {
             "outlinewidth": 0,
             "ticks": ""
            },
            "colorscale": [
             [
              0,
              "#0d0887"
             ],
             [
              0.1111111111111111,
              "#46039f"
             ],
             [
              0.2222222222222222,
              "#7201a8"
             ],
             [
              0.3333333333333333,
              "#9c179e"
             ],
             [
              0.4444444444444444,
              "#bd3786"
             ],
             [
              0.5555555555555556,
              "#d8576b"
             ],
             [
              0.6666666666666666,
              "#ed7953"
             ],
             [
              0.7777777777777778,
              "#fb9f3a"
             ],
             [
              0.8888888888888888,
              "#fdca26"
             ],
             [
              1,
              "#f0f921"
             ]
            ],
            "type": "histogram2d"
           }
          ],
          "histogram2dcontour": [
           {
            "colorbar": {
             "outlinewidth": 0,
             "ticks": ""
            },
            "colorscale": [
             [
              0,
              "#0d0887"
             ],
             [
              0.1111111111111111,
              "#46039f"
             ],
             [
              0.2222222222222222,
              "#7201a8"
             ],
             [
              0.3333333333333333,
              "#9c179e"
             ],
             [
              0.4444444444444444,
              "#bd3786"
             ],
             [
              0.5555555555555556,
              "#d8576b"
             ],
             [
              0.6666666666666666,
              "#ed7953"
             ],
             [
              0.7777777777777778,
              "#fb9f3a"
             ],
             [
              0.8888888888888888,
              "#fdca26"
             ],
             [
              1,
              "#f0f921"
             ]
            ],
            "type": "histogram2dcontour"
           }
          ],
          "mesh3d": [
           {
            "colorbar": {
             "outlinewidth": 0,
             "ticks": ""
            },
            "type": "mesh3d"
           }
          ],
          "parcoords": [
           {
            "line": {
             "colorbar": {
              "outlinewidth": 0,
              "ticks": ""
             }
            },
            "type": "parcoords"
           }
          ],
          "pie": [
           {
            "automargin": true,
            "type": "pie"
           }
          ],
          "scatter": [
           {
            "marker": {
             "colorbar": {
              "outlinewidth": 0,
              "ticks": ""
             }
            },
            "type": "scatter"
           }
          ],
          "scatter3d": [
           {
            "line": {
             "colorbar": {
              "outlinewidth": 0,
              "ticks": ""
             }
            },
            "marker": {
             "colorbar": {
              "outlinewidth": 0,
              "ticks": ""
             }
            },
            "type": "scatter3d"
           }
          ],
          "scattercarpet": [
           {
            "marker": {
             "colorbar": {
              "outlinewidth": 0,
              "ticks": ""
             }
            },
            "type": "scattercarpet"
           }
          ],
          "scattergeo": [
           {
            "marker": {
             "colorbar": {
              "outlinewidth": 0,
              "ticks": ""
             }
            },
            "type": "scattergeo"
           }
          ],
          "scattergl": [
           {
            "marker": {
             "colorbar": {
              "outlinewidth": 0,
              "ticks": ""
             }
            },
            "type": "scattergl"
           }
          ],
          "scattermapbox": [
           {
            "marker": {
             "colorbar": {
              "outlinewidth": 0,
              "ticks": ""
             }
            },
            "type": "scattermapbox"
           }
          ],
          "scatterpolar": [
           {
            "marker": {
             "colorbar": {
              "outlinewidth": 0,
              "ticks": ""
             }
            },
            "type": "scatterpolar"
           }
          ],
          "scatterpolargl": [
           {
            "marker": {
             "colorbar": {
              "outlinewidth": 0,
              "ticks": ""
             }
            },
            "type": "scatterpolargl"
           }
          ],
          "scatterternary": [
           {
            "marker": {
             "colorbar": {
              "outlinewidth": 0,
              "ticks": ""
             }
            },
            "type": "scatterternary"
           }
          ],
          "surface": [
           {
            "colorbar": {
             "outlinewidth": 0,
             "ticks": ""
            },
            "colorscale": [
             [
              0,
              "#0d0887"
             ],
             [
              0.1111111111111111,
              "#46039f"
             ],
             [
              0.2222222222222222,
              "#7201a8"
             ],
             [
              0.3333333333333333,
              "#9c179e"
             ],
             [
              0.4444444444444444,
              "#bd3786"
             ],
             [
              0.5555555555555556,
              "#d8576b"
             ],
             [
              0.6666666666666666,
              "#ed7953"
             ],
             [
              0.7777777777777778,
              "#fb9f3a"
             ],
             [
              0.8888888888888888,
              "#fdca26"
             ],
             [
              1,
              "#f0f921"
             ]
            ],
            "type": "surface"
           }
          ],
          "table": [
           {
            "cells": {
             "fill": {
              "color": "#EBF0F8"
             },
             "line": {
              "color": "white"
             }
            },
            "header": {
             "fill": {
              "color": "#C8D4E3"
             },
             "line": {
              "color": "white"
             }
            },
            "type": "table"
           }
          ]
         },
         "layout": {
          "annotationdefaults": {
           "arrowcolor": "#2a3f5f",
           "arrowhead": 0,
           "arrowwidth": 1
          },
          "autotypenumbers": "strict",
          "coloraxis": {
           "colorbar": {
            "outlinewidth": 0,
            "ticks": ""
           }
          },
          "colorscale": {
           "diverging": [
            [
             0,
             "#8e0152"
            ],
            [
             0.1,
             "#c51b7d"
            ],
            [
             0.2,
             "#de77ae"
            ],
            [
             0.3,
             "#f1b6da"
            ],
            [
             0.4,
             "#fde0ef"
            ],
            [
             0.5,
             "#f7f7f7"
            ],
            [
             0.6,
             "#e6f5d0"
            ],
            [
             0.7,
             "#b8e186"
            ],
            [
             0.8,
             "#7fbc41"
            ],
            [
             0.9,
             "#4d9221"
            ],
            [
             1,
             "#276419"
            ]
           ],
           "sequential": [
            [
             0,
             "#0d0887"
            ],
            [
             0.1111111111111111,
             "#46039f"
            ],
            [
             0.2222222222222222,
             "#7201a8"
            ],
            [
             0.3333333333333333,
             "#9c179e"
            ],
            [
             0.4444444444444444,
             "#bd3786"
            ],
            [
             0.5555555555555556,
             "#d8576b"
            ],
            [
             0.6666666666666666,
             "#ed7953"
            ],
            [
             0.7777777777777778,
             "#fb9f3a"
            ],
            [
             0.8888888888888888,
             "#fdca26"
            ],
            [
             1,
             "#f0f921"
            ]
           ],
           "sequentialminus": [
            [
             0,
             "#0d0887"
            ],
            [
             0.1111111111111111,
             "#46039f"
            ],
            [
             0.2222222222222222,
             "#7201a8"
            ],
            [
             0.3333333333333333,
             "#9c179e"
            ],
            [
             0.4444444444444444,
             "#bd3786"
            ],
            [
             0.5555555555555556,
             "#d8576b"
            ],
            [
             0.6666666666666666,
             "#ed7953"
            ],
            [
             0.7777777777777778,
             "#fb9f3a"
            ],
            [
             0.8888888888888888,
             "#fdca26"
            ],
            [
             1,
             "#f0f921"
            ]
           ]
          },
          "colorway": [
           "#636efa",
           "#EF553B",
           "#00cc96",
           "#ab63fa",
           "#FFA15A",
           "#19d3f3",
           "#FF6692",
           "#B6E880",
           "#FF97FF",
           "#FECB52"
          ],
          "font": {
           "color": "#2a3f5f"
          },
          "geo": {
           "bgcolor": "white",
           "lakecolor": "white",
           "landcolor": "#E5ECF6",
           "showlakes": true,
           "showland": true,
           "subunitcolor": "white"
          },
          "hoverlabel": {
           "align": "left"
          },
          "hovermode": "closest",
          "mapbox": {
           "style": "light"
          },
          "paper_bgcolor": "white",
          "plot_bgcolor": "#E5ECF6",
          "polar": {
           "angularaxis": {
            "gridcolor": "white",
            "linecolor": "white",
            "ticks": ""
           },
           "bgcolor": "#E5ECF6",
           "radialaxis": {
            "gridcolor": "white",
            "linecolor": "white",
            "ticks": ""
           }
          },
          "scene": {
           "xaxis": {
            "backgroundcolor": "#E5ECF6",
            "gridcolor": "white",
            "gridwidth": 2,
            "linecolor": "white",
            "showbackground": true,
            "ticks": "",
            "zerolinecolor": "white"
           },
           "yaxis": {
            "backgroundcolor": "#E5ECF6",
            "gridcolor": "white",
            "gridwidth": 2,
            "linecolor": "white",
            "showbackground": true,
            "ticks": "",
            "zerolinecolor": "white"
           },
           "zaxis": {
            "backgroundcolor": "#E5ECF6",
            "gridcolor": "white",
            "gridwidth": 2,
            "linecolor": "white",
            "showbackground": true,
            "ticks": "",
            "zerolinecolor": "white"
           }
          },
          "shapedefaults": {
           "line": {
            "color": "#2a3f5f"
           }
          },
          "ternary": {
           "aaxis": {
            "gridcolor": "white",
            "linecolor": "white",
            "ticks": ""
           },
           "baxis": {
            "gridcolor": "white",
            "linecolor": "white",
            "ticks": ""
           },
           "bgcolor": "#E5ECF6",
           "caxis": {
            "gridcolor": "white",
            "linecolor": "white",
            "ticks": ""
           }
          },
          "title": {
           "x": 0.05
          },
          "xaxis": {
           "automargin": true,
           "gridcolor": "white",
           "linecolor": "white",
           "ticks": "",
           "title": {
            "standoff": 15
           },
           "zerolinecolor": "white",
           "zerolinewidth": 2
          },
          "yaxis": {
           "automargin": true,
           "gridcolor": "white",
           "linecolor": "white",
           "ticks": "",
           "title": {
            "standoff": 15
           },
           "zerolinecolor": "white",
           "zerolinewidth": 2
          }
         }
        },
        "xaxis": {
         "anchor": "y",
         "autorange": true,
         "domain": [
          0,
          1
         ],
         "range": [
          -12000,
          137000
         ],
         "title": {
          "text": "value"
         },
         "type": "linear"
        },
        "yaxis": {
         "anchor": "x",
         "autorange": true,
         "domain": [
          0,
          1
         ],
         "range": [
          0,
          518.9473684210526
         ],
         "title": {
          "text": "count"
         }
        }
       }
      },
      "image/png": "[encoded data removed]",
      "text/html": [
       "<div>                            <div id=\"34f610e0-c760-4753-a23b-ce511d390b52\" class=\"plotly-graph-div\" style=\"height:525px; width:100%;\"></div>            <script type=\"text/javascript\">                require([\"plotly\"], function(Plotly) {                    window.PLOTLYENV=window.PLOTLYENV || {};                                    if (document.getElementById(\"34f610e0-c760-4753-a23b-ce511d390b52\")) {                    Plotly.newPlot(                        \"34f610e0-c760-4753-a23b-ce511d390b52\",                        [{\"alignmentgroup\":\"True\",\"bingroup\":\"x\",\"hovertemplate\":\"variable=0<br>value=%{x}<br>count=%{y}<extra></extra>\",\"legendgroup\":\"0\",\"marker\":{\"color\":\"#636efa\",\"pattern\":{\"shape\":\"\"}},\"name\":\"0\",\"offsetgroup\":\"0\",\"orientation\":\"v\",\"showlegend\":true,\"x\":[136880.0,-5132.196151579934,-3955.008685912064,-2803.480558332987,-2279.8348388069426,-11021.976360928908,-161.89717941969866,-26.06560056481976,112.94088834745344,692.0150749150198,369.9069209432055,408.70255230460316,623.4239095706143,645.8845283317496,442.4847063066554,642.0342093142099,640.6817916664586,585.5908463377273,654.1877775698085,747.3916960740753,782.5715376911394,787.6989066011447,733.3271848585864,765.6198489802482,516.2391958473017,681.6523614281614,675.4524684073986,714.2886860241997,647.8988056742819,861.7721161373483,898.3017170297098,1458.2781705131638,1641.6196684123715,2135.453128615336,1915.2358325662208,1657.7181038113486,987.6142849377356,942.9755054456473,990.4716759625007,1506.1742031112954,1967.568363705097,2171.9219446984644,2206.222101038118,1717.4352087712323,1203.9296462556813,1537.5330939916312,1546.6273644313042,1668.180983440834,1138.8454301453894,1098.9092173923273,1767.2920155204774,1999.2860854656028,2914.6868660941545,2879.194020243245,3638.0628340337134,3621.8745116023347,3678.675805033534,2408.4337827454438,1618.0000223956886,1288.7058094936947,1672.2809529243386,-1579.6563562971423,-1148.1055423694197,-836.5371234269987,-661.1823002016754,2258.030601066421,-188.90768656122964,-143.34723004771513,-119.75253474636702,-100.41772747575305,2107.6653467689466,-173.94013163997442,-131.98952630569693,-110.26428853784455,-92.46141887645354,3179.6848812483368,-241.85458789064432,-183.52448161083157,-153.3166832285351,-128.56273102303385,3486.0235573991085,-274.6249614406843,-208.3913483939832,-174.0905086278217,-145.98249037918868,4095.024840939848,-320.8463535102783,-243.46513836376835,-203.3912160823238,-170.552412529476,3906.264075873536,-316.9561079580453,-240.51313606958138,-200.92510803695768,-168.4844732900383,4270.185452676553,-340.2316449061036,-258.1751158974366,-215.67995786783285,-180.8570589091978,3636.8422999398317,-302.7797894203104,-229.7558395738597,-191.93844312580768,-160.94876250211382,3487.9836901790695,-286.0319526361418,-217.0472195277107,-181.32163899816805,-152.04610882716952,2801.001142856432,-237.6346605119179,-180.32230963069014,-150.64158297592076,-126.31954269547714,3410.870474609139,-268.8884976602858,-204.03839585848618,-170.4540442219004,-142.93315624643583,2706.129244022246,-228.20576027518837,-173.1674566126312,-144.66440584894735,-121.30741877609398,1755.340930250357,-157.9835312393261,-119.88131350587355,-100.1490657076356,-83.97936301288428,2848.481036948797,-217.06251454085577,-164.71172122762073,-137.600469244353,-115.38399959862,2884.624196008139,-230.38166032981826,-174.81857653986663,-146.04375441669254,-122.46406275749905,3437.232363563904,-269.2841158520314,-204.3385994816199,-170.70483487058664,-143.143455152167,1799.0185955337947,-168.46741332072997,-127.83670951897511,-106.79501789773349,-89.55228401412023,1496.0488520051003,-129.82870325969998,-98.51682232599705,-82.30113120964961,-69.01309088995913,1586.5221877096337,-128.64184868446318,-97.61621145659592,-81.54875926359091,-68.3821941728238,514.8541331749293,-57.760255995672196,-43.829728977929335,-36.6154347077827,-30.70364023343427,511.84532068745466,-44.44111020670971,-33.72287366568344,-28.172149535443168,-23.623577074555214,-146.7628468683106,1.450600036419928,1.1007466181763448,0.9195657118107192,0.7710959875839762,-831.9276222090703,55.122801384015474,41.828371490351856,34.943497049913276,29.301647528714966,-567.2496439437382,47.6060557407327,36.12450265075313,30.17847472493304,25.305968320230022,-833.3519652241375,63.76046523725381,48.38281726220157,40.41909287951421,33.893173636635765,563.9995147205773,-25.38550063734874,-19.263065817940515,-16.09239995718235,-13.494179782923311,-424.2666113416781,23.27553694800008,17.661979827855248,14.754849830875173,12.372585619159508,301.3431527366629,-15.560982208873611,-11.808009176689666,-9.864432181522716,-8.271756957867183,-680.685507212067,42.00146469089668,31.871617989672814,26.62560720188776,22.3267338227015,-1576.0861521437182,111.69620280445088,84.75748959888006,70.80655981163727,59.37439104501391,-2407.4269100965466,179.41284995921887,136.14234309241874,113.73355917795561,95.37055373872863,-1945.320910491515,161.47815859981347,122.5331121769268,102.3643831043155,85.837003346649,-1280.6703086342313,114.3336574161076,86.75884708645754,72.4784974695649,60.77638374973321,-1718.022586840263,134.4442488301429,102.01919792924309,85.2270221109502,71.46657812321791,-3025.564622011094,224.38145108823664,170.2654882555944,142.24009624501923,119.27452935423935,-2374.077198971994,198.07284133683424,150.30194731702795,125.5625181075302,105.28965212462936,-655.9353234533337,79.91487473377492,60.6411318735918,50.65971103409538,42.48037895309972,-190.6490053347079,27.36359159613494,20.764083933609072,17.34635320061352,14.54567431146279,-911.1801462160656,65.14512890839251,49.43352994316956,41.296860149886925,34.629219806636684,-2604.1132155698724,183.76465006847866,139.44458294694778,116.49225631350419,97.68384170153877,-2228.1037771186675,180.92938636092003,137.29312364780344,114.69492333126254,96.17669954395387,-2694.0634246192058,211.1282416646136,160.20866688055685,133.8386095141177,112.22951601300156,-2823.2839233347913,225.23862383706728,170.91592943907017,142.7834759838297,119.73017698328476,-2729.670793913654,221.6780601112987,168.21409683086677,140.5263601456536,117.83748683193699,-3077.666630309657,243.96455157996388,185.12556760088773,154.6542333548423,129.68432518682675,-3292.1000987940934,262.22892476577545,198.98496820236323,166.23240163573064,139.3931246669963,-3242.8251602443634,262.3607974963961,199.08503607672174,166.31599851860665,139.46322430227883,-2902.4549440815463,239.94243329716846,182.07349743234226,152.10452842654195,127.54628631210653,-2104.391691759927,183.17122278083116,138.9942775122472,116.11607034044573,97.3683933430002,-2476.7697498513153,197.2156685879745,149.65150613358128,125.01913836874883,104.83400449561304,-2930.3417285116448,229.72229667691863,174.3182371679577,145.62577000222518,122.11356458131922,-3042.0834443779895,243.10737883116235,184.47512641741196,154.11085361603182,129.22867755778134,-2925.5065038523753,237.89840597310103,180.52244537946535,150.80877674170188,126.45974196595489,-1765.1300422835338,160.42317675513914,121.73256918188417,101.6956080411619,85.276206264738,-941.632037936768,91.78342048628838,69.64724056769046,58.18343049456598,48.78934612433659,-829.3295506814611,71.67282907228218,54.386889724904904,45.43490585318068,38.099151750822784,-1167.7875155105721,90.26688408458722,68.49646001233486,57.222066341288155,47.98320031911135,-1483.5870365538285,114.5314665119804,86.90894889802439,72.60389279387891,60.8815332025697,-549.4672625960375,57.430574169236934,43.57955929200398,36.40644250056357,30.528391145315254,-0.770861094497377,10.681691177276662,8.105497824697522,6.771347514441004,5.678070454130648,688.9875091879221,-43.452064727345714,-32.972364607820055,-27.545172913727583,-23.09782981031458,-688.9862256472115,37.38591912048287,28.369242386397673,23.69971630058717,19.873246589442715,-283.04371784222894,25.583309733250644,19.41316762950737,16.21779528152547,13.599329235818004,-600.1780644140963,44.309237476147246,33.62280579129583,28.08855265256716,23.55347743933089,11.392630705522606,7.450809277972439,5.653834902390372,4.723223883542232,3.9606293908436783,-947.0827868010092,63.82640160253504,48.43285119938082,40.460891320952214,33.92822345427703,-1617.8153771980142,118.48764842949458,89.91098512939061,75.11179928071215,62.98452225964866,-621.3607777116122,62.90329248845228,47.73237607872579,39.875713140674634,33.437526007619454,-828.4068903377047,66.26604711834807,50.28410687536234,42.00743365447852,35.22506670615985,-35.96637818595627,14.637873094790848,11.107534056063741,9.279254001303343,7.781059511209605,-1054.9060059276526,72.26625635990058,54.83719515960547,45.81109182618093,38.41460010939045,-589.1215427779243,52.22160131117562,39.62687825402827,33.10436562623363,27.759455553488806,-1102.394399525656,82.35452024955885,62.49238754960243,52.206253367621684,43.77722220495343,-971.80000632265,79.32144744612742,60.190826438891236,50.283525061036926,42.16493059453205,-1288.3149780673848,99.62984795603552,75.60127909321454,63.15744502679445,52.96027442088234,-2485.301688994019,182.31405003202963,138.34383632877143,115.57269060166436,96.91274571392569,-2392.1761549096263,191.47920480760513,145.29855359811336,121.38267396282754,101.7846703628311,-1843.4461315940716,156.99448575996212,119.13080444803927,99.52208908592002,83.45361574861454,-392.257658169925,54.924992288142676,41.678269678785,34.81810172557016,29.196498075849377,-536.8049681879638,45.562028416694375,34.57345059790532,28.88272304003476,24.21942397407838,-1326.0903157477733,95.87147513439413,72.74934467341518,60.77493386430433,50.962434816668974,-1547.8528496342187,119.80637573535205,90.91166387317935,75.94776810964686,63.68551861200831,-928.6586160834704,83.40950209423318,63.292930544615956,52.875028430775274,44.33801928683533,109.16172297985759,8.242045661492739,6.254242148686899,5.2248051809147,4.381227202247828,751.1385101758642,-48.0016739324783,-36.424706273915945,-30.42926537359017,-25.516267225932097,614.2413167357154,-49.386337603616994,-37.475418954883935,-31.307032643991988,-26.252313395933015,-101.64595297383494,-2.4396455158130266,-1.8512556760106236,-1.5465423335554078,-1.2968432518537156,-958.8489990120579,62.77141975786071,47.63230820433819,39.792116257798625,33.36742637239513,-1484.7771065005218,109.52030274982098,83.10636967164464,69.42721124389209,58.217747063579736,-2021.5354767829704,153.5657947647851,116.52903971416526,97.34857013064902,81.63102523246198,-1258.883278403082,111.43245734326774,84.55735385013395,70.63936604585615,59.23419177450705,-1539.1673424221517,122.1141485205444,92.66285167483147,77.41071356032626,64.9122622286377,-122.17983323422959,30.660409860720392,23.265780793095473,19.4362752729794,16.298165192391025,465.07525785424514,-24.989882445632247,-18.962862194806803,-15.841609308496118,-13.28388087725034,1257.844037146744,-87.56349310762016,-66.44506858754903,-55.508330241951626,-46.54615779677988,397.1764678914915,-42.397082882671384,-32.171821612806525,-26.876397850573994,-22.537032728403574,-672.024496344704,36.462810006400105,27.668767265742645,23.114538120338693,19.382549142785138,-878.6352309819194,64.68357435133657,49.083292382827494,41.00427105976269,34.38387108332245,-1430.4089721397322,106.28942085051676,80.6547067493666,67.37908761296421,56.50030600032187,-593.6057727719017,58.815237840346526,44.63027197297197,37.284209770936286,31.264437315316172,-279.88359138494707,29.34168255489203,22.265102049306734,18.600306444015587,15.597168840031372,1005.3730962261034,-60.859265164413955,-46.18132402584888,-38.57996145580546,-32.35098166146781,905.1452408613404,-70.94752905407222,-53.83651641581673,-44.97512299724622,-37.713603757030796,1182.823704406066,-91.12405683335965,-69.14690119578154,-57.76544608009863,-48.43884794815676,1128.1806314955174,-91.25592956395121,-69.24696907016914,-57.84904296300374,-48.50894758338109,241.81041533270036,-32.836309915350284,-24.916900720330887,-20.815623840724584,-17.454809173796093,-307.18382454069797,14.176318537764018,10.757296495721675,8.986664911150001,7.535710787895368,-336.2017624974833,24.792073349730344,18.812760383239947,15.716213984182104,13.17873142438475,797.6006386090303,-48.0016739324783,-36.424706273915945,-30.42926537359017,-25.5162672259612,1138.2413167357154,-83.93699301657034,-63.69320204213727,-53.20941596236662,-44.618417827790836,1393.357412368874,-107.41033906047232,-81.50528368158848,-68.08966111758491,-57.096152899815934,337.45893538798555,-42.13333742151735,-31.971685864031315,-26.709204084792873,-22.396833457925823,319.7159359809302,-28.880127997836098,-21.914864488964668,-18.30771735389135,-15.351820116717136,-701.0773396562727,40.880546480970224,31.02104105745093,25.915033697296167,21.730886923207436,-688.2329895276634,52.94690132938558,40.17725156311644,33.56414848213899,28.145003547309898,-1076.358210630162,80.77204748254735,61.29157305703848,51.20309077287675,42.93602658211603,-521.242600276426,49.32040123833576,37.425385017704684,31.265234202553984,26.217263578320853,-37.539155107573606,11.604800291359425,8.805972945323447,7.356525694718584,6.168767900788225,-272.4209776723583,20.110591414035298,15.260350842785556,12.748524641414406,10.690194373513805,-834.5420351708599,58.749301475065295,44.580238035763614,37.24241132949828,31.22938749770401,-681.0686994663556,55.7821650369151,42.32871086226078,35.36148146438063,29.65214570486569,-1530.3985631296819,111.23464824739494,84.4072520385671,70.51397072151303,59.12904232167057,-1229.7226666663773,101.67387528007384,77.15233114609146,64.45319671166362,54.04681876703398,-1394.5633384704124,110.77309369036811,84.05701447825413,70.2213816313888,58.88369359832723,-94.01842323623714,26.704227943206206,20.263744561729254,16.928368786146166,14.195176135312067,-171.03122703015106,16.220345861802343,12.308348548598588,10.282416596019175,8.622255134047009,-1240.4634119738766,84.79416576534277,64.34364322561305,53.75279570117709,45.07406545683625,-1480.951007310592,113.3446119367436,86.00833802862326,71.85152084782021,60.25063648543437,-1379.7992080613622,111.95994826560491,84.95762534765527,70.9737535774475,59.514590315462556,-781.6864777709125,72.26625635990058,54.83719515960547,45.81109182618093,38.41460010939045,-239.12154277792433,29.143873459019233,22.115000237739878,18.47491111967247,15.492019387194887,198.81777198190684,-7.714554739155574,-5.853970651165582,-4.8904176493233535,-4.1008286613214295,-361.65764552462497,22.418364199227653,17.011538644408574,14.211470092064701,11.916937990143197,-857.0632523216191,60.661456068541156,46.031222214282025,38.45456613146234,32.24583220860222,-1780.700565105566,128.64184868446318,97.61621145656682,81.54875926359091,68.3821941728238,-530.8541331749293,58.815237840346526,44.63027197297197,37.28420977096539,31.264437315316172,-1122.883591384947,84.92603849593434,64.44371109997155,53.8363925840531,45.144165092060575,-214.58079114777502,29.869173477229197,22.665373546798946,18.934693975606933,15.877567380986875,-1152.1460391226283,81.49734750075731,61.84194636612665,51.66287362881121,43.321574575908016,-334.20641138093197,37.12217365932884,28.169106637651566,23.53252253480605,19.733047318964964,-1329.7841501678631,94.55274782856577,71.74866592962644,59.93896503536962,50.26143846430932,-476.5550112623605,48.92478304656106,37.12518139457097,31.01444355386775,26.006964672589675,-755.6498035959958,58.88117420565686,44.68030591015122,37.326008212403394,31.299487132928334,-211.69848330353852,24.85800971504068,18.862794320419198,15.758012425620109,13.213781241996912,199.78574669043883,-8.571727487957105,-6.504411834612256,-5.433797388133826,-4.556476290337741,495.93594941709307,-34.28690995177021,-26.01764733850723,-21.735189552564407,-18.22590516138007,1130.7437976683432,-80.90392021313892,-61.39164093142608,-51.28668765578186,-43.006126217369456,503.87238411360886,-48.199483028351096,-36.5748080854828,-30.554660697933286,-25.621416678797686,1276.6859924914897,-93.10214779214584,-70.6479193114792,-59.0193993235298,-49.49034247669624,1257.6273890533193,-100.15733887837268,-76.00155059073586,-63.491832558385795,-53.240672961837845,2315.8208243427507,-171.23674066300737,-129.9381348809402,-108.55055243850802,-91.02437635409296,1246.2743125859997,-113.87210285908077,-86.40860952614457,-72.18590837941156,-60.53103502638987,1844.3183434100938,-142.68629449160653,-108.27344007792999,-90.4518272918649,-75.84780532546574,1270.4261118352588,-110.17966640272061,-83.60670904352446,-69.84519565835944,-58.568245239788666,505.6843959688849,-53.73813771287678,-40.777658809383865,-34.06572977951146,-28.565601358714048,-334.8630863467115,12.13229121369659,9.206244442844763,7.690913226309931,6.449166441714624,-1158.940113021119,78.66208379319869,59.690487066982314,49.86554064656957,41.814432418352226,514.8339411185589,-19.38529139579623,-14.709977533697383,-12.288741785479942,-10.304646379721817,232.57822406635387,-18.9237368387694,-14.359739973355317,-11.996152695355704,-10.059297656378476,1033.8739806361846,-71.67282907228218,-54.386889724904904,-45.43490585318068,-38.099151750822784,595.7875155106012,-52.551283137639984,-39.87704793998273,-33.313357833452756,-27.934704641607823,972.4688591186132,-73.84872912691208,-56.03800965216942,-46.81425442092586,-39.25579573222785,611.6789488241484,-54.00188317403081,-40.97779455812997,-34.23292354529258,-28.7058006291918,-169.60351867234567,1.1868545752658974,0.9006108694011346,0.7523719460587017,0.6308967171353288,249.33194546532468,-16.220345861802343,-12.308348548598588,-10.282416596019175,-8.622255134047009,39.463411973876646,-5.604591049806913,-4.2528846611094195,-3.5528675230161753,-2.979234497528523,1023.2658130803902,-68.5078835382592,-51.98526073980611,-43.42858066369081,-36.41676050517708,1478.672703418124,-110.17966640272061,-83.60670904352446,-69.84519565835944,-58.568245239788666,1886.684395968885,-144.7962581809552,-109.87452606798615,-91.78937741817208,-76.96939948925865,1591.5026532302145,-131.74085785317584,-99.96780650448636,-83.51328601161367,-70.02953560088645,853.1540533488151,-80.64017475195578,-61.191505182679975,-51.11949389000074,-42.865926946891705,754.612816439243,-64.68357435133657,-49.083292382827494,-41.00427105976269,-34.38387108332245,128.4089721397322,-20.44027324047056,-15.510520528710913,-12.957516848662635,-10.865443461603718,430.6164947638172,-32.176946262450656,-24.41656134845107,-20.39763942625723,-17.104310997616267,210.66725627338747,-19.846845952852163,-15.060215094010346,-12.581330875633284,-10.549995103036053,625.2824674964941,-44.90266476376564,-34.0731112259964,-28.464738625567406,-23.868925797898555,-109.0586034381704,-1.120918209955562,-0.8505769322218839,-0.7105735045915935,-0.5958468994940631,-507.14683738391614,33.23192810709588,25.217104343464598,21.066414489410818,17.665108079498168,200.29447302912013,-7.055191086226841,-5.3536312792566605,-4.472433234855998,-3.7503304851416033,364.19343528946047,1313.6804357279325,887.4981749934377,1080.347273122199,1413.7531964895898,1325.4843393222254,1525.1478394761507,1909.4688379943836,3838.6215245648636,4915.790434678202,4342.46164687784,3319.1019236170396,235.45756524644094,473.21625209777267,-771.9125212423096,3027.0417421959864,3707.317244010832,5412.333875000826,5397.720741384663,6752.540674059768,3760.222574306943,1272.3409819302033,-849.8149605254875,1038.1609997983323,1524.5765004052082,3717.370480132173,4768.9105324371485],\"xaxis\":\"x\",\"yaxis\":\"y\",\"type\":\"histogram\"}],                        {\"template\":{\"data\":{\"bar\":[{\"error_x\":{\"color\":\"#2a3f5f\"},\"error_y\":{\"color\":\"#2a3f5f\"},\"marker\":{\"line\":{\"color\":\"#E5ECF6\",\"width\":0.5},\"pattern\":{\"fillmode\":\"overlay\",\"size\":10,\"solidity\":0.2}},\"type\":\"bar\"}],\"barpolar\":[{\"marker\":{\"line\":{\"color\":\"#E5ECF6\",\"width\":0.5},\"pattern\":{\"fillmode\":\"overlay\",\"size\":10,\"solidity\":0.2}},\"type\":\"barpolar\"}],\"carpet\":[{\"aaxis\":{\"endlinecolor\":\"#2a3f5f\",\"gridcolor\":\"white\",\"linecolor\":\"white\",\"minorgridcolor\":\"white\",\"startlinecolor\":\"#2a3f5f\"},\"baxis\":{\"endlinecolor\":\"#2a3f5f\",\"gridcolor\":\"white\",\"linecolor\":\"white\",\"minorgridcolor\":\"white\",\"startlinecolor\":\"#2a3f5f\"},\"type\":\"carpet\"}],\"choropleth\":[{\"colorbar\":{\"outlinewidth\":0,\"ticks\":\"\"},\"type\":\"choropleth\"}],\"contour\":[{\"colorbar\":{\"outlinewidth\":0,\"ticks\":\"\"},\"colorscale\":[[0.0,\"#0d0887\"],[0.1111111111111111,\"#46039f\"],[0.2222222222222222,\"#7201a8\"],[0.3333333333333333,\"#9c179e\"],[0.4444444444444444,\"#bd3786\"],[0.5555555555555556,\"#d8576b\"],[0.6666666666666666,\"#ed7953\"],[0.7777777777777778,\"#fb9f3a\"],[0.8888888888888888,\"#fdca26\"],[1.0,\"#f0f921\"]],\"type\":\"contour\"}],\"contourcarpet\":[{\"colorbar\":{\"outlinewidth\":0,\"ticks\":\"\"},\"type\":\"contourcarpet\"}],\"heatmap\":[{\"colorbar\":{\"outlinewidth\":0,\"ticks\":\"\"},\"colorscale\":[[0.0,\"#0d0887\"],[0.1111111111111111,\"#46039f\"],[0.2222222222222222,\"#7201a8\"],[0.3333333333333333,\"#9c179e\"],[0.4444444444444444,\"#bd3786\"],[0.5555555555555556,\"#d8576b\"],[0.6666666666666666,\"#ed7953\"],[0.7777777777777778,\"#fb9f3a\"],[0.8888888888888888,\"#fdca26\"],[1.0,\"#f0f921\"]],\"type\":\"heatmap\"}],\"heatmapgl\":[{\"colorbar\":{\"outlinewidth\":0,\"ticks\":\"\"},\"colorscale\":[[0.0,\"#0d0887\"],[0.1111111111111111,\"#46039f\"],[0.2222222222222222,\"#7201a8\"],[0.3333333333333333,\"#9c179e\"],[0.4444444444444444,\"#bd3786\"],[0.5555555555555556,\"#d8576b\"],[0.6666666666666666,\"#ed7953\"],[0.7777777777777778,\"#fb9f3a\"],[0.8888888888888888,\"#fdca26\"],[1.0,\"#f0f921\"]],\"type\":\"heatmapgl\"}],\"histogram\":[{\"marker\":{\"pattern\":{\"fillmode\":\"overlay\",\"size\":10,\"solidity\":0.2}},\"type\":\"histogram\"}],\"histogram2d\":[{\"colorbar\":{\"outlinewidth\":0,\"ticks\":\"\"},\"colorscale\":[[0.0,\"#0d0887\"],[0.1111111111111111,\"#46039f\"],[0.2222222222222222,\"#7201a8\"],[0.3333333333333333,\"#9c179e\"],[0.4444444444444444,\"#bd3786\"],[0.5555555555555556,\"#d8576b\"],[0.6666666666666666,\"#ed7953\"],[0.7777777777777778,\"#fb9f3a\"],[0.8888888888888888,\"#fdca26\"],[1.0,\"#f0f921\"]],\"type\":\"histogram2d\"}],\"histogram2dcontour\":[{\"colorbar\":{\"outlinewidth\":0,\"ticks\":\"\"},\"colorscale\":[[0.0,\"#0d0887\"],[0.1111111111111111,\"#46039f\"],[0.2222222222222222,\"#7201a8\"],[0.3333333333333333,\"#9c179e\"],[0.4444444444444444,\"#bd3786\"],[0.5555555555555556,\"#d8576b\"],[0.6666666666666666,\"#ed7953\"],[0.7777777777777778,\"#fb9f3a\"],[0.8888888888888888,\"#fdca26\"],[1.0,\"#f0f921\"]],\"type\":\"histogram2dcontour\"}],\"mesh3d\":[{\"colorbar\":{\"outlinewidth\":0,\"ticks\":\"\"},\"type\":\"mesh3d\"}],\"parcoords\":[{\"line\":{\"colorbar\":{\"outlinewidth\":0,\"ticks\":\"\"}},\"type\":\"parcoords\"}],\"pie\":[{\"automargin\":true,\"type\":\"pie\"}],\"scatter\":[{\"marker\":{\"colorbar\":{\"outlinewidth\":0,\"ticks\":\"\"}},\"type\":\"scatter\"}],\"scatter3d\":[{\"line\":{\"colorbar\":{\"outlinewidth\":0,\"ticks\":\"\"}},\"marker\":{\"colorbar\":{\"outlinewidth\":0,\"ticks\":\"\"}},\"type\":\"scatter3d\"}],\"scattercarpet\":[{\"marker\":{\"colorbar\":{\"outlinewidth\":0,\"ticks\":\"\"}},\"type\":\"scattercarpet\"}],\"scattergeo\":[{\"marker\":{\"colorbar\":{\"outlinewidth\":0,\"ticks\":\"\"}},\"type\":\"scattergeo\"}],\"scattergl\":[{\"marker\":{\"colorbar\":{\"outlinewidth\":0,\"ticks\":\"\"}},\"type\":\"scattergl\"}],\"scattermapbox\":[{\"marker\":{\"colorbar\":{\"outlinewidth\":0,\"ticks\":\"\"}},\"type\":\"scattermapbox\"}],\"scatterpolar\":[{\"marker\":{\"colorbar\":{\"outlinewidth\":0,\"ticks\":\"\"}},\"type\":\"scatterpolar\"}],\"scatterpolargl\":[{\"marker\":{\"colorbar\":{\"outlinewidth\":0,\"ticks\":\"\"}},\"type\":\"scatterpolargl\"}],\"scatterternary\":[{\"marker\":{\"colorbar\":{\"outlinewidth\":0,\"ticks\":\"\"}},\"type\":\"scatterternary\"}],\"surface\":[{\"colorbar\":{\"outlinewidth\":0,\"ticks\":\"\"},\"colorscale\":[[0.0,\"#0d0887\"],[0.1111111111111111,\"#46039f\"],[0.2222222222222222,\"#7201a8\"],[0.3333333333333333,\"#9c179e\"],[0.4444444444444444,\"#bd3786\"],[0.5555555555555556,\"#d8576b\"],[0.6666666666666666,\"#ed7953\"],[0.7777777777777778,\"#fb9f3a\"],[0.8888888888888888,\"#fdca26\"],[1.0,\"#f0f921\"]],\"type\":\"surface\"}],\"table\":[{\"cells\":{\"fill\":{\"color\":\"#EBF0F8\"},\"line\":{\"color\":\"white\"}},\"header\":{\"fill\":{\"color\":\"#C8D4E3\"},\"line\":{\"color\":\"white\"}},\"type\":\"table\"}]},\"layout\":{\"annotationdefaults\":{\"arrowcolor\":\"#2a3f5f\",\"arrowhead\":0,\"arrowwidth\":1},\"autotypenumbers\":\"strict\",\"coloraxis\":{\"colorbar\":{\"outlinewidth\":0,\"ticks\":\"\"}},\"colorscale\":{\"diverging\":[[0,\"#8e0152\"],[0.1,\"#c51b7d\"],[0.2,\"#de77ae\"],[0.3,\"#f1b6da\"],[0.4,\"#fde0ef\"],[0.5,\"#f7f7f7\"],[0.6,\"#e6f5d0\"],[0.7,\"#b8e186\"],[0.8,\"#7fbc41\"],[0.9,\"#4d9221\"],[1,\"#276419\"]],\"sequential\":[[0.0,\"#0d0887\"],[0.1111111111111111,\"#46039f\"],[0.2222222222222222,\"#7201a8\"],[0.3333333333333333,\"#9c179e\"],[0.4444444444444444,\"#bd3786\"],[0.5555555555555556,\"#d8576b\"],[0.6666666666666666,\"#ed7953\"],[0.7777777777777778,\"#fb9f3a\"],[0.8888888888888888,\"#fdca26\"],[1.0,\"#f0f921\"]],\"sequentialminus\":[[0.0,\"#0d0887\"],[0.1111111111111111,\"#46039f\"],[0.2222222222222222,\"#7201a8\"],[0.3333333333333333,\"#9c179e\"],[0.4444444444444444,\"#bd3786\"],[0.5555555555555556,\"#d8576b\"],[0.6666666666666666,\"#ed7953\"],[0.7777777777777778,\"#fb9f3a\"],[0.8888888888888888,\"#fdca26\"],[1.0,\"#f0f921\"]]},\"colorway\":[\"#636efa\",\"#EF553B\",\"#00cc96\",\"#ab63fa\",\"#FFA15A\",\"#19d3f3\",\"#FF6692\",\"#B6E880\",\"#FF97FF\",\"#FECB52\"],\"font\":{\"color\":\"#2a3f5f\"},\"geo\":{\"bgcolor\":\"white\",\"lakecolor\":\"white\",\"landcolor\":\"#E5ECF6\",\"showlakes\":true,\"showland\":true,\"subunitcolor\":\"white\"},\"hoverlabel\":{\"align\":\"left\"},\"hovermode\":\"closest\",\"mapbox\":{\"style\":\"light\"},\"paper_bgcolor\":\"white\",\"plot_bgcolor\":\"#E5ECF6\",\"polar\":{\"angularaxis\":{\"gridcolor\":\"white\",\"linecolor\":\"white\",\"ticks\":\"\"},\"bgcolor\":\"#E5ECF6\",\"radialaxis\":{\"gridcolor\":\"white\",\"linecolor\":\"white\",\"ticks\":\"\"}},\"scene\":{\"xaxis\":{\"backgroundcolor\":\"#E5ECF6\",\"gridcolor\":\"white\",\"gridwidth\":2,\"linecolor\":\"white\",\"showbackground\":true,\"ticks\":\"\",\"zerolinecolor\":\"white\"},\"yaxis\":{\"backgroundcolor\":\"#E5ECF6\",\"gridcolor\":\"white\",\"gridwidth\":2,\"linecolor\":\"white\",\"showbackground\":true,\"ticks\":\"\",\"zerolinecolor\":\"white\"},\"zaxis\":{\"backgroundcolor\":\"#E5ECF6\",\"gridcolor\":\"white\",\"gridwidth\":2,\"linecolor\":\"white\",\"showbackground\":true,\"ticks\":\"\",\"zerolinecolor\":\"white\"}},\"shapedefaults\":{\"line\":{\"color\":\"#2a3f5f\"}},\"ternary\":{\"aaxis\":{\"gridcolor\":\"white\",\"linecolor\":\"white\",\"ticks\":\"\"},\"baxis\":{\"gridcolor\":\"white\",\"linecolor\":\"white\",\"ticks\":\"\"},\"bgcolor\":\"#E5ECF6\",\"caxis\":{\"gridcolor\":\"white\",\"linecolor\":\"white\",\"ticks\":\"\"}},\"title\":{\"x\":0.05},\"xaxis\":{\"automargin\":true,\"gridcolor\":\"white\",\"linecolor\":\"white\",\"ticks\":\"\",\"title\":{\"standoff\":15},\"zerolinecolor\":\"white\",\"zerolinewidth\":2},\"yaxis\":{\"automargin\":true,\"gridcolor\":\"white\",\"linecolor\":\"white\",\"ticks\":\"\",\"title\":{\"standoff\":15},\"zerolinecolor\":\"white\",\"zerolinewidth\":2}}},\"xaxis\":{\"anchor\":\"y\",\"domain\":[0.0,1.0],\"title\":{\"text\":\"value\"}},\"yaxis\":{\"anchor\":\"x\",\"domain\":[0.0,1.0],\"title\":{\"text\":\"count\"}},\"legend\":{\"title\":{\"text\":\"variable\"},\"tracegroupgap\":0},\"margin\":{\"t\":60},\"barmode\":\"relative\"},                        {\"responsive\": true}                    ).then(function(){\n",
       "                            \n",
       "var gd = document.getElementById('34f610e0-c760-4753-a23b-ce511d390b52');\n",
       "var x = new MutationObserver(function (mutations, observer) {{\n",
       "        var display = window.getComputedStyle(gd).display;\n",
       "        if (!display || display === 'none') {{\n",
       "            console.log([gd, 'removed!']);\n",
       "            Plotly.purge(gd);\n",
       "            observer.disconnect();\n",
       "        }}\n",
       "}});\n",
       "\n",
       "// Listen for the removal of the full notebook cells\n",
       "var notebookContainer = gd.closest('#notebook-container');\n",
       "if (notebookContainer) {{\n",
       "    x.observe(notebookContainer, {childList: true});\n",
       "}}\n",
       "\n",
       "// Listen for the clearing of the current output cell\n",
       "var outputEl = gd.closest('.output');\n",
       "if (outputEl) {{\n",
       "    x.observe(outputEl, {childList: true});\n",
       "}}\n",
       "\n",
       "                        })                };                });            </script>        </div>"
      ]
     },
     "metadata": {},
     "output_type": "display_data"
    }
   ],
   "source": [
    "# Parameters\n",
    "# p = number of lag observations included in the model\n",
    "# d = number of times that the raw observations are differenced (degree of differencing)\n",
    "# q = size of moving average window (order of moving average)\n",
    "\n",
    "model = ARIMA(series, order=(5,1,0))\n",
    "model_fit = model.fit()\n",
    "\n",
    "#print(model_fit.summary())\n",
    "\n",
    "residuals = pd.DataFrame(model_fit.resid)\n",
    "#residuals.plot()\n",
    "\n",
    "residual_data = residuals.reset_index()\n",
    "residual_data.reset_index(inplace = True)\n",
    "\n",
    "px.line(x = residual_data['index'], y = residual_data[0])\n",
    "\n",
    "px.histogram(residual_data[0])"
   ]
  },
  {
   "cell_type": "code",
   "execution_count": 102,
   "id": "5f50c312-0e4c-4cca-b8a3-6475e404da46",
   "metadata": {},
   "outputs": [
    {
     "name": "stderr",
     "output_type": "stream",
     "text": [
      "C:\\Users\\Work\\anaconda3\\lib\\site-packages\\statsmodels\\tsa\\statespace\\sarimax.py:978: UserWarning:\n",
      "\n",
      "Non-invertible starting MA parameters found. Using zeros as starting parameters.\n",
      "\n",
      "C:\\Users\\Work\\anaconda3\\lib\\site-packages\\statsmodels\\base\\model.py:566: ConvergenceWarning:\n",
      "\n",
      "Maximum Likelihood optimization failed to converge. Check mle_retvals\n",
      "\n"
     ]
    },
    {
     "data": {
      "application/vnd.plotly.v1+json": {
       "config": {
        "plotlyServerURL": "https://plot.ly"
       },
       "data": [
        {
         "alignmentgroup": "True",
         "bingroup": "x",
         "hovertemplate": "variable=0<br>value=%{x}<br>count=%{y}<extra></extra>",
         "legendgroup": "0",
         "marker": {
          "color": "#636efa",
          "pattern": {
           "shape": ""
          }
         },
         "name": "0",
         "offsetgroup": "0",
         "orientation": "v",
         "showlegend": true,
         "type": "histogram",
         "x": [
          136880,
          -365222.25747899286,
          148327.98576401937,
          -1465.0643577107694,
          -24431.225965159305,
          -11526.509508637973,
          9726.910656020875,
          -17543.333304928266,
          -5821.160777904122,
          3971.4556431167875,
          -2454.4771961832303,
          1943.0817727853428,
          -5482.328920678119,
          -3024.879993928451,
          909.0968696907803,
          3292.6054828711494,
          3558.583555847901,
          4306.748142311437,
          4547.102411788772,
          3440.7286296061357,
          314.4319094727107,
          2271.0252625481808,
          428.32136700183037,
          1386.039513116848,
          3227.209559416602,
          2979.2576838613895,
          3406.7312236381113,
          903.8429300345597,
          735.5724845699442,
          1835.1295090900385,
          672.0178136201866,
          2673.7287884078105,
          2035.530533867277,
          1895.4915591395402,
          1376.6197689671826,
          605.017769465805,
          591.7371832136123,
          333.7345806527301,
          461.27862251296756,
          1704.8842690004676,
          1713.828365868394,
          1604.7579530694056,
          795.747046598146,
          7.402649106865283,
          149.97205198160373,
          1075.298889252008,
          1332.7504722969315,
          671.8013118524686,
          -89.14319904090371,
          376.8981821552443,
          1088.4891038915957,
          977.2821583894256,
          1410.1383825732628,
          679.5126989992277,
          1242.5831488587137,
          117.11114943315624,
          351.9172069656488,
          -1261.9864430313464,
          -829.202692087827,
          -482.5860363895772,
          146.29019209562102,
          -3078.9714097455435,
          694.5827837880352,
          984.9820794524276,
          -351.4837708795676,
          3164.5492783394293,
          -870.5665020885644,
          702.2259447445103,
          1209.2898830509512,
          6.409356887335889,
          1441.8307815828593,
          -854.4493677566934,
          -247.35285315089277,
          10.088387743860949,
          -656.9184171131055,
          2011.7412388204248,
          -2389.240442651673,
          47.01460899991798,
          709.096341237193,
          -861.8942747529363,
          1770.009287969442,
          -2803.682218976144,
          -338.2041076157475,
          560.6438251546351,
          -590.390005472058,
          2355.697850151919,
          -2864.9887389614596,
          -372.7380743023241,
          580.177303294593,
          -768.5901064589852,
          1748.2370113504585,
          -2384.917548268393,
          -125.82354110793676,
          656.9137001732597,
          -491.8496307285968,
          2014.091293409816,
          -2681.429735915095,
          -222.05010271060746,
          727.6784854051075,
          -359.23424643534236,
          1405.92606203811,
          -1795.061350111093,
          -159.95143630180974,
          497.55535947479075,
          -185.07694547693245,
          1277.5574633557699,
          -1514.2896526133409,
          -56.555484218522906,
          522.9110910071759,
          -80.80173939996166,
          697.4472009041347,
          -935.9822888346389,
          -99.9418886389467,
          344.66852109646425,
          165.29249203496147,
          1506.2838332877727,
          -1684.9851120007806,
          -163.12120176129974,
          504.43395342165604,
          22.31930689571891,
          737.1566118039773,
          -905.9801913850824,
          -133.78525204921607,
          261.4722842463525,
          171.48751124652335,
          -128.30391098139808,
          188.65989294310566,
          19.91188281471841,
          0.7054033803287894,
          207.73071337206056,
          1351.1189654436312,
          -1502.5209942095098,
          -169.05906514357775,
          468.80246336432174,
          104.53388408664614,
          1240.076590274286,
          -1573.544836963527,
          -256.9991292557679,
          326.584878489899,
          17.456724512390792,
          1672.19698200922,
          -1755.0384666904574,
          -179.7891003547702,
          438.9165836594766,
          -176.6052382395137,
          -109.26866510912078,
          -6.896967247768771,
          -5.476601594302338,
          54.086754875897896,
          145.25090650486527,
          -57.48060888022883,
          117.08895766519709,
          44.51078270073049,
          23.00122925033793,
          81.59543002129067,
          398.1779299590271,
          -492.975519918371,
          -132.62204662850127,
          141.50819240685087,
          162.71464255341562,
          -725.6818729889928,
          736.6055192431668,
          -4.76991010265192,
          -272.4581935434835,
          162.79897328978404,
          -423.10465556627605,
          554.437689241895,
          35.469763086293824,
          -129.27754788979655,
          162.02645278448472,
          -919.0120164175169,
          795.5592711919453,
          37.802793033071794,
          -233.38626266655046,
          238.1901793811703,
          -1363.2937768861884,
          1497.096592502261,
          144.27847448905231,
          -451.8617343233782,
          166.79991173261078,
          -756.4524405095144,
          777.6256121720653,
          99.84979934041621,
          -153.30622325616423,
          152.6500613547978,
          -997.417179982469,
          831.2682620976702,
          101.95787161955377,
          -241.228682474175,
          105.06570277677383,
          546.5898468528758,
          -687.843921896012,
          12.081033394671977,
          209.56605082243914,
          -169.2349151186063,
          -724.3626590456115,
          456.2630386715173,
          135.68627575208666,
          -60.51803917938378,
          -0.3823024255107157,
          101.7455154954223,
          -215.42586407455383,
          184.18037671165075,
          215.23592375940643,
          -191.0558229822782,
          -845.1747100882349,
          590.2897669770173,
          156.0634647863335,
          10.900771074288059,
          116.20267529500416,
          -1620.564582168823,
          1646.2953265125398,
          310.4164649762097,
          -276.3774748928263,
          102.48561893217266,
          -2033.5362288753386,
          2073.9318093730253,
          271.56005770736374,
          -336.98126473027514,
          381.38269435684197,
          -1277.463992966921,
          1075.3954855466727,
          140.34067280299496,
          -169.82561474118847,
          240.78447987226536,
          -536.4543361488613,
          284.6300735861878,
          6.226383909583092,
          -51.06750098941848,
          128.26404082897352,
          -1164.4344705254189,
          953.9672636429896,
          134.93691605061758,
          -178.6215187983471,
          117.80517236329615,
          -2380.86449981638,
          2361.0075737385196,
          323.51682222960517,
          -474.9419309970108,
          292.67298184428364,
          -1226.736291385605,
          1101.526635622722,
          165.05196910753148,
          -108.47627986839507,
          228.29109142284142,
          550.5095840634895,
          -1017.55073375348,
          -146.77574341348372,
          313.0753588588559,
          -10.226847274403553,
          524.074879327789,
          -875.3728182186605,
          -119.43661983672064,
          233.46717562619597,
          -142.7144890105701,
          -511.7952646529884,
          376.9791346269194,
          114.57084554253379,
          64.77789841149934,
          8.674278565566055,
          -2038.5463046749937,
          2042.5807651602663,
          256.2169438574929,
          -338.6600881908671,
          330.25180536229163,
          -1068.925225467945,
          1143.0923796207644,
          68.53709373180754,
          -160.30625331716146,
          298.4380650323001,
          -1423.0051776351756,
          1423.2433059590403,
          -52.39835143717937,
          -385.7300252371351,
          400.72073362453375,
          -1527.0728511512862,
          1725.5945254292456,
          26.300081714056432,
          -494.6004741076031,
          303.0090538992663,
          -1281.5454595779302,
          1344.9147424955736,
          -7.684637608763296,
          -376.38027899345616,
          340.3603039199952,
          -1582.0370334798936,
          1667.1140040299506,
          34.87777693656972,
          -546.6208180201356,
          252.88209471676964,
          -1612.4380394257023,
          1911.5035202880972,
          82.84646988217719,
          -567.055924804532,
          228.6633880995214,
          -1447.6369854729855,
          1624.247764139087,
          65.9749754286604,
          -466.343164292397,
          210.07507827383233,
          -1053.1257919243071,
          1224.6166732884594,
          19.707893927406985,
          -424.96608887414914,
          95.40767129499,
          -293.8396838872577,
          435.50271545758005,
          -22.982453587872442,
          -191.36559294944163,
          -46.799311937822495,
          -923.5424038602505,
          1062.646908683062,
          80.6500351591967,
          -348.38378438341897,
          -16.189198919106275,
          -1355.5988038487267,
          1694.8517125104554,
          195.46647744480288,
          -451.0369229450589,
          23.96557429729728,
          -1292.3306430121593,
          1559.2005510948657,
          167.1710347617627,
          -389.3982274281443,
          94.69533640603186,
          -1117.49458877914,
          1349.632107171754,
          112.22738701023627,
          -408.76626522056176,
          45.75693899980979,
          21.121104228222976,
          129.19362786458805,
          1.636505177419167,
          -83.31585660067503,
          -115.23045410276973,
          492.21937495970633,
          -556.4618022465147,
          -43.716896633646684,
          79.90314832134754,
          -217.38520802932908,
          244.5040274487692,
          -188.08869124291232,
          51.674895614996785,
          12.190296390093863,
          -260.04524114815285,
          -224.99618502429803,
          367.7259030844143,
          140.47322456157417,
          -32.42233823548304,
          -136.1076244774158,
          -519.188859590533,
          663.4146677770477,
          134.2478947439813,
          -116.82915763315395,
          -32.04715789103648,
          506.3614226836362,
          -420.83401815165416,
          -38.145814437186345,
          124.35752110736212,
          -106.69127702582045,
          780.5358112567046,
          -831.788744299236,
          -122.45535690631368,
          164.34740885801148,
          -140.1397640782816,
          1143.5824189522245,
          -1156.081733293744,
          -106.32235157504329,
          260.20689068950014,
          -241.227078965283,
          -496.88204062663135,
          619.059487168357,
          65.42870823171688,
          -177.12310792686185,
          24.656629753822926,
          134.5720606360992,
          84.55104785980075,
          50.69378192190197,
          20.063541407958837,
          -36.60015975954593,
          -121.01951585398638,
          181.06381887217867,
          -88.76617318645003,
          -110.84316878565005,
          126.35691050929017,
          440.51665917551145,
          -249.610277269996,
          -99.51913669492933,
          -45.221814298885874,
          -81.88496437045978,
          -654.5498190814687,
          863.4061745320505,
          -8.318589315371355,
          -317.9121038604062,
          147.36339979135664,
          -1209.898359658313,
          1551.6176210750418,
          131.84259558736812,
          -482.9227659572498,
          131.6391971213743,
          135.27503570329282,
          39.19033466442488,
          -61.971163621143205,
          -89.7093234443746,
          49.95903293276206,
          -270.97386386146536,
          346.1483855659608,
          -65.26174384658225,
          -279.1520010352251,
          -15.22771107655717,
          441.8274586839543,
          -199.90737106581219,
          -6.692831736931112,
          -41.827752908197,
          -197.90635735265096,
          -755.5198156905826,
          853.2549530440592,
          98.30908265738981,
          -273.7210091610614,
          26.12941143414355,
          -139.7807841457543,
          373.1302609210543,
          126.44867481628899,
          -129.37500430070213,
          -157.59313592367107,
          -599.9284836523875,
          743.9779173116549,
          84.72950689063873,
          -218.25181526102824,
          32.67038601762033,
          -493.0205508956569,
          677.9451209687977,
          144.71399134636158,
          -203.23366264704964,
          -103.0772625823738,
          -754.4047341886617,
          906.3468948373338,
          133.8064933337737,
          -242.4958537000639,
          35.96834458250669,
          -1932.116816293652,
          2165.554760774161,
          302.20176300933235,
          -574.2030723440403,
          110.3187614287308,
          -1468.630897499621,
          1727.8533777343982,
          274.63844392224564,
          -405.6148707040702,
          113.56695177376969,
          -788.4996806906711,
          723.2432525359036,
          120.91762385307811,
          -194.6163159479329,
          39.06789798283717,
          516.5004538738867,
          -675.567047671444,
          19.71943592809839,
          134.39299663488055,
          -261.58932187448954,
          -34.429123814654304,
          -155.30993824193138,
          114.85217326236307,
          76.59177236977848,
          -203.09918691162602,
          -981.6562342738034,
          952.302749186696,
          324.322968283057,
          -103.69756689455244,
          -116.43868309023674,
          -923.574899211817,
          887.998757576308,
          266.0166463814385,
          -28.75217211197014,
          38.908240655000554,
          -169.64318749553058,
          -30.723044212238165,
          88.08419678467908,
          134.40437457949156,
          -22.38322422062629,
          710.8591288021416,
          -980.3995962345507,
          -52.91537853804766,
          328.08555529188015,
          -133.88738258130616,
          975.3215892227308,
          -1341.7616843147553,
          -65.7828617290943,
          445.30063536475063,
          -176.5551951288071,
          544.2512756392825,
          -847.1121685888502,
          8.895493419491686,
          339.215997584397,
          -116.27631560966256,
          -181.60958186915377,
          56.10556908970466,
          72.03470897296211,
          140.54463095977553,
          53.8295708836813,
          -853.8079664395773,
          852.6689146823774,
          79.96767151769018,
          -83.33460824217764,
          241.26054706663126,
          -1096.3161206891818,
          1172.1758684036613,
          13.948543668258935,
          -242.6769792031846,
          355.4369586799876,
          -1410.8492591406102,
          1530.3689562991785,
          -14.696329698635964,
          -424.946099808265,
          417.3956358189462,
          -442.870832150511,
          477.6727726885292,
          -117.51182425537263,
          -196.146009930555,
          259.47993775311625,
          -799.560619353957,
          783.2524842737475,
          -107.88084925329895,
          -351.5939639178687,
          243.09484448109288,
          650.5629798918671,
          -640.709840235213,
          -149.80188712949166,
          79.78653925968683,
          -69.07943842632812,
          981.8875508915226,
          -1191.5852312741627,
          -231.95966362566105,
          214.76822703238577,
          -93.82339721231256,
          1461.1133922941808,
          -1514.189333502669,
          -184.1637987869908,
          320.12236025874154,
          -314.6824961134989,
          357.094140920206,
          -262.858327653521,
          -60.018349753372604,
          75.64154187362874,
          -70.52145828455104,
          -661.926768158417,
          960.9465737267747,
          89.86030938971089,
          -217.4222413939424,
          68.23916354050743,
          -489.0006939843297,
          819.8235105501662,
          -12.230502999998862,
          -217.57271020463668,
          196.53718585739261,
          -926.8200254817493,
          1225.7170491455763,
          -35.85418529974413,
          -446.00085880659753,
          228.94196448734147,
          32.529749890061794,
          270.254971143062,
          -92.91183057436137,
          -213.72998752095737,
          51.96221139730187,
          196.99758682984975,
          -130.98920593655203,
          -128.1522452417703,
          -138.73134327030857,
          2.217768176313257,
          1304.1841847953037,
          -1255.3806979108776,
          -138.3042864756717,
          169.19950450892793,
          -307.89511773732374,
          885.7824445792357,
          -865.0950140023779,
          -83.4847289287718,
          127.33051612915006,
          -241.5962447602651,
          979.9263518265507,
          -869.178850986209,
          6.783384302048944,
          209.09316805706476,
          -330.62578574655345,
          867.1152381003776,
          -795.0215596908238,
          -34.78937231449527,
          215.27841214707587,
          -190.8908213180257,
          -124.31570743388147,
          329.97203095338773,
          73.74740242262487,
          -105.54699719313066,
          -91.77305635967059,
          -496.9809555259126,
          829.7928084696177,
          121.19609600427793,
          -197.23340276422095,
          49.48728435364319,
          -344.6718823435076,
          485.453604897426,
          42.475622003519675,
          -152.89824590244098,
          86.10997992535704,
          836.953021215857,
          -827.0801458779315,
          -101.61929906095611,
          109.34144885893329,
          -128.7871577462356,
          884.6331040947407,
          -961.2622118746222,
          -94.68617325159721,
          147.95845373906195,
          -190.26848882099148,
          877.1557688724715,
          -927.9801379056298,
          11.24666601131321,
          222.62790122415754,
          -268.0134730038408,
          -255.17566254315898,
          283.52233736080234,
          126.46821247736807,
          -42.45048527629115,
          -57.80506591274752,
          -50.956662031210726,
          155.0773141134414,
          129.1430362961255,
          35.93579663094715,
          -68.8817496006086,
          -954.1952076162852,
          1036.541058964067,
          118.4565592823783,
          -249.00533916978748,
          153.890315617522,
          -737.0636150157079,
          899.084070871002,
          131.5888381433324,
          -216.775015608815,
          75.33752753312001,
          -996.2625328509603,
          1014.4291582703299,
          103.35997380802291,
          -270.0317738588492,
          187.0119064048631,
          -348.30939683990437,
          306.2405327306187,
          80.11869524954818,
          -103.89146439149044,
          -9.288281253713649,
          110.14048466883833,
          -274.23070938745514,
          19.50397298517055,
          65.76344107705518,
          -56.48563567426754,
          -308.3538815442298,
          166.7534191251034,
          116.42766028523329,
          -19.324350299400976,
          -96.66359716281295,
          -821.2953182506608,
          812.6275750228378,
          210.06990070524625,
          -106.1392268560885,
          9.134624794562114,
          -477.2751266672276,
          359.45460228581214,
          148.1897896338196,
          43.103929417731706,
          26.062899973563617,
          -1282.7301040700404,
          1222.7657909813279,
          169.09025096471305,
          -258.4773478785064,
          142.4323947498924,
          -779.2403158319357,
          795.4287008288957,
          158.49895226405351,
          -89.91890199531917,
          82.53144883108325,
          -911.424830373493,
          703.3836368023185,
          98.28161989556975,
          -106.44325489507173,
          169.6466373745352,
          427.6695517457265,
          -666.1313797837065,
          -12.886627717904048,
          223.17611508141272,
          -101.46748280778411,
          103.10468981091981,
          -415.92757831534254,
          -14.85029777183081,
          167.62700080111972,
          -23.511288607347524,
          -1122.042260168615,
          1073.5115802941727,
          204.73729278019164,
          -168.30805409827735,
          55.96937055350281,
          -1010.7325024931924,
          1006.7893486169633,
          164.38383972915472,
          -73.44610207123333,
          210.48289096716326,
          -714.4101054932398,
          537.3896959043341,
          16.987259279034333,
          -67.64258982008323,
          201.8501011277258,
          -92.46212358921184,
          8.195748140657088,
          -69.89361611765344,
          1.534369410132058,
          76.85830891894875,
          282.40912607702194,
          -488.7551827029383,
          -99.21901690622326,
          164.48488377369358,
          37.69907373649767,
          518.5184400776634,
          -767.965233822033,
          -101.42217086369055,
          212.40335651201895,
          -46.3399053257308,
          -140.34130820902647,
          83.53951572137885,
          -25.572481315932237,
          8.213952423626324,
          46.311588615499204,
          -551.291440787696,
          625.4630172061152,
          41.468761823605746,
          -83.39491233119043,
          134.37826401609345,
          -1277.5408481282939,
          1425.6439488875913,
          36.26133054238744,
          -349.8274575159303,
          317.2338764357264,
          266.34797229169635,
          -187.92150498216506,
          -148.00502218902693,
          25.579623584402725,
          111.36806384078227,
          -534.5741842752905,
          537.098102212185,
          -142.81736342952354,
          -284.4814236192324,
          199.9856372453214,
          360.07752489155973,
          -187.68579376849812,
          -87.47724887079676,
          -26.879762867465615,
          -57.661110369692324,
          -679.0548369714234,
          732.5588000909484,
          -40.463805445760954,
          -269.2532883488457,
          176.79825776038342,
          260.0426022942702,
          -62.48220406254404,
          -40.24561592156533,
          -56.23321148319519,
          -99.3986748396419,
          -769.0092944649223,
          964.5271447361156,
          -23.3725639852928,
          -337.8566304552078,
          159.62084067778778,
          153.82463841681601,
          89.36547320347745,
          -10.716069739981322,
          -82.21141687509953,
          -100.27176691193017,
          -177.0392793333449,
          292.43061314331135,
          -71.69840967323398,
          -180.59879223647295,
          61.72637587002828,
          277.4584185476706,
          -85.3542694983189,
          -11.177147257956676,
          -72.02667119010584,
          -171.9495333613304,
          607.9906162888219,
          -527.3253254631127,
          -67.80322092119604,
          79.25987271295162,
          -118.57052597688744,
          682.0482249188935,
          -646.3108167499013,
          -43.38371596625075,
          97.85931270837318,
          -229.81269730135682,
          1193.5295830178366,
          -1127.0313847096986,
          -71.92274676694069,
          265.3962112244917,
          -266.2583937571908,
          312.1167799321993,
          -254.80059359109146,
          12.141365406860132,
          49.04387415514793,
          -142.2563732204435,
          1115.3758730920963,
          -1009.390230940975,
          -29.376700023800367,
          284.2954008586821,
          -233.46344622422475,
          947.0648340803746,
          -1009.8127330788411,
          -110.61431713867933,
          239.61262844165321,
          -120.47022530506365,
          1827.9679487689864,
          -1855.9442176787416,
          -148.3827751739882,
          449.32841205899604,
          -326.447378390847,
          467.48420815818827,
          -453.5261843747576,
          -54.40955647401279,
          90.60789705981733,
          -53.76588307580096,
          1121.2563111083,
          -1036.6738330904045,
          -33.40557627394446,
          302.3951362328662,
          -186.13069979270222,
          535.1423500585079,
          -570.496828652831,
          -112.79550909722457,
          110.42820105256396,
          41.578742753888946,
          -236.53939513032674,
          471.8042297261709,
          29.765954276022967,
          -186.2502760643547,
          14.763819835090544,
          -824.2254158029973,
          1103.2773918243765,
          70.20727529667784,
          -297.275202400313,
          237.68436170561472,
          -1388.9593302746653,
          1606.0335192082275,
          96.52148761460558,
          -506.28791853852454,
          270.8363450139004,
          644.1592147850606,
          -553.2603004970006,
          -117.90543953096494,
          31.984580991935218,
          -18.606651340262033,
          40.76788740945631,
          -158.83930360345403,
          -95.45254286419367,
          -135.41269057246973,
          -25.95495472679613,
          707.2967157875246,
          -637.7796670669632,
          33.0839505273907,
          109.18307462037774,
          -288.5037473135162,
          178.3430961627455,
          -304.7139626617136,
          51.13058584393002,
          108.6777131218696,
          -89.03803152870387,
          547.7579535622499,
          -589.9619244191854,
          79.69789522164501,
          180.7239704328822,
          -265.7344650552841,
          192.25929557564086,
          -201.62020563331316,
          56.635446407308336,
          124.84753450521384,
          -77.62522857644944,
          -644.2220681081526,
          679.7268610613828,
          179.59793636071845,
          -95.13094833312789,
          -10.546319833520101,
          28.68406880198745,
          -30.56132485883427,
          80.26376607551356,
          103.08229200035566,
          12.343612251221202,
          -206.1971694274689,
          40.210883060790366,
          35.16571717825718,
          12.945968700194499,
          38.7838031561987,
          766.7034258069762,
          -900.673028211284,
          -10.900348968163598,
          272.43531190798967,
          -152.3902659585001,
          1021.3078763647645,
          -1377.217248499015,
          -87.02176933723968,
          419.2261865535693,
          -124.72081359382719,
          1176.6840123686707,
          -1482.046540905052,
          -49.9621092955058,
          443.755489831412,
          -245.09111458074767,
          769.393151183438,
          -979.8871050617599,
          -20.131304124719463,
          379.9938305770338,
          -95.42170631754561,
          11.034932954993565,
          -149.09350171522237,
          50.24406718360842,
          173.32376479601953,
          34.55991124897264,
          141.31465420001769,
          -206.69568256122875,
          -26.1314871784125,
          162.1246164070035,
          122.48525963182328,
          -392.5049307658628,
          319.4252753031906,
          -48.63550236541778,
          -49.648394491901854,
          232.04215399746317,
          56.35381083225366,
          -80.01144515172928,
          -83.80973201463348,
          24.39082863985095,
          152.68681280888268,
          -133.129019813583,
          20.97660191039904,
          -115.96596900233999,
          -42.50845423716237,
          205.89721738587832,
          317.8618984843197,
          -386.0623571209726,
          -111.53821055131266,
          49.40349209206761,
          45.87663483346114,
          -428.70036698001786,
          421.6240698356414,
          -50.4872822050238,
          -155.04089950406342,
          167.02525061857887,
          -680.8588194420154,
          807.0783966487797,
          38.93416439509019,
          -222.08516037883237,
          138.44597001510556,
          273.4803584776819,
          -291.3825260201993,
          -108.47805389357382,
          59.73277000896633,
          86.38596478514955,
          313.7986101594579,
          939.5574762095348,
          -640.3473013977637,
          -22.760445816558786,
          522.8658540539618,
          -389.2625474826782,
          55.359374788356945,
          408.2508920239634,
          1566.1900605693227,
          554.398231125786,
          -1235.9164144456154,
          -1384.802155623358,
          -3025.695169182756,
          -232.35395265574334,
          -1502.385653332778,
          3257.2410639172886,
          547.2459445100103,
          1120.2836671393597,
          -362.4815164747997,
          1590.1234704864328,
          -2808.806034726207,
          -1897.3936632714467,
          -839.6378814806812,
          1397.371062293998,
          -863.2283784442698,
          341.8689591456787,
          1055.964240358153
         ],
         "xaxis": "x",
         "yaxis": "y"
        }
       ],
       "layout": {
        "autosize": true,
        "barmode": "relative",
        "legend": {
         "title": {
          "text": "variable"
         },
         "tracegroupgap": 0
        },
        "margin": {
         "t": 60
        },
        "template": {
         "data": {
          "bar": [
           {
            "error_x": {
             "color": "#2a3f5f"
            },
            "error_y": {
             "color": "#2a3f5f"
            },
            "marker": {
             "line": {
              "color": "#E5ECF6",
              "width": 0.5
             },
             "pattern": {
              "fillmode": "overlay",
              "size": 10,
              "solidity": 0.2
             }
            },
            "type": "bar"
           }
          ],
          "barpolar": [
           {
            "marker": {
             "line": {
              "color": "#E5ECF6",
              "width": 0.5
             },
             "pattern": {
              "fillmode": "overlay",
              "size": 10,
              "solidity": 0.2
             }
            },
            "type": "barpolar"
           }
          ],
          "carpet": [
           {
            "aaxis": {
             "endlinecolor": "#2a3f5f",
             "gridcolor": "white",
             "linecolor": "white",
             "minorgridcolor": "white",
             "startlinecolor": "#2a3f5f"
            },
            "baxis": {
             "endlinecolor": "#2a3f5f",
             "gridcolor": "white",
             "linecolor": "white",
             "minorgridcolor": "white",
             "startlinecolor": "#2a3f5f"
            },
            "type": "carpet"
           }
          ],
          "choropleth": [
           {
            "colorbar": {
             "outlinewidth": 0,
             "ticks": ""
            },
            "type": "choropleth"
           }
          ],
          "contour": [
           {
            "colorbar": {
             "outlinewidth": 0,
             "ticks": ""
            },
            "colorscale": [
             [
              0,
              "#0d0887"
             ],
             [
              0.1111111111111111,
              "#46039f"
             ],
             [
              0.2222222222222222,
              "#7201a8"
             ],
             [
              0.3333333333333333,
              "#9c179e"
             ],
             [
              0.4444444444444444,
              "#bd3786"
             ],
             [
              0.5555555555555556,
              "#d8576b"
             ],
             [
              0.6666666666666666,
              "#ed7953"
             ],
             [
              0.7777777777777778,
              "#fb9f3a"
             ],
             [
              0.8888888888888888,
              "#fdca26"
             ],
             [
              1,
              "#f0f921"
             ]
            ],
            "type": "contour"
           }
          ],
          "contourcarpet": [
           {
            "colorbar": {
             "outlinewidth": 0,
             "ticks": ""
            },
            "type": "contourcarpet"
           }
          ],
          "heatmap": [
           {
            "colorbar": {
             "outlinewidth": 0,
             "ticks": ""
            },
            "colorscale": [
             [
              0,
              "#0d0887"
             ],
             [
              0.1111111111111111,
              "#46039f"
             ],
             [
              0.2222222222222222,
              "#7201a8"
             ],
             [
              0.3333333333333333,
              "#9c179e"
             ],
             [
              0.4444444444444444,
              "#bd3786"
             ],
             [
              0.5555555555555556,
              "#d8576b"
             ],
             [
              0.6666666666666666,
              "#ed7953"
             ],
             [
              0.7777777777777778,
              "#fb9f3a"
             ],
             [
              0.8888888888888888,
              "#fdca26"
             ],
             [
              1,
              "#f0f921"
             ]
            ],
            "type": "heatmap"
           }
          ],
          "heatmapgl": [
           {
            "colorbar": {
             "outlinewidth": 0,
             "ticks": ""
            },
            "colorscale": [
             [
              0,
              "#0d0887"
             ],
             [
              0.1111111111111111,
              "#46039f"
             ],
             [
              0.2222222222222222,
              "#7201a8"
             ],
             [
              0.3333333333333333,
              "#9c179e"
             ],
             [
              0.4444444444444444,
              "#bd3786"
             ],
             [
              0.5555555555555556,
              "#d8576b"
             ],
             [
              0.6666666666666666,
              "#ed7953"
             ],
             [
              0.7777777777777778,
              "#fb9f3a"
             ],
             [
              0.8888888888888888,
              "#fdca26"
             ],
             [
              1,
              "#f0f921"
             ]
            ],
            "type": "heatmapgl"
           }
          ],
          "histogram": [
           {
            "marker": {
             "pattern": {
              "fillmode": "overlay",
              "size": 10,
              "solidity": 0.2
             }
            },
            "type": "histogram"
           }
          ],
          "histogram2d": [
           {
            "colorbar": {
             "outlinewidth": 0,
             "ticks": ""
            },
            "colorscale": [
             [
              0,
              "#0d0887"
             ],
             [
              0.1111111111111111,
              "#46039f"
             ],
             [
              0.2222222222222222,
              "#7201a8"
             ],
             [
              0.3333333333333333,
              "#9c179e"
             ],
             [
              0.4444444444444444,
              "#bd3786"
             ],
             [
              0.5555555555555556,
              "#d8576b"
             ],
             [
              0.6666666666666666,
              "#ed7953"
             ],
             [
              0.7777777777777778,
              "#fb9f3a"
             ],
             [
              0.8888888888888888,
              "#fdca26"
             ],
             [
              1,
              "#f0f921"
             ]
            ],
            "type": "histogram2d"
           }
          ],
          "histogram2dcontour": [
           {
            "colorbar": {
             "outlinewidth": 0,
             "ticks": ""
            },
            "colorscale": [
             [
              0,
              "#0d0887"
             ],
             [
              0.1111111111111111,
              "#46039f"
             ],
             [
              0.2222222222222222,
              "#7201a8"
             ],
             [
              0.3333333333333333,
              "#9c179e"
             ],
             [
              0.4444444444444444,
              "#bd3786"
             ],
             [
              0.5555555555555556,
              "#d8576b"
             ],
             [
              0.6666666666666666,
              "#ed7953"
             ],
             [
              0.7777777777777778,
              "#fb9f3a"
             ],
             [
              0.8888888888888888,
              "#fdca26"
             ],
             [
              1,
              "#f0f921"
             ]
            ],
            "type": "histogram2dcontour"
           }
          ],
          "mesh3d": [
           {
            "colorbar": {
             "outlinewidth": 0,
             "ticks": ""
            },
            "type": "mesh3d"
           }
          ],
          "parcoords": [
           {
            "line": {
             "colorbar": {
              "outlinewidth": 0,
              "ticks": ""
             }
            },
            "type": "parcoords"
           }
          ],
          "pie": [
           {
            "automargin": true,
            "type": "pie"
           }
          ],
          "scatter": [
           {
            "marker": {
             "colorbar": {
              "outlinewidth": 0,
              "ticks": ""
             }
            },
            "type": "scatter"
           }
          ],
          "scatter3d": [
           {
            "line": {
             "colorbar": {
              "outlinewidth": 0,
              "ticks": ""
             }
            },
            "marker": {
             "colorbar": {
              "outlinewidth": 0,
              "ticks": ""
             }
            },
            "type": "scatter3d"
           }
          ],
          "scattercarpet": [
           {
            "marker": {
             "colorbar": {
              "outlinewidth": 0,
              "ticks": ""
             }
            },
            "type": "scattercarpet"
           }
          ],
          "scattergeo": [
           {
            "marker": {
             "colorbar": {
              "outlinewidth": 0,
              "ticks": ""
             }
            },
            "type": "scattergeo"
           }
          ],
          "scattergl": [
           {
            "marker": {
             "colorbar": {
              "outlinewidth": 0,
              "ticks": ""
             }
            },
            "type": "scattergl"
           }
          ],
          "scattermapbox": [
           {
            "marker": {
             "colorbar": {
              "outlinewidth": 0,
              "ticks": ""
             }
            },
            "type": "scattermapbox"
           }
          ],
          "scatterpolar": [
           {
            "marker": {
             "colorbar": {
              "outlinewidth": 0,
              "ticks": ""
             }
            },
            "type": "scatterpolar"
           }
          ],
          "scatterpolargl": [
           {
            "marker": {
             "colorbar": {
              "outlinewidth": 0,
              "ticks": ""
             }
            },
            "type": "scatterpolargl"
           }
          ],
          "scatterternary": [
           {
            "marker": {
             "colorbar": {
              "outlinewidth": 0,
              "ticks": ""
             }
            },
            "type": "scatterternary"
           }
          ],
          "surface": [
           {
            "colorbar": {
             "outlinewidth": 0,
             "ticks": ""
            },
            "colorscale": [
             [
              0,
              "#0d0887"
             ],
             [
              0.1111111111111111,
              "#46039f"
             ],
             [
              0.2222222222222222,
              "#7201a8"
             ],
             [
              0.3333333333333333,
              "#9c179e"
             ],
             [
              0.4444444444444444,
              "#bd3786"
             ],
             [
              0.5555555555555556,
              "#d8576b"
             ],
             [
              0.6666666666666666,
              "#ed7953"
             ],
             [
              0.7777777777777778,
              "#fb9f3a"
             ],
             [
              0.8888888888888888,
              "#fdca26"
             ],
             [
              1,
              "#f0f921"
             ]
            ],
            "type": "surface"
           }
          ],
          "table": [
           {
            "cells": {
             "fill": {
              "color": "#EBF0F8"
             },
             "line": {
              "color": "white"
             }
            },
            "header": {
             "fill": {
              "color": "#C8D4E3"
             },
             "line": {
              "color": "white"
             }
            },
            "type": "table"
           }
          ]
         },
         "layout": {
          "annotationdefaults": {
           "arrowcolor": "#2a3f5f",
           "arrowhead": 0,
           "arrowwidth": 1
          },
          "autotypenumbers": "strict",
          "coloraxis": {
           "colorbar": {
            "outlinewidth": 0,
            "ticks": ""
           }
          },
          "colorscale": {
           "diverging": [
            [
             0,
             "#8e0152"
            ],
            [
             0.1,
             "#c51b7d"
            ],
            [
             0.2,
             "#de77ae"
            ],
            [
             0.3,
             "#f1b6da"
            ],
            [
             0.4,
             "#fde0ef"
            ],
            [
             0.5,
             "#f7f7f7"
            ],
            [
             0.6,
             "#e6f5d0"
            ],
            [
             0.7,
             "#b8e186"
            ],
            [
             0.8,
             "#7fbc41"
            ],
            [
             0.9,
             "#4d9221"
            ],
            [
             1,
             "#276419"
            ]
           ],
           "sequential": [
            [
             0,
             "#0d0887"
            ],
            [
             0.1111111111111111,
             "#46039f"
            ],
            [
             0.2222222222222222,
             "#7201a8"
            ],
            [
             0.3333333333333333,
             "#9c179e"
            ],
            [
             0.4444444444444444,
             "#bd3786"
            ],
            [
             0.5555555555555556,
             "#d8576b"
            ],
            [
             0.6666666666666666,
             "#ed7953"
            ],
            [
             0.7777777777777778,
             "#fb9f3a"
            ],
            [
             0.8888888888888888,
             "#fdca26"
            ],
            [
             1,
             "#f0f921"
            ]
           ],
           "sequentialminus": [
            [
             0,
             "#0d0887"
            ],
            [
             0.1111111111111111,
             "#46039f"
            ],
            [
             0.2222222222222222,
             "#7201a8"
            ],
            [
             0.3333333333333333,
             "#9c179e"
            ],
            [
             0.4444444444444444,
             "#bd3786"
            ],
            [
             0.5555555555555556,
             "#d8576b"
            ],
            [
             0.6666666666666666,
             "#ed7953"
            ],
            [
             0.7777777777777778,
             "#fb9f3a"
            ],
            [
             0.8888888888888888,
             "#fdca26"
            ],
            [
             1,
             "#f0f921"
            ]
           ]
          },
          "colorway": [
           "#636efa",
           "#EF553B",
           "#00cc96",
           "#ab63fa",
           "#FFA15A",
           "#19d3f3",
           "#FF6692",
           "#B6E880",
           "#FF97FF",
           "#FECB52"
          ],
          "font": {
           "color": "#2a3f5f"
          },
          "geo": {
           "bgcolor": "white",
           "lakecolor": "white",
           "landcolor": "#E5ECF6",
           "showlakes": true,
           "showland": true,
           "subunitcolor": "white"
          },
          "hoverlabel": {
           "align": "left"
          },
          "hovermode": "closest",
          "mapbox": {
           "style": "light"
          },
          "paper_bgcolor": "white",
          "plot_bgcolor": "#E5ECF6",
          "polar": {
           "angularaxis": {
            "gridcolor": "white",
            "linecolor": "white",
            "ticks": ""
           },
           "bgcolor": "#E5ECF6",
           "radialaxis": {
            "gridcolor": "white",
            "linecolor": "white",
            "ticks": ""
           }
          },
          "scene": {
           "xaxis": {
            "backgroundcolor": "#E5ECF6",
            "gridcolor": "white",
            "gridwidth": 2,
            "linecolor": "white",
            "showbackground": true,
            "ticks": "",
            "zerolinecolor": "white"
           },
           "yaxis": {
            "backgroundcolor": "#E5ECF6",
            "gridcolor": "white",
            "gridwidth": 2,
            "linecolor": "white",
            "showbackground": true,
            "ticks": "",
            "zerolinecolor": "white"
           },
           "zaxis": {
            "backgroundcolor": "#E5ECF6",
            "gridcolor": "white",
            "gridwidth": 2,
            "linecolor": "white",
            "showbackground": true,
            "ticks": "",
            "zerolinecolor": "white"
           }
          },
          "shapedefaults": {
           "line": {
            "color": "#2a3f5f"
           }
          },
          "ternary": {
           "aaxis": {
            "gridcolor": "white",
            "linecolor": "white",
            "ticks": ""
           },
           "baxis": {
            "gridcolor": "white",
            "linecolor": "white",
            "ticks": ""
           },
           "bgcolor": "#E5ECF6",
           "caxis": {
            "gridcolor": "white",
            "linecolor": "white",
            "ticks": ""
           }
          },
          "title": {
           "x": 0.05
          },
          "xaxis": {
           "automargin": true,
           "gridcolor": "white",
           "linecolor": "white",
           "ticks": "",
           "title": {
            "standoff": 15
           },
           "zerolinecolor": "white",
           "zerolinewidth": 2
          },
          "yaxis": {
           "automargin": true,
           "gridcolor": "white",
           "linecolor": "white",
           "ticks": "",
           "title": {
            "standoff": 15
           },
           "zerolinecolor": "white",
           "zerolinewidth": 2
          }
         }
        },
        "xaxis": {
         "anchor": "y",
         "autorange": false,
         "domain": [
          0,
          1
         ],
         "range": [
          -26796.81274900399,
          26653.38645418326
         ],
         "title": {
          "text": "value"
         },
         "type": "linear"
        },
        "yaxis": {
         "anchor": "x",
         "autorange": false,
         "domain": [
          0,
          1
         ],
         "range": [
          0,
          495.55091208133973
         ],
         "title": {
          "text": "count"
         }
        }
       }
      },
      "image/png": "[encoded data removed]",
      "text/html": [
       "<div>                            <div id=\"c4eddffc-5b67-40af-b7f7-522014909da1\" class=\"plotly-graph-div\" style=\"height:525px; width:100%;\"></div>            <script type=\"text/javascript\">                require([\"plotly\"], function(Plotly) {                    window.PLOTLYENV=window.PLOTLYENV || {};                                    if (document.getElementById(\"c4eddffc-5b67-40af-b7f7-522014909da1\")) {                    Plotly.newPlot(                        \"c4eddffc-5b67-40af-b7f7-522014909da1\",                        [{\"alignmentgroup\":\"True\",\"bingroup\":\"x\",\"hovertemplate\":\"variable=0<br>value=%{x}<br>count=%{y}<extra></extra>\",\"legendgroup\":\"0\",\"marker\":{\"color\":\"#636efa\",\"pattern\":{\"shape\":\"\"}},\"name\":\"0\",\"offsetgroup\":\"0\",\"orientation\":\"v\",\"showlegend\":true,\"x\":[136880.0,-365222.25747899286,148327.98576401937,-1465.0643577107694,-24431.225965159305,-11526.509508637973,9726.910656020875,-17543.333304928266,-5821.160777904122,3971.4556431167875,-2454.4771961832303,1943.0817727853428,-5482.328920678119,-3024.879993928451,909.0968696907803,3292.6054828711494,3558.583555847901,4306.748142311437,4547.102411788772,3440.7286296061357,314.4319094727107,2271.0252625481808,428.32136700183037,1386.039513116848,3227.209559416602,2979.2576838613895,3406.7312236381113,903.8429300345597,735.5724845699442,1835.1295090900385,672.0178136201866,2673.7287884078105,2035.530533867277,1895.4915591395402,1376.6197689671826,605.017769465805,591.7371832136123,333.7345806527301,461.27862251296756,1704.8842690004676,1713.828365868394,1604.7579530694056,795.747046598146,7.402649106865283,149.97205198160373,1075.298889252008,1332.7504722969315,671.8013118524686,-89.14319904090371,376.8981821552443,1088.4891038915957,977.2821583894256,1410.1383825732628,679.5126989992277,1242.5831488587137,117.11114943315624,351.9172069656488,-1261.9864430313464,-829.202692087827,-482.5860363895772,146.29019209562102,-3078.9714097455435,694.5827837880352,984.9820794524276,-351.4837708795676,3164.5492783394293,-870.5665020885644,702.2259447445103,1209.2898830509512,6.409356887335889,1441.8307815828593,-854.4493677566934,-247.35285315089277,10.088387743860949,-656.9184171131055,2011.7412388204248,-2389.240442651673,47.01460899991798,709.096341237193,-861.8942747529363,1770.009287969442,-2803.682218976144,-338.2041076157475,560.6438251546351,-590.390005472058,2355.697850151919,-2864.9887389614596,-372.7380743023241,580.177303294593,-768.5901064589852,1748.2370113504585,-2384.917548268393,-125.82354110793676,656.9137001732597,-491.8496307285968,2014.091293409816,-2681.429735915095,-222.05010271060746,727.6784854051075,-359.23424643534236,1405.92606203811,-1795.061350111093,-159.95143630180974,497.55535947479075,-185.07694547693245,1277.5574633557699,-1514.2896526133409,-56.555484218522906,522.9110910071759,-80.80173939996166,697.4472009041347,-935.9822888346389,-99.9418886389467,344.66852109646425,165.29249203496147,1506.2838332877727,-1684.9851120007806,-163.12120176129974,504.43395342165604,22.31930689571891,737.1566118039773,-905.9801913850824,-133.78525204921607,261.4722842463525,171.48751124652335,-128.30391098139808,188.65989294310566,19.91188281471841,0.7054033803287894,207.73071337206056,1351.1189654436312,-1502.5209942095098,-169.05906514357775,468.80246336432174,104.53388408664614,1240.076590274286,-1573.544836963527,-256.9991292557679,326.584878489899,17.456724512390792,1672.19698200922,-1755.0384666904574,-179.7891003547702,438.9165836594766,-176.6052382395137,-109.26866510912078,-6.896967247768771,-5.476601594302338,54.086754875897896,145.25090650486527,-57.48060888022883,117.08895766519709,44.51078270073049,23.00122925033793,81.59543002129067,398.1779299590271,-492.975519918371,-132.62204662850127,141.50819240685087,162.71464255341562,-725.6818729889928,736.6055192431668,-4.76991010265192,-272.4581935434835,162.79897328978404,-423.10465556627605,554.437689241895,35.469763086293824,-129.27754788979655,162.02645278448472,-919.0120164175169,795.5592711919453,37.802793033071794,-233.38626266655046,238.1901793811703,-1363.2937768861884,1497.096592502261,144.27847448905231,-451.8617343233782,166.79991173261078,-756.4524405095144,777.6256121720653,99.84979934041621,-153.30622325616423,152.6500613547978,-997.417179982469,831.2682620976702,101.95787161955377,-241.228682474175,105.06570277677383,546.5898468528758,-687.843921896012,12.081033394671977,209.56605082243914,-169.2349151186063,-724.3626590456115,456.2630386715173,135.68627575208666,-60.51803917938378,-0.3823024255107157,101.7455154954223,-215.42586407455383,184.18037671165075,215.23592375940643,-191.0558229822782,-845.1747100882349,590.2897669770173,156.0634647863335,10.900771074288059,116.20267529500416,-1620.564582168823,1646.2953265125398,310.4164649762097,-276.3774748928263,102.48561893217266,-2033.5362288753386,2073.9318093730253,271.56005770736374,-336.98126473027514,381.38269435684197,-1277.463992966921,1075.3954855466727,140.34067280299496,-169.82561474118847,240.78447987226536,-536.4543361488613,284.6300735861878,6.226383909583092,-51.06750098941848,128.26404082897352,-1164.4344705254189,953.9672636429896,134.93691605061758,-178.6215187983471,117.80517236329615,-2380.86449981638,2361.0075737385196,323.51682222960517,-474.9419309970108,292.67298184428364,-1226.736291385605,1101.526635622722,165.05196910753148,-108.47627986839507,228.29109142284142,550.5095840634895,-1017.55073375348,-146.77574341348372,313.0753588588559,-10.226847274403553,524.074879327789,-875.3728182186605,-119.43661983672064,233.46717562619597,-142.7144890105701,-511.7952646529884,376.9791346269194,114.57084554253379,64.77789841149934,8.674278565566055,-2038.5463046749937,2042.5807651602663,256.2169438574929,-338.6600881908671,330.25180536229163,-1068.925225467945,1143.0923796207644,68.53709373180754,-160.30625331716146,298.4380650323001,-1423.0051776351756,1423.2433059590403,-52.39835143717937,-385.7300252371351,400.72073362453375,-1527.0728511512862,1725.5945254292456,26.300081714056432,-494.6004741076031,303.0090538992663,-1281.5454595779302,1344.9147424955736,-7.684637608763296,-376.38027899345616,340.3603039199952,-1582.0370334798936,1667.1140040299506,34.87777693656972,-546.6208180201356,252.88209471676964,-1612.4380394257023,1911.5035202880972,82.84646988217719,-567.055924804532,228.6633880995214,-1447.6369854729855,1624.247764139087,65.9749754286604,-466.343164292397,210.07507827383233,-1053.1257919243071,1224.6166732884594,19.707893927406985,-424.96608887414914,95.40767129499,-293.8396838872577,435.50271545758005,-22.982453587872442,-191.36559294944163,-46.799311937822495,-923.5424038602505,1062.646908683062,80.6500351591967,-348.38378438341897,-16.189198919106275,-1355.5988038487267,1694.8517125104554,195.46647744480288,-451.0369229450589,23.96557429729728,-1292.3306430121593,1559.2005510948657,167.1710347617627,-389.3982274281443,94.69533640603186,-1117.49458877914,1349.632107171754,112.22738701023627,-408.76626522056176,45.75693899980979,21.121104228222976,129.19362786458805,1.636505177419167,-83.31585660067503,-115.23045410276973,492.21937495970633,-556.4618022465147,-43.716896633646684,79.90314832134754,-217.38520802932908,244.5040274487692,-188.08869124291232,51.674895614996785,12.190296390093863,-260.04524114815285,-224.99618502429803,367.7259030844143,140.47322456157417,-32.42233823548304,-136.1076244774158,-519.188859590533,663.4146677770477,134.2478947439813,-116.82915763315395,-32.04715789103648,506.3614226836362,-420.83401815165416,-38.145814437186345,124.35752110736212,-106.69127702582045,780.5358112567046,-831.788744299236,-122.45535690631368,164.34740885801148,-140.1397640782816,1143.5824189522245,-1156.081733293744,-106.32235157504329,260.20689068950014,-241.227078965283,-496.88204062663135,619.059487168357,65.42870823171688,-177.12310792686185,24.656629753822926,134.5720606360992,84.55104785980075,50.69378192190197,20.063541407958837,-36.60015975954593,-121.01951585398638,181.06381887217867,-88.76617318645003,-110.84316878565005,126.35691050929017,440.51665917551145,-249.610277269996,-99.51913669492933,-45.221814298885874,-81.88496437045978,-654.5498190814687,863.4061745320505,-8.318589315371355,-317.9121038604062,147.36339979135664,-1209.898359658313,1551.6176210750418,131.84259558736812,-482.9227659572498,131.6391971213743,135.27503570329282,39.19033466442488,-61.971163621143205,-89.7093234443746,49.95903293276206,-270.97386386146536,346.1483855659608,-65.26174384658225,-279.1520010352251,-15.22771107655717,441.8274586839543,-199.90737106581219,-6.692831736931112,-41.827752908197,-197.90635735265096,-755.5198156905826,853.2549530440592,98.30908265738981,-273.7210091610614,26.12941143414355,-139.7807841457543,373.1302609210543,126.44867481628899,-129.37500430070213,-157.59313592367107,-599.9284836523875,743.9779173116549,84.72950689063873,-218.25181526102824,32.67038601762033,-493.0205508956569,677.9451209687977,144.71399134636158,-203.23366264704964,-103.0772625823738,-754.4047341886617,906.3468948373338,133.8064933337737,-242.4958537000639,35.96834458250669,-1932.116816293652,2165.554760774161,302.20176300933235,-574.2030723440403,110.3187614287308,-1468.630897499621,1727.8533777343982,274.63844392224564,-405.6148707040702,113.56695177376969,-788.4996806906711,723.2432525359036,120.91762385307811,-194.6163159479329,39.06789798283717,516.5004538738867,-675.567047671444,19.71943592809839,134.39299663488055,-261.58932187448954,-34.429123814654304,-155.30993824193138,114.85217326236307,76.59177236977848,-203.09918691162602,-981.6562342738034,952.302749186696,324.322968283057,-103.69756689455244,-116.43868309023674,-923.574899211817,887.998757576308,266.0166463814385,-28.75217211197014,38.908240655000554,-169.64318749553058,-30.723044212238165,88.08419678467908,134.40437457949156,-22.38322422062629,710.8591288021416,-980.3995962345507,-52.91537853804766,328.08555529188015,-133.88738258130616,975.3215892227308,-1341.7616843147553,-65.7828617290943,445.30063536475063,-176.5551951288071,544.2512756392825,-847.1121685888502,8.895493419491686,339.215997584397,-116.27631560966256,-181.60958186915377,56.10556908970466,72.03470897296211,140.54463095977553,53.8295708836813,-853.8079664395773,852.6689146823774,79.96767151769018,-83.33460824217764,241.26054706663126,-1096.3161206891818,1172.1758684036613,13.948543668258935,-242.6769792031846,355.4369586799876,-1410.8492591406102,1530.3689562991785,-14.696329698635964,-424.946099808265,417.3956358189462,-442.870832150511,477.6727726885292,-117.51182425537263,-196.146009930555,259.47993775311625,-799.560619353957,783.2524842737475,-107.88084925329895,-351.5939639178687,243.09484448109288,650.5629798918671,-640.709840235213,-149.80188712949166,79.78653925968683,-69.07943842632812,981.8875508915226,-1191.5852312741627,-231.95966362566105,214.76822703238577,-93.82339721231256,1461.1133922941808,-1514.189333502669,-184.1637987869908,320.12236025874154,-314.6824961134989,357.094140920206,-262.858327653521,-60.018349753372604,75.64154187362874,-70.52145828455104,-661.926768158417,960.9465737267747,89.86030938971089,-217.4222413939424,68.23916354050743,-489.0006939843297,819.8235105501662,-12.230502999998862,-217.57271020463668,196.53718585739261,-926.8200254817493,1225.7170491455763,-35.85418529974413,-446.00085880659753,228.94196448734147,32.529749890061794,270.254971143062,-92.91183057436137,-213.72998752095737,51.96221139730187,196.99758682984975,-130.98920593655203,-128.1522452417703,-138.73134327030857,2.217768176313257,1304.1841847953037,-1255.3806979108776,-138.3042864756717,169.19950450892793,-307.89511773732374,885.7824445792357,-865.0950140023779,-83.4847289287718,127.33051612915006,-241.5962447602651,979.9263518265507,-869.178850986209,6.783384302048944,209.09316805706476,-330.62578574655345,867.1152381003776,-795.0215596908238,-34.78937231449527,215.27841214707587,-190.8908213180257,-124.31570743388147,329.97203095338773,73.74740242262487,-105.54699719313066,-91.77305635967059,-496.9809555259126,829.7928084696177,121.19609600427793,-197.23340276422095,49.48728435364319,-344.6718823435076,485.453604897426,42.475622003519675,-152.89824590244098,86.10997992535704,836.953021215857,-827.0801458779315,-101.61929906095611,109.34144885893329,-128.7871577462356,884.6331040947407,-961.2622118746222,-94.68617325159721,147.95845373906195,-190.26848882099148,877.1557688724715,-927.9801379056298,11.24666601131321,222.62790122415754,-268.0134730038408,-255.17566254315898,283.52233736080234,126.46821247736807,-42.45048527629115,-57.80506591274752,-50.956662031210726,155.0773141134414,129.1430362961255,35.93579663094715,-68.8817496006086,-954.1952076162852,1036.541058964067,118.4565592823783,-249.00533916978748,153.890315617522,-737.0636150157079,899.084070871002,131.5888381433324,-216.775015608815,75.33752753312001,-996.2625328509603,1014.4291582703299,103.35997380802291,-270.0317738588492,187.0119064048631,-348.30939683990437,306.2405327306187,80.11869524954818,-103.89146439149044,-9.288281253713649,110.14048466883833,-274.23070938745514,19.50397298517055,65.76344107705518,-56.48563567426754,-308.3538815442298,166.7534191251034,116.42766028523329,-19.324350299400976,-96.66359716281295,-821.2953182506608,812.6275750228378,210.06990070524625,-106.1392268560885,9.134624794562114,-477.2751266672276,359.45460228581214,148.1897896338196,43.103929417731706,26.062899973563617,-1282.7301040700404,1222.7657909813279,169.09025096471305,-258.4773478785064,142.4323947498924,-779.2403158319357,795.4287008288957,158.49895226405351,-89.91890199531917,82.53144883108325,-911.424830373493,703.3836368023185,98.28161989556975,-106.44325489507173,169.6466373745352,427.6695517457265,-666.1313797837065,-12.886627717904048,223.17611508141272,-101.46748280778411,103.10468981091981,-415.92757831534254,-14.85029777183081,167.62700080111972,-23.511288607347524,-1122.042260168615,1073.5115802941727,204.73729278019164,-168.30805409827735,55.96937055350281,-1010.7325024931924,1006.7893486169633,164.38383972915472,-73.44610207123333,210.48289096716326,-714.4101054932398,537.3896959043341,16.987259279034333,-67.64258982008323,201.8501011277258,-92.46212358921184,8.195748140657088,-69.89361611765344,1.534369410132058,76.85830891894875,282.40912607702194,-488.7551827029383,-99.21901690622326,164.48488377369358,37.69907373649767,518.5184400776634,-767.965233822033,-101.42217086369055,212.40335651201895,-46.3399053257308,-140.34130820902647,83.53951572137885,-25.572481315932237,8.213952423626324,46.311588615499204,-551.291440787696,625.4630172061152,41.468761823605746,-83.39491233119043,134.37826401609345,-1277.5408481282939,1425.6439488875913,36.26133054238744,-349.8274575159303,317.2338764357264,266.34797229169635,-187.92150498216506,-148.00502218902693,25.579623584402725,111.36806384078227,-534.5741842752905,537.098102212185,-142.81736342952354,-284.4814236192324,199.9856372453214,360.07752489155973,-187.68579376849812,-87.47724887079676,-26.879762867465615,-57.661110369692324,-679.0548369714234,732.5588000909484,-40.463805445760954,-269.2532883488457,176.79825776038342,260.0426022942702,-62.48220406254404,-40.24561592156533,-56.23321148319519,-99.3986748396419,-769.0092944649223,964.5271447361156,-23.3725639852928,-337.8566304552078,159.62084067778778,153.82463841681601,89.36547320347745,-10.716069739981322,-82.21141687509953,-100.27176691193017,-177.0392793333449,292.43061314331135,-71.69840967323398,-180.59879223647295,61.72637587002828,277.4584185476706,-85.3542694983189,-11.177147257956676,-72.02667119010584,-171.9495333613304,607.9906162888219,-527.3253254631127,-67.80322092119604,79.25987271295162,-118.57052597688744,682.0482249188935,-646.3108167499013,-43.38371596625075,97.85931270837318,-229.81269730135682,1193.5295830178366,-1127.0313847096986,-71.92274676694069,265.3962112244917,-266.2583937571908,312.1167799321993,-254.80059359109146,12.141365406860132,49.04387415514793,-142.2563732204435,1115.3758730920963,-1009.390230940975,-29.376700023800367,284.2954008586821,-233.46344622422475,947.0648340803746,-1009.8127330788411,-110.61431713867933,239.61262844165321,-120.47022530506365,1827.9679487689864,-1855.9442176787416,-148.3827751739882,449.32841205899604,-326.447378390847,467.48420815818827,-453.5261843747576,-54.40955647401279,90.60789705981733,-53.76588307580096,1121.2563111083,-1036.6738330904045,-33.40557627394446,302.3951362328662,-186.13069979270222,535.1423500585079,-570.496828652831,-112.79550909722457,110.42820105256396,41.578742753888946,-236.53939513032674,471.8042297261709,29.765954276022967,-186.2502760643547,14.763819835090544,-824.2254158029973,1103.2773918243765,70.20727529667784,-297.275202400313,237.68436170561472,-1388.9593302746653,1606.0335192082275,96.52148761460558,-506.28791853852454,270.8363450139004,644.1592147850606,-553.2603004970006,-117.90543953096494,31.984580991935218,-18.606651340262033,40.76788740945631,-158.83930360345403,-95.45254286419367,-135.41269057246973,-25.95495472679613,707.2967157875246,-637.7796670669632,33.0839505273907,109.18307462037774,-288.5037473135162,178.3430961627455,-304.7139626617136,51.13058584393002,108.6777131218696,-89.03803152870387,547.7579535622499,-589.9619244191854,79.69789522164501,180.7239704328822,-265.7344650552841,192.25929557564086,-201.62020563331316,56.635446407308336,124.84753450521384,-77.62522857644944,-644.2220681081526,679.7268610613828,179.59793636071845,-95.13094833312789,-10.546319833520101,28.68406880198745,-30.56132485883427,80.26376607551356,103.08229200035566,12.343612251221202,-206.1971694274689,40.210883060790366,35.16571717825718,12.945968700194499,38.7838031561987,766.7034258069762,-900.673028211284,-10.900348968163598,272.43531190798967,-152.3902659585001,1021.3078763647645,-1377.217248499015,-87.02176933723968,419.2261865535693,-124.72081359382719,1176.6840123686707,-1482.046540905052,-49.9621092955058,443.755489831412,-245.09111458074767,769.393151183438,-979.8871050617599,-20.131304124719463,379.9938305770338,-95.42170631754561,11.034932954993565,-149.09350171522237,50.24406718360842,173.32376479601953,34.55991124897264,141.31465420001769,-206.69568256122875,-26.1314871784125,162.1246164070035,122.48525963182328,-392.5049307658628,319.4252753031906,-48.63550236541778,-49.648394491901854,232.04215399746317,56.35381083225366,-80.01144515172928,-83.80973201463348,24.39082863985095,152.68681280888268,-133.129019813583,20.97660191039904,-115.96596900233999,-42.50845423716237,205.89721738587832,317.8618984843197,-386.0623571209726,-111.53821055131266,49.40349209206761,45.87663483346114,-428.70036698001786,421.6240698356414,-50.4872822050238,-155.04089950406342,167.02525061857887,-680.8588194420154,807.0783966487797,38.93416439509019,-222.08516037883237,138.44597001510556,273.4803584776819,-291.3825260201993,-108.47805389357382,59.73277000896633,86.38596478514955,313.7986101594579,939.5574762095348,-640.3473013977637,-22.760445816558786,522.8658540539618,-389.2625474826782,55.359374788356945,408.2508920239634,1566.1900605693227,554.398231125786,-1235.9164144456154,-1384.802155623358,-3025.695169182756,-232.35395265574334,-1502.385653332778,3257.2410639172886,547.2459445100103,1120.2836671393597,-362.4815164747997,1590.1234704864328,-2808.806034726207,-1897.3936632714467,-839.6378814806812,1397.371062293998,-863.2283784442698,341.8689591456787,1055.964240358153],\"xaxis\":\"x\",\"yaxis\":\"y\",\"type\":\"histogram\"}],                        {\"template\":{\"data\":{\"bar\":[{\"error_x\":{\"color\":\"#2a3f5f\"},\"error_y\":{\"color\":\"#2a3f5f\"},\"marker\":{\"line\":{\"color\":\"#E5ECF6\",\"width\":0.5},\"pattern\":{\"fillmode\":\"overlay\",\"size\":10,\"solidity\":0.2}},\"type\":\"bar\"}],\"barpolar\":[{\"marker\":{\"line\":{\"color\":\"#E5ECF6\",\"width\":0.5},\"pattern\":{\"fillmode\":\"overlay\",\"size\":10,\"solidity\":0.2}},\"type\":\"barpolar\"}],\"carpet\":[{\"aaxis\":{\"endlinecolor\":\"#2a3f5f\",\"gridcolor\":\"white\",\"linecolor\":\"white\",\"minorgridcolor\":\"white\",\"startlinecolor\":\"#2a3f5f\"},\"baxis\":{\"endlinecolor\":\"#2a3f5f\",\"gridcolor\":\"white\",\"linecolor\":\"white\",\"minorgridcolor\":\"white\",\"startlinecolor\":\"#2a3f5f\"},\"type\":\"carpet\"}],\"choropleth\":[{\"colorbar\":{\"outlinewidth\":0,\"ticks\":\"\"},\"type\":\"choropleth\"}],\"contour\":[{\"colorbar\":{\"outlinewidth\":0,\"ticks\":\"\"},\"colorscale\":[[0.0,\"#0d0887\"],[0.1111111111111111,\"#46039f\"],[0.2222222222222222,\"#7201a8\"],[0.3333333333333333,\"#9c179e\"],[0.4444444444444444,\"#bd3786\"],[0.5555555555555556,\"#d8576b\"],[0.6666666666666666,\"#ed7953\"],[0.7777777777777778,\"#fb9f3a\"],[0.8888888888888888,\"#fdca26\"],[1.0,\"#f0f921\"]],\"type\":\"contour\"}],\"contourcarpet\":[{\"colorbar\":{\"outlinewidth\":0,\"ticks\":\"\"},\"type\":\"contourcarpet\"}],\"heatmap\":[{\"colorbar\":{\"outlinewidth\":0,\"ticks\":\"\"},\"colorscale\":[[0.0,\"#0d0887\"],[0.1111111111111111,\"#46039f\"],[0.2222222222222222,\"#7201a8\"],[0.3333333333333333,\"#9c179e\"],[0.4444444444444444,\"#bd3786\"],[0.5555555555555556,\"#d8576b\"],[0.6666666666666666,\"#ed7953\"],[0.7777777777777778,\"#fb9f3a\"],[0.8888888888888888,\"#fdca26\"],[1.0,\"#f0f921\"]],\"type\":\"heatmap\"}],\"heatmapgl\":[{\"colorbar\":{\"outlinewidth\":0,\"ticks\":\"\"},\"colorscale\":[[0.0,\"#0d0887\"],[0.1111111111111111,\"#46039f\"],[0.2222222222222222,\"#7201a8\"],[0.3333333333333333,\"#9c179e\"],[0.4444444444444444,\"#bd3786\"],[0.5555555555555556,\"#d8576b\"],[0.6666666666666666,\"#ed7953\"],[0.7777777777777778,\"#fb9f3a\"],[0.8888888888888888,\"#fdca26\"],[1.0,\"#f0f921\"]],\"type\":\"heatmapgl\"}],\"histogram\":[{\"marker\":{\"pattern\":{\"fillmode\":\"overlay\",\"size\":10,\"solidity\":0.2}},\"type\":\"histogram\"}],\"histogram2d\":[{\"colorbar\":{\"outlinewidth\":0,\"ticks\":\"\"},\"colorscale\":[[0.0,\"#0d0887\"],[0.1111111111111111,\"#46039f\"],[0.2222222222222222,\"#7201a8\"],[0.3333333333333333,\"#9c179e\"],[0.4444444444444444,\"#bd3786\"],[0.5555555555555556,\"#d8576b\"],[0.6666666666666666,\"#ed7953\"],[0.7777777777777778,\"#fb9f3a\"],[0.8888888888888888,\"#fdca26\"],[1.0,\"#f0f921\"]],\"type\":\"histogram2d\"}],\"histogram2dcontour\":[{\"colorbar\":{\"outlinewidth\":0,\"ticks\":\"\"},\"colorscale\":[[0.0,\"#0d0887\"],[0.1111111111111111,\"#46039f\"],[0.2222222222222222,\"#7201a8\"],[0.3333333333333333,\"#9c179e\"],[0.4444444444444444,\"#bd3786\"],[0.5555555555555556,\"#d8576b\"],[0.6666666666666666,\"#ed7953\"],[0.7777777777777778,\"#fb9f3a\"],[0.8888888888888888,\"#fdca26\"],[1.0,\"#f0f921\"]],\"type\":\"histogram2dcontour\"}],\"mesh3d\":[{\"colorbar\":{\"outlinewidth\":0,\"ticks\":\"\"},\"type\":\"mesh3d\"}],\"parcoords\":[{\"line\":{\"colorbar\":{\"outlinewidth\":0,\"ticks\":\"\"}},\"type\":\"parcoords\"}],\"pie\":[{\"automargin\":true,\"type\":\"pie\"}],\"scatter\":[{\"marker\":{\"colorbar\":{\"outlinewidth\":0,\"ticks\":\"\"}},\"type\":\"scatter\"}],\"scatter3d\":[{\"line\":{\"colorbar\":{\"outlinewidth\":0,\"ticks\":\"\"}},\"marker\":{\"colorbar\":{\"outlinewidth\":0,\"ticks\":\"\"}},\"type\":\"scatter3d\"}],\"scattercarpet\":[{\"marker\":{\"colorbar\":{\"outlinewidth\":0,\"ticks\":\"\"}},\"type\":\"scattercarpet\"}],\"scattergeo\":[{\"marker\":{\"colorbar\":{\"outlinewidth\":0,\"ticks\":\"\"}},\"type\":\"scattergeo\"}],\"scattergl\":[{\"marker\":{\"colorbar\":{\"outlinewidth\":0,\"ticks\":\"\"}},\"type\":\"scattergl\"}],\"scattermapbox\":[{\"marker\":{\"colorbar\":{\"outlinewidth\":0,\"ticks\":\"\"}},\"type\":\"scattermapbox\"}],\"scatterpolar\":[{\"marker\":{\"colorbar\":{\"outlinewidth\":0,\"ticks\":\"\"}},\"type\":\"scatterpolar\"}],\"scatterpolargl\":[{\"marker\":{\"colorbar\":{\"outlinewidth\":0,\"ticks\":\"\"}},\"type\":\"scatterpolargl\"}],\"scatterternary\":[{\"marker\":{\"colorbar\":{\"outlinewidth\":0,\"ticks\":\"\"}},\"type\":\"scatterternary\"}],\"surface\":[{\"colorbar\":{\"outlinewidth\":0,\"ticks\":\"\"},\"colorscale\":[[0.0,\"#0d0887\"],[0.1111111111111111,\"#46039f\"],[0.2222222222222222,\"#7201a8\"],[0.3333333333333333,\"#9c179e\"],[0.4444444444444444,\"#bd3786\"],[0.5555555555555556,\"#d8576b\"],[0.6666666666666666,\"#ed7953\"],[0.7777777777777778,\"#fb9f3a\"],[0.8888888888888888,\"#fdca26\"],[1.0,\"#f0f921\"]],\"type\":\"surface\"}],\"table\":[{\"cells\":{\"fill\":{\"color\":\"#EBF0F8\"},\"line\":{\"color\":\"white\"}},\"header\":{\"fill\":{\"color\":\"#C8D4E3\"},\"line\":{\"color\":\"white\"}},\"type\":\"table\"}]},\"layout\":{\"annotationdefaults\":{\"arrowcolor\":\"#2a3f5f\",\"arrowhead\":0,\"arrowwidth\":1},\"autotypenumbers\":\"strict\",\"coloraxis\":{\"colorbar\":{\"outlinewidth\":0,\"ticks\":\"\"}},\"colorscale\":{\"diverging\":[[0,\"#8e0152\"],[0.1,\"#c51b7d\"],[0.2,\"#de77ae\"],[0.3,\"#f1b6da\"],[0.4,\"#fde0ef\"],[0.5,\"#f7f7f7\"],[0.6,\"#e6f5d0\"],[0.7,\"#b8e186\"],[0.8,\"#7fbc41\"],[0.9,\"#4d9221\"],[1,\"#276419\"]],\"sequential\":[[0.0,\"#0d0887\"],[0.1111111111111111,\"#46039f\"],[0.2222222222222222,\"#7201a8\"],[0.3333333333333333,\"#9c179e\"],[0.4444444444444444,\"#bd3786\"],[0.5555555555555556,\"#d8576b\"],[0.6666666666666666,\"#ed7953\"],[0.7777777777777778,\"#fb9f3a\"],[0.8888888888888888,\"#fdca26\"],[1.0,\"#f0f921\"]],\"sequentialminus\":[[0.0,\"#0d0887\"],[0.1111111111111111,\"#46039f\"],[0.2222222222222222,\"#7201a8\"],[0.3333333333333333,\"#9c179e\"],[0.4444444444444444,\"#bd3786\"],[0.5555555555555556,\"#d8576b\"],[0.6666666666666666,\"#ed7953\"],[0.7777777777777778,\"#fb9f3a\"],[0.8888888888888888,\"#fdca26\"],[1.0,\"#f0f921\"]]},\"colorway\":[\"#636efa\",\"#EF553B\",\"#00cc96\",\"#ab63fa\",\"#FFA15A\",\"#19d3f3\",\"#FF6692\",\"#B6E880\",\"#FF97FF\",\"#FECB52\"],\"font\":{\"color\":\"#2a3f5f\"},\"geo\":{\"bgcolor\":\"white\",\"lakecolor\":\"white\",\"landcolor\":\"#E5ECF6\",\"showlakes\":true,\"showland\":true,\"subunitcolor\":\"white\"},\"hoverlabel\":{\"align\":\"left\"},\"hovermode\":\"closest\",\"mapbox\":{\"style\":\"light\"},\"paper_bgcolor\":\"white\",\"plot_bgcolor\":\"#E5ECF6\",\"polar\":{\"angularaxis\":{\"gridcolor\":\"white\",\"linecolor\":\"white\",\"ticks\":\"\"},\"bgcolor\":\"#E5ECF6\",\"radialaxis\":{\"gridcolor\":\"white\",\"linecolor\":\"white\",\"ticks\":\"\"}},\"scene\":{\"xaxis\":{\"backgroundcolor\":\"#E5ECF6\",\"gridcolor\":\"white\",\"gridwidth\":2,\"linecolor\":\"white\",\"showbackground\":true,\"ticks\":\"\",\"zerolinecolor\":\"white\"},\"yaxis\":{\"backgroundcolor\":\"#E5ECF6\",\"gridcolor\":\"white\",\"gridwidth\":2,\"linecolor\":\"white\",\"showbackground\":true,\"ticks\":\"\",\"zerolinecolor\":\"white\"},\"zaxis\":{\"backgroundcolor\":\"#E5ECF6\",\"gridcolor\":\"white\",\"gridwidth\":2,\"linecolor\":\"white\",\"showbackground\":true,\"ticks\":\"\",\"zerolinecolor\":\"white\"}},\"shapedefaults\":{\"line\":{\"color\":\"#2a3f5f\"}},\"ternary\":{\"aaxis\":{\"gridcolor\":\"white\",\"linecolor\":\"white\",\"ticks\":\"\"},\"baxis\":{\"gridcolor\":\"white\",\"linecolor\":\"white\",\"ticks\":\"\"},\"bgcolor\":\"#E5ECF6\",\"caxis\":{\"gridcolor\":\"white\",\"linecolor\":\"white\",\"ticks\":\"\"}},\"title\":{\"x\":0.05},\"xaxis\":{\"automargin\":true,\"gridcolor\":\"white\",\"linecolor\":\"white\",\"ticks\":\"\",\"title\":{\"standoff\":15},\"zerolinecolor\":\"white\",\"zerolinewidth\":2},\"yaxis\":{\"automargin\":true,\"gridcolor\":\"white\",\"linecolor\":\"white\",\"ticks\":\"\",\"title\":{\"standoff\":15},\"zerolinecolor\":\"white\",\"zerolinewidth\":2}}},\"xaxis\":{\"anchor\":\"y\",\"domain\":[0.0,1.0],\"title\":{\"text\":\"value\"}},\"yaxis\":{\"anchor\":\"x\",\"domain\":[0.0,1.0],\"title\":{\"text\":\"count\"}},\"legend\":{\"title\":{\"text\":\"variable\"},\"tracegroupgap\":0},\"margin\":{\"t\":60},\"barmode\":\"relative\"},                        {\"responsive\": true}                    ).then(function(){\n",
       "                            \n",
       "var gd = document.getElementById('c4eddffc-5b67-40af-b7f7-522014909da1');\n",
       "var x = new MutationObserver(function (mutations, observer) {{\n",
       "        var display = window.getComputedStyle(gd).display;\n",
       "        if (!display || display === 'none') {{\n",
       "            console.log([gd, 'removed!']);\n",
       "            Plotly.purge(gd);\n",
       "            observer.disconnect();\n",
       "        }}\n",
       "}});\n",
       "\n",
       "// Listen for the removal of the full notebook cells\n",
       "var notebookContainer = gd.closest('#notebook-container');\n",
       "if (notebookContainer) {{\n",
       "    x.observe(notebookContainer, {childList: true});\n",
       "}}\n",
       "\n",
       "// Listen for the clearing of the current output cell\n",
       "var outputEl = gd.closest('.output');\n",
       "if (outputEl) {{\n",
       "    x.observe(outputEl, {childList: true});\n",
       "}}\n",
       "\n",
       "                        })                };                });            </script>        </div>"
      ]
     },
     "metadata": {},
     "output_type": "display_data"
    }
   ],
   "source": [
    "# Parameters\n",
    "# p = number of lag observations included in the model\n",
    "# d = number of times that the raw observations are differenced (degree of differencing)\n",
    "# q = size of moving average window (order of moving average)\n",
    "\n",
    "model = ARIMA(series, order=(15,5,15))\n",
    "model_fit = model.fit()\n",
    "\n",
    "#print(model_fit.summary())\n",
    "\n",
    "residuals = pd.DataFrame(model_fit.resid)\n",
    "#residuals.plot()\n",
    "\n",
    "residual_data = residuals.reset_index()\n",
    "residual_data.reset_index(inplace = True)\n",
    "\n",
    "px.line(x = residual_data['index'], y = residual_data[0])\n",
    "\n",
    "px.histogram(residual_data[0])"
   ]
  },
  {
   "cell_type": "code",
   "execution_count": null,
   "id": "b8323639-2cd8-4b9e-8f50-a863389ca294",
   "metadata": {},
   "outputs": [],
   "source": []
  }
 ],
 "metadata": {
  "kernelspec": {
   "display_name": "Python 3 (ipykernel)",
   "language": "python",
   "name": "python3"
  },
  "language_info": {
   "codemirror_mode": {
    "name": "ipython",
    "version": 3
   },
   "file_extension": ".py",
   "mimetype": "text/x-python",
   "name": "python",
   "nbconvert_exporter": "python",
   "pygments_lexer": "ipython3",
   "version": "3.9.7"
  }
 },
 "nbformat": 4,
 "nbformat_minor": 5
}
