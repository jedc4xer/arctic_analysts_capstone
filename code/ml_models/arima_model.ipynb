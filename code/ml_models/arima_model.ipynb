{
 "cells": [
  {
   "cell_type": "markdown",
   "id": "10321c4c-bd3f-41df-91fd-b828077fd156",
   "metadata": {},
   "source": [
    "### This Notebook controls the arima model for our analysis.\n",
    "\n",
    "**The model is stored in the \"arima_model.py\" file, but it runs from this notebook.**"
   ]
  },
  {
   "cell_type": "code",
   "execution_count": null,
   "id": "78c7f3b7-1c81-4ed7-a7ad-08292d4a3464",
   "metadata": {},
   "outputs": [],
   "source": [
    "import importlib\n",
    "import pandas as pd\n",
    "import arima_model as arm\n",
    "import data_getter as data_con\n",
    "\n",
    "importlib.reload(arm) # Simply reloads the module in case of changes."
   ]
  },
  {
   "cell_type": "code",
   "execution_count": null,
   "id": "30e590c7-0268-4117-b7a9-c9fed51e658f",
   "metadata": {},
   "outputs": [],
   "source": [
    "all_df = data_con.run_queries()\n",
    "master_table = data_con.join_tables(all_df)"
   ]
  },
  {
   "cell_type": "code",
   "execution_count": null,
   "id": "797fc8e8-df5a-4174-bc2a-9f03bd59f339",
   "metadata": {},
   "outputs": [],
   "source": [
    "prediction_dataframes = []\n",
    "age_ranges = master_table.AgeGroup.unique().tolist()\n",
    "age_ranges = [_ for _ in age_ranges if str(_) != 'nan']\n",
    "all_fips = master_table.FIPS.unique().tolist()\n",
    "total = len(all_fips) * len(age_ranges)\n",
    "\n",
    "print('\\nApproximate Run Time: 90 minutes\\n')\n",
    "cntr = 0\n",
    "for i, age_range in enumerate(age_ranges):\n",
    "    for ii, target_fips in enumerate(all_fips):\n",
    "        params = [target_fips, age_range]\n",
    "        target = 'MedianIncome'\n",
    "        try:\n",
    "            # Send data to the model\n",
    "            graph_ready, export_ready = arm.dispatcher(master_table, target, params)\n",
    "        except Exception as E:\n",
    "            print(f'Failure: {E}, params: {params}')\n",
    "            cntr += 1\n",
    "            continue\n",
    "        export_ready['AgeGroup'] = age_range\n",
    "        prediction_dataframes.append(export_ready)\n",
    "        cntr += 1\n",
    "        print(f'{cntr} of {total} completed')"
   ]
  },
  {
   "cell_type": "code",
   "execution_count": null,
   "id": "0c2acea3-5dbb-4c46-928c-c8b24232d7fc",
   "metadata": {},
   "outputs": [],
   "source": [
    "main_frame = pd.DataFrame()\n",
    "for frame in prediction_dataframes:\n",
    "    frame['FIPS'] = frame['FIPS'].tolist()[0]\n",
    "    main_frame = pd.concat([main_frame, frame])\n",
    "\n",
    "main_frame.to_csv('PredictedIncomeAfterFinalRun.csv',index = False)"
   ]
  },
  {
   "cell_type": "code",
   "execution_count": null,
   "id": "d8512ae0-574d-47cd-8b23-e6ac52fc4de8",
   "metadata": {},
   "outputs": [],
   "source": []
  }
 ],
 "metadata": {
  "kernelspec": {
   "display_name": "Python 3 (ipykernel)",
   "language": "python",
   "name": "python3"
  },
  "language_info": {
   "codemirror_mode": {
    "name": "ipython",
    "version": 3
   },
   "file_extension": ".py",
   "mimetype": "text/x-python",
   "name": "python",
   "nbconvert_exporter": "python",
   "pygments_lexer": "ipython3",
   "version": "3.9.7"
  }
 },
 "nbformat": 4,
 "nbformat_minor": 5
}
