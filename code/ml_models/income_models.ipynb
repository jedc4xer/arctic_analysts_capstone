{
 "cells": [
  {
   "cell_type": "code",
   "execution_count": null,
   "id": "0afa3f16-4a95-406f-bf55-05522408cfc3",
   "metadata": {},
   "outputs": [],
   "source": [
    "import pymssql\n",
    "import pandas as pd\n",
    "import seaborn as sns\n",
    "import matplotlib.pyplot as plt\n",
    "import scipy.stats"
   ]
  },
  {
   "cell_type": "code",
   "execution_count": null,
   "id": "312a884f-3691-4c99-9101-3264b8c41b8e",
   "metadata": {},
   "outputs": [],
   "source": [
    "database = \"arctic_analysts_capstone\"\n",
    "user = \"arctic_analysts\"\n",
    "password  = \"ThisPassw0rd!\"\n",
    "server = \"gen10-data-fundamentals-22-02-sql-server.database.windows.net\"\n",
    "\n",
    "def sql_query(query):\n",
    "    conn = pymssql.connect(server, user, password, database)\n",
    "    cursor = conn.cursor()\n",
    "    queried_data = pd.read_sql(query, conn)\n",
    "    return queried_data\n",
    "\n",
    "# Make a new cell here ....."
   ]
  },
  {
   "cell_type": "code",
   "execution_count": null,
   "id": "be666644-1bc2-4790-bd78-2fdf5b123f9a",
   "metadata": {},
   "outputs": [],
   "source": [
    "# target_table = 'building_permits'\n",
    "# target_table = 'mortgage_rates'\n",
    "# target_table = 'house_prices'\n",
    "target_table = 'median_income'\n",
    "\n",
    "query = f\"SELECT * FROM {target_table}\" # Query Example\n",
    "df = sql_query(query)"
   ]
  },
  {
   "cell_type": "code",
   "execution_count": null,
   "id": "492824c8-1005-4950-b9ed-9f92aa6bb67a",
   "metadata": {},
   "outputs": [],
   "source": [
    "from sklearn.models import LogisticRegression, LinearRegression"
   ]
  },
  {
   "cell_type": "code",
   "execution_count": null,
   "id": "62d23939-f078-4111-8bab-09be5469cb89",
   "metadata": {},
   "outputs": [],
   "source": [
    "def plot_charts(fips):\n",
    "    subset = df[(df.FIPS == fips) & (df.AgeGroup == '25-44')][['Year','County','MedianIncome']]\n",
    "    if subset.shape[0] < 4:\n",
    "        print(subset.shape[0])\n",
    "    else:\n",
    "        return\n",
    "\n",
    "    plt.rcParams['xtick.labelsize'] = 13\n",
    "    plt.rcParams['ytick.labelsize'] = 13\n",
    "\n",
    "    x = subset['Year'].to_numpy()\n",
    "    y = subset['MedianIncome'].to_numpy()\n",
    "\n",
    "    slope, intercept, r, p, stderr = scipy.stats.linregress(x,y)\n",
    "    line = f'Slope: {slope:.2f}\\nIntercept: {intercept:.2f}\\nCorrelation coefficient: r={r:.2f}'\n",
    "\n",
    "    fig = plt.figure(figsize = (10,8))\n",
    "    plt.title(f\"Year vs. Median Income | {subset.County.tolist()[0]}\", fontsize = 20)\n",
    "    ax = sns.scatterplot(data = subset,\n",
    "                         x = 'Year',\n",
    "                         y = 'MedianIncome',\n",
    "                         hue = 'MedianIncome',\n",
    "                         palette = 'magma', \n",
    "                         s = 100,\n",
    "                         alpha = .8, \n",
    "                         edgecolor = 'black', \n",
    "                         linewidth = 1,\n",
    "                         legend = False)\n",
    "\n",
    "    ax = sns.lineplot(x = x,\n",
    "                      y = intercept + slope * x, \n",
    "                      label = line,\n",
    "                      color = 'blue',\n",
    "                      linewidth = 1.2)\n",
    "\n",
    "    ax.set_xlabel('Year', fontsize = 14)\n",
    "    ax.set_ylabel('Median Income', fontsize = 14)\n",
    "    ax.tick_params(size = 10)\n",
    "    sns.despine()\n",
    "    plt.show()\n"
   ]
  },
  {
   "cell_type": "code",
   "execution_count": null,
   "id": "c0cbaa8f-240b-4682-b8b2-038b7418ef66",
   "metadata": {},
   "outputs": [],
   "source": [
    "unique_fips = df.FIPS.unique().tolist()\n",
    "for fip in unique_fips:\n",
    "    plot_charts(fip)"
   ]
  },
  {
   "cell_type": "code",
   "execution_count": null,
   "id": "7d647826-1a40-42f2-9091-ca9b95861280",
   "metadata": {},
   "outputs": [],
   "source": [
    "print(stderr)"
   ]
  },
  {
   "cell_type": "code",
   "execution_count": null,
   "id": "b8392ef7-45d8-4a8f-a549-67cbec40e353",
   "metadata": {},
   "outputs": [],
   "source": [
    "from scipy.stats import t"
   ]
  },
  {
   "cell_type": "code",
   "execution_count": null,
   "id": "25623184-f9a6-4fd2-b9ac-0c9d6b002bf6",
   "metadata": {},
   "outputs": [],
   "source": [
    "res = scipy.stats.linregress(x,y)"
   ]
  },
  {
   "cell_type": "code",
   "execution_count": null,
   "id": "6ebc5ff2-df82-4126-9026-5d7b2ff2c8f9",
   "metadata": {},
   "outputs": [],
   "source": [
    "print(res.rvalue**2)"
   ]
  },
  {
   "cell_type": "code",
   "execution_count": null,
   "id": "ee182b7b-d7d9-4a6c-867d-38743bdb8abd",
   "metadata": {},
   "outputs": [],
   "source": [
    "def test_run_models(which = False): \n",
    "    results = []\n",
    "    if which == 'all':\n",
    "        unique_fips = df.FIPS.unique().tolist()\n",
    "    elif which == 'few':\n",
    "        unique_fips = df.FIPS.unique().tolist()[300:325]\n",
    "    elif which == 'some':\n",
    "        unique_fips = df.FIPS.unique().tolist()[600:625]\n",
    "    else:\n",
    "        unique_fips = df.FIPS.unique().tolist()[275:325]\n",
    "            \n",
    "    for fips in unique_fips:\n",
    "        subset = df[(df.FIPS == fips) & (df.AgeGroup == '25-44')][['Year','MedianIncome']]\n",
    "        if subset.isnull().sum().sum() > 0:\n",
    "            print(subset)\n",
    "            \n",
    "        if subset.shape[0] < 4:\n",
    "            continue\n",
    "\n",
    "        subset = subset.sort_values(by = 'Year')\n",
    "        x = subset['Year'].to_numpy()\n",
    "        y = subset['MedianIncome'].to_numpy()\n",
    "\n",
    "        res = scipy.stats.linregress(x,y)\n",
    "        r_2 = res.rvalue**2\n",
    "        results.append([fips,r_2])\n",
    "\n",
    "    result_df = pd.DataFrame(results, columns = ['FIPS','r_squared'])\n",
    "\n",
    "    result_df.sort_values(by = 'r_squared', ascending = False, inplace = True)\n",
    "    reindexed = result_df.reset_index(drop = True).reset_index().copy()\n",
    "\n",
    "    fig = plt.figure(figsize = (30,3))\n",
    "\n",
    "    ax = sns.barplot(data = reindexed, x = 'index', y='r_squared')\n",
    "    plt.hlines(y=reindexed['r_squared'].mean(), xmin=0,xmax=reindexed.shape[0], color = 'black')\n",
    "\n",
    "    avg = round(reindexed['r_squared'].mean(),2)\n",
    "    plt.annotate(f\"Mean {avg}\", xy=(reindexed.shape[0]-int(reindexed.shape[0]*.35),avg+.01), fontsize = 18)\n",
    "    ax.set_xlim(-.5)\n",
    "    ax.set_ylabel('R-Squared', fontsize = 14)\n",
    "    ax.set_xlabel('Location', fontsize = 14)\n",
    "    plt.show()\n",
    "    return reindexed"
   ]
  },
  {
   "cell_type": "code",
   "execution_count": null,
   "id": "92c9992e-7b5f-4595-995a-317f41e0e163",
   "metadata": {},
   "outputs": [],
   "source": [
    "test_run_models('few')\n",
    "test_run_models('some')\n",
    "test_run_models()\n",
    "subset = test_run_models('all')"
   ]
  },
  {
   "cell_type": "code",
   "execution_count": null,
   "id": "818178df-6a56-439c-8e2c-7a55ed671e58",
   "metadata": {},
   "outputs": [],
   "source": [
    "fig = plt.figure(figsize = (17,5))\n",
    "plt.title(\"R-Squared of the (24-44 year olds) Median Income across all US Counties\")\n",
    "ax = sns.histplot(x = subset['r_squared'], bins = 70)\n",
    "ax.set_xlim([0,1])\n",
    "plt.show()"
   ]
  },
  {
   "cell_type": "code",
   "execution_count": null,
   "id": "05bbf2af-9847-47e3-81bf-301017602a80",
   "metadata": {},
   "outputs": [],
   "source": []
  }
 ],
 "metadata": {
  "kernelspec": {
   "display_name": "Python 3 (ipykernel)",
   "language": "python",
   "name": "python3"
  },
  "language_info": {
   "codemirror_mode": {
    "name": "ipython",
    "version": 3
   },
   "file_extension": ".py",
   "mimetype": "text/x-python",
   "name": "python",
   "nbconvert_exporter": "python",
   "pygments_lexer": "ipython3",
   "version": "3.9.7"
  }
 },
 "nbformat": 4,
 "nbformat_minor": 5
}
