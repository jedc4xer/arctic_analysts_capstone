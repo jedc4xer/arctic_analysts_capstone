{
 "cells": [
  {
   "cell_type": "code",
   "execution_count": null,
   "id": "9e22df2f-a39e-433a-b271-b54573341f43",
   "metadata": {},
   "outputs": [],
   "source": [
    "#imports\n",
    "\n",
    "import pymssql\n",
    "import numpy as np\n",
    "import pandas as pd\n",
    "import datetime as dt\n",
    "from collections import Counter\n",
    "import tracemalloc\n",
    "import matplotlib.pyplot as plt"
   ]
  },
  {
   "cell_type": "code",
   "execution_count": null,
   "id": "90faec80",
   "metadata": {},
   "outputs": [],
   "source": [
    "# database info\n",
    "\n",
    "database = \"arctic_analysts_capstone\"\n",
    "user = \"arctic_analysts\"\n",
    "password  = \"ThisPassw0rd!\"\n",
    "server = \"gen10-data-fundamentals-22-02-sql-server.database.windows.net\""
   ]
  },
  {
   "cell_type": "code",
   "execution_count": null,
   "id": "fa6ab65d",
   "metadata": {},
   "outputs": [],
   "source": [
    "#reading in tables, will be written better\n",
    "\n",
    "def get_data():\n",
    "    conn = pymssql.connect(server, user, password, database)\n",
    "    cursor = conn.cursor()\n",
    "    \n",
    "    query = f'SELECT * FROM house_prices'\n",
    "\n",
    "    house_price_df = pd.read_sql(query, conn)\n",
    "    print(f'\\nBefore Data Management: {house_price_df.shape[0]}')\n",
    "\n",
    "    return house_price_df\n",
    "house_price_df = get_data()\n",
    "\n",
    "def get_data():\n",
    "    conn = pymssql.connect(server, user, password, database)\n",
    "    cursor = conn.cursor()\n",
    "    \n",
    "    query = f'SELECT * FROM building_permits'\n",
    "\n",
    "    building_permits_df = pd.read_sql(query, conn)\n",
    "    print(f'\\nBefore Data Management: {building_permits_df.shape[0]}')\n",
    "\n",
    "    return building_permits_df\n",
    "building_permits_df = get_data()\n",
    "\n",
    "def get_data():\n",
    "    conn = pymssql.connect(server, user, password, database)\n",
    "    cursor = conn.cursor()\n",
    "    \n",
    "    query = f'SELECT * FROM median_income'\n",
    "\n",
    "    median_income_df = pd.read_sql(query, conn)\n",
    "    print(f'\\nBefore Data Management: {median_income_df.shape[0]}')\n",
    "\n",
    "    return median_income_df\n",
    "median_income_df = get_data()\n",
    "\n",
    "def get_data():\n",
    "    conn = pymssql.connect(server, user, password, database)\n",
    "    cursor = conn.cursor()\n",
    "    \n",
    "    query = f'SELECT * FROM mortgage_rates'\n",
    "\n",
    "    mortgage_rates_df = pd.read_sql(query, conn)\n",
    "    print(f'\\nBefore Data Management: {mortgage_rates_df.shape[0]}')\n",
    "\n",
    "    return mortgage_rates_df\n",
    "mortgage_rates_df = get_data()"
   ]
  },
  {
   "cell_type": "code",
   "execution_count": null,
   "id": "71252f88",
   "metadata": {},
   "outputs": [],
   "source": [
    "# all transformation will be probably re-written either better or in databricks before loading into database\n",
    "\n",
    "# changing mortgage month to merge \n",
    "month_list = {\n",
    "    'JANUARY':'Jan',\n",
    "    'FEBRUARY':'Feb',\n",
    "    'MARCH':'Mar',\n",
    "    'APRIL ':'Apr',\n",
    "    'MAY':'May',\n",
    "    'JUNE':'Jun',\n",
    "    'JULY':'Jul',\n",
    "    'AUGUST':'Aug',\n",
    "    'SEPTEMBER':'Sep',\n",
    "    'OCTOBER':'Oct',\n",
    "    'NOVEMBER':'Nov',\n",
    "    'DECEMBER':'Dec'\n",
    "}\n",
    "mortgage_rates_df['Month'] = mortgage_rates_df['Month'].map(month_list)\n",
    "\n",
    "# casting year, fips, and month variables appropriate data types\n",
    "df_list = [building_permits_df,house_price_df,median_income_df,mortgage_rates_df]\n",
    "variable_list = ['Year', 'FIPS']\n",
    "for df in df_list:\n",
    "    for variable in variable_list:\n",
    "        if variable in df.columns:\n",
    "            df[variable] = df[variable].astype('int64')\n",
    "\n",
    "df_list = [building_permits_df,house_price_df,mortgage_rates_df]\n",
    "for df in df_list:\n",
    "    df['Month'] = df['Month'].astype('string')"
   ]
  },
  {
   "cell_type": "code",
   "execution_count": null,
   "id": "f7c4e734",
   "metadata": {},
   "outputs": [],
   "source": [
    "# filtering down income to only 'overall' age group\n",
    "income_to_merge = median_income_df[median_income_df['AgeGroup']=='overall']\n",
    "\n",
    "# merging the four tables, will discuss diff age groups later\n",
    "house_permit = pd.merge(building_permits_df,house_price_df, on=['FIPS','Year','Month'],how='inner')\n",
    "house_permit_mortgate = pd.merge(house_permit,mortgage_rates_df, on=['Year','Month'],how='inner')\n",
    "final_table = pd.merge(house_permit_mortgate,income_to_merge, on=['FIPS','Year'],how='inner')\n",
    "final_table = final_table[['FIPS','Year','Month','County','NewUnits','NewBuildings','MedianHousePrice','AverageRate','AveragePoints','MedianIncome']]"
   ]
  },
  {
   "cell_type": "code",
   "execution_count": null,
   "id": "1a70b551",
   "metadata": {},
   "outputs": [],
   "source": [
    "# transformation of datatype in final table\n",
    "final_table['MedianHousePrice'] = pd.to_numeric(final_table['MedianHousePrice'], errors='coerce')\n",
    "\n",
    "#calculate monthly income\n",
    "final_table['MonthlyIncome'] = final_table['MedianIncome']/12\n",
    "\n",
    "#calculate montly mortgage payment\n",
    "#https://www.educba.com/mortgage-formula/\n",
    "\n",
    "for row in final_table:\n",
    "    P = final_table['MedianHousePrice']-(final_table['MedianHousePrice']*.2)\n",
    "    r = (final_table['AverageRate']/100)\n",
    "    t = 30\n",
    "    n = 12\n",
    "    final_table['MonthlyMortgage'] = P * (((r/n) * pow((1+(r/n)),(n*t))) / (pow((1+r/n),(n*t))-1))\n",
    "\n",
    "# mortgage to income ratio\n",
    "final_table['mortgage_income_ratio'] = final_table['MonthlyMortgage']/final_table['MonthlyIncome']\n",
    "\n",
    "#affordability determination\n",
    "def affordable_condition(x):\n",
    "    if x <= .25:\n",
    "        return 'Yes'\n",
    "    elif np.isnan(x):\n",
    "        return 'Missing'\n",
    "    else:\n",
    "        return 'No'\n",
    "\n",
    "final_table['affordable'] = final_table['mortgage_income_ratio'].apply(affordable_condition)"
   ]
  },
  {
   "cell_type": "code",
   "execution_count": null,
   "id": "5c7bdb70",
   "metadata": {},
   "outputs": [],
   "source": [
    "# general count of county affordability\n",
    "\n",
    "final_table['affordable'].value_counts()"
   ]
  },
  {
   "cell_type": "code",
   "execution_count": null,
   "id": "5bc79476",
   "metadata": {},
   "outputs": [],
   "source": [
    "final_table"
   ]
  },
  {
   "cell_type": "code",
   "execution_count": null,
   "id": "c6512708",
   "metadata": {},
   "outputs": [],
   "source": [
    "# DIFFERENT PATH - rough decision, will be changed\n",
    "\n",
    "temp_table = final_table.dropna()\n",
    "temp_table['affordable'].value_counts()"
   ]
  },
  {
   "cell_type": "code",
   "execution_count": null,
   "id": "2fa6156a",
   "metadata": {},
   "outputs": [],
   "source": [
    "final_table.shape"
   ]
  },
  {
   "cell_type": "code",
   "execution_count": null,
   "id": "2163084a",
   "metadata": {},
   "outputs": [],
   "source": [
    "# classification model\n",
    "# X = final_table.iloc[:,[1,4,5,6,7,8,9,10]].values\n",
    "X = temp_table.drop(['FIPS','Month','County','affordable'],axis = 1).values\n",
    "y = temp_table['affordable'].values"
   ]
  },
  {
   "cell_type": "code",
   "execution_count": null,
   "id": "33242e8f",
   "metadata": {},
   "outputs": [],
   "source": [
    "#Splitting the data into Training Set and Test Set\n",
    "from sklearn.model_selection import train_test_split\n",
    "X_train, X_test, y_train, y_test = train_test_split(X,y,test_size=0.25,random_state=0)\n",
    "\n",
    "#Normalizing the features\n",
    "from sklearn.preprocessing import StandardScaler\n",
    "sc_X = StandardScaler()\n",
    "X_train = sc_X.fit_transform(X_train)\n",
    "X_test = sc_X.transform(X_test)\n",
    "\n",
    "#Fitting Logistic Regression to Training Set\n",
    "from sklearn.linear_model import LogisticRegression\n",
    "classifierObj = LogisticRegression(random_state=0)\n",
    "classifierObj.fit(X_train, y_train)\n",
    "\n",
    "#Making predictions on the Test Set\n",
    "y_pred = classifierObj.predict(X_test)\n",
    "\n",
    "#Model Accuracy\n",
    "print(classifierObj.score(X_test,y_test))\n",
    "\n",
    "#Evaluating the predictions using a Confusion Matrix\n",
    "from sklearn.metrics import confusion_matrix\n",
    "cm = confusion_matrix(y_test, y_pred)\n",
    "print(cm)\n",
    "\n"
   ]
  },
  {
   "cell_type": "code",
   "execution_count": null,
   "id": "f6f0421d",
   "metadata": {},
   "outputs": [],
   "source": [
    "classifierObj.get_params()\n"
   ]
  },
  {
   "cell_type": "code",
   "execution_count": null,
   "id": "2b87b1ea",
   "metadata": {},
   "outputs": [],
   "source": [
    "classifierObj.coef_"
   ]
  }
 ],
 "metadata": {
  "interpreter": {
   "hash": "16f5b46f222e2a3e8d4adbf7141cae37b71ed37616e60735fa5d1164a1bc3ada"
  },
  "kernelspec": {
   "display_name": "Python 3 (ipykernel)",
   "language": "python",
   "name": "python3"
  },
  "language_info": {
   "codemirror_mode": {
    "name": "ipython",
    "version": 3
   },
   "file_extension": ".py",
   "mimetype": "text/x-python",
   "name": "python",
   "nbconvert_exporter": "python",
   "pygments_lexer": "ipython3",
   "version": "3.9.7"
  }
 },
 "nbformat": 4,
 "nbformat_minor": 5
}
