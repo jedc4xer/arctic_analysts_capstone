{
 "cells": [
  {
   "cell_type": "code",
   "execution_count": null,
   "id": "0afa3f16-4a95-406f-bf55-05522408cfc3",
   "metadata": {},
   "outputs": [],
   "source": [
    "import pymssql\n",
    "import pandas as pd\n",
    "import seaborn as sns\n",
    "import matplotlib.pyplot as plt\n",
    "import scipy.stats"
   ]
  },
  {
   "cell_type": "code",
   "execution_count": null,
   "id": "312a884f-3691-4c99-9101-3264b8c41b8e",
   "metadata": {},
   "outputs": [],
   "source": [
    "database = \"arctic_analysts_capstone\"\n",
    "user = \"arctic_analysts\"\n",
    "password  = \"ThisPassw0rd!\"\n",
    "server = \"gen10-data-fundamentals-22-02-sql-server.database.windows.net\"\n",
    "\n",
    "def sql_query(query):\n",
    "    conn = pymssql.connect(server, user, password, database)\n",
    "    cursor = conn.cursor()\n",
    "    queried_data = pd.read_sql(query, conn)\n",
    "    return queried_data\n",
    "\n",
    "# Make a new cell here ....."
   ]
  },
  {
   "cell_type": "code",
   "execution_count": null,
   "id": "be666644-1bc2-4790-bd78-2fdf5b123f9a",
   "metadata": {},
   "outputs": [],
   "source": [
    "# target_table = 'building_permits'\n",
    "# target_table = 'mortgage_rates'\n",
    "target_table = 'house_prices'\n",
    "#target_table = 'median_income'\n",
    "\n",
    "query = f\"SELECT * FROM {target_table}\" # Query Example\n",
    "df = sql_query(query)"
   ]
  },
  {
   "cell_type": "code",
   "execution_count": null,
   "id": "19013e20-cd12-4a9a-83e7-fdfb5ded45b8",
   "metadata": {},
   "outputs": [],
   "source": [
    "df['MedianHousePrice'] = df.MedianHousePrice.apply(lambda x: None if x == '' else int(float(x)))"
   ]
  },
  {
   "cell_type": "code",
   "execution_count": null,
   "id": "3249d1ee-6778-40d3-9bec-42106e038e88",
   "metadata": {},
   "outputs": [],
   "source": [
    "df.sort_values(by = 'Date', inplace = True)"
   ]
  },
  {
   "cell_type": "code",
   "execution_count": null,
   "id": "7c063e85-9b8d-4a22-9740-0cf312a3ebfa",
   "metadata": {},
   "outputs": [],
   "source": []
  },
  {
   "cell_type": "code",
   "execution_count": null,
   "id": "bc347bff-e110-4a6f-8acd-fb60fba53749",
   "metadata": {},
   "outputs": [],
   "source": [
    "locales = df['FIPS'].unique().tolist()\n",
    "for locale in locales:\n",
    "    subset = df[(df.FIPS == locale)].copy()\n",
    "    if subset.isnull().sum().sum() > 0:\n",
    "        continue\n",
    "    else:\n",
    "        break\n",
    "    \n"
   ]
  },
  {
   "cell_type": "code",
   "execution_count": null,
   "id": "46a1d031-7e58-4618-ac98-9b96bfc0322a",
   "metadata": {},
   "outputs": [],
   "source": [
    "subset.sort_values(by = 'Date', inplace = True)"
   ]
  },
  {
   "cell_type": "code",
   "execution_count": null,
   "id": "86dc796e-c5f0-4f6c-804e-ad228901924d",
   "metadata": {},
   "outputs": [],
   "source": [
    "alternate = subset.groupby(by = ['County','Year'])[['MedianHousePrice']].agg('mean').reset_index()"
   ]
  },
  {
   "cell_type": "code",
   "execution_count": null,
   "id": "5d08c919-dcc8-4e47-9c6a-e5ce35d31abb",
   "metadata": {},
   "outputs": [],
   "source": [
    "subset.reset_index(drop = True, inplace = True)\n",
    "subset.reset_index(inplace = True)\n",
    "\n",
    "alternate.reset_index(drop = True, inplace = True)\n",
    "alternate.reset_index(inplace = True)"
   ]
  },
  {
   "cell_type": "code",
   "execution_count": null,
   "id": "cb110ee8-4035-44b7-bcb9-4db188c368e5",
   "metadata": {},
   "outputs": [],
   "source": [
    "subset"
   ]
  },
  {
   "cell_type": "code",
   "execution_count": null,
   "id": "98260c8a-e30a-499c-ba64-3ccea3202732",
   "metadata": {},
   "outputs": [],
   "source": [
    "x = subset['index'].to_numpy()\n",
    "y = subset['MedianHousePrice'].to_numpy()\n",
    "\n",
    "slope, intercept, r, p, stderr = scipy.stats.linregress(x,y)"
   ]
  },
  {
   "cell_type": "code",
   "execution_count": null,
   "id": "329ae241-ddc3-4da5-b404-712ca5b24097",
   "metadata": {},
   "outputs": [],
   "source": [
    "plt.rcParams['xtick.labelsize'] = 13\n",
    "plt.rcParams['ytick.labelsize'] = 13\n",
    "\n",
    "line = f'Slope: {slope:.2f}\\nIntercept: {intercept:.2f}\\nCorrelation coefficient: r={r:.2f}'\n",
    "\n",
    "fig = plt.figure(figsize = (17,5))\n",
    "plt.title(f\"Date vs. Median Home Price | {subset.County.tolist()[0]}\", fontsize = 20)\n",
    "ax = sns.scatterplot(data = subset,\n",
    "                     x = 'Date',\n",
    "                     y = 'MedianHousePrice',\n",
    "                     hue = 'MedianHousePrice',\n",
    "                     palette = 'magma', \n",
    "                     s = 100,\n",
    "                     alpha = .8, \n",
    "                     edgecolor = 'black', \n",
    "                     linewidth = 1,\n",
    "                     legend = False)\n",
    "\n",
    "ax = sns.lineplot(x = x,\n",
    "                  y = intercept + slope * x, \n",
    "                  label = line,\n",
    "                  color = 'blue',\n",
    "                  linewidth = 1.2)\n",
    "\n",
    "ax.set_xlabel('Date', fontsize = 14)\n",
    "ax.set_ylabel('Median Home Price', fontsize = 14)\n",
    "ax.tick_params(size = 10)\n",
    "sns.despine()\n",
    "plt.show()"
   ]
  },
  {
   "cell_type": "code",
   "execution_count": null,
   "id": "47c1a233-c255-45fd-a3b1-2adba2e6b7fc",
   "metadata": {},
   "outputs": [],
   "source": [
    "x = alternate['index'].to_numpy()\n",
    "y = alternate['MedianHousePrice'].to_numpy()\n",
    "\n",
    "slope, intercept, r, p, stderr = scipy.stats.linregress(x,y)"
   ]
  },
  {
   "cell_type": "code",
   "execution_count": null,
   "id": "5bdef81d-95ec-45b3-b428-4cd90ab13a59",
   "metadata": {},
   "outputs": [],
   "source": [
    "plt.rcParams['xtick.labelsize'] = 13\n",
    "plt.rcParams['ytick.labelsize'] = 13\n",
    "\n",
    "line = f'Slope: {slope:.2f}\\nIntercept: {intercept:.2f}\\nCorrelation coefficient: r={r:.2f}'\n",
    "\n",
    "fig = plt.figure(figsize = (17,5))\n",
    "plt.title(f\"Date vs. Median Home Price | {subset.County.tolist()[0]}\", fontsize = 20)\n",
    "ax = sns.scatterplot(data = alternate,\n",
    "                     x = 'Year',\n",
    "                     y = 'MedianHousePrice',\n",
    "                     hue = 'MedianHousePrice',\n",
    "                     palette = 'magma', \n",
    "                     s = 100,\n",
    "                     alpha = .8, \n",
    "                     edgecolor = 'black', \n",
    "                     linewidth = 1,\n",
    "                     legend = False)\n",
    "\n",
    "ax = sns.lineplot(x = x,\n",
    "                  y = intercept + slope * x, \n",
    "                  label = line,\n",
    "                  color = 'blue',\n",
    "                  linewidth = 1.2)\n",
    "\n",
    "ax.set_xlabel('Date', fontsize = 14)\n",
    "ax.set_ylabel('Median Home Price', fontsize = 14)\n",
    "ax.tick_params(size = 10)\n",
    "sns.despine()\n",
    "plt.show()"
   ]
  },
  {
   "cell_type": "code",
   "execution_count": null,
   "id": "16b46613-ed6e-4370-abc6-eeb379e9d212",
   "metadata": {},
   "outputs": [],
   "source": [
    ".83**2"
   ]
  },
  {
   "cell_type": "code",
   "execution_count": null,
   "id": "5522dc09-574e-4b79-9de5-87014a5a7514",
   "metadata": {},
   "outputs": [],
   "source": []
  },
  {
   "cell_type": "code",
   "execution_count": null,
   "id": "6c06f485-d811-4c79-a0e6-f28b944ee5d9",
   "metadata": {},
   "outputs": [],
   "source": []
  },
  {
   "cell_type": "code",
   "execution_count": null,
   "id": "bb15b946-30f2-40af-9e6c-e42322fa16ad",
   "metadata": {},
   "outputs": [],
   "source": []
  },
  {
   "cell_type": "code",
   "execution_count": null,
   "id": "492824c8-1005-4950-b9ed-9f92aa6bb67a",
   "metadata": {},
   "outputs": [],
   "source": [
    "from sklearn.models import LogisticRegression, LinearRegression"
   ]
  },
  {
   "cell_type": "code",
   "execution_count": null,
   "id": "62d23939-f078-4111-8bab-09be5469cb89",
   "metadata": {},
   "outputs": [],
   "source": [
    "def plot_charts(fips):\n",
    "    subset = df[(df.FIPS == fips) & (df.AgeGroup == '25-44')][['Year','County','MedianIncome']]\n",
    "    if subset.shape[0] < 4:\n",
    "        print(subset.shape[0])\n",
    "    else:\n",
    "        return\n",
    "\n",
    "    plt.rcParams['xtick.labelsize'] = 13\n",
    "    plt.rcParams['ytick.labelsize'] = 13\n",
    "\n",
    "    x = subset['Year'].to_numpy()\n",
    "    y = subset['MedianIncome'].to_numpy()\n",
    "\n",
    "    slope, intercept, r, p, stderr = scipy.stats.linregress(x,y)\n",
    "    line = f'Slope: {slope:.2f}\\nIntercept: {intercept:.2f}\\nCorrelation coefficient: r={r:.2f}'\n",
    "\n",
    "    fig = plt.figure(figsize = (10,8))\n",
    "    plt.title(f\"Year vs. Median Income | {subset.County.tolist()[0]}\", fontsize = 20)\n",
    "    ax = sns.scatterplot(data = subset,\n",
    "                         x = 'Year',\n",
    "                         y = 'MedianIncome',\n",
    "                         hue = 'MedianIncome',\n",
    "                         palette = 'magma', \n",
    "                         s = 100,\n",
    "                         alpha = .8, \n",
    "                         edgecolor = 'black', \n",
    "                         linewidth = 1,\n",
    "                         legend = False)\n",
    "\n",
    "    ax = sns.lineplot(x = x,\n",
    "                      y = intercept + slope * x, \n",
    "                      label = line,\n",
    "                      color = 'blue',\n",
    "                      linewidth = 1.2)\n",
    "\n",
    "    ax.set_xlabel('Year', fontsize = 14)\n",
    "    ax.set_ylabel('Median Income', fontsize = 14)\n",
    "    ax.tick_params(size = 10)\n",
    "    sns.despine()\n",
    "    plt.show()\n"
   ]
  },
  {
   "cell_type": "code",
   "execution_count": null,
   "id": "05bbf2af-9847-47e3-81bf-301017602a80",
   "metadata": {},
   "outputs": [],
   "source": [
    "from statsmodels.tsa.api import ExponentialSmoothing, SimpleExpSmoothing\n",
    "from sklearn.metrics import mean_squared_error"
   ]
  },
  {
   "cell_type": "code",
   "execution_count": null,
   "id": "046ee40c-8483-4138-ac53-fd9f06d8a7c8",
   "metadata": {},
   "outputs": [],
   "source": [
    "records = len(subset)\n",
    "\n",
    "df_train = subset[:-int(records *.25)]\n",
    "df_test = subset[-int(records*.25):]"
   ]
  },
  {
   "cell_type": "code",
   "execution_count": null,
   "id": "efb34679-a16d-4af8-84a2-ade2328d9dc4",
   "metadata": {},
   "outputs": [],
   "source": [
    "print(len(df_test))"
   ]
  },
  {
   "cell_type": "code",
   "execution_count": null,
   "id": "39b3bab6-b706-433f-b7c1-dcde4c8b4287",
   "metadata": {},
   "outputs": [],
   "source": [
    "model_results = []\n",
    "for period in range(2, 200): \n",
    "    \n",
    "    try:\n",
    "        model_mul_additive = ExponentialSmoothing(df_train['MedianHousePrice'], trend='mul', seasonal='add', seasonal_periods = period)\n",
    "        results_mul_add = model_mul_additive.fit()\n",
    "        predictions_mul_add = results_mul_add.forecast(steps=67)\n",
    "        rmse_mul_add = mean_squared_error(df_test['MedianHousePrice'], predictions_mul_add, squared=False)\n",
    "        model_results.append([period, rmse_mul_add, model_mul_additive, 'additive'])\n",
    "        \n",
    "        model_mul_mult = ExponentialSmoothing(df_train['MedianHousePrice'], trend='mul', seasonal='mul', seasonal_periods = periods)\n",
    "        results_mul_mult = model_mul_mult.fit()\n",
    "        predictions_mul_mult = results_mul_mult.forecast(steps=67)\n",
    "        rmse_mul_mult = mean_squared_error(df_test['MedianHousePrice'], predictions_mul_mult, squared=False)\n",
    "\n",
    "        model_results.append([period, rmse_mul_mult, model_mul_mult, 'multiplicative'])\n",
    "        \n",
    "        ax1 = None\n",
    "        fig1 = plt.figure(figsize = (17,5))\n",
    "\n",
    "        ax1 = plt.plot(subset['MedianHousePrice'], color = 'black')\n",
    "        ax1 = plt.plot(predictions_mul_add, color ='orange')\n",
    "        ax1 = plt.plot(df_test['MedianHousePrice'], color = 'green', linewidth = 3)\n",
    "        ax1 = plt.plot(predictions_mul_mult, color='red')\n",
    "        plt.show()\n",
    "        \n",
    "        print(period)\n",
    "    except:\n",
    "        print('fail', periods)\n",
    "        continue\n",
    "\n",
    "    result_df = pd.DataFrame(model_results, columns = ['num_periods', 'mse', 'model', 'model_type'])\n",
    "  "
   ]
  },
  {
   "cell_type": "code",
   "execution_count": null,
   "id": "c4ff09ee-7e9e-47ad-8438-647e8c857b3b",
   "metadata": {},
   "outputs": [],
   "source": [
    "result_df"
   ]
  },
  {
   "cell_type": "code",
   "execution_count": null,
   "id": "8794cb49-cf49-430c-b80d-0cceafada745",
   "metadata": {},
   "outputs": [],
   "source": [
    "result_df.sort_values(by = 'mse',inplace = True)"
   ]
  },
  {
   "cell_type": "code",
   "execution_count": null,
   "id": "f9ed0bb9-1935-4da3-8fd6-ae4d8530cd23",
   "metadata": {},
   "outputs": [],
   "source": [
    "result_df.reset_index(drop = True, inplace = True)"
   ]
  },
  {
   "cell_type": "code",
   "execution_count": null,
   "id": "cbd2fdc5-eec7-4d9d-9945-9d4254b08a93",
   "metadata": {},
   "outputs": [],
   "source": []
  },
  {
   "cell_type": "code",
   "execution_count": null,
   "id": "48d8ac7a-1532-4ec4-99bc-61aeadd7e159",
   "metadata": {},
   "outputs": [],
   "source": [
    "result_df.reset_index(inplace = True)"
   ]
  },
  {
   "cell_type": "code",
   "execution_count": null,
   "id": "a31c5ee1-eb90-4ec8-83b2-eb1c6631f498",
   "metadata": {},
   "outputs": [],
   "source": [
    "result_df"
   ]
  },
  {
   "cell_type": "code",
   "execution_count": null,
   "id": "1b0fad8b-0ac5-4d54-9f6b-4608a084a72e",
   "metadata": {},
   "outputs": [],
   "source": [
    "for result in result_df['index'].tolist():\n",
    "    result_target = result_df[(result_df['index'] == result)]\n",
    "    result_target.reset_index(drop = True, inplace = True)\n",
    "    \n",
    "    model = result_target.loc[0, 'model']\n",
    "    model_type = result_target.loc[0, 'model_type']\n",
    "    print(model_type)\n",
    "    \n",
    "    fitted_model = model.fit()\n",
    "    predictions = fitted_model.forecast(steps=67)\n",
    "    \n",
    "    ax1 = None\n",
    "    fig1 = plt.figure(figsize = (17,5))\n",
    "    \n",
    "    ax1 = plt.plot(subset['MedianHousePrice'], color = 'black')\n",
    "    ax1 = plt.plot(predictions, color ='orange')\n",
    "    ax1 = plt.plot(df_test['MedianHousePrice'], color = 'green', linewidth = 3)\n",
    "    plt.show()"
   ]
  },
  {
   "cell_type": "code",
   "execution_count": null,
   "id": "4fa99515-cfad-482d-98c9-609f2343aef9",
   "metadata": {},
   "outputs": [],
   "source": []
  },
  {
   "cell_type": "code",
   "execution_count": null,
   "id": "feab6929-b43b-41fe-a1e6-fb2a79e836cb",
   "metadata": {},
   "outputs": [],
   "source": [
    "from sklearn.linear_model import ElasticNetCV"
   ]
  },
  {
   "cell_type": "code",
   "execution_count": null,
   "id": "b0f6582b-6090-4d6c-91d0-276bb308e0ff",
   "metadata": {},
   "outputs": [],
   "source": []
  }
 ],
 "metadata": {
  "kernelspec": {
   "display_name": "Python 3 (ipykernel)",
   "language": "python",
   "name": "python3"
  },
  "language_info": {
   "codemirror_mode": {
    "name": "ipython",
    "version": 3
   },
   "file_extension": ".py",
   "mimetype": "text/x-python",
   "name": "python",
   "nbconvert_exporter": "python",
   "pygments_lexer": "ipython3",
   "version": "3.9.7"
  }
 },
 "nbformat": 4,
 "nbformat_minor": 5
}
