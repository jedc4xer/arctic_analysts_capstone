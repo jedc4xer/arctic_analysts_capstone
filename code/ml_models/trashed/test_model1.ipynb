{
 "cells": [
  {
   "cell_type": "code",
   "execution_count": null,
   "id": "e8ab1239-1fb6-48f2-abd8-3971a50f979c",
   "metadata": {},
   "outputs": [],
   "source": [
    "import pymssql\n",
    "import numpy as np\n",
    "import pandas as pd\n",
    "import datetime as dt\n",
    "from collections import Counter"
   ]
  },
  {
   "cell_type": "code",
   "execution_count": null,
   "id": "c707b321-419f-48fb-a0cd-400a1a7af3fa",
   "metadata": {},
   "outputs": [],
   "source": [
    "database = \"arctic_analysts_capstone\"\n",
    "user = \"arctic_analysts\"\n",
    "password  = \"ThisPassw0rd!\"\n",
    "server = \"gen10-data-fundamentals-22-02-sql-server.database.windows.net\"\n",
    "\n",
    "def get_data():\n",
    "    conn = pymssql.connect(server, user, password, database)\n",
    "    cursor = conn.cursor()\n",
    "    \n",
    "    query = f'SELECT * FROM median_income'\n",
    "\n",
    "    income_df = pd.read_sql(query, conn)\n",
    "    print(f'\\nBefore Data Management: {income_df.shape[0]}')\n",
    "\n",
    "    return income_df"
   ]
  },
  {
   "cell_type": "code",
   "execution_count": null,
   "id": "bf2c86eb-6ad1-4c47-9a9d-95e98c49194e",
   "metadata": {},
   "outputs": [],
   "source": []
  },
  {
   "cell_type": "code",
   "execution_count": null,
   "id": "99dce625-c6d7-4997-ad3d-74cf0ce17a2e",
   "metadata": {},
   "outputs": [],
   "source": [
    "income_df = get_data()"
   ]
  },
  {
   "cell_type": "code",
   "execution_count": null,
   "id": "5322d4ad-0b1c-41bf-823f-63560b2a50da",
   "metadata": {},
   "outputs": [],
   "source": [
    "coconino_county = income_df[(income_df.county == 'Coconino County, Arizona')]"
   ]
  },
  {
   "cell_type": "code",
   "execution_count": null,
   "id": "243a1ce9-1e75-47cb-9c32-83906b08e20b",
   "metadata": {},
   "outputs": [],
   "source": [
    "coconino_county"
   ]
  },
  {
   "cell_type": "code",
   "execution_count": null,
   "id": "42a02ac5-98ba-4a41-8671-f51f413d00e0",
   "metadata": {},
   "outputs": [],
   "source": [
    "overall_coconino = coconino_county[(coconino_county.AgeGroup == 'overall')].copy()\n",
    "overall_coconino.sort_values(by = 'year')"
   ]
  },
  {
   "cell_type": "code",
   "execution_count": null,
   "id": "94dd1659-0faf-4c23-aec1-52c91932ee4d",
   "metadata": {},
   "outputs": [],
   "source": [
    "from sklearn.linear_model import ElasticNetCV"
   ]
  },
  {
   "cell_type": "code",
   "execution_count": null,
   "id": "315ea852-b6c7-4f24-9330-61541a9c5212",
   "metadata": {},
   "outputs": [],
   "source": [
    "def get_step(df):\n",
    "    df.sort_values(by = 'year', inplace = True)\n",
    "    for i in range(1, 7):\n",
    "        col_name = 'Step_{}'.format(i)\n",
    "        df[col_name] = df['year'].shift(periods=-1 * i)\n",
    "    df = df.dropna().reset_index(drop = True)\n",
    "    return df\n",
    "stepped_df = get_step(overall_coconino[['year', 'MedianIncome']].copy())\n",
    "stepped_df"
   ]
  },
  {
   "cell_type": "code",
   "execution_count": null,
   "id": "b93254c6-4564-406f-b24c-cde519477d9a",
   "metadata": {},
   "outputs": [],
   "source": [
    "import plotly.express as px"
   ]
  },
  {
   "cell_type": "code",
   "execution_count": null,
   "id": "845636ac-d2ed-4208-9ccc-b479fb1a25c5",
   "metadata": {},
   "outputs": [],
   "source": [
    "print(sum([.68, .155, .05, .037, .035, .023, .01, .01]))"
   ]
  },
  {
   "cell_type": "code",
   "execution_count": null,
   "id": "055c21dc-dacd-4e81-87ba-e70b3cf396c6",
   "metadata": {},
   "outputs": [],
   "source": [
    "fig = px.line(overall_coconino, x = 'year', y='MedianIncome')"
   ]
  },
  {
   "cell_type": "code",
   "execution_count": null,
   "id": "43beb11c-0d2a-4dc5-bcb6-9651f6e006ff",
   "metadata": {},
   "outputs": [],
   "source": [
    "fig.show()"
   ]
  },
  {
   "cell_type": "code",
   "execution_count": null,
   "id": "f867f281-18b9-409c-9e58-68a21efdc32b",
   "metadata": {},
   "outputs": [],
   "source": [
    "import numpy as np\n",
    "import pandas as pd\n",
    "from sklearn.metrics import mean_squared_error\n",
    "import matplotlib.pyplot as plt\n",
    "from matplotlib import rcParams\n",
    "from cycler import cycler"
   ]
  },
  {
   "cell_type": "code",
   "execution_count": null,
   "id": "d7b8373d-dd98-40db-83cf-731fcaae1ad8",
   "metadata": {},
   "outputs": [],
   "source": [
    "overall_coconino.set_index('year', inplace = True)\n",
    "overall_coconino.index.freq = 'YS'"
   ]
  },
  {
   "cell_type": "code",
   "execution_count": null,
   "id": "45f8daff-5830-424f-8389-7cf27e90d648",
   "metadata": {},
   "outputs": [],
   "source": [
    "overall_coconino = overall_coconino[['MedianIncome']]"
   ]
  },
  {
   "cell_type": "code",
   "execution_count": null,
   "id": "cda58867-b587-4423-af7c-bee43d7f5677",
   "metadata": {},
   "outputs": [],
   "source": [
    "overall_coconino.reset_index(inplace = True)"
   ]
  },
  {
   "cell_type": "code",
   "execution_count": null,
   "id": "5b61f507-892f-49c1-b1f9-f228dd8c0f0c",
   "metadata": {},
   "outputs": [],
   "source": [
    "records = len(overall_coconino)\n",
    "\n",
    "df_train = overall_coconino[:-int(records *.25)]\n",
    "df_test = overall_coconino[-int(records*.25):]"
   ]
  },
  {
   "cell_type": "code",
   "execution_count": null,
   "id": "c1f99aa1-eab3-47c2-87a3-3323710a56f1",
   "metadata": {},
   "outputs": [],
   "source": [
    "from statsmodels.tsa.api import ExponentialSmoothing, SimpleExpSmoothing\n",
    "import time"
   ]
  },
  {
   "cell_type": "code",
   "execution_count": null,
   "id": "d18e00c3-e067-4e3d-a46e-c2808304f2ab",
   "metadata": {},
   "outputs": [],
   "source": [
    "for periods in range(2, 15): \n",
    "\n",
    "    model_mul_additive = ExponentialSmoothing(df_train['MedianIncome'], trend='mul', seasonal='add', seasonal_periods = periods)\n",
    "    results_mul_add = model_mul_additive.fit()\n",
    "    predictions_mul_add = results_mul_add.forecast(steps=3)\n",
    "    rmse_mul_add = mean_squared_error(df_test['MedianIncome'], predictions_mul_add, squared=False)\n",
    "\n",
    "    model_mul_mult = ExponentialSmoothing(df_train['MedianIncome'], trend='mul', seasonal='mul', seasonal_periods = periods)\n",
    "    results_mul_mult = model_mul_mult.fit()\n",
    "    predictions_mul_mult = results_mul_mult.forecast(steps=3)\n",
    "    rmse_mul_mult = mean_squared_error(df_test['MedianIncome'], predictions_mul_mult, squared=False)\n",
    "\n",
    "    fig1 = plt.figure(figsize = (17,5))\n",
    "\n",
    "    ax1 = plt.plot(overall_coconino['MedianIncome'], color = 'black')\n",
    "    ax1 = plt.plot(predictions_mul_add, color ='orange')\n",
    "    ax1 = plt.plot(df_test['MedianIncome'], color = 'green', linewidth = 3)\n",
    "    ax1 = plt.plot(predictions_mul_mult, color='red')\n",
    "    plt.show()\n",
    "    \n",
    "    "
   ]
  },
  {
   "cell_type": "code",
   "execution_count": null,
   "id": "d198325e-e951-4b2a-ac04-e9dd05fb5334",
   "metadata": {},
   "outputs": [],
   "source": [
    "df_test"
   ]
  },
  {
   "cell_type": "code",
   "execution_count": null,
   "id": "ae4c2376-a9ad-4fa8-85c0-c4e469916c0f",
   "metadata": {},
   "outputs": [],
   "source": []
  }
 ],
 "metadata": {
  "kernelspec": {
   "display_name": "Python 3 (ipykernel)",
   "language": "python",
   "name": "python3"
  },
  "language_info": {
   "codemirror_mode": {
    "name": "ipython",
    "version": 3
   },
   "file_extension": ".py",
   "mimetype": "text/x-python",
   "name": "python",
   "nbconvert_exporter": "python",
   "pygments_lexer": "ipython3",
   "version": "3.9.7"
  }
 },
 "nbformat": 4,
 "nbformat_minor": 5
}
