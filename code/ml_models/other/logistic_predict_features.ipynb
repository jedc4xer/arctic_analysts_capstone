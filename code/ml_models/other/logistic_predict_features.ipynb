{
 "cells": [
  {
   "cell_type": "markdown",
   "metadata": {},
   "source": [
    "# Experimentation Notebook\n",
    "\n",
    "This notebook's purpose is to run a logistic model on Year, Counties, Age Groups, Median Income, Average Mortgage Rates, and Median House Price. After it is trained and tested with a split train test dataset, save it with job lib. Read in saved model and predict yes or no with new predicted income from the ARIMA model just to test the basic logistic regression model. The relatively newer data that the model has not seen are year 2020-2022. As we can see, it predicts no better than yes regardless of the input. "
   ]
  },
  {
   "cell_type": "code",
   "execution_count": null,
   "metadata": {},
   "outputs": [],
   "source": [
    "# Imports\n",
    "\n",
    "import joblib\n",
    "import pymssql\n",
    "import numpy as np\n",
    "import pandas as pd\n",
    "import seaborn as sns\n",
    "import plotly.express as px\n",
    "import matplotlib.pyplot as plt\n",
    "from sklearn.metrics import accuracy_score\n",
    "from sklearn.metrics import confusion_matrix\n",
    "from sklearn.preprocessing import StandardScaler\n",
    "from sklearn.metrics import classification_report\n",
    "from sklearn.linear_model import LogisticRegression\n",
    "from sklearn.model_selection import train_test_split"
   ]
  },
  {
   "cell_type": "code",
   "execution_count": 117,
   "metadata": {},
   "outputs": [
    {
     "name": "stdout",
     "output_type": "stream",
     "text": [
      "5607\n",
      "5607\n",
      "5607\n",
      "20727\n"
     ]
    }
   ],
   "source": [
    "# Credentials\n",
    "# Functions to read from database and join tables\n",
    "\n",
    "database = \"arctic_analysts_capstone\"\n",
    "user = \"arctic_analysts\"\n",
    "password  = \"ThisPassw0rd!\"\n",
    "server = \"gen10-data-fundamentals-22-02-sql-server.database.windows.net\"\n",
    "\n",
    "def sql_query(query):\n",
    "    conn = pymssql.connect(server, user, password, database)\n",
    "    cursor = conn.cursor()\n",
    "    queried_data = pd.read_sql(query, conn)\n",
    "    return queried_data\n",
    "\n",
    "def run_queries():\n",
    "    tables = [\"year\", \"month\", \"county\", \"median_income\", \"main_table\"]\n",
    "\n",
    "    query = f\"SELECT * FROM {tables[0]}\"\n",
    "    year_df = sql_query(query)\n",
    "\n",
    "    query = f\"SELECT * FROM {tables[1]}\"\n",
    "    month_df = sql_query(query)\n",
    "\n",
    "    query = f\"SELECT * FROM {tables[2]}\"\n",
    "    county_df = sql_query(query)\n",
    "\n",
    "    query = f\"SELECT * FROM {tables[3]}\"\n",
    "    median_income_df = sql_query(query)\n",
    "\n",
    "    query = f\"SELECT * FROM {tables[4]}\"\n",
    "    main_table = sql_query(query)\n",
    "\n",
    "    all_df = [year_df, month_df, county_df, median_income_df, main_table]\n",
    "    return all_df\n",
    "\n",
    "def join_tables(all_df):\n",
    "    year_df = all_df[0]\n",
    "    month_df = all_df[1]\n",
    "    county_df = all_df[2]\n",
    "    median_income_df = all_df[3]\n",
    "    main_table = all_df[4]\n",
    "\n",
    "    master_table = pd.merge(\n",
    "        main_table, year_df, left_on=\"YearID\", right_on=\"YearID\", how=\"outer\"\n",
    "    )\n",
    "    print(master_table.shape[0])\n",
    "    # Now has 5607 rows\n",
    "\n",
    "    master_table = pd.merge(\n",
    "        master_table, month_df, left_on=\"MonthID\", right_on=\"MonthID\", how=\"outer\"\n",
    "    )\n",
    "    # Now has 5607 rows\n",
    "    print(master_table.shape[0])\n",
    "\n",
    "    master_table = pd.merge(\n",
    "        master_table, county_df, left_on=\"FIPS\", right_on=\"FIPS\", how=\"outer\"\n",
    "    )\n",
    "    # Now has 5607 rows\n",
    "    print(master_table.shape[0])\n",
    "\n",
    "    master_table = pd.merge(\n",
    "        master_table,\n",
    "        median_income_df,\n",
    "        left_on=[\"FIPS\", \"YearID\"],\n",
    "        right_on=[\"FIPS\", \"YearID\"],\n",
    "        how=\"outer\",\n",
    "    )\n",
    "    # Now has 20727 rows\n",
    "    print(master_table.shape[0])\n",
    "\n",
    "    master_table.loc[(master_table.MedianIncome < 0), \"MedianIncome\"] = None\n",
    "    return master_table\n",
    "\n",
    "all_df = run_queries()\n",
    "master_table = join_tables(all_df)"
   ]
  },
  {
   "cell_type": "code",
   "execution_count": 118,
   "metadata": {},
   "outputs": [
    {
     "name": "stderr",
     "output_type": "stream",
     "text": [
      "e:\\anaconda3\\lib\\site-packages\\pandas\\core\\frame.py:5039: SettingWithCopyWarning:\n",
      "\n",
      "\n",
      "A value is trying to be set on a copy of a slice from a DataFrame\n",
      "\n",
      "See the caveats in the documentation: https://pandas.pydata.org/pandas-docs/stable/user_guide/indexing.html#returning-a-view-versus-a-copy\n",
      "\n"
     ]
    },
    {
     "name": "stdout",
     "output_type": "stream",
     "text": [
      "Classification Report:\n",
      "               precision    recall  f1-score   support\n",
      "\n",
      "          No       1.00      0.98      0.99      3673\n",
      "         Yes       0.95      1.00      0.97      1046\n",
      "\n",
      "    accuracy                           0.99      4719\n",
      "   macro avg       0.97      0.99      0.98      4719\n",
      "weighted avg       0.99      0.99      0.99      4719\n",
      "\n"
     ]
    },
    {
     "data": {
      "application/vnd.plotly.v1+json": {
       "config": {
        "plotlyServerURL": "https://plot.ly"
       },
       "data": [
        {
         "alignmentgroup": "True",
         "hovertemplate": "x=%{x}<br>y=%{y}<extra></extra>",
         "legendgroup": "",
         "marker": {
          "color": "#636efa",
          "pattern": {
           "shape": ""
          }
         },
         "name": "",
         "offsetgroup": "",
         "orientation": "h",
         "showlegend": false,
         "textposition": "auto",
         "type": "bar",
         "x": [
          -14.142467619704147,
          -3.2312306878208292,
          -0.055042380768373665,
          11.57074537535952,
          0.1516752777202611,
          -1.2510515303264567,
          -0.11542053469845225,
          -0.20891742059272642,
          1.0517641754814302,
          -0.3959888744539922,
          1.2611173994414966,
          0.00670067673328675,
          0.6195799199893116,
          -0.39243210763235087,
          0.4153765945610049,
          0.5037986738026561,
          -0.529037182312622,
          -0.1621976185692235,
          0.33129328309520867,
          -0.6436712583201296,
          -2.211905137764951,
          2.1720703243402246,
          0.14778172724664557,
          0.6346940358983464,
          -1.6065070732687847,
          0.3848107298212989,
          1.3627278646043075,
          1.746202662620757,
          -2.582303637100476,
          0.9571168688103994,
          -1.4718849564637613
         ],
         "xaxis": "x",
         "y": [
          "MedianHousePrice",
          "AverageRate",
          "AveragePoints",
          "MedianIncome",
          "YearID",
          "Atlantic County",
          "Bergen County",
          "Burlington County",
          "Camden County",
          "Cape May County",
          "Cumberland County",
          "Essex County",
          "Gloucester County",
          "Hudson County",
          "Hunterdon County",
          "Mercer County",
          "Middlesex County",
          "Monmouth County",
          "Morris County",
          "Ocean County",
          "Passaic County",
          "Salem County",
          "Somerset County",
          "Sussex County",
          "Union County",
          "Warren County",
          "25-44",
          "45-64",
          "65-plus",
          "overall",
          "under-25"
         ],
         "yaxis": "y"
        }
       ],
       "layout": {
        "barmode": "relative",
        "height": 900,
        "legend": {
         "tracegroupgap": 0
        },
        "template": {
         "data": {
          "bar": [
           {
            "error_x": {
             "color": "#2a3f5f"
            },
            "error_y": {
             "color": "#2a3f5f"
            },
            "marker": {
             "line": {
              "color": "#E5ECF6",
              "width": 0.5
             },
             "pattern": {
              "fillmode": "overlay",
              "size": 10,
              "solidity": 0.2
             }
            },
            "type": "bar"
           }
          ],
          "barpolar": [
           {
            "marker": {
             "line": {
              "color": "#E5ECF6",
              "width": 0.5
             },
             "pattern": {
              "fillmode": "overlay",
              "size": 10,
              "solidity": 0.2
             }
            },
            "type": "barpolar"
           }
          ],
          "carpet": [
           {
            "aaxis": {
             "endlinecolor": "#2a3f5f",
             "gridcolor": "white",
             "linecolor": "white",
             "minorgridcolor": "white",
             "startlinecolor": "#2a3f5f"
            },
            "baxis": {
             "endlinecolor": "#2a3f5f",
             "gridcolor": "white",
             "linecolor": "white",
             "minorgridcolor": "white",
             "startlinecolor": "#2a3f5f"
            },
            "type": "carpet"
           }
          ],
          "choropleth": [
           {
            "colorbar": {
             "outlinewidth": 0,
             "ticks": ""
            },
            "type": "choropleth"
           }
          ],
          "contour": [
           {
            "colorbar": {
             "outlinewidth": 0,
             "ticks": ""
            },
            "colorscale": [
             [
              0,
              "#0d0887"
             ],
             [
              0.1111111111111111,
              "#46039f"
             ],
             [
              0.2222222222222222,
              "#7201a8"
             ],
             [
              0.3333333333333333,
              "#9c179e"
             ],
             [
              0.4444444444444444,
              "#bd3786"
             ],
             [
              0.5555555555555556,
              "#d8576b"
             ],
             [
              0.6666666666666666,
              "#ed7953"
             ],
             [
              0.7777777777777778,
              "#fb9f3a"
             ],
             [
              0.8888888888888888,
              "#fdca26"
             ],
             [
              1,
              "#f0f921"
             ]
            ],
            "type": "contour"
           }
          ],
          "contourcarpet": [
           {
            "colorbar": {
             "outlinewidth": 0,
             "ticks": ""
            },
            "type": "contourcarpet"
           }
          ],
          "heatmap": [
           {
            "colorbar": {
             "outlinewidth": 0,
             "ticks": ""
            },
            "colorscale": [
             [
              0,
              "#0d0887"
             ],
             [
              0.1111111111111111,
              "#46039f"
             ],
             [
              0.2222222222222222,
              "#7201a8"
             ],
             [
              0.3333333333333333,
              "#9c179e"
             ],
             [
              0.4444444444444444,
              "#bd3786"
             ],
             [
              0.5555555555555556,
              "#d8576b"
             ],
             [
              0.6666666666666666,
              "#ed7953"
             ],
             [
              0.7777777777777778,
              "#fb9f3a"
             ],
             [
              0.8888888888888888,
              "#fdca26"
             ],
             [
              1,
              "#f0f921"
             ]
            ],
            "type": "heatmap"
           }
          ],
          "heatmapgl": [
           {
            "colorbar": {
             "outlinewidth": 0,
             "ticks": ""
            },
            "colorscale": [
             [
              0,
              "#0d0887"
             ],
             [
              0.1111111111111111,
              "#46039f"
             ],
             [
              0.2222222222222222,
              "#7201a8"
             ],
             [
              0.3333333333333333,
              "#9c179e"
             ],
             [
              0.4444444444444444,
              "#bd3786"
             ],
             [
              0.5555555555555556,
              "#d8576b"
             ],
             [
              0.6666666666666666,
              "#ed7953"
             ],
             [
              0.7777777777777778,
              "#fb9f3a"
             ],
             [
              0.8888888888888888,
              "#fdca26"
             ],
             [
              1,
              "#f0f921"
             ]
            ],
            "type": "heatmapgl"
           }
          ],
          "histogram": [
           {
            "marker": {
             "pattern": {
              "fillmode": "overlay",
              "size": 10,
              "solidity": 0.2
             }
            },
            "type": "histogram"
           }
          ],
          "histogram2d": [
           {
            "colorbar": {
             "outlinewidth": 0,
             "ticks": ""
            },
            "colorscale": [
             [
              0,
              "#0d0887"
             ],
             [
              0.1111111111111111,
              "#46039f"
             ],
             [
              0.2222222222222222,
              "#7201a8"
             ],
             [
              0.3333333333333333,
              "#9c179e"
             ],
             [
              0.4444444444444444,
              "#bd3786"
             ],
             [
              0.5555555555555556,
              "#d8576b"
             ],
             [
              0.6666666666666666,
              "#ed7953"
             ],
             [
              0.7777777777777778,
              "#fb9f3a"
             ],
             [
              0.8888888888888888,
              "#fdca26"
             ],
             [
              1,
              "#f0f921"
             ]
            ],
            "type": "histogram2d"
           }
          ],
          "histogram2dcontour": [
           {
            "colorbar": {
             "outlinewidth": 0,
             "ticks": ""
            },
            "colorscale": [
             [
              0,
              "#0d0887"
             ],
             [
              0.1111111111111111,
              "#46039f"
             ],
             [
              0.2222222222222222,
              "#7201a8"
             ],
             [
              0.3333333333333333,
              "#9c179e"
             ],
             [
              0.4444444444444444,
              "#bd3786"
             ],
             [
              0.5555555555555556,
              "#d8576b"
             ],
             [
              0.6666666666666666,
              "#ed7953"
             ],
             [
              0.7777777777777778,
              "#fb9f3a"
             ],
             [
              0.8888888888888888,
              "#fdca26"
             ],
             [
              1,
              "#f0f921"
             ]
            ],
            "type": "histogram2dcontour"
           }
          ],
          "mesh3d": [
           {
            "colorbar": {
             "outlinewidth": 0,
             "ticks": ""
            },
            "type": "mesh3d"
           }
          ],
          "parcoords": [
           {
            "line": {
             "colorbar": {
              "outlinewidth": 0,
              "ticks": ""
             }
            },
            "type": "parcoords"
           }
          ],
          "pie": [
           {
            "automargin": true,
            "type": "pie"
           }
          ],
          "scatter": [
           {
            "marker": {
             "colorbar": {
              "outlinewidth": 0,
              "ticks": ""
             }
            },
            "type": "scatter"
           }
          ],
          "scatter3d": [
           {
            "line": {
             "colorbar": {
              "outlinewidth": 0,
              "ticks": ""
             }
            },
            "marker": {
             "colorbar": {
              "outlinewidth": 0,
              "ticks": ""
             }
            },
            "type": "scatter3d"
           }
          ],
          "scattercarpet": [
           {
            "marker": {
             "colorbar": {
              "outlinewidth": 0,
              "ticks": ""
             }
            },
            "type": "scattercarpet"
           }
          ],
          "scattergeo": [
           {
            "marker": {
             "colorbar": {
              "outlinewidth": 0,
              "ticks": ""
             }
            },
            "type": "scattergeo"
           }
          ],
          "scattergl": [
           {
            "marker": {
             "colorbar": {
              "outlinewidth": 0,
              "ticks": ""
             }
            },
            "type": "scattergl"
           }
          ],
          "scattermapbox": [
           {
            "marker": {
             "colorbar": {
              "outlinewidth": 0,
              "ticks": ""
             }
            },
            "type": "scattermapbox"
           }
          ],
          "scatterpolar": [
           {
            "marker": {
             "colorbar": {
              "outlinewidth": 0,
              "ticks": ""
             }
            },
            "type": "scatterpolar"
           }
          ],
          "scatterpolargl": [
           {
            "marker": {
             "colorbar": {
              "outlinewidth": 0,
              "ticks": ""
             }
            },
            "type": "scatterpolargl"
           }
          ],
          "scatterternary": [
           {
            "marker": {
             "colorbar": {
              "outlinewidth": 0,
              "ticks": ""
             }
            },
            "type": "scatterternary"
           }
          ],
          "surface": [
           {
            "colorbar": {
             "outlinewidth": 0,
             "ticks": ""
            },
            "colorscale": [
             [
              0,
              "#0d0887"
             ],
             [
              0.1111111111111111,
              "#46039f"
             ],
             [
              0.2222222222222222,
              "#7201a8"
             ],
             [
              0.3333333333333333,
              "#9c179e"
             ],
             [
              0.4444444444444444,
              "#bd3786"
             ],
             [
              0.5555555555555556,
              "#d8576b"
             ],
             [
              0.6666666666666666,
              "#ed7953"
             ],
             [
              0.7777777777777778,
              "#fb9f3a"
             ],
             [
              0.8888888888888888,
              "#fdca26"
             ],
             [
              1,
              "#f0f921"
             ]
            ],
            "type": "surface"
           }
          ],
          "table": [
           {
            "cells": {
             "fill": {
              "color": "#EBF0F8"
             },
             "line": {
              "color": "white"
             }
            },
            "header": {
             "fill": {
              "color": "#C8D4E3"
             },
             "line": {
              "color": "white"
             }
            },
            "type": "table"
           }
          ]
         },
         "layout": {
          "annotationdefaults": {
           "arrowcolor": "#2a3f5f",
           "arrowhead": 0,
           "arrowwidth": 1
          },
          "autotypenumbers": "strict",
          "coloraxis": {
           "colorbar": {
            "outlinewidth": 0,
            "ticks": ""
           }
          },
          "colorscale": {
           "diverging": [
            [
             0,
             "#8e0152"
            ],
            [
             0.1,
             "#c51b7d"
            ],
            [
             0.2,
             "#de77ae"
            ],
            [
             0.3,
             "#f1b6da"
            ],
            [
             0.4,
             "#fde0ef"
            ],
            [
             0.5,
             "#f7f7f7"
            ],
            [
             0.6,
             "#e6f5d0"
            ],
            [
             0.7,
             "#b8e186"
            ],
            [
             0.8,
             "#7fbc41"
            ],
            [
             0.9,
             "#4d9221"
            ],
            [
             1,
             "#276419"
            ]
           ],
           "sequential": [
            [
             0,
             "#0d0887"
            ],
            [
             0.1111111111111111,
             "#46039f"
            ],
            [
             0.2222222222222222,
             "#7201a8"
            ],
            [
             0.3333333333333333,
             "#9c179e"
            ],
            [
             0.4444444444444444,
             "#bd3786"
            ],
            [
             0.5555555555555556,
             "#d8576b"
            ],
            [
             0.6666666666666666,
             "#ed7953"
            ],
            [
             0.7777777777777778,
             "#fb9f3a"
            ],
            [
             0.8888888888888888,
             "#fdca26"
            ],
            [
             1,
             "#f0f921"
            ]
           ],
           "sequentialminus": [
            [
             0,
             "#0d0887"
            ],
            [
             0.1111111111111111,
             "#46039f"
            ],
            [
             0.2222222222222222,
             "#7201a8"
            ],
            [
             0.3333333333333333,
             "#9c179e"
            ],
            [
             0.4444444444444444,
             "#bd3786"
            ],
            [
             0.5555555555555556,
             "#d8576b"
            ],
            [
             0.6666666666666666,
             "#ed7953"
            ],
            [
             0.7777777777777778,
             "#fb9f3a"
            ],
            [
             0.8888888888888888,
             "#fdca26"
            ],
            [
             1,
             "#f0f921"
            ]
           ]
          },
          "colorway": [
           "#636efa",
           "#EF553B",
           "#00cc96",
           "#ab63fa",
           "#FFA15A",
           "#19d3f3",
           "#FF6692",
           "#B6E880",
           "#FF97FF",
           "#FECB52"
          ],
          "font": {
           "color": "#2a3f5f"
          },
          "geo": {
           "bgcolor": "white",
           "lakecolor": "white",
           "landcolor": "#E5ECF6",
           "showlakes": true,
           "showland": true,
           "subunitcolor": "white"
          },
          "hoverlabel": {
           "align": "left"
          },
          "hovermode": "closest",
          "mapbox": {
           "style": "light"
          },
          "paper_bgcolor": "white",
          "plot_bgcolor": "#E5ECF6",
          "polar": {
           "angularaxis": {
            "gridcolor": "white",
            "linecolor": "white",
            "ticks": ""
           },
           "bgcolor": "#E5ECF6",
           "radialaxis": {
            "gridcolor": "white",
            "linecolor": "white",
            "ticks": ""
           }
          },
          "scene": {
           "xaxis": {
            "backgroundcolor": "#E5ECF6",
            "gridcolor": "white",
            "gridwidth": 2,
            "linecolor": "white",
            "showbackground": true,
            "ticks": "",
            "zerolinecolor": "white"
           },
           "yaxis": {
            "backgroundcolor": "#E5ECF6",
            "gridcolor": "white",
            "gridwidth": 2,
            "linecolor": "white",
            "showbackground": true,
            "ticks": "",
            "zerolinecolor": "white"
           },
           "zaxis": {
            "backgroundcolor": "#E5ECF6",
            "gridcolor": "white",
            "gridwidth": 2,
            "linecolor": "white",
            "showbackground": true,
            "ticks": "",
            "zerolinecolor": "white"
           }
          },
          "shapedefaults": {
           "line": {
            "color": "#2a3f5f"
           }
          },
          "ternary": {
           "aaxis": {
            "gridcolor": "white",
            "linecolor": "white",
            "ticks": ""
           },
           "baxis": {
            "gridcolor": "white",
            "linecolor": "white",
            "ticks": ""
           },
           "bgcolor": "#E5ECF6",
           "caxis": {
            "gridcolor": "white",
            "linecolor": "white",
            "ticks": ""
           }
          },
          "title": {
           "x": 0.05
          },
          "xaxis": {
           "automargin": true,
           "gridcolor": "white",
           "linecolor": "white",
           "ticks": "",
           "title": {
            "standoff": 15
           },
           "zerolinecolor": "white",
           "zerolinewidth": 2
          },
          "yaxis": {
           "automargin": true,
           "gridcolor": "white",
           "linecolor": "white",
           "ticks": "",
           "title": {
            "standoff": 15
           },
           "zerolinecolor": "white",
           "zerolinewidth": 2
          }
         }
        },
        "title": {
         "text": "Feature Importance Summary"
        },
        "width": 800,
        "xaxis": {
         "anchor": "y",
         "domain": [
          0,
          1
         ],
         "title": {
          "text": "Score"
         }
        },
        "yaxis": {
         "anchor": "x",
         "domain": [
          0,
          1
         ],
         "title": {
          "text": "Features"
         }
        }
       }
      }
     },
     "metadata": {},
     "output_type": "display_data"
    }
   ],
   "source": [
    "# year 2020-2022 aggregated\n",
    "predicted_years = master_table[(master_table['Year'] == 2020) | (master_table['Year'] == 2021) | (master_table['Year'] == 2022)]\n",
    "predicted_df = predicted_years[['FIPS','Year','YearID','County','MedianHousePrice','AverageRate','AveragePoints']].groupby(by=['FIPS','Year','County']).agg('mean').reset_index()\n",
    "predicted_df['FIPS'] = predicted_df['FIPS'].astype('int64')\n",
    "\n",
    "\n",
    "# reading in income predictions to predict 2020-2022\n",
    "df = pd.read_csv('PredictedIncomeFinal.csv')\n",
    "df = df[['Year','FIPS','AgeGroup','train_and_predicted']]\n",
    "income_predictions = df[(df.Year == 2020)| (df.Year == 2021) | (df.Year == 2022)]\n",
    "income_predictions.rename(columns={'train_and_predicted':'MedianIncome'},inplace=True)\n",
    "\n",
    "# merging income predictions to get the rest of the data\n",
    "main_predictions = pd.merge(predicted_df, income_predictions, on=['Year','FIPS'],how='inner')\n",
    "main_predictions\n",
    "\n",
    "# adding income predictions to main table\n",
    "final_table = master_table.dropna()\n",
    "final_table = final_table[['FIPS','Year','County', 'YearID','MedianHousePrice', 'AverageRate', 'AveragePoints',\n",
    "       'AgeGroup','MedianIncome']]\n",
    "final_table['YearID'] = final_table['YearID'].astype(int)\n",
    "final_table = pd.concat([final_table,main_predictions])\n",
    "\n",
    "# CALCULATIONS BASED ON 12% DOWNPAYMENT\n",
    "\n",
    "#calculate monthly income\n",
    "final_table['MonthlyIncome'] = final_table['MedianIncome']/12\n",
    "\n",
    "#calculate montly mortgage payment\n",
    "#https://www.educba.com/mortgage-formula/\n",
    "\n",
    "for row in final_table:\n",
    "    P = final_table['MedianHousePrice']-(final_table['MedianHousePrice']*.12)\n",
    "    r = (final_table['AverageRate']/100)\n",
    "    t = 30\n",
    "    n = 12\n",
    "    monthly_tax = (final_table['MedianHousePrice']*.0189)/12\n",
    "    final_table['MonthlyMortgage'] = (P * (((r/n) * pow((1+(r/n)),(n*t))) / (pow((1+r/n),(n*t))-1))) + monthly_tax\n",
    "\n",
    "\n",
    "# mortgage to income ratio\n",
    "final_table['mortgage_income_ratio'] = final_table['MonthlyMortgage']/final_table['MonthlyIncome']\n",
    "\n",
    "#affordability determination\n",
    "def affordable_condition(x):\n",
    "    if x <= .25:\n",
    "        return 'Yes'\n",
    "    elif np.isnan(x):\n",
    "        return 'Missing'\n",
    "    else:\n",
    "        return 'No'\n",
    "\n",
    "final_table['affordable'] = final_table['mortgage_income_ratio'].apply(affordable_condition)\n",
    "\n",
    "# MACHINE LEARNING PREP\n",
    "\n",
    "# reset years for ml\n",
    "final_table.YearID = final_table.YearID - 5\n",
    "final_table = final_table.reset_index(drop=True)\n",
    "\n",
    "# copying into a new dataframe for ml\n",
    "ml_table = final_table.dropna()\n",
    "ml_table = ml_table.drop(['FIPS','MonthlyIncome', 'MonthlyMortgage', 'mortgage_income_ratio'],axis=1)\n",
    "ml_table.columns\n",
    "\n",
    "numerical = ['MedianHousePrice', 'AverageRate', 'AveragePoints', 'MedianIncome']\n",
    "# standardizing \n",
    "sc_X = StandardScaler()\n",
    "numerical_standard = sc_X.fit_transform(ml_table[numerical])\n",
    "numerical_ml = pd.DataFrame(data=numerical_standard,columns=numerical)\n",
    "\n",
    "# dropping numerical data in main table\n",
    "ml_table = ml_table.drop(ml_table[numerical],axis=1)\n",
    "\n",
    "YearID = ml_table[['YearID']]\n",
    "# get dummies for categorical columns\n",
    "County = pd.get_dummies(ml_table['County'])\n",
    "AgeGroup = pd.get_dummies(ml_table['AgeGroup'])\n",
    "\n",
    "# setting labels for y values\n",
    "labels = pd.DataFrame(ml_table['affordable'])\n",
    "next_years_labels = labels.iloc[18873:,]\n",
    "labels = labels.iloc[:18873,]\n",
    "\n",
    "# setting new numerical df\n",
    "numerical_ml = pd.concat([numerical_ml,YearID.reset_index(drop=True)],axis=1)\n",
    "\n",
    "# setting new categorical df\n",
    "categorical_ml = pd.concat([County,AgeGroup],axis=1)\n",
    "\n",
    "# setting all df\n",
    "all_ml = pd.concat([numerical_ml,categorical_ml.reset_index(drop=True)],axis=1)\n",
    "\n",
    "next_years = all_ml.iloc[18873:,]\n",
    "all_ml = all_ml.iloc[:18873,]\n",
    "\n",
    "# LOGISTIC MODEL\n",
    "X_train, X_test, y_train, y_test = train_test_split(all_ml, labels.values.ravel(),test_size=0.25,random_state=0)\n",
    "model = LogisticRegression(random_state=0,class_weight='balanced',max_iter=1000)\n",
    "model.fit(X_train,y_train)\n",
    "y_pred = model.predict(X_test)\n",
    "print('Classification Report:\\n',classification_report(y_test, y_pred))\n",
    "importance = model.coef_.flatten()\n",
    "df = pd.DataFrame(importance,all_ml.columns)\n",
    "\n",
    "fig = px.bar(data_frame=importance, y=all_ml.columns, x=importance, orientation='h', width=800, height=900,\\\n",
    "    title='Feature Importance Summary')\n",
    "fig.update_layout(xaxis_title=\"Score\",yaxis_title=\"Features\",)\n",
    "fig.show()"
   ]
  },
  {
   "cell_type": "code",
   "execution_count": 119,
   "metadata": {},
   "outputs": [],
   "source": [
    "# save model, read in model to predict for year 2020-2022, get predictions\n",
    "model_result = model.predict(next_years)\n",
    "joblib.dump(model, 'basic_logistic_model.sav')\n",
    "my_basic_logistic_model = joblib.load('basic_logistic_model.sav')\n",
    "read_in_model_result = my_basic_logistic_model.predict(next_years)"
   ]
  },
  {
   "cell_type": "code",
   "execution_count": 120,
   "metadata": {},
   "outputs": [
    {
     "name": "stdout",
     "output_type": "stream",
     "text": [
      "Confusion Matrix:\n",
      " [[146   6]\n",
      " [  0  82]] \n",
      "\n",
      "Classification Report:\n",
      "               precision    recall  f1-score   support\n",
      "\n",
      "          No       1.00      0.96      0.98       152\n",
      "         Yes       0.93      1.00      0.96        82\n",
      "\n",
      "    accuracy                           0.97       234\n",
      "   macro avg       0.97      0.98      0.97       234\n",
      "weighted avg       0.98      0.97      0.97       234\n",
      "\n"
     ]
    }
   ],
   "source": [
    "# compare predictions\n",
    "model_result_df = pd.DataFrame(data=model_result,columns=['Prediction'])\n",
    "all_together = pd.concat([next_years_labels.reset_index(drop=True),model_result_df],axis=1)\n",
    "print('Confusion Matrix:\\n',confusion_matrix(next_years_labels, model_result),'\\n')\n",
    "print('Classification Report:\\n',classification_report(next_years_labels, model_result))"
   ]
  }
 ],
 "metadata": {
  "interpreter": {
   "hash": "16f5b46f222e2a3e8d4adbf7141cae37b71ed37616e60735fa5d1164a1bc3ada"
  },
  "kernelspec": {
   "display_name": "Python 3.9.12 ('base')",
   "language": "python",
   "name": "python3"
  },
  "language_info": {
   "codemirror_mode": {
    "name": "ipython",
    "version": 3
   },
   "file_extension": ".py",
   "mimetype": "text/x-python",
   "name": "python",
   "nbconvert_exporter": "python",
   "pygments_lexer": "ipython3",
   "version": "3.9.12"
  },
  "orig_nbformat": 4
 },
 "nbformat": 4,
 "nbformat_minor": 2
}
