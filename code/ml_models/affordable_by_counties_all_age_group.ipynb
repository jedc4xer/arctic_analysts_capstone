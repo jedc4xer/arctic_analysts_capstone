{
 "cells": [
  {
   "cell_type": "code",
   "execution_count": null,
   "metadata": {},
   "outputs": [],
   "source": [
    "import pymssql\n",
    "import pandas as pd\n",
    "import numpy as np\n",
    "import matplotlib.pyplot as plt"
   ]
  },
  {
   "cell_type": "code",
   "execution_count": null,
   "metadata": {},
   "outputs": [],
   "source": [
    "\n",
    "database = \"arctic_analysts_capstone\"\n",
    "user = \"arctic_analysts\"\n",
    "password  = \"ThisPassw0rd!\"\n",
    "server = \"gen10-data-fundamentals-22-02-sql-server.database.windows.net\"\n",
    "\n",
    "def sql_query(query):\n",
    "    conn = pymssql.connect(server, user, password, database)\n",
    "    cursor = conn.cursor()\n",
    "    queried_data = pd.read_sql(query, conn)\n",
    "    return queried_data"
   ]
  },
  {
   "cell_type": "code",
   "execution_count": null,
   "metadata": {},
   "outputs": [],
   "source": [
    "def run_queries():\n",
    "    tables = [\"year\", \"month\", \"county\", \"median_income\", \"main_table\"]\n",
    "\n",
    "    query = f\"SELECT * FROM {tables[0]}\"\n",
    "    year_df = sql_query(query)\n",
    "\n",
    "    query = f\"SELECT * FROM {tables[1]}\"\n",
    "    month_df = sql_query(query)\n",
    "\n",
    "    query = f\"SELECT * FROM {tables[2]}\"\n",
    "    county_df = sql_query(query)\n",
    "\n",
    "    query = f\"SELECT * FROM {tables[3]}\"\n",
    "    median_income_df = sql_query(query)\n",
    "\n",
    "    query = f\"SELECT * FROM {tables[4]}\"\n",
    "    main_table = sql_query(query)\n",
    "\n",
    "    all_df = [year_df, month_df, county_df, median_income_df, main_table]\n",
    "    return all_df"
   ]
  },
  {
   "cell_type": "code",
   "execution_count": null,
   "metadata": {},
   "outputs": [],
   "source": [
    "def join_tables(all_df):\n",
    "    year_df = all_df[0]\n",
    "    month_df = all_df[1]\n",
    "    county_df = all_df[2]\n",
    "    median_income_df = all_df[3]\n",
    "    main_table = all_df[4]\n",
    "\n",
    "    master_table = pd.merge(\n",
    "        main_table, year_df, left_on=\"YearID\", right_on=\"YearID\", how=\"outer\"\n",
    "    )\n",
    "    print(master_table.shape[0])\n",
    "    # Now has 5607 rows\n",
    "\n",
    "    master_table = pd.merge(\n",
    "        master_table, month_df, left_on=\"MonthID\", right_on=\"MonthID\", how=\"outer\"\n",
    "    )\n",
    "    # Now has 5607 rows\n",
    "    print(master_table.shape[0])\n",
    "\n",
    "    master_table = pd.merge(\n",
    "        master_table, county_df, left_on=\"FIPS\", right_on=\"FIPS\", how=\"outer\"\n",
    "    )\n",
    "    # Now has 5607 rows\n",
    "    print(master_table.shape[0])\n",
    "\n",
    "    master_table = pd.merge(\n",
    "        master_table,\n",
    "        median_income_df,\n",
    "        left_on=[\"FIPS\", \"YearID\"],\n",
    "        right_on=[\"FIPS\", \"YearID\"],\n",
    "        how=\"outer\",\n",
    "    )\n",
    "    # Now has 20727 rows\n",
    "    print(master_table.shape[0])\n",
    "\n",
    "    master_table.loc[(master_table.MedianIncome < 0), \"MedianIncome\"] = None\n",
    "    return master_table"
   ]
  },
  {
   "cell_type": "code",
   "execution_count": null,
   "metadata": {},
   "outputs": [],
   "source": [
    "all_df = run_queries()\n",
    "master_table = join_tables(all_df)"
   ]
  },
  {
   "cell_type": "code",
   "execution_count": null,
   "metadata": {},
   "outputs": [],
   "source": [
    "master_table.describe()"
   ]
  },
  {
   "cell_type": "code",
   "execution_count": null,
   "metadata": {},
   "outputs": [],
   "source": [
    "master_table.AgeGroup.value_counts()"
   ]
  },
  {
   "cell_type": "code",
   "execution_count": null,
   "metadata": {},
   "outputs": [],
   "source": [
    "master_table[(master_table.AgeGroup.isna())].Year.unique()"
   ]
  },
  {
   "cell_type": "markdown",
   "metadata": {},
   "source": [
    "### Explanation\n",
    "**What is happening?**\n",
    "1. We need the main table that has all the data.\n",
    "2. We will need our predicted data.\n",
    "3. We are only trying to learn about 2020 through 2022.\n",
    "**PLAN**\n",
    "> 1. Filter the main table\n",
    "> 2. Filter the predicted table\n",
    "> 3. Combine the two tables.\n",
    "\n",
    "**Note**\n",
    "> The predicted data is yearly, the main data is monthly."
   ]
  },
  {
   "cell_type": "code",
   "execution_count": null,
   "metadata": {},
   "outputs": [],
   "source": [
    "# reading in predictions\n",
    "path = 'PredictedIncomeFinal.csv'\n",
    "df = pd.read_csv(path)\n",
    "\n",
    "df['MedianIncome'].update(df['train_and_predicted'])\n",
    "cleaned_predictions = df[(df.Year > 2019) & (df.Year < 2023)].drop(columns = ['train_and_predicted'])\n",
    "cleaned_predictions['FIPS'] = cleaned_predictions['FIPS'].astype('str')\n",
    "\n",
    "# Calculating monthly income\n",
    "cleaned_predictions['MonthlyIncome'] = cleaned_predictions['MedianIncome'] / 12\n",
    "cleaned_predictions.drop(columns = ['MedianIncome'], inplace = True)\n",
    "cleaned_predictions.head(3)"
   ]
  },
  {
   "cell_type": "code",
   "execution_count": null,
   "metadata": {},
   "outputs": [],
   "source": [
    "# Filtering master table to just the targeted data\n",
    "target_df = master_table[(master_table.Year > 2019) & (master_table.Year < 2023)]\n",
    "target_df = target_df[['FIPS','Year','AverageRate','AveragePoints','County','MedianHousePrice']]\n",
    "target_df"
   ]
  },
  {
   "cell_type": "code",
   "execution_count": null,
   "metadata": {},
   "outputs": [],
   "source": [
    "# Merging predicting with actual\n",
    "merged_tables = pd.merge(cleaned_predictions, target_df, left_on = ['Year', 'FIPS'], right_on = ['Year', 'FIPS'], how = 'outer')\n",
    "merged_tables"
   ]
  },
  {
   "cell_type": "markdown",
   "metadata": {},
   "source": [
    "#### Bringing in Hans Calculation Code"
   ]
  },
  {
   "cell_type": "code",
   "execution_count": null,
   "metadata": {},
   "outputs": [],
   "source": [
    "# CALCULATIONS BASED ON 12% DOWNPAYMENT\n",
    "\n",
    "#calculate monthly income\n",
    "# This step was already completed.\n",
    "#final_table['MonthlyIncome'] = final_table['MedianIncome']/12\n",
    "\n",
    "#calculate montly mortgage payment\n",
    "#https://www.educba.com/mortgage-formula/\n",
    "\n",
    "final_table = merged_tables.copy()\n",
    "\n",
    "for row in final_table:\n",
    "    P = final_table['MedianHousePrice']-(final_table['MedianHousePrice']*.12)\n",
    "    r = (final_table['AverageRate']/100)\n",
    "    t = 30\n",
    "    n = 12\n",
    "    monthly_tax = (final_table['MedianHousePrice']*.0189)/12\n",
    "    final_table['MonthlyMortgage'] = (P * (((r/n) * pow((1+(r/n)),(n*t))) / (pow((1+r/n),(n*t))-1))) + monthly_tax\n",
    "\n",
    "\n",
    "# mortgage to income ratio\n",
    "final_table['mortgage_income_ratio'] = final_table['MonthlyMortgage']/final_table['MonthlyIncome']\n",
    "\n",
    "#affordability determination\n",
    "def affordable_condition(x):\n",
    "    if x <= .25:\n",
    "        return 'Yes'\n",
    "    elif np.isnan(x):\n",
    "        return 'Missing'\n",
    "    else:\n",
    "        return 'No'\n",
    "\n",
    "final_table['affordable'] = final_table['mortgage_income_ratio'].apply(affordable_condition)\n",
    "final_table"
   ]
  },
  {
   "cell_type": "code",
   "execution_count": null,
   "metadata": {},
   "outputs": [],
   "source": [
    "final_table.affordable.value_counts()"
   ]
  },
  {
   "cell_type": "code",
   "execution_count": null,
   "metadata": {},
   "outputs": [],
   "source": [
    "final_table.AgeGroup.value_counts()"
   ]
  },
  {
   "cell_type": "code",
   "execution_count": null,
   "metadata": {},
   "outputs": [],
   "source": [
    "#final_table.to_csv('affordability_results.csv', index = False)"
   ]
  },
  {
   "cell_type": "code",
   "execution_count": null,
   "metadata": {},
   "outputs": [],
   "source": [
    "final_annual_df = final_table.groupby(by = ['Year','FIPS','AgeGroup','County'])[['MedianHousePrice','MonthlyIncome','MonthlyMortgage']].agg('mean').reset_index()\n",
    "\n",
    "final_annual_df['mortgage_income_ratio'] = final_annual_df['MonthlyMortgage']/final_annual_df['MonthlyIncome']\n",
    "final_annual_df['affordable'] = final_annual_df['mortgage_income_ratio'].apply(affordable_condition)\n",
    "final_annual_df"
   ]
  },
  {
   "cell_type": "code",
   "execution_count": null,
   "metadata": {},
   "outputs": [],
   "source": [
    "monthly_final_table.affordable.value_counts()"
   ]
  },
  {
   "cell_type": "markdown",
   "metadata": {},
   "source": [
    "# Jed is working above this cell\n",
    "### Below this cell is the original version that I slightly adjusted so it's not going to work as intended."
   ]
  },
  {
   "cell_type": "code",
   "execution_count": null,
   "metadata": {},
   "outputs": [],
   "source": [
    "# year 2020-2022 aggregated\n",
    "predicted_years = master_table[(master_table['Year'] == 2020) | (master_table['Year'] == 2021) | (master_table['Year'] == 2022)]\n",
    "target_df = predicted_years[['FIPS','Year','YearID','County','MedianHousePrice','AverageRate','AveragePoints']].groupby(by=['FIPS','Year','County']).agg('mean').reset_index()\n",
    "target_df['FIPS'] = target_df['FIPS'].astype('str')\n",
    "\n",
    "\n",
    "# reading in predictions\n",
    "path = 'PredictedIncomeFinal.csv'\n",
    "df = pd.read_csv(path)\n",
    "\n",
    "df['MedianIncome'].update(df['train_and_predicted'])\n",
    "cleaned_predictions = df[(df.Year > 2019) & (df.Year < 2024)].drop(columns = ['train_and_predicted'])\n",
    "cleaned_predictions['FIPS'] = cleaned_predictions['FIPS'].astype('str')\n",
    "cleaned_predictions.head(3)\n",
    "\n",
    "\n",
    "# list = []\n",
    "# for row in df.index:\n",
    "#     values_list = []\n",
    "#     if pd.isna(df['FIPS'][row]) & (df['Year'][row] == 2020):\n",
    "#         values_list.append(df['Year'][row])\n",
    "#         values_list.append(int(df['FIPS'][row-1]))\n",
    "#         values_list.append(df['AgeGroup'][row])\n",
    "#         values_list.append(int(df['train_and_predicted'][row]))\n",
    "#     elif pd.isna(df['FIPS'][row]) & (df['Year'][row] == 2021):\n",
    "#         values_list.append(df['Year'][row])\n",
    "#         values_list.append(int(df['FIPS'][row-2]))\n",
    "#         values_list.append(df['AgeGroup'][row])\n",
    "#         values_list.append(int(df['train_and_predicted'][row]))\n",
    "#     elif pd.isna(df['FIPS'][row]) & (df['Year'][row] == 2022):\n",
    "#         values_list.append(df['Year'][row])\n",
    "#         values_list.append(int(df['FIPS'][row-3]))        \n",
    "#         values_list.append(df['AgeGroup'][row])\n",
    "#         values_list.append(int(df['train_and_predicted'][row]))\n",
    "#     if len(values_list) > 0:\n",
    "#         list.append(values_list)"
   ]
  },
  {
   "cell_type": "code",
   "execution_count": null,
   "metadata": {},
   "outputs": [],
   "source": [
    "# Nulls in the Predicted MedianIncome\n",
    "cleaned_predictions[(cleaned_predictions.MedianIncome.isna())]"
   ]
  },
  {
   "cell_type": "code",
   "execution_count": null,
   "metadata": {},
   "outputs": [],
   "source": [
    "# columns = ['Year', 'FIPS', 'AgeGroup', 'MedianIncome']\n",
    "\n",
    "# income_predictions = pd.DataFrame(data=list,columns=columns)\n",
    "\n",
    "# merging income predictions to get the rest of the data\n",
    "main_predictions = pd.merge(target_df, cleaned_predictions, on=['Year','FIPS'],how='inner')\n",
    "main_predictions"
   ]
  },
  {
   "cell_type": "code",
   "execution_count": null,
   "metadata": {},
   "outputs": [],
   "source": [
    "# I don't think this is accurately brining the data in\n",
    "#########################################################\n",
    "# # adding income predictions to main table\n",
    "# final_table = master_table.dropna()\n",
    "# #final_table['FIPS'] = final_table['FIPS'].astype(int)\n",
    "# final_table = final_table[['FIPS','Year','YearID','MonthID','MedianHousePrice', 'AverageRate', 'AveragePoints',\n",
    "#        'MedianIncome', 'County', 'AgeGroup']]\n",
    "# final_table = pd.concat([final_table,main_predictions])"
   ]
  },
  {
   "cell_type": "code",
   "execution_count": null,
   "metadata": {},
   "outputs": [],
   "source": [
    "final_table = pd.merge(main_predictions, master_table, left_on = ['Year', 'FIPS'])"
   ]
  },
  {
   "cell_type": "code",
   "execution_count": null,
   "metadata": {},
   "outputs": [],
   "source": [
    "# CALCULATIONS BASED ON 12% DOWNPAYMENT\n",
    "\n",
    "#calculate monthly income\n",
    "final_table['MonthlyIncome'] = final_table['MedianIncome']/12\n",
    "\n",
    "#calculate montly mortgage payment\n",
    "#https://www.educba.com/mortgage-formula/\n",
    "\n",
    "for row in final_table:\n",
    "    P = final_table['MedianHousePrice']-(final_table['MedianHousePrice']*.12)\n",
    "    r = (final_table['AverageRate']/100)\n",
    "    t = 30\n",
    "    n = 12\n",
    "    monthly_tax = (final_table['MedianHousePrice']*.0189)/12\n",
    "    final_table['MonthlyMortgage'] = (P * (((r/n) * pow((1+(r/n)),(n*t))) / (pow((1+r/n),(n*t))-1))) + monthly_tax\n",
    "\n",
    "\n",
    "# mortgage to income ratio\n",
    "final_table['mortgage_income_ratio'] = final_table['MonthlyMortgage']/final_table['MonthlyIncome']\n",
    "\n",
    "#affordability determination\n",
    "def affordable_condition(x):\n",
    "    if x <= .25:\n",
    "        return 'Yes'\n",
    "    elif np.isnan(x):\n",
    "        return 'Missing'\n",
    "    else:\n",
    "        return 'No'\n",
    "\n",
    "final_table['affordable'] = final_table['mortgage_income_ratio'].apply(affordable_condition)\n",
    "final_table"
   ]
  },
  {
   "cell_type": "code",
   "execution_count": null,
   "metadata": {
    "jupyter": {
     "source_hidden": true
    },
    "tags": []
   },
   "outputs": [],
   "source": [
    "# IF NEEDED\n",
    "# FILTERING OUT SOMMERSET BECAUSE WE DON'T HAVE INCOME PREDICTIONS FOR 2020-2022\n",
    "\n",
    "# excluded_list = ['Somerset County']\n",
    "# counties = master_table['County'].unique()\n",
    "# included_counties = np.setdiff1d(counties, excluded_list)\n",
    "# final_table = final_table[final_table['County'].isin(included_counties)]\n",
    "# final_table"
   ]
  },
  {
   "cell_type": "code",
   "execution_count": null,
   "metadata": {},
   "outputs": [],
   "source": [
    "final_table[(final_table.MonthID.isna())]"
   ]
  },
  {
   "cell_type": "code",
   "execution_count": null,
   "metadata": {},
   "outputs": [],
   "source": [
    "final_table.affordable.value_counts()"
   ]
  },
  {
   "cell_type": "code",
   "execution_count": null,
   "metadata": {},
   "outputs": [],
   "source": [
    "null_counts = final_table.isnull().sum()\n",
    "null_counts[null_counts > 0].sort_values(ascending=False)"
   ]
  },
  {
   "cell_type": "code",
   "execution_count": null,
   "metadata": {},
   "outputs": [],
   "source": [
    "final_table = final_table.drop(columns = ['YearID'])\n",
    "final_table"
   ]
  },
  {
   "cell_type": "code",
   "execution_count": null,
   "metadata": {},
   "outputs": [],
   "source": [
    "final_table.to_csv('affordability_results.csv', index = False)"
   ]
  },
  {
   "cell_type": "code",
   "execution_count": null,
   "metadata": {},
   "outputs": [],
   "source": [
    "final_table[(final_table.Year == 2005) & (final_table.AgeGroup == '65-plus')]"
   ]
  },
  {
   "cell_type": "code",
   "execution_count": null,
   "metadata": {},
   "outputs": [],
   "source": [
    "print(2002/2022)"
   ]
  },
  {
   "cell_type": "code",
   "execution_count": null,
   "metadata": {},
   "outputs": [],
   "source": [
    "2022-2020"
   ]
  },
  {
   "cell_type": "code",
   "execution_count": null,
   "metadata": {},
   "outputs": [],
   "source": [
    "for i in range(2000,2022):\n",
    "    val = ((i/2000)-1)*100\n",
    "    print(val)"
   ]
  },
  {
   "cell_type": "code",
   "execution_count": null,
   "metadata": {},
   "outputs": [],
   "source": []
  },
  {
   "cell_type": "code",
   "execution_count": null,
   "metadata": {},
   "outputs": [],
   "source": []
  }
 ],
 "metadata": {
  "interpreter": {
   "hash": "16f5b46f222e2a3e8d4adbf7141cae37b71ed37616e60735fa5d1164a1bc3ada"
  },
  "kernelspec": {
   "display_name": "Python 3 (ipykernel)",
   "language": "python",
   "name": "python3"
  },
  "language_info": {
   "codemirror_mode": {
    "name": "ipython",
    "version": 3
   },
   "file_extension": ".py",
   "mimetype": "text/x-python",
   "name": "python",
   "nbconvert_exporter": "python",
   "pygments_lexer": "ipython3",
   "version": "3.9.7"
  }
 },
 "nbformat": 4,
 "nbformat_minor": 4
}
