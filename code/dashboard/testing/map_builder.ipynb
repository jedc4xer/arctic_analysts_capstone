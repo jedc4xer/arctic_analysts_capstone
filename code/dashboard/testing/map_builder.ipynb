{
 "cells": [
  {
   "cell_type": "code",
   "execution_count": null,
   "id": "13219999-7825-4209-9c85-9f1369ca987e",
   "metadata": {},
   "outputs": [],
   "source": [
    "import plotly.express as px\n",
    "import pandas as pd\n",
    "import pymssql\n",
    "import json"
   ]
  },
  {
   "cell_type": "code",
   "execution_count": null,
   "id": "a5344419-1c59-469c-85a2-7f2bcd6a0afa",
   "metadata": {},
   "outputs": [],
   "source": [
    "database = \"arctic_analysts_capstone\"\n",
    "user = \"arctic_analysts\"\n",
    "password  = \"ThisPassw0rd!\"\n",
    "server = \"gen10-data-fundamentals-22-02-sql-server.database.windows.net\"\n",
    "\n",
    "def get_data(n = False):\n",
    "    conn = pymssql.connect(server, user, password, database)\n",
    "    cursor = conn.cursor()\n",
    "    \n",
    "    query = f\"SELECT DISTINCT Date FROM building_permits\"\n",
    "\n",
    "    available_years_df = pd.read_sql(query, conn)\n",
    "    available_years_df.sort_values(by = 'Date', inplace = True)\n",
    "    available_dates = available_years_df.Date.astype('str').tolist()\n",
    "    \n",
    "    picked_date = available_dates[n]\n",
    "    columns_to_select = 'FIPS, County, NewUnits'\n",
    "    query = f\"SELECT {columns_to_select} FROM building_permits WHERE building_permits.Date = '{picked_date}'\"\n",
    "    bpm_df = pd.read_sql(query, conn)\n",
    "    print(f'\\nBefore Data Management: {available_years_df.shape[0]}')\n",
    "\n",
    "    return bpm_df"
   ]
  },
  {
   "cell_type": "code",
   "execution_count": null,
   "id": "fb4ebd3f-ec29-470c-b27b-3b28b21506a4",
   "metadata": {},
   "outputs": [],
   "source": [
    "n = 0\n",
    "while n < 300:\n",
    "    bpm_df = get_data(n)\n",
    "    print(bpm_df['NewUnits'].sum())\n",
    "    n += 1"
   ]
  },
  {
   "cell_type": "code",
   "execution_count": null,
   "id": "a7a3764c-c8ad-4781-b5bf-38931cdb8aae",
   "metadata": {},
   "outputs": [],
   "source": [
    "bpm_df = bpm_df[[\"CountyFips\", \"County\", \"StateFips\", \"1_Unit\"]].copy()"
   ]
  },
  {
   "cell_type": "code",
   "execution_count": null,
   "id": "ba06b9b6-3fec-4e54-b9ed-245093dec1a6",
   "metadata": {},
   "outputs": [],
   "source": [
    "bpm_df"
   ]
  },
  {
   "cell_type": "code",
   "execution_count": null,
   "id": "e1143196-6eb7-4023-ba9a-0e913d2d5422",
   "metadata": {},
   "outputs": [],
   "source": [
    "bpm_df['locale_fips'] = bpm_df.StateFips + bpm_df.CountyFips\n",
    "bpm_df"
   ]
  },
  {
   "cell_type": "code",
   "execution_count": null,
   "id": "c154a29d-cbcb-425d-93cc-9211dd5c818b",
   "metadata": {},
   "outputs": [],
   "source": [
    "with open('2021_US_Counties_3.7.json') as file:\n",
    "    counties = json.load(file)"
   ]
  },
  {
   "cell_type": "code",
   "execution_count": null,
   "id": "7298b2b8-5ea2-46d3-ae92-c2fafecf92bb",
   "metadata": {},
   "outputs": [],
   "source": [
    "fig = px.choropleth(bpm_df, geojson=counties, locations = 'locale_fips', color = '1_Unit',\n",
    "                   color_continuous_scale = \"rdylgn_r\", scope = \"usa\")"
   ]
  },
  {
   "cell_type": "code",
   "execution_count": null,
   "id": "935657aa-5225-4280-a387-79d092623059",
   "metadata": {},
   "outputs": [],
   "source": [
    "with open(\"test_map.html\", 'w') as mapfile:\n",
    "    mapfile.write(fig.to_html(full_html=False, include_plotlyjs='cdn'))\n",
    "mapfile.close()"
   ]
  },
  {
   "cell_type": "code",
   "execution_count": null,
   "id": "eae1d11b-ba41-4263-b173-56e7c92b17f5",
   "metadata": {},
   "outputs": [],
   "source": []
  }
 ],
 "metadata": {
  "kernelspec": {
   "display_name": "Python 3 (ipykernel)",
   "language": "python",
   "name": "python3"
  },
  "language_info": {
   "codemirror_mode": {
    "name": "ipython",
    "version": 3
   },
   "file_extension": ".py",
   "mimetype": "text/x-python",
   "name": "python",
   "nbconvert_exporter": "python",
   "pygments_lexer": "ipython3",
   "version": "3.9.7"
  }
 },
 "nbformat": 4,
 "nbformat_minor": 5
}
