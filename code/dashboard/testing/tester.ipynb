{
 "cells": [
  {
   "cell_type": "code",
   "execution_count": null,
   "id": "9e22df2f-a39e-433a-b271-b54573341f43",
   "metadata": {},
   "outputs": [],
   "source": [
    "import pymssql\n",
    "import numpy as np\n",
    "import pandas as pd\n",
    "import datetime as dt\n",
    "from collections import Counter"
   ]
  },
  {
   "cell_type": "code",
   "execution_count": null,
   "id": "70b6ba6b-11f9-4b8a-b72c-0575979018db",
   "metadata": {},
   "outputs": [],
   "source": [
    "import tracemalloc"
   ]
  },
  {
   "cell_type": "code",
   "execution_count": null,
   "id": "dcfeea79-c40c-4e39-a1b7-c1460338f025",
   "metadata": {},
   "outputs": [],
   "source": [
    "database = \"arctic_analysts_capstone\"\n",
    "user = \"arctic_analysts\"\n",
    "password  = \"ThisPassw0rd!\"\n",
    "server = \"gen10-data-fundamentals-22-02-sql-server.database.windows.net\"\n",
    "\n",
    "def sql_query(query):\n",
    "    conn = pymssql.connect(server, user, password, database)\n",
    "    cursor = conn.cursor()\n",
    "    queried_data = pd.read_sql(query, conn)\n",
    "    return queried_data"
   ]
  },
  {
   "cell_type": "code",
   "execution_count": null,
   "id": "36ed02f0-00a2-4135-a065-eac6a1133fcf",
   "metadata": {},
   "outputs": [],
   "source": [
    "tables = [\n",
    "    'building_permits',\n",
    "    'mortgage_rates',\n",
    "    'house_prices',\n",
    "    'median_income',\n",
    "]\n",
    "\n",
    "query = f\"SELECT * FROM {tables[0]}\" # Query Example\n",
    "bp_df = sql_query(query)"
   ]
  },
  {
   "cell_type": "code",
   "execution_count": null,
   "id": "829adea6-fd86-4432-ba8b-6ecd1fb2f62f",
   "metadata": {},
   "outputs": [],
   "source": [
    "bp_df[(bp_df.FIPS == '56039') & (bp_df.Year == 2022)]#['NewBuildings'].sum()"
   ]
  },
  {
   "cell_type": "code",
   "execution_count": null,
   "id": "d4455360-0cea-4879-8f16-6c18e8e99932",
   "metadata": {},
   "outputs": [],
   "source": [
    "grouped = bp_df.groupby(by = ['Year','FIPS','County'])[['NewUnits','NewBuildings']].agg('sum').reset_index()\n",
    "\n",
    "grouped = grouped[(~grouped.County.str.contains('Balance'))]"
   ]
  },
  {
   "cell_type": "code",
   "execution_count": null,
   "id": "37680ec3-8cc2-412d-ac43-9f82944484b8",
   "metadata": {},
   "outputs": [],
   "source": [
    "bp_df.isnull().sum()"
   ]
  },
  {
   "cell_type": "code",
   "execution_count": null,
   "id": "71c72063-ad3d-4b98-827f-82c1ffc2c15a",
   "metadata": {},
   "outputs": [],
   "source": [
    "grouped.memory_usage()"
   ]
  },
  {
   "cell_type": "code",
   "execution_count": null,
   "id": "a061680f-6f15-4413-8e8f-32a97c922e86",
   "metadata": {},
   "outputs": [],
   "source": []
  },
  {
   "cell_type": "code",
   "execution_count": null,
   "id": "6213fa69-36d4-464c-99e6-1b53a74fbb53",
   "metadata": {},
   "outputs": [],
   "source": []
  },
  {
   "cell_type": "code",
   "execution_count": null,
   "id": "5b8617e8-61b3-4225-97c6-3e78c5c8df10",
   "metadata": {},
   "outputs": [],
   "source": []
  },
  {
   "cell_type": "code",
   "execution_count": null,
   "id": "7ccc136e-047f-406f-8d7a-0032fbfb0aa7",
   "metadata": {},
   "outputs": [],
   "source": []
  },
  {
   "cell_type": "code",
   "execution_count": null,
   "id": "84965db2-ca8a-4885-8ab1-bff9ec4e8e92",
   "metadata": {},
   "outputs": [],
   "source": [
    "house_price_df.head()"
   ]
  },
  {
   "cell_type": "code",
   "execution_count": null,
   "id": "7d0008d1-ab0d-41fe-8097-3192bd9f381c",
   "metadata": {},
   "outputs": [],
   "source": [
    "import plotly.express as px"
   ]
  },
  {
   "cell_type": "code",
   "execution_count": null,
   "id": "4e5e04be-0766-41ea-a01d-443f0b5c49b3",
   "metadata": {},
   "outputs": [],
   "source": [
    "house_price_df.sort_values(by = 'timestamp', inplace = True)\n",
    "house_price_df.reset_index(drop = True, inplace = True)\n",
    "house_price_df.reset_index(inplace = True)"
   ]
  },
  {
   "cell_type": "code",
   "execution_count": null,
   "id": "e2336523-0016-4abd-91fb-d70e29417a90",
   "metadata": {},
   "outputs": [],
   "source": [
    "house_price_df.head()"
   ]
  },
  {
   "cell_type": "code",
   "execution_count": null,
   "id": "33a343e8-cf55-41db-96d2-5a5aab8b67b5",
   "metadata": {},
   "outputs": [],
   "source": [
    "house_price_df.rename(columns = {'index': 'record_count'}, inplace = True)"
   ]
  },
  {
   "cell_type": "code",
   "execution_count": null,
   "id": "4050d282-67c0-4894-8d77-6afa9e1466c1",
   "metadata": {},
   "outputs": [],
   "source": [
    "import datetime as dt"
   ]
  },
  {
   "cell_type": "code",
   "execution_count": null,
   "id": "783edb7d-e646-4f07-b4e2-85a9ae004f1d",
   "metadata": {},
   "outputs": [],
   "source": [
    "# In windows, the timestamp number is multiplied by a factor of 1000\n",
    "\n",
    "house_price_df['timestamp'] = house_price_df['timestamp'].apply(lambda x: dt.datetime.fromtimestamp(x/1000))"
   ]
  },
  {
   "cell_type": "code",
   "execution_count": null,
   "id": "2c13cd4e-c612-478f-ae6d-a76381cb8ceb",
   "metadata": {},
   "outputs": [],
   "source": [
    "house_price_df"
   ]
  },
  {
   "cell_type": "code",
   "execution_count": null,
   "id": "0768c918-684e-4f0d-b40f-c37c9a145138",
   "metadata": {},
   "outputs": [],
   "source": [
    "(179 / ((179*.05) + 179))"
   ]
  },
  {
   "cell_type": "code",
   "execution_count": null,
   "id": "18e7bad3-806b-4114-846d-b14908dd7fce",
   "metadata": {},
   "outputs": [],
   "source": [
    "179 * .05"
   ]
  },
  {
   "cell_type": "code",
   "execution_count": null,
   "id": "7c7aeb2b-62e2-4c96-8f75-46504aee39eb",
   "metadata": {},
   "outputs": [],
   "source": [
    "179 * 1.05"
   ]
  },
  {
   "cell_type": "code",
   "execution_count": null,
   "id": "35d7a3c4-7ea7-4911-898d-25958f8687bd",
   "metadata": {},
   "outputs": [],
   "source": [
    "x = [1,2,3,4,5]\n",
    "import pandas as pd"
   ]
  },
  {
   "cell_type": "code",
   "execution_count": null,
   "id": "58f14422-fede-489c-bb28-613d6495be57",
   "metadata": {},
   "outputs": [],
   "source": [
    "df = pd.DataFrame(x, columns = ['column1'])\n",
    "x"
   ]
  },
  {
   "cell_type": "code",
   "execution_count": null,
   "id": "41f609bb-6813-4956-aa52-3c33efa70feb",
   "metadata": {},
   "outputs": [],
   "source": [
    "df"
   ]
  },
  {
   "cell_type": "code",
   "execution_count": null,
   "id": "22a39e2a-e545-4f0d-8076-3288011e8614",
   "metadata": {},
   "outputs": [],
   "source": [
    "y = [7,8,9,10]\n",
    "new_df = pd.DataFrame(y)"
   ]
  },
  {
   "cell_type": "code",
   "execution_count": null,
   "id": "c986881c-1a54-4455-9e2c-37d79394772a",
   "metadata": {},
   "outputs": [],
   "source": [
    "new_df"
   ]
  },
  {
   "cell_type": "code",
   "execution_count": null,
   "id": "3f50796c-e996-47f2-b3d1-ecedc3c5dfd1",
   "metadata": {},
   "outputs": [],
   "source": [
    "combined = pd.merge(new_df, df, left_index)"
   ]
  },
  {
   "cell_type": "code",
   "execution_count": null,
   "id": "94bccab6-b1bb-4af8-bb83-df8d190fcf0c",
   "metadata": {},
   "outputs": [],
   "source": [
    "combined"
   ]
  },
  {
   "cell_type": "code",
   "execution_count": null,
   "id": "b73ce588-8614-4b18-8135-4ef592ef975c",
   "metadata": {},
   "outputs": [],
   "source": [
    "import datetime as dt\n"
   ]
  },
  {
   "cell_type": "code",
   "execution_count": null,
   "id": "f86912cd-06cf-4873-a99d-440fc6478fa1",
   "metadata": {},
   "outputs": [],
   "source": [
    "date_list = pd.date_range(start = '2022-07-15', periods = 100, freq = 'M').to_pydatetime().tolist()\n",
    "date_list = [dt.datetime.strptime(f'{_.year}-{_.month}-15', '%Y-%m-%d') for _ in date_list]\n",
    "date_list"
   ]
  },
  {
   "cell_type": "code",
   "execution_count": null,
   "id": "8330b079-49fb-4d41-a89f-6e7ab644a06f",
   "metadata": {},
   "outputs": [],
   "source": []
  }
 ],
 "metadata": {
  "kernelspec": {
   "display_name": "Python 3 (ipykernel)",
   "language": "python",
   "name": "python3"
  },
  "language_info": {
   "codemirror_mode": {
    "name": "ipython",
    "version": 3
   },
   "file_extension": ".py",
   "mimetype": "text/x-python",
   "name": "python",
   "nbconvert_exporter": "python",
   "pygments_lexer": "ipython3",
   "version": "3.9.7"
  }
 },
 "nbformat": 4,
 "nbformat_minor": 5
}
