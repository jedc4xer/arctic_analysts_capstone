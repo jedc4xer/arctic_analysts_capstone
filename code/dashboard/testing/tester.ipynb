{
 "cells": [
  {
   "cell_type": "code",
   "execution_count": null,
   "id": "9e22df2f-a39e-433a-b271-b54573341f43",
   "metadata": {},
   "outputs": [],
   "source": [
    "import pymssql\n",
    "import numpy as np\n",
    "import pandas as pd\n",
    "import datetime as dt\n",
    "from collections import Counter"
   ]
  },
  {
   "cell_type": "code",
   "execution_count": null,
   "id": "70b6ba6b-11f9-4b8a-b72c-0575979018db",
   "metadata": {},
   "outputs": [],
   "source": [
    "import tracemalloc"
   ]
  },
  {
   "cell_type": "code",
   "execution_count": null,
   "id": "dcfeea79-c40c-4e39-a1b7-c1460338f025",
   "metadata": {},
   "outputs": [],
   "source": [
    "database = \"arctic_analysts_capstone\"\n",
    "user = \"arctic_analysts\"\n",
    "password  = \"ThisPassw0rd!\"\n",
    "server = \"gen10-data-fundamentals-22-02-sql-server.database.windows.net\"\n",
    "\n",
    "def sql_query(query):\n",
    "    conn = pymssql.connect(server, user, password, database)\n",
    "    cursor = conn.cursor()\n",
    "    queried_data = pd.read_sql(query, conn)\n",
    "    return queried_data"
   ]
  },
  {
   "cell_type": "code",
   "execution_count": null,
   "id": "36ed02f0-00a2-4135-a065-eac6a1133fcf",
   "metadata": {},
   "outputs": [],
   "source": [
    "tables = [\n",
    "    'building_permits',\n",
    "    'mortgage_rates',\n",
    "    'house_prices',\n",
    "    'median_income',\n",
    "]\n",
    "\n",
    "query = f\"SELECT * FROM {tables[0]}\" # Query Example\n",
    "bp_df = sql_query(query)"
   ]
  },
  {
   "cell_type": "code",
   "execution_count": null,
   "id": "829adea6-fd86-4432-ba8b-6ecd1fb2f62f",
   "metadata": {},
   "outputs": [],
   "source": [
    "bp_df[(bp_df.FIPS == '56039') & (bp_df.Year == 2022)]#['NewBuildings'].sum()"
   ]
  },
  {
   "cell_type": "code",
   "execution_count": null,
   "id": "d4455360-0cea-4879-8f16-6c18e8e99932",
   "metadata": {},
   "outputs": [],
   "source": [
    "grouped = bp_df.groupby(by = ['Year','FIPS','County'])[['NewUnits','NewBuildings']].agg('sum').reset_index()\n",
    "\n",
    "grouped = grouped[(~grouped.County.str.contains('Balance'))]"
   ]
  },
  {
   "cell_type": "code",
   "execution_count": null,
   "id": "37680ec3-8cc2-412d-ac43-9f82944484b8",
   "metadata": {},
   "outputs": [],
   "source": [
    "bp_df.isnull().sum()"
   ]
  },
  {
   "cell_type": "code",
   "execution_count": null,
   "id": "71c72063-ad3d-4b98-827f-82c1ffc2c15a",
   "metadata": {},
   "outputs": [],
   "source": [
    "grouped.memory_usage()"
   ]
  },
  {
   "cell_type": "code",
   "execution_count": null,
   "id": "a061680f-6f15-4413-8e8f-32a97c922e86",
   "metadata": {},
   "outputs": [],
   "source": []
  },
  {
   "cell_type": "code",
   "execution_count": null,
   "id": "6213fa69-36d4-464c-99e6-1b53a74fbb53",
   "metadata": {},
   "outputs": [],
   "source": []
  },
  {
   "cell_type": "code",
   "execution_count": null,
   "id": "5b8617e8-61b3-4225-97c6-3e78c5c8df10",
   "metadata": {},
   "outputs": [],
   "source": []
  },
  {
   "cell_type": "code",
   "execution_count": null,
   "id": "7ccc136e-047f-406f-8d7a-0032fbfb0aa7",
   "metadata": {},
   "outputs": [],
   "source": []
  },
  {
   "cell_type": "code",
   "execution_count": null,
   "id": "84965db2-ca8a-4885-8ab1-bff9ec4e8e92",
   "metadata": {},
   "outputs": [],
   "source": [
    "house_price_df.head()"
   ]
  },
  {
   "cell_type": "code",
   "execution_count": null,
   "id": "7d0008d1-ab0d-41fe-8097-3192bd9f381c",
   "metadata": {},
   "outputs": [],
   "source": [
    "import plotly.express as px"
   ]
  },
  {
   "cell_type": "code",
   "execution_count": null,
   "id": "4e5e04be-0766-41ea-a01d-443f0b5c49b3",
   "metadata": {},
   "outputs": [],
   "source": [
    "house_price_df.sort_values(by = 'timestamp', inplace = True)\n",
    "house_price_df.reset_index(drop = True, inplace = True)\n",
    "house_price_df.reset_index(inplace = True)"
   ]
  },
  {
   "cell_type": "code",
   "execution_count": null,
   "id": "e2336523-0016-4abd-91fb-d70e29417a90",
   "metadata": {},
   "outputs": [],
   "source": [
    "house_price_df.head()"
   ]
  },
  {
   "cell_type": "code",
   "execution_count": null,
   "id": "33a343e8-cf55-41db-96d2-5a5aab8b67b5",
   "metadata": {},
   "outputs": [],
   "source": [
    "house_price_df.rename(columns = {'index': 'record_count'}, inplace = True)"
   ]
  },
  {
   "cell_type": "code",
   "execution_count": null,
   "id": "4050d282-67c0-4894-8d77-6afa9e1466c1",
   "metadata": {},
   "outputs": [],
   "source": [
    "import datetime as dt"
   ]
  },
  {
   "cell_type": "code",
   "execution_count": null,
   "id": "783edb7d-e646-4f07-b4e2-85a9ae004f1d",
   "metadata": {},
   "outputs": [],
   "source": [
    "# In windows, the timestamp number is multiplied by a factor of 1000\n",
    "\n",
    "house_price_df['timestamp'] = house_price_df['timestamp'].apply(lambda x: dt.datetime.fromtimestamp(x/1000))"
   ]
  },
  {
   "cell_type": "code",
   "execution_count": null,
   "id": "2c13cd4e-c612-478f-ae6d-a76381cb8ceb",
   "metadata": {},
   "outputs": [],
   "source": [
    "house_price_df"
   ]
  },
  {
   "cell_type": "code",
   "execution_count": null,
   "id": "630d1682-057e-458f-a323-4bade7f84b3c",
   "metadata": {},
   "outputs": [],
   "source": [
    "THEMES = [\n",
    "    'Cerulean',\n",
    "    'Cosmo',\n",
    "    'Cyborg',\n",
    "    'Darkly',\n",
    "    'Flatly',\n",
    "    'Journal',\n",
    "    'Litera',\n",
    "    'Lumen',\n",
    "    'Lux',\n",
    "    'Materia',\n",
    "    'Minty',\n",
    "    'Morph',\n",
    "    'Pulse',\n",
    "    'Quartz',\n",
    "    'Sandstone',\n",
    "    'Simplex',\n",
    "    'Sketchy',\n",
    "    'Slate',\n",
    "    'Solar',\n",
    "    'Spacelab',\n",
    "    'Superhero',\n",
    "    'United',\n",
    "    'Vapor',\n",
    "    'Yeti',\n",
    "    'Zephyr',\n",
    "]\n",
    "\n",
    "THEME = 'QUARTZ'"
   ]
  },
  {
   "cell_type": "code",
   "execution_count": null,
   "id": "0f514361-4254-47f6-b72f-96e02c732c03",
   "metadata": {},
   "outputs": [],
   "source": [
    "THEMES = {_.upper(): f'dbc.themes.{_.upper()}' for _ in THEMES}"
   ]
  },
  {
   "cell_type": "code",
   "execution_count": null,
   "id": "ed21d2ac-e19e-46cd-a863-7d1000838ce3",
   "metadata": {},
   "outputs": [],
   "source": [
    "THEMES"
   ]
  },
  {
   "cell_type": "code",
   "execution_count": null,
   "id": "0768c918-684e-4f0d-b40f-c37c9a145138",
   "metadata": {},
   "outputs": [],
   "source": []
  }
 ],
 "metadata": {
  "kernelspec": {
   "display_name": "Python 3 (ipykernel)",
   "language": "python",
   "name": "python3"
  },
  "language_info": {
   "codemirror_mode": {
    "name": "ipython",
    "version": 3
   },
   "file_extension": ".py",
   "mimetype": "text/x-python",
   "name": "python",
   "nbconvert_exporter": "python",
   "pygments_lexer": "ipython3",
   "version": "3.9.7"
  }
 },
 "nbformat": 4,
 "nbformat_minor": 5
}
